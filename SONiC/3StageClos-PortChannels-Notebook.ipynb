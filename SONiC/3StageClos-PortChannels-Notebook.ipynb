{
 "cells": [
  {
   "cell_type": "markdown",
   "id": "b1a7564a",
   "metadata": {},
   "source": [
    "# 3-Stage Clos Network with Port Channels\n",
    "###### <sup>Inputs:  Bhavani Parise, Deepti Chandra; Developed by Sarah Samuel\n"
   ]
  },
  {
   "cell_type": "markdown",
   "id": "2eaae4d5",
   "metadata": {},
   "source": [
    "The [3 Stage Clos Notebook](./3StageClos-Notebook.ipynb) walked you through the step-by-step procedure to configure a 3 stage Clos network on Cisco 8000 routers that run SONiC operating system. This notebook shows you how to configure a 3-stage Clos network with port channels.\n",
    "\n",
    "The 3-stage Clos network is a robust IP-BGP underlay network that enables the servers to communicate with each other with minimum latency.\n",
    "\n",
    "A port channel is a virtual interface on a network node such as a router or a switch that aggregate multiple physical interfaces into one logical interface.\n",
    "\n",
    "When port channels are used instead of physical interfaces in a 3-stage Clos network, the network has the following benefits:\n",
    "* Increased aggregate bandwidth of a link by distributing traffic among all functional members in the port channel.\n",
    "* Since the port channel load balances the traffic across multiple member links, there is optimum bandwidth usage.\n",
    "* Link redundancy - In case one member link fails, traffic previously carried on this link is switched to the remaining member links. If a member link in a port channel goes down, the upper protocols are not aware of it. Just the bandwidth is reduced. The MAC address tables are not affected by link failure either.\n",
    "\n",
    "The following topology diagram depicts a simple 3-stage Clos network with port channels:\n",
    "\n",
    "<center><img src=\"images/522667.jpg\" width=\"700\"/></center>\n"
   ]
  },
  {
   "cell_type": "markdown",
   "id": "ba65c545",
   "metadata": {
    "tags": [
     "remove_cell"
    ]
   },
   "source": [
    "As you read through this notebook, play the code-cells, using the play button in the top left corner of this page, to send configuration commands to the live network nodes on the Cisco 8000 Emulator that runs in the background. The notebook refreshes the output of each cell-execution just beneath it."
   ]
  },
  {
   "cell_type": "markdown",
   "id": "339053ae",
   "metadata": {},
   "source": [
    "[Access Device Consoles](#Access-Device-Consoles) and then play through the following steps to [Bring Up 3 Stage Clos Network with Port Channels](#Bring-Up-3-Stage-Clos-Network-with-Port-Channels):\n",
    "* [Configure Host-Names](#Configure-Host-Names)\n",
    "* [Set up Port Channels](#Set-up-Port-Channels)\n",
    "* [Assign IP-Addresses](#Assign-IP-Addresses)\n",
    "* [Configure eBGP](#Configure-eBGP)\n",
    "* [Verify BGP Route Exchange](#Verify-BGP-Route-Exchange)\n",
    "* [Send Traffic from TREX](#Send-Traffic-from-TREX)\n",
    "* [Verify Traffic Statistics](#Verify-Traffic-Statistics)"
   ]
  },
  {
   "cell_type": "markdown",
   "id": "e8ddd63c",
   "metadata": {
    "tags": [
     "remove_cell"
    ]
   },
   "source": [
    "Finally, [clean up emulator session](#Clean-Up-Emulator-Session), once you are done."
   ]
  },
  {
   "cell_type": "markdown",
   "id": "7d54c215",
   "metadata": {
    "tags": [
     "remove_cell"
    ]
   },
   "source": [
    "### Access Device Consoles"
   ]
  },
  {
   "cell_type": "markdown",
   "id": "ecfc4e08",
   "metadata": {
    "tags": [
     "remove_cell"
    ]
   },
   "source": [
    "> Install prerequisite modules: This is required mainly for the first time you play this notebook. You can skip playing this cell for the subsequent runs."
   ]
  },
  {
   "cell_type": "code",
   "execution_count": 1,
   "id": "a64e8943",
   "metadata": {
    "tags": [
     "remove_cell"
    ]
   },
   "outputs": [],
   "source": [
    "%%capture cell-output\n",
    "!sh lib/prereq_install.sh"
   ]
  },
  {
   "cell_type": "markdown",
   "id": "b727ecb8",
   "metadata": {
    "tags": []
   },
   "source": [
    "> Play the following cell to bring up topology and access ssh console of each device in the topology. This cell takes about 10 - 15 minutes to complete execution. When you see the **Sim status** displayed as  **{'localhost': 'running'}** underneath this cell, the topology is up. Wait for a few more seconds until the code accesses the ssh console of each device. \n",
    "\n",
    "> Avoid playing this cell more than once, without [cleaning up the emulator session](#Clean-Up-Emulator-Session)."
   ]
  },
  {
   "cell_type": "code",
   "execution_count": null,
   "id": "241201b1",
   "metadata": {
    "tags": [
     "remove_cell"
    ]
   },
   "outputs": [],
   "source": [
    "from lib.leaf_spine import *\n",
    "nodes = {\n",
    "         'S0':'', \n",
    "         'S1':'',\n",
    "         'L0':'', \n",
    "         'L1':'', \n",
    "         'trex':''\n",
    "        }\n",
    "\n",
    "tb = access_device_consoles(\"lib/leaf_spine.yaml\", nodes)"
   ]
  },
  {
   "cell_type": "markdown",
   "id": "7e380485",
   "metadata": {},
   "source": [
    "## Bring Up 3-Stage Clos Network with Port Channels"
   ]
  },
  {
   "cell_type": "markdown",
   "id": "c7ceaa0b",
   "metadata": {},
   "source": [
    "> To configure a 3-stage Clos network, continue playing through the following steps:"
   ]
  },
  {
   "cell_type": "markdown",
   "id": "9641cd05",
   "metadata": {},
   "source": [
    "### Configure Host-Names"
   ]
  },
  {
   "cell_type": "markdown",
   "id": "d5a4fd60",
   "metadata": {},
   "source": [
    "> Configure host names for the spine and leaf routers for easy identification."
   ]
  },
  {
   "cell_type": "code",
   "execution_count": null,
   "id": "164c9e83",
   "metadata": {
    "tags": [
     "hide_input"
    ]
   },
   "outputs": [],
   "source": [
    "out = nodes['S0'].execute('sudo config hostname SPINE0')\n",
    "out = nodes['S0'].execute('sudo config save -y')\n",
    "out = nodes['S1'].execute('sudo config hostname SPINE1')\n",
    "out = nodes['S1'].execute('sudo config save -y')\n",
    "out = nodes['L0'].execute('sudo config hostname LEAF0')\n",
    "out = nodes['L0'].execute('sudo config save -y')\n",
    "out = nodes['L1'].execute('sudo config hostname LEAF1')\n",
    "out = nodes['L1'].execute('sudo config save -y')"
   ]
  },
  {
   "cell_type": "markdown",
   "id": "dedbb33d-0ae3-42b8-a5c5-22df7e8a4c9f",
   "metadata": {},
   "source": [
    "### Set up Port Channels\n",
    "> In this section, we will see how to configure regular port channels. Optionally, you can also\n",
    "* [Set up Port Channels with Min-Links](#Set-up-Port-Channels-with-Min-Links)\n",
    "* [Set up Port Channels with Fallback Option](#Set-up-Port-Channels-with-Fallback-Option)"
   ]
  },
  {
   "cell_type": "markdown",
   "id": "7a16d8cb-0744-4d6a-b54d-4cbf3aa82646",
   "metadata": {},
   "source": [
    "> Configure port channels and add members to the port channel."
   ]
  },
  {
   "cell_type": "code",
   "execution_count": null,
   "id": "c7eb8c13-4755-4ef2-bede-a08175694b87",
   "metadata": {},
   "outputs": [],
   "source": [
    "print (\"\\n******************** Configuring S0 *************************\")\n",
    "out = nodes['S0'].execute('sudo config portchannel add PortChannel1')\n",
    "out = nodes['S0'].execute('sudo config portchannel member add PortChannel1 Ethernet0')\n",
    "out = nodes['S0'].execute('sudo config portchannel member add PortChannel1 Ethernet4')\n",
    "out = nodes['S0'].execute('sudo config portchannel add PortChannel2')\n",
    "out = nodes['S0'].execute('sudo config portchannel member add PortChannel2 Ethernet8')\n",
    "out = nodes['S0'].execute('sudo config portchannel member add PortChannel2 Ethernet12')\n",
    "print (\"\\n******************** Configuring S1 *************************\")\n",
    "out = nodes['S1'].execute('sudo config portchannel add PortChannel1')\n",
    "out = nodes['S1'].execute('sudo config portchannel member add PortChannel1 Ethernet0')\n",
    "out = nodes['S1'].execute('sudo config portchannel member add PortChannel1 Ethernet4')\n",
    "out = nodes['S1'].execute('sudo config portchannel add PortChannel2')\n",
    "out = nodes['S1'].execute('sudo config portchannel member add PortChannel2 Ethernet8')\n",
    "out = nodes['S1'].execute('sudo config portchannel member add PortChannel2 Ethernet12')\n",
    "print (\"\\n******************** Configuring L0 *************************\")\n",
    "out = nodes['L0'].execute('sudo config portchannel add PortChannel1')\n",
    "out = nodes['L0'].execute('sudo config portchannel member add PortChannel1 Ethernet0')\n",
    "out = nodes['L0'].execute('sudo config portchannel member add PortChannel1 Ethernet4')\n",
    "out = nodes['L0'].execute('sudo config portchannel add PortChannel2')\n",
    "out = nodes['L0'].execute('sudo config portchannel member add PortChannel2 Ethernet12')\n",
    "out = nodes['L0'].execute('sudo config portchannel member add PortChannel2 Ethernet16')\n",
    "print (\"\\n******************** Configuring L1 *************************\")\n",
    "out = nodes['L1'].execute('sudo config portchannel add PortChannel1')\n",
    "out = nodes['L1'].execute('sudo config portchannel member add PortChannel1 Ethernet0')\n",
    "out = nodes['L1'].execute('sudo config portchannel member add PortChannel1 Ethernet4')\n",
    "out = nodes['L1'].execute('sudo config portchannel add PortChannel2')\n",
    "out = nodes['L1'].execute('sudo config portchannel member add PortChannel2 Ethernet12')\n",
    "out = nodes['L1'].execute('sudo config portchannel member add PortChannel2 Ethernet16')"
   ]
  },
  {
   "cell_type": "markdown",
   "id": "6bb3f442-ad80-4f12-b4ff-c752171d79c3",
   "metadata": {},
   "source": [
    "> Verify the port channel configurations on all routers."
   ]
  },
  {
   "cell_type": "code",
   "execution_count": null,
   "id": "b725e60e-b464-48b8-b68c-aedc3079e39a",
   "metadata": {},
   "outputs": [],
   "source": [
    "for n in nodes:\n",
    "   if (n != 'trex'):\n",
    "      print (\"\\n******************** Command Outputs from\", n, \"*************************\")\n",
    "      out = nodes[n].execute('show interfaces portchannel')\n",
    "      out = nodes[n].execute('show interface status Ethernet0-16')   \n",
    "      out = nodes[n].execute('show interfaces status PortChannel1-2')"
   ]
  },
  {
   "cell_type": "markdown",
   "id": "bff07976-f5e1-4c18-b45f-d449849b1e01",
   "metadata": {},
   "source": [
    "#### Set up Port Channels with Min-Links\n",
    "> To ensure the port channel does not remain **Up**, if minimum number of member-links are not **Up**, configure the **min-links** option while configuring the port channel. This is an optional configuration. In the below cell, we will configure PortChannel1 of SPINE0 router with **min-links** of 2. \n",
    "> First, delete the existing port channel configurations and then reconfigure with min-links option."
   ]
  },
  {
   "cell_type": "code",
   "execution_count": null,
   "id": "167a6934-9e46-4d00-ba35-1243683cc229",
   "metadata": {},
   "outputs": [],
   "source": [
    "# Deleting the existing port channel configurations \n",
    "print (\"\\n** Deleting port channel configurations on S0 **\")\n",
    "out = nodes['S0'].execute('sudo config portchannel member del PortChannel1 Ethernet0')\n",
    "out = nodes['S0'].execute('sudo config portchannel member del PortChannel1 Ethernet4')\n",
    "out = nodes['S0'].execute('sudo config portchannel del PortChannel1')\n",
    "\n",
    "# Configure port channel with min-links of 2\n",
    "print (\"\\n** Configure port channel with min-links of 2 **\")\n",
    "out = nodes['S0'].execute('sudo config portchannel add PortChannel1 --min-links 2')\n",
    "out = nodes['S0'].execute('sudo config portchannel member add PortChannel1 Ethernet0')\n",
    "out = nodes['S0'].execute('sudo config portchannel member add PortChannel1 Ethernet4')\n",
    "\n",
    "# Verify the port channel \n",
    "print (\"\\n** Verify the port channel **\")\n",
    "out = nodes['S0'].execute('show interface status Ethernet0-16')   \n",
    "out = nodes['S0'].execute('show interfaces status PortChannel1')"
   ]
  },
  {
   "cell_type": "markdown",
   "id": "37569a27-e112-4097-b9f0-ebdd3ed71f68",
   "metadata": {},
   "source": [
    "> We can verify if min-links works as expected. If we shutdown one of the member-links of PortChannel1 i.e. Ethernet0, the **Oper** state of the port channel should be **down** in the output of ```show interfaces status PortChannel1``` "
   ]
  },
  {
   "cell_type": "code",
   "execution_count": null,
   "id": "407353e8-ecb0-44e5-a9d8-da6ff72f3031",
   "metadata": {},
   "outputs": [],
   "source": [
    "print (\"\\n** Verify that port channel is down when minimum number of member links (ie 2) are not Up **\")\n",
    "out = nodes['S0'].execute('sudo config interface shutdown Ethernet0')\n",
    "\n",
    "# Verify that port channel is down when minimum number of member links (ie 2) are not Up\n",
    "out = nodes['S0'].execute('show interface status Ethernet0-16')   \n",
    "out = nodes['S0'].execute('show interfaces status PortChannel1')"
   ]
  },
  {
   "cell_type": "markdown",
   "id": "f03af378-27eb-4076-b801-bf5c3be758c8",
   "metadata": {},
   "source": [
    "> The port channel should come back to **up** state when the member link is unshut."
   ]
  },
  {
   "cell_type": "code",
   "execution_count": null,
   "id": "35b63ddf-1b22-4748-9354-82b8bf53fed7",
   "metadata": {},
   "outputs": [],
   "source": [
    "# Bring up the member link Ethernet0\n",
    "print (\"\\n** Verify that port channel is up when the member link is Up again **\")\n",
    "out = nodes['S0'].execute('sudo config interface startup Ethernet0')\n",
    "\n",
    "# Verify that port channel is up when the member link is Up again\n",
    "out = nodes['S0'].execute('show interface status Ethernet0-16')   \n",
    "out = nodes['S0'].execute('show interfaces status PortChannel1')"
   ]
  },
  {
   "cell_type": "markdown",
   "id": "d339d112-0f8b-4cbd-937a-cd1e68e3ec47",
   "metadata": {},
   "source": [
    "#### Set up Port Channels with Fallback Option\n",
    "> The fallback option allows an active member link of the port channel to establish the Link Aggregation (LAG) or port channel before receiving Link Aggregation Control Protocol (LACP) Protocol Data Unit (PDU) from its peer. LACP fallback will run on those member-links that have the lower port number. It runs on only one member port. This is an optional configuration. By default, the fallback option is set to **false**\n",
    "> In the below cell, we will configure PortChannel1 of SPINE0 router with fallback option.\n",
    "\n",
    "> First, shutdown Portchannel1 on LEAF0 so that it does not send any LACP PDUs to PortChannel1 on SPINE0. So the PortChannel1 on SPINE0 will be **down**."
   ]
  },
  {
   "cell_type": "code",
   "execution_count": null,
   "id": "7d0e057f-e37b-40b7-aefb-46c9dc4bf1cb",
   "metadata": {},
   "outputs": [],
   "source": [
    "# Shutting down the port channel on L0\n",
    "print (\"\\n** Shutting down the port channel on L0 **\")\n",
    "out = nodes['L0'].execute('sudo config interface shutdown PortChannel1')\n",
    "out = nodes['L0'].execute('show interfaces status PortChannel1')\n",
    "\n",
    "# The portchannel will be down on S0\n",
    "print (\"\\n** The portchannel will be down on S0 **\")\n",
    "out = nodes['S0'].execute('show interfaces status PortChannel1')\n"
   ]
  },
  {
   "cell_type": "markdown",
   "id": "81549cbb-fe0f-4dc8-a827-7e2971a3c4d7",
   "metadata": {},
   "source": [
    "> Delete the existing PortChannel1 configurations on SPINE0 and then reconfigure the PortChannel1 on SPINE0 with fallback option set to **true**.\n",
    "\n",
    "> You will see that the PortChannel1 on SPINE0 is **Up** even though it does not receive any LACP PDUs from PortChannel1 on LEAF0 router. This confirms that fallback option works."
   ]
  },
  {
   "cell_type": "code",
   "execution_count": null,
   "id": "5a0064bb-6d87-4bac-a280-e23de5111eb9",
   "metadata": {},
   "outputs": [],
   "source": [
    "print (\"\\n** Delete existing port channel on S0 **\")\n",
    "out = nodes['S0'].execute('sudo config portchannel member del PortChannel1 Ethernet0')\n",
    "out = nodes['S0'].execute('sudo config portchannel member del PortChannel1 Ethernet4')\n",
    "out = nodes['S0'].execute('sudo config portchannel del PortChannel1')\n",
    "\n",
    "print (\"\\n** Configure port channel with fallback option set to true **\")\n",
    "out = nodes['S0'].execute('sudo config portchannel add PortChannel1 --fallback=true')\n",
    "out = nodes['S0'].execute('sudo config portchannel member add PortChannel1 Ethernet0')\n",
    "out = nodes['S0'].execute('sudo config portchannel member add PortChannel1 Ethernet4')\n",
    "\n",
    "print (\"\\n** Verify the port channel on S0 is up **\")\n",
    "# Verify the port channel on S0 is up \n",
    "out = nodes['S0'].execute('show interface status Ethernet0-16')   \n",
    "out = nodes['S0'].execute('show interfaces status PortChannel1')"
   ]
  },
  {
   "cell_type": "markdown",
   "id": "0009f558-f7f2-4fb0-bf1a-5d191df40b8b",
   "metadata": {},
   "source": [
    "> Finally unshut Portchannel1 on LEAF0. "
   ]
  },
  {
   "cell_type": "code",
   "execution_count": null,
   "id": "d3e574a7-42ab-4ede-8dc7-4902eb78a22b",
   "metadata": {},
   "outputs": [],
   "source": [
    "# Unshut the port channel on L0\n",
    "print (\"\\n** Unshut the port channel on L0 **\")\n",
    "out = nodes['L0'].execute('sudo config interface startup PortChannel1')\n",
    "out = nodes['L0'].execute('show interfaces status PortChannel1')\n",
    "out = nodes['S0'].execute('show interfaces status PortChannel1')"
   ]
  },
  {
   "cell_type": "markdown",
   "id": "caafeac0",
   "metadata": {},
   "source": [
    "### Assign IP Addresses\n",
    "> This step assigns IP addresses as per the topology diagram. And then saves the configurations."
   ]
  },
  {
   "cell_type": "code",
   "execution_count": null,
   "id": "46682429",
   "metadata": {
    "tags": []
   },
   "outputs": [],
   "source": [
    "print (\"\\n******************** Configuring S0 *************************\")\n",
    "out = nodes['S0'].execute('sudo config interface ip add PortChannel1 10.0.1.1/24')\n",
    "out = nodes['S0'].execute('sudo config interface ip add PortChannel2 10.0.2.1/24')\n",
    "out = nodes['S0'].execute('sudo config interface ip add Loopback0 10.10.10.100/32')\n",
    "out = nodes['S0'].execute('sudo config save -y')\n",
    "print (\"\\n******************** Configuring S1 *************************\")\n",
    "out = nodes['S1'].execute('sudo config interface ip add PortChannel1 10.0.3.1/24')\n",
    "out = nodes['S1'].execute('sudo config interface ip add PortChannel2 10.0.4.1/24')\n",
    "out = nodes['S1'].execute('sudo config interface ip add Loopback0 10.10.11.100/32')\n",
    "out = nodes['S1'].execute('sudo config save -y')\n",
    "print (\"\\n******************** Configuring L0 *************************\")\n",
    "out = nodes['L0'].execute('sudo config interface ip add PortChannel1 10.0.1.2/24')\n",
    "out = nodes['L0'].execute('sudo config interface ip add PortChannel2 10.0.3.2/24')\n",
    "out = nodes['L0'].execute('sudo config interface ip add Ethernet8 10.0.5.1/24')\n",
    "out = nodes['L0'].execute('sudo config interface ip add Loopback0 10.10.10.200/32')\n",
    "out = nodes['L0'].execute('sudo config save -y')\n",
    "print (\"\\n******************** Configuring L1 *************************\")\n",
    "out = nodes['L1'].execute('sudo config interface ip add PortChannel2 10.0.2.2/24')\n",
    "out = nodes['L1'].execute('sudo config interface ip add PortChannel1 10.0.4.2/24')\n",
    "out = nodes['L1'].execute('sudo config interface ip add Ethernet8 10.0.6.1/24')\n",
    "out = nodes['L1'].execute('sudo config interface ip add Loopback0 10.10.11.200/32')\n",
    "out = nodes['L1'].execute('sudo config save -y')\n",
    "print (\"\\n******************** Configuring TREX *************************\")\n",
    "out = nodes['trex'].execute('ifconfig eth1 10.0.5.2 netmask 255.255.255.0 up')\n",
    "out = nodes['trex'].execute('ifconfig eth2 10.0.6.2 netmask 255.255.255.0 up')"
   ]
  },
  {
   "cell_type": "markdown",
   "id": "8ee85d05",
   "metadata": {},
   "source": [
    "> Verify the configured IP addresses using the ```show ip interfaces``` command on the routers and ```ifconfig -a``` command on the TREX server."
   ]
  },
  {
   "cell_type": "code",
   "execution_count": null,
   "id": "d46191c1",
   "metadata": {
    "tags": []
   },
   "outputs": [],
   "source": [
    "for n in nodes:\n",
    "   print (\"\\n******************** Command Outputs from\", n, \"*************************\")\n",
    "   if (n == 'trex'):\n",
    "      out = nodes[n].execute('ifconfig -a eth1')\n",
    "      out = nodes[n].execute('ifconfig -a eth2')\n",
    "   else:\n",
    "      out = nodes[n].execute('show ip interfaces') "
   ]
  },
  {
   "cell_type": "markdown",
   "id": "c10e8abe",
   "metadata": {},
   "source": [
    "### Configure eBGP"
   ]
  },
  {
   "cell_type": "markdown",
   "id": "afca2c33",
   "metadata": {},
   "source": [
    "> The following section shows the eBGP (exterior Border Gateway Protocol) configuration on all spine and leaf routers. The spines are in Autonomous System (AS) 100 and the leaves in AS 200. \n",
    "> Note the usage of the ```allowas-in``` option in the ```neighbor``` command. The default behaviour of BGP is to reject learning routes from own AS. The ```allowas-in``` option overrides this default behavior and the nodes learn routes from own AS. "
   ]
  },
  {
   "cell_type": "code",
   "execution_count": null,
   "id": "5bf4bf06",
   "metadata": {
    "tags": []
   },
   "outputs": [],
   "source": [
    "\n",
    "print (\"\\n******************** Configuring eBGP on S0 *************************\")\n",
    "out = nodes['S0'].execute ('''vtysh \\\n",
    "-c 'configure terminal' \\\n",
    "-c 'hostname SPINE_0' \\\n",
    "-c 'router-id 10.10.10.100' \\\n",
    "-c 'router bgp 100' \\\n",
    "-c 'no bgp ebgp-requires-policy' \\\n",
    "-c 'neighbor 10.0.2.2 remote-as 200' \\\n",
    "-c 'neighbor 10.0.1.2 remote-as 200' \\\n",
    "-c 'address-family ipv4 unicast' \\\n",
    "-c 'neighbor 10.0.2.2 allowas-in' \\\n",
    "-c 'neighbor 10.0.1.2 allowas-in' \\\n",
    "-c 'network 10.0.1.0/24' \\\n",
    "-c 'network 10.0.2.0/24' \\\n",
    "-c 'network 10.10.10.100/32' \\\n",
    "-c 'redistribute connected'\n",
    "''')\n",
    "print (\"\\n******************** Configuring eBGP on S1 *************************\")\n",
    "out = nodes['S1'].execute ('''vtysh \\\n",
    "-c 'configure terminal' \\\n",
    "-c 'hostname SPINE_1' \\\n",
    "-c 'router-id 10.10.11.100' \\\n",
    "-c 'router bgp 100' \\\n",
    "-c 'no bgp ebgp-requires-policy' \\\n",
    "-c 'neighbor 10.0.3.2 remote-as 200' \\\n",
    "-c 'neighbor 10.0.4.2 remote-as 200' \\\n",
    "-c 'address-family ipv4 unicast' \\\n",
    "-c 'neighbor 10.0.3.2 allowas-in' \\\n",
    "-c 'neighbor 10.0.4.2 allowas-in' \\\n",
    "-c 'network 10.0.3.0/24' \\\n",
    "-c 'network 10.0.4.0/24' \\\n",
    "-c 'network 10.10.11.100/32' \\\n",
    "-c 'redistribute connected'\n",
    "''')\n",
    "print (\"\\n******************** Configuring eBGP on L0 *************************\")\n",
    "out = nodes['L0'].execute ('''vtysh \\\n",
    "-c 'configure terminal' \\\n",
    "-c 'hostname LEAF_0' \\\n",
    "-c 'router-id 10.10.10.200' \\\n",
    "-c 'router bgp 200' \\\n",
    "-c 'no bgp ebgp-requires-policy' \\\n",
    "-c 'neighbor 10.0.1.1 remote-as 100' \\\n",
    "-c 'neighbor 10.0.3.1 remote-as 100' \\\n",
    "-c 'address-family ipv4 unicast' \\\n",
    "-c 'neighbor 10.0.1.1 allowas-in' \\\n",
    "-c 'neighbor 10.0.3.1 allowas-in' \\\n",
    "-c 'network 10.0.1.0/24' \\\n",
    "-c 'network 10.0.3.0/24' \\\n",
    "-c 'network 10.0.5.0/24' \\\n",
    "-c 'network 10.10.10.200/32' \\\n",
    "-c 'redistribute connected'\n",
    "''')\n",
    "print (\"\\n******************** Configuring eBGP on L1 *************************\")\n",
    "out = nodes['L1'].execute ('''vtysh \\\n",
    "-c 'configure terminal' \\\n",
    "-c 'hostname LEAF_1' \\\n",
    "-c 'router-id 10.10.11.200' \\\n",
    "-c 'router bgp 200' \\\n",
    "-c 'no bgp ebgp-requires-policy' \\\n",
    "-c 'neighbor 10.0.2.1 remote-as 100' \\\n",
    "-c 'neighbor 10.0.4.1 remote-as 100' \\\n",
    "-c 'address-family ipv4 unicast' \\\n",
    "-c 'neighbor 10.0.2.1 allowas-in' \\\n",
    "-c 'neighbor 10.0.4.1 allowas-in' \\\n",
    "-c 'network 10.0.2.0/24' \\\n",
    "-c 'network 10.0.4.0/24' \\\n",
    "-c 'network 10.0.6.0/24' \\\n",
    "-c 'network 10.10.11.200/32' \\\n",
    "-c 'redistribute connected'\n",
    "''')"
   ]
  },
  {
   "cell_type": "markdown",
   "id": "fda2f5d3",
   "metadata": {},
   "source": [
    "> Execute the command ```show ip bgp``` on all tier-0 and tier-1 routers to ensure eBGP is up."
   ]
  },
  {
   "cell_type": "code",
   "execution_count": null,
   "id": "024ad99d",
   "metadata": {
    "tags": []
   },
   "outputs": [],
   "source": [
    "for n in nodes:\n",
    "   if (n != 'trex'):\n",
    "      print (\"\\n******************** Command Outputs from\", n, \"*************************\")\n",
    "      out = nodes[n].execute('''vtysh \\\n",
    "      -c 'show ip bgp'\n",
    "      ''')"
   ]
  },
  {
   "cell_type": "markdown",
   "id": "499f6185",
   "metadata": {},
   "source": [
    "> This section checks the routes learnt through BGP by executing the command ```show ip route``` on all nodes in tier-0 and tier-1. The lines starting with the letter **B** are the routes learnt through BGP."
   ]
  },
  {
   "cell_type": "code",
   "execution_count": null,
   "id": "8388291f",
   "metadata": {},
   "outputs": [],
   "source": [
    "for n in nodes:\n",
    "   if (n != 'trex'):\n",
    "      print (\"\\n******************** Command Outputs from\", n, \"*************************\")\n",
    "      out = nodes[n].execute('''vtysh \\\n",
    "      -c 'show ip route'\n",
    "      ''')"
   ]
  },
  {
   "cell_type": "markdown",
   "id": "886dc130",
   "metadata": {},
   "source": [
    "> Ping IP addresses on the LEAF0 (L0) router from the LEAF1 (L1) router and vice-versa. This ensures that the 3-stage Clos network is ready for end-to-end traffic flow."
   ]
  },
  {
   "cell_type": "code",
   "execution_count": null,
   "id": "d95f1f4f",
   "metadata": {
    "tags": []
   },
   "outputs": [],
   "source": [
    "print (\"\\n******************** Command Outputs from L1 to L0 *************************\")\n",
    "out = nodes['L1'].execute('ping -c5 10.0.5.1')\n",
    "out = nodes['L1'].execute('ping -c5 10.10.10.200')\n",
    "print (\"\\n******************** Command Outputs from L0 to L1 *************************\")\n",
    "out = nodes['L0'].execute('ping -c5 10.0.6.1')\n",
    "out = nodes['L0'].execute('ping -c5 10.10.11.200')"
   ]
  },
  {
   "cell_type": "markdown",
   "id": "5dba2932",
   "metadata": {},
   "source": [
    "**Pinging to remote leaf ip address is successful and so the 3-stage Clos network is up and ready for data traffic**"
   ]
  },
  {
   "cell_type": "markdown",
   "id": "6943f67d",
   "metadata": {},
   "source": [
    "### Send Traffic from TREX"
   ]
  },
  {
   "cell_type": "markdown",
   "id": "2197ba1e",
   "metadata": {},
   "source": [
    "> [TREX](https://trex-tgn.cisco.com/trex/doc/trex_manual.html#_introduction) is a software traffic generator that runs on Linux. To simulate server-to-server traffic flow across a 3-stage Clos network, connect the TREX software traffic generator ports as the end-hosts to LEAF0 and LEAF1. \n",
    "\n",
    "> Details of traffic stream injected into LEAF0 from TREX:\n",
    "> * Source IP address: 10.0.5.2\n",
    "> * Destination IP address: 10.0.6.2\n",
    "\n",
    "> Details of traffic stream injected into LEAF1 from TREX:\n",
    "> * Source IP address: 10.0.6.2\n",
    "> * Destination IP address: 10.0.5.2\n",
    "\n",
    "<center><img src=\"./images/portchannel-traffic.png\" width=\"700\"/></center>\n",
    "\n",
    "\n",
    "> The function ```generate_bidir_traffic``` generates a bidirectional traffic burst for 1 second. After the cell execution, check ```Total-tx-pkt``` and ```Total-rx-pkt``` in the ```summary stats``` at the end of the output to ensure that there is no traffic loss."
   ]
  },
  {
   "cell_type": "code",
   "execution_count": null,
   "id": "f7fdc0d6",
   "metadata": {
    "tags": []
   },
   "outputs": [],
   "source": [
    "trex_ipaddress = str(nodes['trex'].connections.cli.ip)\n",
    "trex_port = str(nodes['trex'].connections.cli.port)\n",
    "\n",
    "generate_bidir_traffic(trex_ipaddress, trex_port)"
   ]
  },
  {
   "cell_type": "markdown",
   "id": "6916e804",
   "metadata": {},
   "source": [
    "### Verify Traffic Statistics"
   ]
  },
  {
   "cell_type": "markdown",
   "id": "f4a12141",
   "metadata": {},
   "source": [
    "> Check the interface counters on the nodes to ensure that the traffic is sent and received as seen in the traffic generator output.\n",
    "    \n",
    "> Note: \"show interface counters rif\" displaying 0s for all fields, is a known issue on the emulator. Users will experience expected behaviours on the physical setup.\n"
   ]
  },
  {
   "cell_type": "code",
   "execution_count": null,
   "id": "145bc880",
   "metadata": {
    "tags": []
   },
   "outputs": [],
   "source": [
    "for n in nodes:\n",
    "   if (n != 'trex'):\n",
    "      out = nodes[n].execute('show interface counters rif')"
   ]
  },
  {
   "cell_type": "markdown",
   "id": "972ec96a",
   "metadata": {},
   "source": [
    "> You have now successfully brought up a simple 3-stage Clos network, sent traffic across it. This forms the IP-BGP underlay for your data center network. \n",
    "\n",
    "> Scale up these configurations as per the number of devices in your data centre. "
   ]
  },
  {
   "cell_type": "markdown",
   "id": "02a6cdf3",
   "metadata": {
    "tags": [
     "remove_cell"
    ]
   },
   "source": [
    "### Clean Up Emulator Session"
   ]
  },
  {
   "cell_type": "markdown",
   "id": "a13a0412-3434-41d5-a412-aaf7a8ad6335",
   "metadata": {},
   "source": [
    "> Delete the ip addresses and port channels"
   ]
  },
  {
   "cell_type": "code",
   "execution_count": null,
   "id": "ad30ae07-9697-4198-83b2-6bfe7e2fd80a",
   "metadata": {},
   "outputs": [],
   "source": [
    "out = nodes['S0'].execute('sudo config interface ip remove PortChannel1 10.0.1.1/24')\n",
    "out = nodes['S0'].execute('sudo config interface ip remove PortChannel2 10.0.2.1/24')\n",
    "out = nodes['S0'].execute('sudo config interface ip remove Loopback0 10.10.10.100/32')\n",
    "out = nodes['S1'].execute('sudo config interface ip remove PortChannel1 10.0.3.1/24')\n",
    "out = nodes['S1'].execute('sudo config interface ip remove PortChannel2 10.0.4.1/24')\n",
    "out = nodes['S1'].execute('sudo config interface ip remove Loopback0 10.10.11.100/32')\n",
    "out = nodes['L0'].execute('sudo config interface ip remove PortChannel1 10.0.1.2/24')\n",
    "out = nodes['L0'].execute('sudo config interface ip remove PortChannel2 10.0.3.2/24')\n",
    "out = nodes['L0'].execute('sudo config interface ip remove Ethernet8 10.0.5.1/24')\n",
    "out = nodes['L0'].execute('sudo config interface ip remove Loopback0 10.10.10.200/32')\n",
    "out = nodes['L1'].execute('sudo config interface ip remove PortChannel2 10.0.2.2/24')\n",
    "out = nodes['L1'].execute('sudo config interface ip remove PortChannel1 10.0.4.2/24')\n",
    "out = nodes['L1'].execute('sudo config interface ip remove Ethernet8 10.0.6.1/24')\n",
    "out = nodes['L1'].execute('sudo config interface ip remove Loopback0 10.10.11.200/32')\n",
    "\n",
    "out = nodes['S0'].execute('sudo config portchannel member del PortChannel1 Ethernet0')\n",
    "out = nodes['S0'].execute('sudo config portchannel member del PortChannel1 Ethernet4')\n",
    "out = nodes['S0'].execute('sudo config portchannel del PortChannel1')\n",
    "out = nodes['S0'].execute('sudo config portchannel member del PortChannel2 Ethernet8')\n",
    "out = nodes['S0'].execute('sudo config portchannel member del PortChannel2 Ethernet12')\n",
    "out = nodes['S0'].execute('sudo config portchannel del PortChannel2')\n",
    "out = nodes['S1'].execute('sudo config portchannel member del PortChannel1 Ethernet0')\n",
    "out = nodes['S1'].execute('sudo config portchannel member del PortChannel1 Ethernet4')\n",
    "out = nodes['S1'].execute('sudo config portchannel del PortChannel1')\n",
    "out = nodes['S1'].execute('sudo config portchannel member del PortChannel2 Ethernet8')\n",
    "out = nodes['S1'].execute('sudo config portchannel member del PortChannel2 Ethernet12')\n",
    "out = nodes['S1'].execute('sudo config portchannel del PortChannel2')\n",
    "out = nodes['L0'].execute('sudo config portchannel member del PortChannel1 Ethernet0')\n",
    "out = nodes['L0'].execute('sudo config portchannel member del PortChannel1 Ethernet4')\n",
    "out = nodes['L0'].execute('sudo config portchannel del PortChannel1')\n",
    "out = nodes['L0'].execute('sudo config portchannel member del PortChannel2 Ethernet12')\n",
    "out = nodes['L0'].execute('sudo config portchannel member del PortChannel2 Ethernet16')\n",
    "out = nodes['L0'].execute('sudo config portchannel del PortChannel2')\n",
    "out = nodes['L1'].execute('sudo config portchannel member del PortChannel1 Ethernet0')\n",
    "out = nodes['L1'].execute('sudo config portchannel member del PortChannel1 Ethernet4')\n",
    "out = nodes['L1'].execute('sudo config portchannel del PortChannel1')\n",
    "out = nodes['L1'].execute('sudo config portchannel member del PortChannel2 Ethernet12')\n",
    "out = nodes['L1'].execute('sudo config portchannel member del PortChannel2 Ethernet16')\n",
    "out = nodes['L1'].execute('sudo config portchannel del PortChannel2')"
   ]
  },
  {
   "cell_type": "markdown",
   "id": "f24ab924-0449-4c3d-8407-1352fac658c4",
   "metadata": {
    "tags": [
     "remove_cell"
    ]
   },
   "source": [
    "> Remove the router configurations so that you can play other notebooks"
   ]
  },
  {
   "cell_type": "code",
   "execution_count": null,
   "id": "8c7379f2-0d24-4b8a-93d4-da8713935eab",
   "metadata": {
    "tags": [
     "remove_cell"
    ]
   },
   "outputs": [],
   "source": [
    "# Remove the Router configs and release the interfaces used by trex\n",
    "for n in nodes:\n",
    "   if (n != 'trex'):\n",
    "      out = nodes[n].execute('sudo rm /etc/sonic/config_db.json')\n",
    "   else:\n",
    "      out = nodes[n].execute('cd /opt/cisco/trex/latest/')\n",
    "      out = nodes[n].execute('sudo ./dpdk_nic_bind.py --force -u 00:04.0')\n",
    "      out = nodes[n].execute('sudo ./dpdk_nic_bind.py --force -u 00:05.0')\n",
    "      out = nodes[n].execute('sudo ./dpdk_nic_bind.py --bind=virtio-pci 00:04.0')\n",
    "      out = nodes[n].execute('sudo ./dpdk_nic_bind.py --bind=virtio-pci 00:05.0')"
   ]
  },
  {
   "cell_type": "markdown",
   "id": "26b30c1b-be67-41f8-94cc-80ee5ab227de",
   "metadata": {},
   "source": [
    "> Do let us know of your feedback or queries about this notebook at mig-notebooks@cisco.com."
   ]
  }
 ],
 "metadata": {
  "kernelspec": {
   "display_name": "Python 3",
   "language": "python",
   "name": "python3"
  },
  "language_info": {
   "codemirror_mode": {
    "name": "ipython",
    "version": 3
   },
   "file_extension": ".py",
   "mimetype": "text/x-python",
   "name": "python",
   "nbconvert_exporter": "python",
   "pygments_lexer": "ipython3",
   "version": "3.6.9"
  },
  "toc-autonumbering": false,
  "toc-showcode": false,
  "toc-showmarkdowntxt": false
 },
 "nbformat": 4,
 "nbformat_minor": 5
}
