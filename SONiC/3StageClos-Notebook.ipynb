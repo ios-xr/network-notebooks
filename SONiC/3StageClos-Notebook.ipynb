{
 "cells": [
  {
   "attachments": {},
   "cell_type": "markdown",
   "id": "af8f6771",
   "metadata": {},
   "source": [
    "# 3-Stage Clos Network to make Networks Scalable\n",
    "###### <sup>Inputs: Bhavani Parise, Deepti Chandra; Developed by: Sarah Samuel</sup>\n",
    "###### <sup>Read use case on Devnet: https://developer.cisco.com/docs/sonic/#!3-stage-clos-network-with-static-vxlan-to-make-networks-scalable</sup>"
   ]
  },
  {
   "attachments": {},
   "cell_type": "markdown",
   "id": "09cb8a64",
   "metadata": {},
   "source": [
    "Modern cloud-scale data center networks require increased server-to-server communication over a network that stays resilient despite the rapid increase in the number of devices.\n",
    "\n",
    "The 3-stage Clos network is a robust IP-BGP underlay network that enables the servers to communicate with each other with minimum latency. Over this network, you can configure overlay features such as Virtual Extensible Local Area Network (VXLAN).\n",
    "\n",
    "A 3-stage Clos network consists of data center network switches where each spine switch connects to all leaf switches. And each leaf switch connects to a rack of servers in the data center. Any server in the data center is just three hops away from another server. The first hop is from the server to the directly connected leaf switch, the second hop is across the spine switches to the destination leaf switch, and the third hop is between the destination leaf switch to the destination server. This network architecture is highly scalable. Also, irrespective of the number of devices in the data center, the number of hops between the servers or the end-hosts is always 3, ensuring consistent latency in the data center network..\n",
    "\n",
    "Though you use generally switches in a 3-stage Clos network, this notebook demonstrates how to [configure 3-Stage Clos Network](#configure-3-stage-clos-network) using Cisco 8000 series routers that run SONiC.\n",
    "\n",
    "The following topology diagram depicts a simple 3-stage Clos network with two leaf routers in Tier-0 and two spine routers in Tier-1.\n",
    "\n",
    "\n",
    "\n",
    "<center><img src=\"./images/522559.jpg\" width=\"700\"/></center>\n"
   ]
  },
  {
   "attachments": {},
   "cell_type": "markdown",
   "id": "3b47302b",
   "metadata": {
    "tags": [
     "remove_cell"
    ]
   },
   "source": [
    "As you read through this notebook, play the code-cells, using the play button in the top left corner of this page, to send configuration commands to the simulated devices that are connected as shown in the topology diagram. The notebook refreshes the output of each cell-execution just beneath it."
   ]
  },
  {
   "attachments": {},
   "cell_type": "markdown",
   "id": "d65e6197",
   "metadata": {},
   "source": [
    "The devices in the topology are brought up when you reserved the sandbox. Now you can play the code-cells to [access device consoles](#Access-Device-Consoles) and continue playing through the following steps to [configure the 3-stage Clos network](#Configure-3-Stage-Clos-Network):\n",
    "* [Configure Host-Names](#Configure-Host-Names)\n",
    "* [Assign IP-Addresses](#Assign-IP-Addresses)\n",
    "* [Configure eBGP](#Configure-eBGP)\n",
    "* [Verify BGP Route Exchange](#Verify-BGP-Route-Exchange)\n",
    "* [Send Traffic from TREX](#Send-Traffic-from-TREX)\n",
    "* [Verify Traffic Statistics](#Verify-Traffic-Statistics)"
   ]
  },
  {
   "attachments": {},
   "cell_type": "markdown",
   "id": "ce5443ba",
   "metadata": {
    "tags": [
     "remove_cell"
    ]
   },
   "source": [
    "### Access Device Consoles"
   ]
  },
  {
   "attachments": {},
   "cell_type": "markdown",
   "id": "a75fa9d0",
   "metadata": {
    "tags": []
   },
   "source": [
    "> Play the following cell to access the SSH console of each device in the topology. \n",
    "\n"
   ]
  },
  {
   "cell_type": "code",
   "execution_count": null,
   "id": "056f134c",
   "metadata": {
    "tags": [
     "remove_cell"
    ]
   },
   "outputs": [],
   "source": [
    "from lib.leaf_spine import *\n",
    "nodes = {\n",
    "         'S0':'', \n",
    "         'S1':'',\n",
    "         'L0':'', \n",
    "         'L1':'', \n",
    "         'trex':''\n",
    "        }\n",
    "\n",
    "tb = access_device_consoles(\"lib/leaf_spine.yaml\", nodes)"
   ]
  },
  {
   "attachments": {},
   "cell_type": "markdown",
   "id": "338c41ca",
   "metadata": {},
   "source": [
    "## Configure 3-Stage Clos Network"
   ]
  },
  {
   "attachments": {},
   "cell_type": "markdown",
   "id": "0c190612",
   "metadata": {},
   "source": [
    "> To configure a 3-stage clos network, continue playing through the following steps:"
   ]
  },
  {
   "attachments": {},
   "cell_type": "markdown",
   "id": "e1250286",
   "metadata": {},
   "source": [
    "### Configure Host-Names"
   ]
  },
  {
   "attachments": {},
   "cell_type": "markdown",
   "id": "9d591d19",
   "metadata": {},
   "source": [
    "> Configure host names for the spine and leaf routers for easy identification."
   ]
  },
  {
   "cell_type": "code",
   "execution_count": null,
   "id": "ca27f346",
   "metadata": {
    "tags": [
     "hide_input"
    ]
   },
   "outputs": [],
   "source": [
    "out = nodes['S0'].execute('sudo config hostname SPINE0')\n",
    "out = nodes['S0'].execute('sudo config save -y')\n",
    "out = nodes['S1'].execute('sudo config hostname SPINE1')\n",
    "out = nodes['S1'].execute('sudo config save -y')\n",
    "out = nodes['L0'].execute('sudo config hostname LEAF0')\n",
    "out = nodes['L0'].execute('sudo config save -y')\n",
    "out = nodes['L1'].execute('sudo config hostname LEAF1')\n",
    "out = nodes['L1'].execute('sudo config save -y')"
   ]
  },
  {
   "attachments": {},
   "cell_type": "markdown",
   "id": "5f36f96e",
   "metadata": {},
   "source": [
    "### Assign IP Addresses"
   ]
  },
  {
   "attachments": {},
   "cell_type": "markdown",
   "id": "277466b9",
   "metadata": {},
   "source": [
    "> This step assigns IP addresses on the interfaces of all devices as per the topology diagram. And then saves the configurations."
   ]
  },
  {
   "cell_type": "code",
   "execution_count": null,
   "id": "3027e82e",
   "metadata": {
    "tags": []
   },
   "outputs": [],
   "source": [
    "print (\"\\n******************** Configuring S0 *************************\")\n",
    "out = nodes['S0'].execute('sudo config interface ip add Ethernet0 10.0.1.1/24')\n",
    "out = nodes['S0'].execute('sudo config interface ip add Ethernet8 10.0.2.1/24')\n",
    "out = nodes['S0'].execute('sudo config interface ip add Loopback0 10.10.10.100/32')\n",
    "out = nodes['S0'].execute('sudo config save -y')\n",
    "print (\"\\n******************** Configuring S1 *************************\")\n",
    "out = nodes['S1'].execute('sudo config interface ip add Ethernet0 10.0.3.1/24')\n",
    "out = nodes['S1'].execute('sudo config interface ip add Ethernet8 10.0.4.1/24')\n",
    "out = nodes['S1'].execute('sudo config interface ip add Loopback0 10.10.11.100/32')\n",
    "out = nodes['S1'].execute('sudo config save -y')\n",
    "print (\"\\n******************** Configuring L0 *************************\")\n",
    "out = nodes['L0'].execute('sudo config interface ip add Ethernet0 10.0.1.2/24')\n",
    "out = nodes['L0'].execute('sudo config interface ip add Ethernet12 10.0.3.2/24')\n",
    "out = nodes['L0'].execute('sudo config interface ip add Ethernet8 10.0.5.1/24')\n",
    "out = nodes['L0'].execute('sudo config interface ip add Loopback0 10.10.10.200/32')\n",
    "out = nodes['L0'].execute('sudo config save -y')\n",
    "print (\"\\n******************** Configuring L1 *************************\")\n",
    "out = nodes['L1'].execute('sudo config interface ip add Ethernet12 10.0.2.2/24')\n",
    "out = nodes['L1'].execute('sudo config interface ip add Ethernet0 10.0.4.2/24')\n",
    "out = nodes['L1'].execute('sudo config interface ip add Ethernet8 10.0.6.1/24')\n",
    "out = nodes['L1'].execute('sudo config interface ip add Loopback0 10.10.11.200/32')\n",
    "out = nodes['L1'].execute('sudo config save -y')\n",
    "print (\"\\n******************** Configuring TREX *************************\")\n",
    "out = nodes['trex'].execute('ifconfig eth1 10.0.5.2 netmask 255.255.255.0 up')\n",
    "out = nodes['trex'].execute('ifconfig eth2 10.0.6.2 netmask 255.255.255.0 up')"
   ]
  },
  {
   "attachments": {},
   "cell_type": "markdown",
   "id": "9a0e5d42",
   "metadata": {},
   "source": [
    "> Verify the configured IP addresses using the ```show ip interfaces``` command on the routers and ```ifconfig -a``` command on the TREX server."
   ]
  },
  {
   "cell_type": "code",
   "execution_count": null,
   "id": "67ad2aeb",
   "metadata": {
    "tags": []
   },
   "outputs": [],
   "source": [
    "for n in nodes:\n",
    "   print (\"\\n******************** Command Outputs from\", n, \"*************************\")\n",
    "   if (n == 'trex'):\n",
    "      out = nodes[n].execute('ifconfig -a eth1')\n",
    "      out = nodes[n].execute('ifconfig -a eth2')\n",
    "   else:\n",
    "      out = nodes[n].execute('show ip interfaces')  "
   ]
  },
  {
   "attachments": {},
   "cell_type": "markdown",
   "id": "9b259981",
   "metadata": {},
   "source": [
    "### Configure eBGP"
   ]
  },
  {
   "attachments": {},
   "cell_type": "markdown",
   "id": "860c1952",
   "metadata": {},
   "source": [
    "> The following section shows the eBGP (exterior Border Gateway Protocol) configuration on all spine and leaf routers. The spines are in Autonomous System (AS) 100 and the leaves in AS 200. \n",
    "> Note the usage of the ```allowas-in``` option in the ```neighbor``` command. The default behaviour of BGP is to reject learning routes from own AS. The ```allowas-in``` option overrides this default behavior and the nodes learn routes from own AS. "
   ]
  },
  {
   "cell_type": "code",
   "execution_count": null,
   "id": "1966fa73",
   "metadata": {
    "tags": []
   },
   "outputs": [],
   "source": [
    "print (\"\\n******************** Configuring eBGP on S0 *************************\")\n",
    "out = nodes['S0'].execute ('''vtysh \\\n",
    "-c 'configure terminal' \\\n",
    "-c 'hostname SPINE_0' \\\n",
    "-c 'router-id 10.10.10.100' \\\n",
    "-c 'router bgp 100' \\\n",
    "-c 'no bgp ebgp-requires-policy' \\\n",
    "-c 'neighbor 10.0.2.2 remote-as 200' \\\n",
    "-c 'neighbor 10.0.1.2 remote-as 200' \\\n",
    "-c 'address-family ipv4 unicast' \\\n",
    "-c 'neighbor 10.0.2.2 allowas-in' \\\n",
    "-c 'neighbor 10.0.1.2 allowas-in' \\\n",
    "-c 'network 10.0.1.0/24' \\\n",
    "-c 'network 10.0.2.0/24' \\\n",
    "-c 'network 10.10.10.100/32' \\\n",
    "-c 'redistribute connected'\n",
    "''')\n",
    "print (\"\\n******************** Configuring eBGP on S1 *************************\")\n",
    "out = nodes['S1'].execute ('''vtysh \\\n",
    "-c 'configure terminal' \\\n",
    "-c 'hostname SPINE_1' \\\n",
    "-c 'router-id 10.10.11.100' \\\n",
    "-c 'router bgp 100' \\\n",
    "-c 'no bgp ebgp-requires-policy' \\\n",
    "-c 'neighbor 10.0.3.2 remote-as 200' \\\n",
    "-c 'neighbor 10.0.4.2 remote-as 200' \\\n",
    "-c 'address-family ipv4 unicast' \\\n",
    "-c 'neighbor 10.0.3.2 allowas-in' \\\n",
    "-c 'neighbor 10.0.4.2 allowas-in' \\\n",
    "-c 'network 10.0.3.0/24' \\\n",
    "-c 'network 10.0.4.0/24' \\\n",
    "-c 'network 10.10.11.100/32' \\\n",
    "-c 'redistribute connected'\n",
    "''')\n",
    "print (\"\\n******************** Configuring eBGP on L0 *************************\")\n",
    "out = nodes['L0'].execute ('''vtysh \\\n",
    "-c 'configure terminal' \\\n",
    "-c 'hostname LEAF_0' \\\n",
    "-c 'router-id 10.10.10.200' \\\n",
    "-c 'router bgp 200' \\\n",
    "-c 'no bgp ebgp-requires-policy' \\\n",
    "-c 'neighbor 10.0.1.1 remote-as 100' \\\n",
    "-c 'neighbor 10.0.3.1 remote-as 100' \\\n",
    "-c 'address-family ipv4 unicast' \\\n",
    "-c 'neighbor 10.0.1.1 allowas-in' \\\n",
    "-c 'neighbor 10.0.3.1 allowas-in' \\\n",
    "-c 'network 10.0.1.0/24' \\\n",
    "-c 'network 10.0.3.0/24' \\\n",
    "-c 'network 10.0.5.0/24' \\\n",
    "-c 'network 10.10.10.200/32' \\\n",
    "-c 'redistribute connected'\n",
    "''')\n",
    "print (\"\\n******************** Configuring eBGP on L1 *************************\")\n",
    "out = nodes['L1'].execute ('''vtysh \\\n",
    "-c 'configure terminal' \\\n",
    "-c 'hostname LEAF_1' \\\n",
    "-c 'router-id 10.10.11.200' \\\n",
    "-c 'router bgp 200' \\\n",
    "-c 'no bgp ebgp-requires-policy' \\\n",
    "-c 'neighbor 10.0.2.1 remote-as 100' \\\n",
    "-c 'neighbor 10.0.4.1 remote-as 100' \\\n",
    "-c 'address-family ipv4 unicast' \\\n",
    "-c 'neighbor 10.0.2.1 allowas-in' \\\n",
    "-c 'neighbor 10.0.4.1 allowas-in' \\\n",
    "-c 'network 10.0.2.0/24' \\\n",
    "-c 'network 10.0.4.0/24' \\\n",
    "-c 'network 10.0.6.0/24' \\\n",
    "-c 'network 10.10.11.200/32' \\\n",
    "-c 'redistribute connected'\n",
    "''')\n",
    "time.sleep(60)"
   ]
  },
  {
   "attachments": {},
   "cell_type": "markdown",
   "id": "e7f52701",
   "metadata": {},
   "source": [
    "> Execute the command ```show ip bgp``` on all tier-0 and tier-1 routers to ensure eBGP is up."
   ]
  },
  {
   "cell_type": "code",
   "execution_count": null,
   "id": "879b8d08",
   "metadata": {
    "tags": []
   },
   "outputs": [],
   "source": [
    "for n in nodes:\n",
    "   if (n != 'trex'):\n",
    "      print (\"\\n******************** Command Outputs from\", n, \"*************************\")\n",
    "      out = nodes[n].execute('''vtysh \\\n",
    "      -c 'show ip bgp'\n",
    "      ''')"
   ]
  },
  {
   "attachments": {},
   "cell_type": "markdown",
   "id": "0ee908d7",
   "metadata": {},
   "source": [
    "> This section checks the routes learnt through BGP by executing the command ```show ip route``` on all nodes in tier-0 and tier-1. The lines starting with the letter **B** are the routes learnt through BGP."
   ]
  },
  {
   "cell_type": "code",
   "execution_count": null,
   "id": "9bd4d64a",
   "metadata": {},
   "outputs": [],
   "source": [
    "for n in nodes:\n",
    "   if (n != 'trex'):\n",
    "      print (\"\\n******************** Command Outputs from\", n, \"*************************\")\n",
    "      out = nodes[n].execute('''vtysh \\\n",
    "      -c 'show ip route'\n",
    "      ''')"
   ]
  },
  {
   "attachments": {},
   "cell_type": "markdown",
   "id": "c025c213",
   "metadata": {},
   "source": [
    "> Ping IP addresses on the LEAF0 (L0) router from the LEAF1 (L1) router and vice-versa. This ensures that the 3-stage Clos network is ready for end-to-end traffic flow."
   ]
  },
  {
   "cell_type": "code",
   "execution_count": null,
   "id": "dfd97da4",
   "metadata": {
    "tags": []
   },
   "outputs": [],
   "source": [
    "\n",
    "print (\"\\n******************** Ping from L1 to L0 *************************\")\n",
    "out = nodes['L1'].execute('ping -c5 10.10.10.200')\n",
    "print (\"\\n******************** Ping from L0 to L1 *************************\")\n",
    "out = nodes['L0'].execute('ping -c5 10.10.11.200')"
   ]
  },
  {
   "attachments": {},
   "cell_type": "markdown",
   "id": "b15cc3b7",
   "metadata": {},
   "source": [
    "**Pinging to remote leaf ip address is successful and so the 3-stage Clos network is up and ready for data traffic**"
   ]
  },
  {
   "attachments": {},
   "cell_type": "markdown",
   "id": "03ea4eee",
   "metadata": {},
   "source": [
    "### Send Traffic from TREX"
   ]
  },
  {
   "attachments": {},
   "cell_type": "markdown",
   "id": "ddc0757c",
   "metadata": {},
   "source": [
    "> [TREX](https://trex-tgn.cisco.com/trex/doc/trex_manual.html#_introduction) is a software traffic generator that runs on Linux. To simulate server-to-server traffic flow across a 3-stage Clos network, connect the TREX software traffic generator ports as the end-hosts to LEAF0 and LEAF1. \n",
    "\n",
    "> Details of traffic stream injected into LEAF0 from TREX:\n",
    "> * Source IP address: 10.0.5.2\n",
    "> * Destination IP address: 10.0.6.2\n",
    "\n",
    "> Details of traffic stream injected into LEAF1 from TREX:\n",
    "> * Source IP address: 10.0.6.2\n",
    "> * Destination IP address: 10.0.5.2\n",
    "\n",
    "<center><img src=\"./images/3clos-traffic.png\" width=\"700\"/></center>\n",
    "\n",
    "> The function ```generate_bidir_traffic``` generates a bidirectional traffic burst for 1 second. After the cell execution, check ```Total-tx-pkt``` and ```Total-rx-pkt``` in the ```summary stats``` at the end of the output to ensure that there is no traffic loss."
   ]
  },
  {
   "cell_type": "code",
   "execution_count": null,
   "id": "94197f93",
   "metadata": {
    "tags": []
   },
   "outputs": [],
   "source": [
    "trex_ipaddress = str(nodes['trex'].connections.cli.ip)\n",
    "trex_port = str(nodes['trex'].connections.cli.port)\n",
    "\n",
    "generate_bidir_traffic(trex_ipaddress, trex_port)"
   ]
  },
  {
   "attachments": {},
   "cell_type": "markdown",
   "id": "9814fea2",
   "metadata": {},
   "source": [
    "### Verify Traffic Statistics"
   ]
  },
  {
   "attachments": {},
   "cell_type": "markdown",
   "id": "5514c5f9",
   "metadata": {},
   "source": [
    "> Check the interface counters on the nodes to ensure that the traffic is sent and received as seen in the traffic generator output.\n",
    "    \n",
    "> Note: \"show interface counters rif\" displaying 0s for all fields, is a known issue on the emulator. Users will experience expected behaviours on the physical setup.\n"
   ]
  },
  {
   "cell_type": "code",
   "execution_count": null,
   "id": "1190a645",
   "metadata": {
    "tags": []
   },
   "outputs": [],
   "source": [
    "for n in nodes:\n",
    "   if (n != 'trex'):\n",
    "      out = nodes[n].execute('show interface counters rif')"
   ]
  },
  {
   "attachments": {},
   "cell_type": "markdown",
   "id": "827e1086",
   "metadata": {},
   "source": [
    "> You have now successfully brought up a simple 3-stage Clos network, sent traffic across it. This forms the IP-BGP underlay for your data center network. \n",
    "\n",
    "> Scale up these configurations as per the number of devices in your data centre. "
   ]
  },
  {
   "attachments": {},
   "cell_type": "markdown",
   "id": "5f61b71a-6a15-48d4-bea4-3840820023b4",
   "metadata": {
    "tags": [
     "remove_cell"
    ]
   },
   "source": [
    "### Clean up Router Configurations"
   ]
  },
  {
   "attachments": {},
   "cell_type": "markdown",
   "id": "c6e64b34-61bf-47de-b1b7-98b4d9fe818b",
   "metadata": {
    "tags": [
     "remove_cell"
    ]
   },
   "source": [
    "> Remove the router configurations so that you can play other notebooks"
   ]
  },
  {
   "cell_type": "code",
   "execution_count": null,
   "id": "3607e945-ab73-4715-9896-bed0f3b10932",
   "metadata": {
    "tags": [
     "remove_cell"
    ]
   },
   "outputs": [],
   "source": [
    "# Remove the Router configs and release the interfaces used by trex\n",
    "out = nodes['S0'].execute('sudo config interface ip remove Ethernet0 10.0.1.1/24')\n",
    "out = nodes['S0'].execute('sudo config interface ip remove Ethernet8 10.0.2.1/24')\n",
    "out = nodes['S0'].execute('sudo config interface ip remove Loopback0 10.10.10.100/32')\n",
    "out = nodes['S1'].execute('sudo config interface ip remove Ethernet0 10.0.3.1/24')\n",
    "out = nodes['S1'].execute('sudo config interface ip remove Ethernet8 10.0.4.1/24')\n",
    "out = nodes['S1'].execute('sudo config interface ip remove Loopback0 10.10.11.100/32')\n",
    "out = nodes['L0'].execute('sudo config interface ip remove Ethernet0 10.0.1.2/24')\n",
    "out = nodes['L0'].execute('sudo config interface ip remove Ethernet12 10.0.3.2/24')\n",
    "out = nodes['L0'].execute('sudo config interface ip remove Ethernet8 10.0.5.1/24')\n",
    "out = nodes['L0'].execute('sudo config interface ip remove Loopback0 10.10.10.200/32')\n",
    "out = nodes['L1'].execute('sudo config interface ip remove Ethernet12 10.0.2.2/24')\n",
    "out = nodes['L1'].execute('sudo config interface ip remove Ethernet0 10.0.4.2/24')\n",
    "out = nodes['L1'].execute('sudo config interface ip remove Ethernet8 10.0.6.1/24')\n",
    "out = nodes['L1'].execute('sudo config interface ip remove Loopback0 10.10.11.200/32')\n",
    "\n",
    "for n in nodes:\n",
    "   if (n != 'trex'):\n",
    "      print(\"cfg cleaned\")\n",
    "      out = nodes[n].execute('sudo rm /etc/sonic/config_db.json')\n",
    "   else:\n",
    "      out = nodes[n].execute('cd /opt/cisco/trex/latest/')\n",
    "      out = nodes[n].execute('sudo ./dpdk_nic_bind.py --force -u 00:04.0')\n",
    "      out = nodes[n].execute('sudo ./dpdk_nic_bind.py --force -u 00:05.0')\n",
    "      out = nodes[n].execute('sudo ./dpdk_nic_bind.py --bind=virtio-pci 00:04.0')\n",
    "      out = nodes[n].execute('sudo ./dpdk_nic_bind.py --bind=virtio-pci 00:05.0')"
   ]
  },
  {
   "attachments": {},
   "cell_type": "markdown",
   "id": "ce18e42a",
   "metadata": {},
   "source": [
    "> Do let us know of your feedback or queries about this notebook at mig-notebooks@cisco.com."
   ]
  }
 ],
 "metadata": {
  "kernelspec": {
   "display_name": "Python 3 (ipykernel)",
   "language": "python",
   "name": "python3"
  },
  "language_info": {
   "codemirror_mode": {
    "name": "ipython",
    "version": 3
   },
   "file_extension": ".py",
   "mimetype": "text/x-python",
   "name": "python",
   "nbconvert_exporter": "python",
   "pygments_lexer": "ipython3",
   "version": "3.8.13"
  },
  "toc-autonumbering": false,
  "toc-showcode": false,
  "toc-showmarkdowntxt": false
 },
 "nbformat": 4,
 "nbformat_minor": 5
}
