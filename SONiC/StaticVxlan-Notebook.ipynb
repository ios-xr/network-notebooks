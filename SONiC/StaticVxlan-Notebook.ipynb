{
 "cells": [
  {
   "cell_type": "markdown",
   "id": "3190123e",
   "metadata": {},
   "source": [
    "# 3-Stage Clos Network with Static VXLAN to make Networks Scalable\n",
    "###### <sup>Inputs: Bhavani Parise, Deepti Chandra; Developed by Sarah Samuel; Read the use case on Devnet: https://developer.cisco.com/docs/sonic/#!3-stage-clos-network-with-static-vxlan-to-make-networks-scalable</sup>\n"
   ]
  },
  {
   "cell_type": "markdown",
   "id": "6f59d4a2",
   "metadata": {},
   "source": [
    "The [3 Stage Clos Notebook](./3StageClos-Notebook.ipynb) walked you through the step-by-step procedure to configure a 3 stage Clos network on Cisco 8000 routers that run SONiC operating system. This notebook shows you how to configure Static VXLAN over a 3-stage Clos network underlay.\n",
    "\n",
    "VXLAN is a tunneling protocol that stretches Layer 2 networks over an underlying Layer 3 IP network by encapsulating Layer 2 Ethernet frames within Layer 4 User Datagram Protocol (UDP). It then transports the encapsulated frames over a Layer 3 network.\n",
    "\n",
    "You can create up to 16 million VXLANs instead of the traditional VLAN, which allows only 4096 VLANs in a network. Thus, VXLAN enables the building of highly scalable networks with physically distant Layer 2 network segments.\n",
    "\n",
    "There are 2 types of VXLANS:\n",
    "\n",
    "1. **Ethernet virtual private network (EVPN) VXLANs** - EVPN provides the control plane functionality for these VXLANs.\n",
    "\n",
    "2. **Static VXLANs** - The router does not maintain a control plane for static VXLANs. So you should manually configure virtual tunnel end points and routes.\n",
    "\n",
    "Though you use generally switches in a 3-stage Clos network, this notebook demonstrates how to [Bring Up 3-Stage Clos Network as an Underlay Network](#bring-up-3-stage-clos-network-as-an-underlay-network) using Cisco 8000 series routers that run SONiC. You can then [Configure Static VXLANs over the 3-Stage Clos Network](#configure-static-vxlans-over-the-3-stage-clos-network).\n",
    "\n",
    "The following topology diagram depicts a simple 3-stage Clos network with two leaf routers in Tier-0 and two spine routers in Tier-1.\n",
    "\n",
    "<center><img src=\"./images/522559.jpg\" width=\"700\"/></center>\n",
    "\n",
    "\n",
    "This topology shows the static VXLAN overlay on the 3-stage Clos network:\n",
    "\n",
    "<center><img src=\"./images/522560.jpg\" width=\"700\"/></center>\n"
   ]
  },
  {
   "cell_type": "markdown",
   "id": "bae7ae10",
   "metadata": {
    "tags": [
     "remove_cell"
    ]
   },
   "source": [
    "As you read through this notebook, play the code-cells, using the play button in the top left corner of this page, to send configuration commands to the live network nodes on the Cisco 8000 Emulator that runs in the background. The notebook refreshes the output of each cell-execution just beneath it."
   ]
  },
  {
   "cell_type": "markdown",
   "id": "33c7c909",
   "metadata": {},
   "source": [
    "Play the code-cells in the sections [Access Device Consoles](#Access-Device-Consoles) and [Bring Up 3 Stage Clos Network](#Bring-Up-3-Stage-Clos-Network).\n",
    "\n",
    "When the 3-stage Clos network is up, [Configure Static VXLANs over the 3-Stage Clos Network](#Configure-Static-VXLANs-over-the-3-Stage-Clos-Network), by playing through these steps:\n",
    "* [Configure VLAN on Leaf Nodes](#Configure-VLAN-on-Leaf-Nodes)\n",
    "* [Set Up and Apply Static VXLAN Configurations](#Set-Up-and-Apply-Static-VXLAN-Configurations)\n",
    "* [Set Up and Load VNet Route Tables](#Set-Up-and-Load-VNet-Route-Tables)\n",
    "* [Verify Static VXLAN](#Verify-Static-VXLAN)\n",
    "* [Send Traffic across VXLAN Tunnel](#Send-Traffic-across-VXLAN-Tunnel)\n",
    "* [Tested Static VXLAN Scale](#Tested-Static-VXLAN-Scale)"
   ]
  },
  {
   "cell_type": "markdown",
   "id": "5cccfa3f",
   "metadata": {
    "tags": [
     "remove_cell"
    ]
   },
   "source": [
    "Finally, [clean up emulator session](#Clean-Up-Emulator-Session), once you are done."
   ]
  },
  {
   "cell_type": "markdown",
   "id": "5e6d28ba",
   "metadata": {
    "tags": [
     "remove_cell"
    ]
   },
   "source": [
    "## Access Device Consoles"
   ]
  },
  {
   "cell_type": "markdown",
   "id": "c33506e5",
   "metadata": {
    "tags": []
   },
   "source": [
    "> Play the following cell to bring up topology and access ssh console of each device in the topology. This cell takes about 10 - 15 minutes to complete execution. When you see the **Sim status** displayed as  **{'localhost': 'running'}** underneath this cell, the topology is up. Wait for a few more seconds until the code accesses the ssh console of each device. \n",
    "\n",
    "> Avoid playing this cell more than once, without [cleaning up the emulator session](#Clean-Up-Emulator-Session)."
   ]
  },
  {
   "cell_type": "code",
   "execution_count": null,
   "id": "52d2ec6e",
   "metadata": {
    "tags": [
     "remove_cell"
    ]
   },
   "outputs": [],
   "source": [
    "from lib.leaf_spine import *\n",
    "nodes = {\n",
    "         'S0':'', \n",
    "         'S1':'',\n",
    "         'L0':'', \n",
    "         'L1':'', \n",
    "         'trex':''\n",
    "        }\n",
    "        \n",
    "tb = access_device_consoles(\"lib/leaf_spine.yaml\", nodes)"
   ]
  },
  {
   "cell_type": "markdown",
   "id": "12e29bf5",
   "metadata": {},
   "source": [
    "## Bring Up 3-Stage Clos Network"
   ]
  },
  {
   "cell_type": "markdown",
   "id": "db2a1a5d",
   "metadata": {},
   "source": [
    "> To configure a 3-stage clos network, play through the following code-cells:"
   ]
  },
  {
   "cell_type": "code",
   "execution_count": null,
   "id": "983d6e47",
   "metadata": {},
   "outputs": [],
   "source": [
    "# Configure Host-Names\n",
    "out = nodes['S0'].execute('sudo config hostname SPINE0')\n",
    "out = nodes['S0'].execute('sudo config save -y')\n",
    "out = nodes['S1'].execute('sudo config hostname SPINE1')\n",
    "out = nodes['S1'].execute('sudo config save -y')\n",
    "out = nodes['L0'].execute('sudo config hostname LEAF0')\n",
    "out = nodes['L0'].execute('sudo config save -y')\n",
    "out = nodes['L1'].execute('sudo config hostname LEAF1')\n",
    "out = nodes['L1'].execute('sudo config save -y')\n",
    "\n",
    "# Assign IP Addresses\n",
    "print (\"\\n******************** Assign IP addresses on S0 *************************\")\n",
    "out = nodes['S0'].execute('sudo config interface ip add Ethernet0 10.0.1.1/24')\n",
    "out = nodes['S0'].execute('sudo config interface ip add Ethernet8 10.0.2.1/24')\n",
    "out = nodes['S0'].execute('sudo config interface ip add Loopback0 10.10.10.100/32')\n",
    "out = nodes['S0'].execute('sudo config save -y')\n",
    "print (\"\\n******************** Assign IP addresses on S1 *************************\")\n",
    "out = nodes['S1'].execute('sudo config interface ip add Ethernet0 10.0.3.1/24')\n",
    "out = nodes['S1'].execute('sudo config interface ip add Ethernet8 10.0.4.1/24')\n",
    "out = nodes['S1'].execute('sudo config interface ip add Loopback0 10.10.11.100/32')\n",
    "out = nodes['S1'].execute('sudo config save -y')\n",
    "print (\"\\n******************** Assign IP addresses on L0 *************************\")\n",
    "out = nodes['L0'].execute('sudo config interface ip add Ethernet0 10.0.1.2/24')\n",
    "out = nodes['L0'].execute('sudo config interface ip add Ethernet12 10.0.3.2/24')\n",
    "out = nodes['L0'].execute('sudo config interface ip add Loopback0 10.10.10.200/32')\n",
    "out = nodes['L0'].execute('sudo config save -y')\n",
    "print (\"\\n******************** Assign IP addresses on L1 *************************\")\n",
    "out = nodes['L1'].execute('sudo config interface ip add Ethernet12 10.0.2.2/24')\n",
    "out = nodes['L1'].execute('sudo config interface ip add Ethernet0 10.0.4.2/24')\n",
    "out = nodes['L1'].execute('sudo config interface ip add Loopback0 10.10.11.200/32')\n",
    "out = nodes['L1'].execute('sudo config save -y')\n",
    "\n",
    "# Configure eBGP\n",
    "print (\"\\n******************** Configure eBGP on S0 *************************\")\n",
    "out = nodes['S0'].execute ('''vtysh \\\n",
    "-c 'configure terminal' \\\n",
    "-c 'hostname SPINE_0' \\\n",
    "-c 'router-id 10.10.10.100' \\\n",
    "-c 'router bgp 100' \\\n",
    "-c 'no bgp ebgp-requires-policy' \\\n",
    "-c 'neighbor 10.0.2.2 remote-as 200' \\\n",
    "-c 'neighbor 10.0.1.2 remote-as 200' \\\n",
    "-c 'address-family ipv4 unicast' \\\n",
    "-c 'neighbor 10.0.2.2 allowas-in' \\\n",
    "-c 'neighbor 10.0.1.2 allowas-in' \\\n",
    "-c 'network 10.0.1.0/24' \\\n",
    "-c 'network 10.0.2.0/24' \\\n",
    "-c 'network 10.10.10.100/32' \\\n",
    "-c 'redistribute connected'\n",
    "''')\n",
    "print (\"\\n******************** Configure eBGP on S1 *************************\")\n",
    "out = nodes['S1'].execute ('''vtysh \\\n",
    "-c 'configure terminal' \\\n",
    "-c 'hostname SPINE_1' \\\n",
    "-c 'router-id 10.10.11.100' \\\n",
    "-c 'router bgp 100' \\\n",
    "-c 'no bgp ebgp-requires-policy' \\\n",
    "-c 'neighbor 10.0.3.2 remote-as 200' \\\n",
    "-c 'neighbor 10.0.4.2 remote-as 200' \\\n",
    "-c 'address-family ipv4 unicast' \\\n",
    "-c 'neighbor 10.0.3.2 allowas-in' \\\n",
    "-c 'neighbor 10.0.4.2 allowas-in' \\\n",
    "-c 'network 10.0.3.0/24' \\\n",
    "-c 'network 10.0.4.0/24' \\\n",
    "-c 'network 10.10.11.100/32' \\\n",
    "-c 'redistribute connected'\n",
    "''')\n",
    "print (\"\\n******************** Configure eBGP on L0 *************************\")\n",
    "out = nodes['L0'].execute ('''vtysh \\\n",
    "-c 'configure terminal' \\\n",
    "-c 'hostname LEAF_0' \\\n",
    "-c 'router-id 10.10.10.200' \\\n",
    "-c 'router bgp 200' \\\n",
    "-c 'no bgp ebgp-requires-policy' \\\n",
    "-c 'neighbor 10.0.1.1 remote-as 100' \\\n",
    "-c 'neighbor 10.0.3.1 remote-as 100' \\\n",
    "-c 'address-family ipv4 unicast' \\\n",
    "-c 'neighbor 10.0.1.1 allowas-in' \\\n",
    "-c 'neighbor 10.0.3.1 allowas-in' \\\n",
    "-c 'network 10.0.1.0/24' \\\n",
    "-c 'network 10.0.3.0/24' \\\n",
    "-c 'network 10.0.5.0/24' \\\n",
    "-c 'network 10.10.10.200/32' \\\n",
    "-c 'redistribute connected'\n",
    "''')\n",
    "print (\"\\n******************** Configure eBGP on L1 *************************\")\n",
    "out = nodes['L1'].execute ('''vtysh \\\n",
    "-c 'configure terminal' \\\n",
    "-c 'hostname LEAF_1' \\\n",
    "-c 'router-id 10.10.11.200' \\\n",
    "-c 'router bgp 200' \\\n",
    "-c 'no bgp ebgp-requires-policy' \\\n",
    "-c 'neighbor 10.0.2.1 remote-as 100' \\\n",
    "-c 'neighbor 10.0.4.1 remote-as 100' \\\n",
    "-c 'address-family ipv4 unicast' \\\n",
    "-c 'neighbor 10.0.2.1 allowas-in' \\\n",
    "-c 'neighbor 10.0.4.1 allowas-in' \\\n",
    "-c 'network 10.0.2.0/24' \\\n",
    "-c 'network 10.0.4.0/24' \\\n",
    "-c 'network 10.0.6.0/24' \\\n",
    "-c 'network 10.10.11.200/32' \\\n",
    "-c 'redistribute connected'\n",
    "''')\n",
    "time.sleep(60)"
   ]
  },
  {
   "cell_type": "markdown",
   "id": "b93899af",
   "metadata": {},
   "source": [
    "> Configure the traffic generator interfaces."
   ]
  },
  {
   "cell_type": "code",
   "execution_count": null,
   "id": "3c1a0549",
   "metadata": {},
   "outputs": [],
   "source": [
    "out = nodes['trex'].execute('ifconfig eth1 10.0.5.2 netmask 255.255.255.0 up')\n",
    "out = nodes['trex'].execute('ifconfig eth2 10.0.6.2 netmask 255.255.255.0 up')\n",
    "out = nodes['trex'].execute('ifconfig -a eth1')\n",
    "out = nodes['trex'].execute('ifconfig -a eth2')"
   ]
  },
  {
   "cell_type": "markdown",
   "id": "70ea513f",
   "metadata": {},
   "source": [
    "## Configure Static VXLANs over the 3-Stage Clos Network "
   ]
  },
  {
   "cell_type": "markdown",
   "id": "75766381",
   "metadata": {},
   "source": [
    "> In this section , the notebook demostrates how to configure static VXLAN tunnels between LEAF0 and LEAF1. The underlay consists of the 3-stage Clos network which we configured in the previous section. \n"
   ]
  },
  {
   "cell_type": "markdown",
   "id": "64f7251a",
   "metadata": {},
   "source": [
    "### Configure VLAN on Leaf Nodes"
   ]
  },
  {
   "cell_type": "markdown",
   "id": "3630b2f1",
   "metadata": {},
   "source": [
    "> Configure VLAN 10 on both LEAF routers to set up VXLAN Tunnels between the VLAN segments on the LEAFs. Then remove the IP addresses assigned to the LEAF interfaces connected to the traffic generator and assign the VLAN 10. Assign the IP address that we removed to the VLAN interface."
   ]
  },
  {
   "cell_type": "code",
   "execution_count": null,
   "id": "670345bc",
   "metadata": {},
   "outputs": [],
   "source": [
    "out = nodes['L0'].execute('sudo config vlan add 10')\n",
    "out = nodes['L0'].execute('sudo config vlan member add -u 10 Ethernet8')\n",
    "out = nodes['L0'].execute('sudo config interface ip add Vlan10 10.0.5.1/24')\n",
    "out = nodes['L0'].execute('show vlan brief')\n",
    "\n",
    "out = nodes['L1'].execute('sudo config vlan add 10')\n",
    "out = nodes['L1'].execute('sudo config vlan member add -u 10 Ethernet8')\n",
    "out = nodes['L1'].execute('sudo config interface ip add Vlan10 10.0.6.1/24')\n",
    "out = nodes['L1'].execute('show vlan brief')"
   ]
  },
  {
   "cell_type": "markdown",
   "id": "bb793c9e",
   "metadata": {},
   "source": [
    "### Set Up and Apply Static VXLAN Configurations"
   ]
  },
  {
   "cell_type": "markdown",
   "id": "d53fc3fd",
   "metadata": {},
   "source": [
    "> Static VXLAN configurations are applied using JSON files. This step creates the files with the VXLAN configurations and loads them on LEAF0 and LEAF1. It configures VXLAN with a Virtual Network Identifier (VNI) of 1000 on LEAF0. The source IP address of the tunnel is the IP address of the Loopback 0 interface of LEAF0. This VXLAN maps VLAN 10 with a VNI of 1000."
   ]
  },
  {
   "cell_type": "code",
   "execution_count": null,
   "id": "664a1f69",
   "metadata": {
    "tags": [
     "hide_input"
    ]
   },
   "outputs": [],
   "source": [
    "# This cell creates the json file\n",
    "import json\n",
    "  \n",
    "# VXLAN Configurations\n",
    "VXLAN_dictionary ={\n",
    "    \"VXLAN_TUNNEL\": {\n",
    "        \"tunnel_v4\": {\n",
    "            \"src_ip\": \"10.10.10.200\"\n",
    "        }\n",
    "    },\n",
    "    \"VNET\": {\n",
    "        \"Vnet_1000\": {\n",
    "            \"vxlan_tunnel\": \"tunnel_v4\",\n",
    "            \"vni\": \"1000\",\n",
    "            \"scope\": \"default\"\n",
    "        }\n",
    "    },\n",
    "    \"VLAN_INTERFACE\": {\n",
    "        \"Vlan10\": {\n",
    "            \"vnet_name\": \"Vnet_1000\",\n",
    "            \"vni\": \"1000\"\n",
    "        },\n",
    "         \"Vlan10|10.0.5.1/24\": {}\n",
    "    }\n",
    "}\n",
    "    \n",
    "json_object = json.dumps(VXLAN_dictionary, indent = 4)\n",
    "# Writing to json file\n",
    "with open(\"VXLAN.json\", \"w\") as outfile:\n",
    "    outfile.write(json_object)\n",
    "\n",
    "# Copying json file to LEAF0    \n",
    "rtr_ip = str(nodes['L0'].connections.cli.ip)\n",
    "rtr_port = str(nodes['L0'].connections.cli.port)\n",
    "src_file = \"./VXLAN.json\"\n",
    "dst_on_rtr = \"/home/cisco/VXLAN.json\"\n",
    "copy_file_to_rtr(rtr_ip, rtr_port, src_file, dst_on_rtr)\n",
    "\n",
    "# Check if the file is copied on LEAF0\n",
    "out = nodes['L0'].execute('cat VXLAN.json')\n",
    "\n",
    "# Apply and save the VXLAN configurations on LEAF0\n",
    "out = nodes['L0'].execute('sudo config load VXLAN.json -y')\n",
    "out = nodes['L0'].execute('sudo config save -y')"
   ]
  },
  {
   "cell_type": "markdown",
   "id": "41a5698d",
   "metadata": {},
   "source": [
    "> Like LEAF0, on LEAF1 configure VXLAN with a VNI of 1000, which maps to VLAN 10. The source IP address of the VXLAN tunnel is the IP address of the Loopback0 interface of LEAF1."
   ]
  },
  {
   "cell_type": "code",
   "execution_count": null,
   "id": "32ade1a1",
   "metadata": {
    "tags": [
     "hide_input"
    ]
   },
   "outputs": [],
   "source": [
    "# This cell creates the json file  \n",
    "# VXLAN Configurations\n",
    "VXLAN_dictionary ={\n",
    "    \"VXLAN_TUNNEL\": {\n",
    "        \"tunnel_v4\": {\n",
    "            \"src_ip\": \"10.10.11.200\"\n",
    "        }\n",
    "    },\n",
    "    \"VNET\": {\n",
    "        \"Vnet_1000\": {\n",
    "            \"vxlan_tunnel\": \"tunnel_v4\",\n",
    "            \"vni\": \"1000\",\n",
    "            \"scope\": \"default\"\n",
    "        }\n",
    "    },\n",
    "    \"VLAN_INTERFACE\": {\n",
    "        \"Vlan10\": {\n",
    "            \"vnet_name\": \"Vnet_1000\",\n",
    "            \"vni\": \"1000\"\n",
    "        },\n",
    "         \"Vlan10|10.0.6.1/24\": {}\n",
    "    }\n",
    "}\n",
    "json_object = json.dumps(VXLAN_dictionary, indent = 4)\n",
    "  \n",
    "# Writing to json file\n",
    "with open(\"VXLAN2.json\", \"w\") as outfile:\n",
    "    outfile.write(json_object)\n",
    "\n",
    "# Copying json file to LEAF1\n",
    "rtr_ip = str(nodes['L1'].connections.cli.ip)\n",
    "rtr_port = str(nodes['L1'].connections.cli.port)\n",
    "src_file = \"./VXLAN2.json\"\n",
    "dst_on_rtr = \"/home/cisco/VXLAN2.json\"\n",
    "copy_file_to_rtr(rtr_ip, rtr_port, src_file, dst_on_rtr)\n",
    "\n",
    "# Check if the file is copied on LEAF1\n",
    "out = nodes['L1'].execute('cat VXLAN2.json')\n",
    "\n",
    "# Apply and save the VXLAN configurations on LEAF1\n",
    "out = nodes['L1'].execute('sudo config load VXLAN2.json -y')\n",
    "out = nodes['L1'].execute('sudo config save -y')"
   ]
  },
  {
   "cell_type": "markdown",
   "id": "78843f62",
   "metadata": {},
   "source": [
    "### Set Up and Load VNet Route Tables"
   ]
  },
  {
   "cell_type": "markdown",
   "id": "a44eb47c",
   "metadata": {},
   "source": [
    "> Since static VXLAN does not have a control plane to learn routes, set up the route tables manually by playing the below cell, SONiC uses the SWitch State Service (SWSS) docker container to maintain the database of routes. This cell sets up the JSON file for the Virtual Network (VNet) route table and copies it to the SWSS container using the ```docker cp``` command. The tables are then loaded in the SWSS container using the ```docker exec -i swss swssconfig``` command."
   ]
  },
  {
   "cell_type": "code",
   "execution_count": null,
   "id": "dae9841f",
   "metadata": {},
   "outputs": [],
   "source": [
    "# Setting up the VNET table with routes\n",
    "VNET_ROUTE =[{ \"VNET_ROUTE_TUNNEL_TABLE:Vnet_1000:10.0.6.0/24\": {\"endpoint\": \"10.10.11.200\"},\"OP\": \"SET\"},{ \"VNET_ROUTE_TUNNEL_TABLE:Vnet_1000:10.0.5.2/32\": {\"ifname\": \"Vlan10\"},\"OP\": \"SET\"}]\n",
    "\n",
    "# Writing to json file\n",
    "json_object2 = json.dumps(VNET_ROUTE, indent = 4)\n",
    "with open(\"VNET_ROUTE.json\", \"w\") as outfile:\n",
    "    outfile.write(json_object2)\n",
    "    \n",
    "# Copying json file to LEAF0\n",
    "rtr_ip = str(nodes['L0'].connections.cli.ip)\n",
    "rtr_port = str(nodes['L0'].connections.cli.port)\n",
    "src_file = \"./VNET_ROUTE.json\"\n",
    "dst_on_rtr = \"/home/cisco/vnt.route_snhop.json\"\n",
    "copy_file_to_rtr(rtr_ip, rtr_port, src_file, dst_on_rtr)\n",
    "\n",
    "# Check if the file with route table is copied on LEAF0\n",
    "out = nodes['L0'].execute('cat vnt.route_snhop.json')\n",
    "\n",
    "# Copy file with the route table over to swss container\n",
    "out = nodes['L0'].execute('docker cp vnt.route_snhop.json swss://.')\n",
    "\n",
    "# Load the routes in the swss container\n",
    "out = nodes['L0'].execute('docker exec -i swss swssconfig vnt.route_snhop.json')"
   ]
  },
  {
   "cell_type": "markdown",
   "id": "f3f9bcdb",
   "metadata": {},
   "source": [
    "> Set up the route table on LEAF1"
   ]
  },
  {
   "cell_type": "code",
   "execution_count": null,
   "id": "8cdb3b10",
   "metadata": {},
   "outputs": [],
   "source": [
    "# Setting up the VNET table with routes\n",
    "\n",
    "VNET_ROUTE =[{ \"VNET_ROUTE_TUNNEL_TABLE:Vnet_1000:10.0.5.0/24\": {\"endpoint\": \"10.10.10.200\"},\"OP\": \"SET\"},{ \"VNET_ROUTE_TUNNEL_TABLE:Vnet_1000:10.0.6.2/32\": {\"ifname\": \"Vlan10\"},\"OP\": \"SET\"}]\n",
    "\n",
    "# Writing to json file\n",
    "json_object2 = json.dumps(VNET_ROUTE, indent = 4)\n",
    "with open(\"VNET_ROUTE2.json\", \"w\") as outfile:\n",
    "    outfile.write(json_object2)\n",
    "    \n",
    "# Copying json file to LEAF1\n",
    "rtr_ip = str(nodes['L1'].connections.cli.ip)\n",
    "rtr_port = str(nodes['L1'].connections.cli.port)   \n",
    "src_file = \"./VNET_ROUTE2.json\"\n",
    "dst_on_rtr = \"/home/cisco/vnt.route_snhop.json\"\n",
    "copy_file_to_rtr(rtr_ip, rtr_port, src_file, dst_on_rtr)\n",
    "\n",
    "# Check if the file is copied on LEAF1\n",
    "out = nodes['L1'].execute('cat vnt.route_snhop.json')\n",
    "\n",
    "# Copy file with the route table over to swss container\n",
    "out = nodes['L1'].execute('docker cp vnt.route_snhop.json swss://.')\n",
    "\n",
    "# Load the routes in the swss container\n",
    "out = nodes['L1'].execute('docker exec -i swss swssconfig vnt.route_snhop.json')"
   ]
  },
  {
   "cell_type": "markdown",
   "id": "045371b1",
   "metadata": {},
   "source": [
    "### Verify Static VXLAN"
   ]
  },
  {
   "cell_type": "markdown",
   "id": "ac5a6c56",
   "metadata": {},
   "source": [
    "> Execute show commands on LEAF0 router to check the VXLAN configurations."
   ]
  },
  {
   "cell_type": "code",
   "execution_count": null,
   "id": "7705c44b",
   "metadata": {
    "tags": [
     "hide_input"
    ]
   },
   "outputs": [],
   "source": [
    "out = nodes['L0'].execute('show vxlan interface')\n",
    "out = nodes['L0'].execute('show vnet brief')\n",
    "out = nodes['L0'].execute('show vnet name Vnet_1000')\n",
    "out = nodes['L0'].execute('show ip route')"
   ]
  },
  {
   "cell_type": "markdown",
   "id": "cd3655da",
   "metadata": {},
   "source": [
    "> Execute show commands on LEAF1 router to check the VXLAN configurations."
   ]
  },
  {
   "cell_type": "code",
   "execution_count": null,
   "id": "38d00ab4",
   "metadata": {
    "tags": [
     "hide_input"
    ]
   },
   "outputs": [],
   "source": [
    "out = nodes['L1'].execute('show vxlan interface')\n",
    "out = nodes['L1'].execute('show vnet brief')\n",
    "out = nodes['L1'].execute('show vnet name Vnet_1000')\n",
    "out = nodes['L1'].execute('show ip route')"
   ]
  },
  {
   "cell_type": "markdown",
   "id": "8957b260-470c-421a-b8cb-ad1a990043ef",
   "metadata": {},
   "source": [
    "### Send Traffic across VXLAN Tunnel"
   ]
  },
  {
   "cell_type": "markdown",
   "id": "d01d1565",
   "metadata": {},
   "source": [
    "> To simulate server-to-server traffic flow across VXLAN tunnel, connect the TREX software traffic generator ports as the end-hosts to LEAF0 and LEAF1. \n",
    "\n",
    "> Details of traffic stream injected into LEAF0 from TREX:\n",
    "> * Source IP address: 10.0.5.2\n",
    "> * Destination IP address: 10.0.6.2\n",
    "\n",
    "> Details of traffic stream injected into LEAF1 from TREX:\n",
    "> * Source IP address: 10.0.6.2\n",
    "> * Destination IP address: 10.0.5.2\n",
    "\n",
    "<center><img src=\"./images/vxlan-traffic.png\" width=\"700\"/></center>\n",
    "\n",
    "> The function ```generate_bidir_traffic``` injects a bidirectional traffic burst for 1 second. After the cell execution, check ```Total-tx-pkt``` and ```Total-rx-pkt``` in the ```summary stats``` at the end of the output to ensure that there is no traffic loss."
   ]
  },
  {
   "cell_type": "code",
   "execution_count": null,
   "id": "55440323",
   "metadata": {
    "tags": []
   },
   "outputs": [],
   "source": [
    "trex_ipaddress = str(nodes['trex'].connections.cli.ip)\n",
    "trex_port = str(nodes['trex'].connections.cli.port)\n",
    "\n",
    "generate_bidir_traffic(trex_ipaddress, trex_port)"
   ]
  },
  {
   "cell_type": "markdown",
   "id": "b46110ad-eeca-4c4e-8f50-972498d5a705",
   "metadata": {},
   "source": [
    "> Check the summary stats in the trex output above, for packet drops. And then verify the MAC addresses learnt on the leaf routers, L0 and L1."
   ]
  },
  {
   "cell_type": "code",
   "execution_count": null,
   "id": "8479a8f4-b27a-49db-b679-bae9b47f076b",
   "metadata": {},
   "outputs": [],
   "source": [
    "out = nodes['L0'].execute('show mac')\n",
    "out = nodes['L1'].execute('show mac')"
   ]
  },
  {
   "cell_type": "markdown",
   "id": "892a32d1",
   "metadata": {},
   "source": [
    "> You have now successfully brought up a VXLAN Tunnel over a 3-stage Clos network, sent traffic across the VXLAN. "
   ]
  },
  {
   "cell_type": "markdown",
   "id": "af57120a",
   "metadata": {},
   "source": [
    "### Tested Static VXLAN Scale"
   ]
  },
  {
   "cell_type": "markdown",
   "id": "7232ecf0",
   "metadata": {},
   "source": [
    "> A scale of 32K remote Virtual Tunnel End Points (VTEP) with 128K unique overlay-prefix and VTEP Encap entries has been demonstrated on Cisco 8000 routers with SONiC. For more details of this demo by the Cisco team, refer https://blogs.cisco.com/sp/cisco-and-sonic"
   ]
  },
  {
   "cell_type": "markdown",
   "id": "5f61b71a-6a15-48d4-bea4-3840820023b4",
   "metadata": {
    "tags": [
     "remove_cell"
    ]
   },
   "source": [
    "### Clean up Router Configurations"
   ]
  },
  {
   "cell_type": "markdown",
   "id": "c6e64b34-61bf-47de-b1b7-98b4d9fe818b",
   "metadata": {
    "tags": [
     "remove_cell"
    ]
   },
   "source": [
    "> Remove the router configurations so that you can play other notebooks"
   ]
  },
  {
   "cell_type": "code",
   "execution_count": null,
   "id": "b9755590",
   "metadata": {},
   "outputs": [],
   "source": [
    "# Cleaning up the VNET table\n",
    "VNET_ROUTE_DEL =[{ \"VNET_ROUTE_TUNNEL_TABLE:Vnet_1000:10.0.6.0/24\": {\"endpoint\": \"10.10.11.200\"},\"OP\": \"DEL\"},{ \"VNET_ROUTE_TUNNEL_TABLE:Vnet_1000:10.0.5.2/32\": {\"ifname\": \"Vlan10\"},\"OP\": \"DEL\"}]\n",
    "\n",
    "# Writing to json file\n",
    "json_object2 = json.dumps(VNET_ROUTE_DEL, indent = 4)\n",
    "with open(\"VNET_ROUTE_DEL.json\", \"w\") as outfile:\n",
    "    outfile.write(json_object2)\n",
    "    \n",
    "# Copying json file to LEAF0\n",
    "rtr_ip = str(nodes['L0'].connections.cli.ip)\n",
    "rtr_port = str(nodes['L0'].connections.cli.port)\n",
    "src_file = \"./VNET_ROUTE_DEL.json\"\n",
    "dst_on_rtr = \"/home/cisco/vnt.route_snhopdel.json\"\n",
    "copy_file_to_rtr(rtr_ip, rtr_port, src_file, dst_on_rtr)\n",
    "\n",
    "# Check if the file with route table is copied on LEAF0\n",
    "out = nodes['L0'].execute('cat vnt.route_snhopdel.json')\n",
    "\n",
    "# Copy file with the route table over to swss container\n",
    "out = nodes['L0'].execute('docker cp vnt.route_snhopdel.json swss://.')\n",
    "\n",
    "# Load the routes in the swss container\n",
    "out = nodes['L0'].execute('docker exec -i swss swssconfig vnt.route_snhopdel.json')"
   ]
  },
  {
   "cell_type": "code",
   "execution_count": null,
   "id": "48524c3b",
   "metadata": {},
   "outputs": [],
   "source": [
    "# Cleaning up the VNET table\n",
    "\n",
    "VNET_ROUTE_DEL =[{ \"VNET_ROUTE_TUNNEL_TABLE:Vnet_1000:10.0.5.0/24\": {\"endpoint\": \"10.10.10.200\"},\"OP\": \"DEL\"},{ \"VNET_ROUTE_TUNNEL_TABLE:Vnet_1000:10.0.6.2/32\": {\"ifname\": \"Vlan10\"},\"OP\": \"DEL\"}]\n",
    "\n",
    "# Writing to json file\n",
    "json_object2 = json.dumps(VNET_ROUTE_DEL, indent = 4)\n",
    "with open(\"VNET_ROUTE_DEL2.json\", \"w\") as outfile:\n",
    "    outfile.write(json_object2)\n",
    "    \n",
    "# Copying json file to LEAF1\n",
    "rtr_ip = str(nodes['L1'].connections.cli.ip)\n",
    "rtr_port = str(nodes['L1'].connections.cli.port)   \n",
    "src_file = \"./VNET_ROUTE_DEL2.json\"\n",
    "dst_on_rtr = \"/home/cisco/vnt.route_snhopdel.json\"\n",
    "copy_file_to_rtr(rtr_ip, rtr_port, src_file, dst_on_rtr)\n",
    "\n",
    "# Check if the file is copied on LEAF1\n",
    "out = nodes['L1'].execute('cat vnt.route_snhopdel.json')\n",
    "\n",
    "# Copy file with the route table over to swss container\n",
    "out = nodes['L1'].execute('docker cp vnt.route_snhopdel.json swss://.')\n",
    "\n",
    "# Load the routes in the swss container\n",
    "out = nodes['L1'].execute('docker exec -i swss swssconfig vnt.route_snhopdel.json')\n"
   ]
  },
  {
   "cell_type": "code",
   "execution_count": null,
   "id": "4f1932ed",
   "metadata": {},
   "outputs": [],
   "source": [
    "# Remove the Router configs and release the interfaces used by trex\n",
    "out = nodes['S0'].execute('sudo config interface ip remove Ethernet0 10.0.1.1/24')\n",
    "out = nodes['S0'].execute('sudo config interface ip remove Ethernet8 10.0.2.1/24')\n",
    "out = nodes['S0'].execute('sudo config interface ip remove Loopback0 10.10.10.100/32')\n",
    "out = nodes['S1'].execute('sudo config interface ip remove Ethernet0 10.0.3.1/24')\n",
    "out = nodes['S1'].execute('sudo config interface ip remove Ethernet8 10.0.4.1/24')\n",
    "out = nodes['S1'].execute('sudo config interface ip remove Loopback0 10.10.11.100/32')\n",
    "out = nodes['L0'].execute('sudo config interface ip remove Ethernet0 10.0.1.2/24')\n",
    "out = nodes['L0'].execute('sudo config interface ip remove Ethernet12 10.0.3.2/24')\n",
    "out = nodes['L0'].execute('sudo config interface ip remove Loopback0 10.10.10.200/32')\n",
    "out = nodes['L1'].execute('sudo config interface ip remove Ethernet12 10.0.2.2/24')\n",
    "out = nodes['L1'].execute('sudo config interface ip remove Ethernet0 10.0.4.2/24')\n",
    "out = nodes['L1'].execute('sudo config interface ip remove Loopback0 10.10.11.200/32')\n",
    "\n",
    "# Unconfigure the VLANs\n",
    "out = nodes['L0'].execute('sudo config interface ip remove Vlan10 10.0.5.1/24')\n",
    "out = nodes['L0'].execute('sudo config vlan member del 10 Ethernet8')\n",
    "out = nodes['L0'].execute('sudo config vlan del 10')\n",
    "\n",
    "out = nodes['L1'].execute('sudo config interface ip remove Vlan10 10.0.6.1/24')\n",
    "out = nodes['L1'].execute('sudo config vlan member del 10 Ethernet8')\n",
    "out = nodes['L1'].execute('sudo config vlan del 10')\n",
    "time.sleep(60)\n",
    "\n",
    "for n in nodes:\n",
    "   if (n != 'trex'):\n",
    "      out = nodes[n].execute('sudo rm /etc/sonic/config_db.json')\n",
    "   else:\n",
    "      out = nodes[n].execute('cd /opt/cisco/trex/latest/')\n",
    "      out = nodes[n].execute('sudo ./dpdk_nic_bind.py --force -u 00:04.0')\n",
    "      out = nodes[n].execute('sudo ./dpdk_nic_bind.py --force -u 00:05.0')\n",
    "      out = nodes[n].execute('sudo ./dpdk_nic_bind.py --bind=virtio-pci 00:04.0')\n",
    "      out = nodes[n].execute('sudo ./dpdk_nic_bind.py --bind=virtio-pci 00:05.0')"
   ]
  },
  {
   "cell_type": "code",
   "execution_count": 50,
   "id": "9b721618",
   "metadata": {
    "tags": [
     "remove_cell"
    ]
   },
   "outputs": [],
   "source": [
    "!rm -rf *.json"
   ]
  },
  {
   "cell_type": "markdown",
   "id": "cdad1d75",
   "metadata": {},
   "source": [
    "> Do let us know of your feedback or queries about this notebook at mig-notebooks@cisco.com."
   ]
  }
 ],
 "metadata": {
  "kernelspec": {
   "display_name": "Python 3 (ipykernel)",
   "language": "python",
   "name": "python3"
  },
  "language_info": {
   "codemirror_mode": {
    "name": "ipython",
    "version": 3
   },
   "file_extension": ".py",
   "mimetype": "text/x-python",
   "name": "python",
   "nbconvert_exporter": "python",
   "pygments_lexer": "ipython3",
   "version": "3.8.13"
  },
  "toc-autonumbering": false,
  "toc-showcode": false,
  "toc-showmarkdowntxt": false
 },
 "nbformat": 4,
 "nbformat_minor": 5
}
