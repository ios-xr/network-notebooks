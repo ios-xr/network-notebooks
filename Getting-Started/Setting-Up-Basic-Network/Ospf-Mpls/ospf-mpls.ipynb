{
 "cells": [
  {
   "cell_type": "markdown",
   "metadata": {},
   "source": [
    "# Configure a Label Switched Network\n",
    "###### <sup>Developed by: Sarah Samuel (sasamuel@cisco.com). </sup>"
   ]
  },
  {
   "cell_type": "markdown",
   "metadata": {},
   "source": [
    "This notebook shows you the code required to bring up a small MPLS network with predefined configurations, using the pyvxr API. These functions are then used in the ospf_mpls.py library which we use to bring this network up again in other notebooks.\n",
    "\n",
    "Open Shortest Path First (OSPF) is an Interior Gateway Protocol (IGP) developed by the OSPF working group of the Internet Engineering Task Force (IETF). OSPF is the IGP of choice because it scales to large networks. It uses areas to partition the network into more manageable sizes and to introduce hierarchy in the network. A router is attached to one or more areas in a network. All of the networking devices in an area maintain the same complete database information about the link states in their area only. "
   ]
  },
  {
   "cell_type": "markdown",
   "metadata": {},
   "source": [
    "MPLS, with its label switching capabilities, eliminates the need for an IP route look-up and creates a virtual circuit (VC) switching function, allowing service-provider networks the same performance on their IP-based network services as with those delivered over traditional networks such as Frame Relay or ATM.\n",
    "\n",
    "Label Distribution Protocol (LDP) performs label distribution in MPLS environments. LDP provides the following capabilities:\n",
    "\n",
    "* LDP performs hop-by-hop or dynamic path setup; it does not provide end-to-end switching services.\n",
    "\n",
    "* LDP assigns labels to routes using the underlying Interior Gateway Protocols (IGP) routing protocols.\n",
    "\n",
    "* LDP provides constraint-based routing using LDP extensions for traffic engineering.\n",
    "\n",
    "* Finally, LDP is deployed in the core of the network and is one of the key protocols used in MPLS-based Layer 2 and Layer 3 virtual private networks (VPNs)."
   ]
  },
  {
   "cell_type": "markdown",
   "metadata": {},
   "source": [
    "Traditionally, Service Provider (SP) networks consisted of Provider (P) routers at the core of the SP network and Provider Edge (PE) routers at the edge of the SP network. This notebook brings up a topology with OSPF as the IGP and a MPLS LDP core, with predefined configs. It consists of 2 core routers and 2 edge routers. This topology can be used as a base for further experimenting with other the features used in the service provider network.\n",
    "\n",
    "![SP Diagram](ospf-mpls.png)\n"
   ]
  },
  {
   "cell_type": "markdown",
   "metadata": {},
   "source": [
    "In this notebook you will be taken through the basic steps to set up the simulated topology in a notebook:\n",
    "\n",
    "* [Set up emulator](#step1)\n",
    "* [Add the base configuration](#step2)\n",
    "* [Design the virtual router topology](#step3)\n",
    "* [Deploy the configurations](#step4)"
   ]
  },
  {
   "cell_type": "markdown",
   "metadata": {},
   "source": [
    "## <a name=\"step1\"></a>Set up Emulator"
   ]
  },
  {
   "cell_type": "markdown",
   "metadata": {},
   "source": [
    ">First, you'll have to set up the emulator to build your network. The following code cells sets up the python enviroment and the emulator object."
   ]
  },
  {
   "cell_type": "code",
   "execution_count": 1,
   "metadata": {},
   "outputs": [
    {
     "name": "stderr",
     "output_type": "stream",
     "text": [
      "INFO:pyvxr.vxr:v1.1.0 2021-04-23 05:42 output_dir:vxr.out\n",
      "INFO:pyvxr.vxr:b10e8f6b8c14:/home/vxr/notebooks/Getting-Started/Setting-Up-Basic-Network/Ospf-Mpls\n"
     ]
    },
    {
     "name": "stdout",
     "output_type": "stream",
     "text": [
      "3.8.8 (default, Apr 13 2021, 19:58:26) \n",
      "[GCC 7.3.0]\n",
      "3.8.8 (default, Apr 13 2021, 19:58:26) \n",
      "[GCC 7.3.0]\n"
     ]
    }
   ],
   "source": [
    "from pathlib import Path\n",
    "from pyvxr.vxr import Vxr\n",
    "import sys\n",
    "import os\n",
    "import logging\n",
    "import shutil\n",
    "import getpass\n",
    "import string\n",
    "import random\n",
    "print(sys.version)\n",
    "logging.basicConfig(level=logging.INFO)\n",
    "sys.path.append(\"../../../\")\n",
    "from image_version import *\n",
    "\n",
    "# Setting up scratch space for the simulation\n",
    "sim_dir = '/nobackup/' + getpass.getuser() + '/pyvxr/' + ''.join(random.choices(string.ascii_lowercase + string.digits, k=10))\n",
    "\n",
    "print(sys.version)\n",
    "logging.basicConfig(level=logging.INFO)\n",
    "sim = Vxr()\n",
    "sim.no_image_copy=True"
   ]
  },
  {
   "cell_type": "code",
   "execution_count": 2,
   "metadata": {},
   "outputs": [
    {
     "data": {
      "text/plain": [
       "['__class__',\n",
       " '__del__',\n",
       " '__delattr__',\n",
       " '__dict__',\n",
       " '__dir__',\n",
       " '__doc__',\n",
       " '__eq__',\n",
       " '__format__',\n",
       " '__ge__',\n",
       " '__getattribute__',\n",
       " '__gt__',\n",
       " '__hash__',\n",
       " '__init__',\n",
       " '__init_subclass__',\n",
       " '__le__',\n",
       " '__lt__',\n",
       " '__module__',\n",
       " '__ne__',\n",
       " '__new__',\n",
       " '__reduce__',\n",
       " '__reduce_ex__',\n",
       " '__repr__',\n",
       " '__setattr__',\n",
       " '__sizeof__',\n",
       " '__str__',\n",
       " '__subclasshook__',\n",
       " '__weakref__',\n",
       " '_allocate_slurm',\n",
       " '_analyze_logs',\n",
       " '_check_sim_config_yaml_file',\n",
       " '_clean_sim',\n",
       " '_connect_distributed_hubs',\n",
       " '_create_fresh_dir',\n",
       " '_create_port_yaml_file',\n",
       " '_create_vxrsim_cfg_file',\n",
       " '_download_dot_server_files',\n",
       " '_fix_vxr_release_string',\n",
       " '_get_pyvxr_flag',\n",
       " '_get_vxr_ports_file',\n",
       " '_get_vxr_ports_files',\n",
       " '_get_vxr_rel',\n",
       " '_get_vxr_ver',\n",
       " '_get_vxr_version',\n",
       " '_logs_from_host',\n",
       " '_parse_routers',\n",
       " '_portVectorFileName',\n",
       " '_post_sim_launch',\n",
       " '_restart_cards',\n",
       " '_restart_common',\n",
       " '_restart_sim',\n",
       " '_run_sim_check',\n",
       " '_send_email',\n",
       " '_setup_local_ssh_tunnels',\n",
       " '_setup_ssh_tunnels',\n",
       " '_start_common',\n",
       " '_start_sim',\n",
       " '_status_from_host',\n",
       " '_stop_sim',\n",
       " '_wait_for_interfaces',\n",
       " 'clean',\n",
       " 'client_hosts',\n",
       " 'close',\n",
       " 'console_mgr',\n",
       " 'consoles',\n",
       " 'copy',\n",
       " 'copy_images',\n",
       " 'dot_config_file',\n",
       " 'exit_on_error',\n",
       " 'fatal',\n",
       " 'get_linecard_slots',\n",
       " 'get_per_router_node_suffix',\n",
       " 'get_ports',\n",
       " 'get_sim',\n",
       " 'get_slurm_core_count',\n",
       " 'get_ssh_session',\n",
       " 'get_tcp_server_ports',\n",
       " 'get_vcpu_count',\n",
       " 'global_defaults',\n",
       " 'input_yaml_file',\n",
       " 'load_yaml_file',\n",
       " 'logs',\n",
       " 'logs_directory',\n",
       " 'no_image_copy',\n",
       " 'nsim_log',\n",
       " 'oir',\n",
       " 'orig_config',\n",
       " 'output_dir',\n",
       " 'parse_yaml_config',\n",
       " 'plugin_to_platform',\n",
       " 'port_vector_lock',\n",
       " 'ports',\n",
       " 'recommend_vxr_release',\n",
       " 'reconnect',\n",
       " 'remote_sessions',\n",
       " 'restart',\n",
       " 'save_restore_config',\n",
       " 'server_hosts',\n",
       " 'sim_check',\n",
       " 'sim_info',\n",
       " 'sim_ports_file',\n",
       " 'sims',\n",
       " 'slurm',\n",
       " 'start',\n",
       " 'status',\n",
       " 'stop',\n",
       " 'supportedPlatforms',\n",
       " 'tgngui',\n",
       " 'toxml',\n",
       " 'user_ctl',\n",
       " 'version',\n",
       " 'vxrSimOutputDir',\n",
       " 'vxrsim_cfg_file_base',\n",
       " 'xe_platforms',\n",
       " 'xr_platforms']"
      ]
     },
     "execution_count": 2,
     "metadata": {},
     "output_type": "execute_result"
    }
   ],
   "source": [
    "# Nice little python trick to peek at the API of the sim object.\n",
    "dir(sim)"
   ]
  },
  {
   "cell_type": "markdown",
   "metadata": {},
   "source": [
    "## <a name=\"step2\"></a>Add the Base Configurations"
   ]
  },
  {
   "cell_type": "markdown",
   "metadata": {},
   "source": [
    ">This sets up the configurations for a 4 router topology (2 P and 2 PE routers) for our lab and a Linux server to use on the same LAN, with SSH to all of the routers."
   ]
  },
  {
   "cell_type": "code",
   "execution_count": 3,
   "metadata": {},
   "outputs": [],
   "source": [
    "p1_config_str = \"\"\"\n",
    "ssh server v2\n",
    "ssh server netconf\n",
    "netconf-yang agent ssh\n",
    "\n",
    "hostname P1\n",
    "line console\n",
    " exec-timeout 0 0\n",
    " absolute-timeout 0\n",
    " session-timeout 0\n",
    "!\n",
    "line default\n",
    " exec-timeout 0 0\n",
    " absolute-timeout 0\n",
    " session-timeout 0\n",
    "!\n",
    " \n",
    "ipv4 unnumbered mpls traffic-eng Loopback0\n",
    "!\n",
    "interface Loopback0\n",
    " ipv4 address 10.0.0.5 255.255.255.255\n",
    "!\n",
    "interface FourHundredGigE0/0/0/0\n",
    " description Connected_to_P3\n",
    " mtu 9216\n",
    " ipv4 address 10.5.7.1 255.255.255.0\n",
    " no shutdown\n",
    "!\n",
    "interface FourHundredGigE0/0/0/1\n",
    " description Connected_to_PE1\n",
    " mtu 9216\n",
    " ipv4 address 10.20.7.1 255.255.255.0\n",
    " no shutdown\n",
    " !\n",
    "router ospf 10\n",
    " router-id 10.0.0.5\n",
    " area 0\n",
    "  interface FourHundredGigE0/0/0/0\n",
    "  interface FourHundredGigE0/0/0/1\n",
    "  interface Loopback0\n",
    "  !\n",
    " !\n",
    "!\n",
    "mpls oam\n",
    "!\n",
    "mpls ldp\n",
    " router-id 10.0.0.5\n",
    " interface FourHundredGigE0/0/0/0\n",
    " interface FourHundredGigE0/0/0/1\n",
    " !\n",
    "!\n",
    "multicast-routing\n",
    " address-family ipv4\n",
    "  interface all enable\n",
    " !\n",
    " \"\"\""
   ]
  },
  {
   "cell_type": "code",
   "execution_count": 4,
   "metadata": {},
   "outputs": [],
   "source": [
    "p3_config_str = \"\"\"\n",
    "ssh server v2\n",
    "ssh server netconf\n",
    "netconf-yang agent ssh\n",
    "\n",
    "hostname P3\n",
    "!\n",
    "ipv4 unnumbered mpls traffic-eng Loopback0\n",
    "!\n",
    "interface Loopback0\n",
    " ipv4 address 10.0.0.7 255.255.255.255\n",
    "!\n",
    "interface FourHundredGigE0/0/0/0\n",
    " description Connected_to_P1\n",
    " mtu 9216\n",
    " ipv4 address 10.5.7.2 255.255.255.0\n",
    " no shutdown\n",
    "!\n",
    "interface FourHundredGigE0/0/0/1\n",
    " description Connected_to_PE3\n",
    " mtu 9216\n",
    " ipv4 address 10.21.7.1 255.255.255.0\n",
    " no shutdown\n",
    "!\n",
    "router ospf 10\n",
    " router-id 10.0.0.7\n",
    " area 0\n",
    "  interface FourHundredGigE0/0/0/0\n",
    "  interface FourHundredGigE0/0/0/1\n",
    "  interface Loopback0\n",
    "  !\n",
    " !\n",
    "!\n",
    "mpls oam\n",
    "!\n",
    "mpls ldp\n",
    " router-id 10.0.0.7\n",
    " interface FourHundredGigE0/0/0/0\n",
    " interface FourHundredGigE0/0/0/1\n",
    " !\n",
    "!\n",
    "multicast-routing\n",
    " address-family ipv4\n",
    "  interface all enable\n",
    " !\n",
    "!\n",
    "\"\"\""
   ]
  },
  {
   "cell_type": "code",
   "execution_count": 5,
   "metadata": {},
   "outputs": [],
   "source": [
    "pe1_config_str = \"\"\"\n",
    "ssh server v2\n",
    "ssh server netconf\n",
    "netconf-yang agent ssh\n",
    "\n",
    "hostname PE1\n",
    "line console\n",
    " exec-timeout 0 0\n",
    " absolute-timeout 0\n",
    " session-timeout 0\n",
    "!\n",
    "line default\n",
    " exec-timeout 0 0\n",
    " absolute-timeout 0\n",
    " session-timeout 0\n",
    "!\n",
    " \n",
    "ipv4 unnumbered mpls traffic-eng Loopback0\n",
    "!\n",
    "interface Loopback0\n",
    " ipv4 address 10.0.0.3 255.255.255.255\n",
    "!\n",
    "interface FourHundredGigE0/0/0/0\n",
    " no shutdown\n",
    "!\n",
    "interface FourHundredGigE0/0/0/1\n",
    " description Connected_to_P1\n",
    " mtu 9216\n",
    " ipv4 address 10.20.7.2 255.255.255.0\n",
    " no shutdown\n",
    " !\n",
    "router ospf 10\n",
    " router-id 10.0.0.3\n",
    " area 0\n",
    "  interface FourHundredGigE0/0/0/0\n",
    "  interface FourHundredGigE0/0/0/1\n",
    "  interface Loopback0\n",
    "  !\n",
    " !\n",
    "!\n",
    "mpls oam\n",
    "!\n",
    "mpls ldp\n",
    " router-id 10.0.0.3\n",
    " interface FourHundredGigE0/0/0/0\n",
    " interface FourHundredGigE0/0/0/1\n",
    " !\n",
    "!\n",
    "multicast-routing\n",
    " address-family ipv4\n",
    "  interface all enable\n",
    " !\n",
    " \"\"\""
   ]
  },
  {
   "cell_type": "code",
   "execution_count": 6,
   "metadata": {},
   "outputs": [],
   "source": [
    "pe3_config_str = \"\"\"\n",
    "ssh server v2\n",
    "ssh server netconf\n",
    "netconf-yang agent ssh\n",
    "\n",
    "hostname PE3\n",
    "line console\n",
    " exec-timeout 0 0\n",
    " absolute-timeout 0\n",
    " session-timeout 0\n",
    "!\n",
    "line default\n",
    " exec-timeout 0 0\n",
    " absolute-timeout 0\n",
    " session-timeout 0\n",
    "!\n",
    " \n",
    "ipv4 unnumbered mpls traffic-eng Loopback0\n",
    "!\n",
    "interface Loopback0\n",
    " ipv4 address 10.0.0.9 255.255.255.255\n",
    "!\n",
    "interface FourHundredGigE0/0/0/0\n",
    " no shutdown\n",
    "!\n",
    "interface FourHundredGigE0/0/0/1\n",
    " description Connected_to_P3\n",
    " mtu 9216\n",
    " ipv4 address 10.21.7.2 255.255.255.0\n",
    " no shutdown\n",
    " !\n",
    "router ospf 10\n",
    " router-id 10.0.0.9\n",
    " area 0\n",
    "  interface FourHundredGigE0/0/0/0\n",
    "  interface FourHundredGigE0/0/0/1\n",
    "  interface Loopback0\n",
    "  !\n",
    " !\n",
    "!\n",
    "mpls oam\n",
    "!\n",
    "mpls ldp\n",
    " router-id 10.0.0.9\n",
    " interface FourHundredGigE0/0/0/0\n",
    " interface FourHundredGigE0/0/0/1\n",
    " !\n",
    "!\n",
    "multicast-routing\n",
    " address-family ipv4\n",
    "  interface all enable\n",
    " !\n",
    " \"\"\""
   ]
  },
  {
   "cell_type": "markdown",
   "metadata": {},
   "source": [
    "## <a name=\"step3\"></a>Design the Virtual Router Topology"
   ]
  },
  {
   "cell_type": "markdown",
   "metadata": {},
   "source": [
    ">This sets up the 4 router topology (spitfire_f)."
   ]
  },
  {
   "cell_type": "code",
   "execution_count": 8,
   "metadata": {},
   "outputs": [],
   "source": [
    "cfg = { 'simulation':\n",
    "         {'skip_auto_bringup': False, \n",
    "          'sim_dir': sim_dir, \n",
    "          'sim_host': 'localhost',\n",
    "          'sim_rel': '/opt/cisco/vxr2/latest',\n",
    "          'pyvxr_flags': {'port_file_timeout': 1200 }\n",
    "         },\n",
    "        'devices':\n",
    "        {'rp1': {'platform':'spitfire_f-baked',\n",
    "                'xr_port_redir': [22, 830],\n",
    "                'linecard_types': ['8201-sys'], \n",
    "                'data_ports': ['FourH0/0/0/0', 'FourH0/0/0/1'],\n",
    "                'xr_config' : p1_config_str,\n",
    "                'image': sim_image_global,\n",
    "                'vxr_sim_config': {\n",
    "                     'shelf': {\n",
    "                       'ConfigOvxr': ConfigOvxr_global,\n",
    "                       'ConfigEnableNgdp': ConfigEnableNgdp_global,\n",
    "                       'ConfigS1SdkVer': ConfigS1SdkVer_global,\n",
    "                       'ConfigS1NpsuiteVer': ConfigS1NpsuiteVer_global\n",
    "                     }\n",
    "                  }\n",
    "                },\n",
    "         'rp3': {'platform':'spitfire_f-baked',\n",
    "                'xr_port_redir': [22, 830],\n",
    "                'linecard_types': ['8201-sys'], \n",
    "                'data_ports': ['FourH0/0/0/0', 'FourH0/0/0/1'],\n",
    "                'xr_config' : p3_config_str,\n",
    "                'image': sim_image_global,\n",
    "                'vxr_sim_config': {\n",
    "                     'shelf': {\n",
    "                       'ConfigOvxr': ConfigOvxr_global,\n",
    "                       'ConfigEnableNgdp': ConfigEnableNgdp_global,\n",
    "                       'ConfigS1SdkVer': ConfigS1SdkVer_global,\n",
    "                       'ConfigS1NpsuiteVer': ConfigS1NpsuiteVer_global\n",
    "                     }\n",
    "                  }\n",
    "                },\n",
    "         'rpe1': {'platform':'spitfire_f-baked',\n",
    "                'xr_port_redir': [22, 830],\n",
    "                'linecard_types': ['8201-sys'],  \n",
    "                'data_ports': ['FourH0/0/0/0', 'FourH0/0/0/1'],\n",
    "                'xr_config' : pe1_config_str,\n",
    "                'image': sim_image_global,\n",
    "                'vxr_sim_config': {\n",
    "                     'shelf': {\n",
    "                       'ConfigOvxr': ConfigOvxr_global,\n",
    "                       'ConfigEnableNgdp': ConfigEnableNgdp_global,\n",
    "                       'ConfigS1SdkVer': ConfigS1SdkVer_global,\n",
    "                       'ConfigS1NpsuiteVer': ConfigS1NpsuiteVer_global\n",
    "                     }\n",
    "                  }\n",
    "                },\n",
    "         'rpe3': {'platform':'spitfire_f-baked',\n",
    "                'xr_port_redir': [22, 830],\n",
    "                'linecard_types': ['8201-sys'],  \n",
    "                'data_ports': ['FourH0/0/0/0', 'FourH0/0/0/1'],\n",
    "                'xr_config' : pe3_config_str,\n",
    "                'image': sim_image_global,\n",
    "                'vxr_sim_config': {\n",
    "                     'shelf': {\n",
    "                       'ConfigOvxr': ConfigOvxr_global,\n",
    "                       'ConfigEnableNgdp': ConfigEnableNgdp_global,\n",
    "                       'ConfigS1SdkVer': ConfigS1SdkVer_global,\n",
    "                       'ConfigS1NpsuiteVer': ConfigS1NpsuiteVer_global\n",
    "                     }\n",
    "                  }\n",
    "                },\n",
    "        },\n",
    "       'connections':\n",
    "           {'hubs':\n",
    "               {'hub570':['rp1.FourH0/0/0/0', 'rp3.FourH0/0/0/0'],\n",
    "               'hub571':['rpe1.FourH0/0/0/1', 'rp1.FourH0/0/0/1'],\n",
    "               'hub572':['rpe3.FourH0/0/0/1', 'rp3.FourH0/0/0/1']}\n",
    "           },\n",
    "      }\n",
    "\n"
   ]
  },
  {
   "cell_type": "markdown",
   "metadata": {},
   "source": [
    "## <a name=\"step4\"></a>Deploy the Configurations"
   ]
  },
  {
   "cell_type": "markdown",
   "metadata": {},
   "source": [
    ">Now we initialise the emulator with the previously defined configurations and topology (ie the **cfg** variable), then bring it up. The bring up can be slow, 10 minutes +."
   ]
  },
  {
   "cell_type": "code",
   "execution_count": 9,
   "metadata": {},
   "outputs": [
    {
     "name": "stderr",
     "output_type": "stream",
     "text": [
      "WARNING:pyvxr.vxr:Config not specified or not found. Will attempt to release slurm resources if reserved\n",
      "INFO:pyvxr.vxr:Extracting vxr version from '/opt/cisco/vxr2/latest/setup.sh' file.\n",
      "INFO:pyvxr.vxr_session:Starting a local bash session for user:vxr\n"
     ]
    },
    {
     "name": "stdout",
     "output_type": "stream",
     "text": [
      "Simulation starting. Please wait for the Sim status message. This may take 3-10 minutes.\n"
     ]
    },
    {
     "name": "stderr",
     "output_type": "stream",
     "text": [
      "INFO:pyvxr.sim:Launch: sim_dir:/nobackup/vxr/pyvxr/y90isrs7t2 sim_rel:/opt/cisco/vxr2/latest\n",
      "INFO:pyvxr.sim:Stopping previous simulation (if any)\n",
      "INFO:pyvxr.sim:Cleaning previous simulation (if any)\n",
      "INFO:pyvxr.sim:Starting vxr: 'sim --skiphomecheck -n '\n",
      "INFO:pyvxr.sim:Vxr up on host localhost\n",
      "INFO:pyvxr.vxr:Getting port vector files for:rp1, rp3, rpe1, rpe3\n",
      "INFO:pyvxr.console:rpe1:wait for XR login prompt (console output captured in vxr.out/logs/console.rpe1.log)\n",
      "INFO:pyvxr.console:rp1:wait for XR login prompt (console output captured in vxr.out/logs/console.rp1.log)\n",
      "INFO:pyvxr.console:rp3:wait for XR login prompt (console output captured in vxr.out/logs/console.rp3.log)\n",
      "INFO:pyvxr.console:rpe3:wait for XR login prompt (console output captured in vxr.out/logs/console.rpe3.log)\n",
      "INFO:pyvxr.console:rp1:entering new XR username 'cisco', password 'cisco123'\n",
      "INFO:pyvxr.console:rp1:entering XR username 'cisco', password 'cisco123'\n",
      "INFO:pyvxr.bringup:rp1:login successful\n",
      "INFO:pyvxr.bringup:rp1:wait for IOS XR RUN state\n",
      "INFO:pyvxr.bringup:rp1:run state RPs:1 (expected:1) LCs:0 (expected:0)\n",
      "INFO:pyvxr.bringup:rp1:all nodes reached IOS XR RUN state\n",
      "INFO:pyvxr.console:rp1:applying initial XR config (terminal width, etc)\n",
      "INFO:pyvxr.console:rp1:waiting for ztp and cvac to complete\n",
      "INFO:pyvxr.console:rp1:found ztp directory. Assuming ztp present\n",
      "INFO:pyvxr.console:rp1:waiting for ztp to complete\n",
      "INFO:pyvxr.console:rp1:ztp done\n",
      "INFO:pyvxr.console:rp3:entering new XR username 'cisco', password 'cisco123'\n",
      "INFO:pyvxr.console:rp3:entering XR username 'cisco', password 'cisco123'\n",
      "INFO:pyvxr.bringup:rp3:login successful\n",
      "INFO:pyvxr.bringup:rp3:wait for IOS XR RUN state\n",
      "INFO:pyvxr.bringup:rp3:run state RPs:1 (expected:1) LCs:0 (expected:0)\n",
      "INFO:pyvxr.bringup:rp3:all nodes reached IOS XR RUN state\n",
      "INFO:pyvxr.console:rp3:applying initial XR config (terminal width, etc)\n",
      "INFO:pyvxr.console:rp3:waiting for ztp and cvac to complete\n",
      "INFO:pyvxr.console:rp3:found ztp directory. Assuming ztp present\n",
      "INFO:pyvxr.console:rp3:waiting for ztp to complete\n",
      "INFO:pyvxr.console:rp3:ztp done\n",
      "INFO:pyvxr.console:rpe3:entering new XR username 'cisco', password 'cisco123'\n",
      "INFO:pyvxr.console:rpe3:entering XR username 'cisco', password 'cisco123'\n",
      "INFO:pyvxr.bringup:rpe3:login successful\n",
      "INFO:pyvxr.bringup:rpe3:wait for IOS XR RUN state\n",
      "INFO:pyvxr.console:rpe1:entering new XR username 'cisco', password 'cisco123'\n",
      "INFO:pyvxr.bringup:rpe3:run state RPs:1 (expected:1) LCs:0 (expected:0)\n",
      "INFO:pyvxr.bringup:rpe3:all nodes reached IOS XR RUN state\n",
      "INFO:pyvxr.console:rpe3:applying initial XR config (terminal width, etc)\n",
      "INFO:pyvxr.console:rpe3:waiting for ztp and cvac to complete\n",
      "INFO:pyvxr.console:rpe3:found ztp directory. Assuming ztp present\n",
      "INFO:pyvxr.console:rpe3:waiting for ztp to complete\n",
      "INFO:pyvxr.console:rpe3:ztp done\n",
      "INFO:pyvxr.console:rpe1:entering XR username 'cisco', password 'cisco123'\n",
      "WARNING:pyvxr.console:rpe3:Found an existing configuration session.Retrying in 30 seconds\n",
      "INFO:pyvxr.bringup:rpe1:login successful\n",
      "INFO:pyvxr.bringup:rpe1:wait for IOS XR RUN state\n",
      "INFO:pyvxr.bringup:rpe1:run state RPs:1 (expected:1) LCs:0 (expected:0)\n",
      "INFO:pyvxr.bringup:rpe1:all nodes reached IOS XR RUN state\n",
      "INFO:pyvxr.console:rpe1:applying initial XR config (terminal width, etc)\n",
      "INFO:pyvxr.console:rpe1:waiting for ztp and cvac to complete\n",
      "INFO:pyvxr.console:rpe1:found ztp directory. Assuming ztp present\n",
      "INFO:pyvxr.console:rpe1:waiting for ztp to complete\n",
      "INFO:pyvxr.console:rpe1:ztp done\n",
      "INFO:pyvxr.vxr:Setting up ssh tunnels on host 'localhost'\n",
      "INFO:pyvxr.ssh_tunnel:Configure mgmt interfaces before setting up ssh tunnels\n",
      "INFO:pyvxr.console:rpe3:need to configure mgmt interface MgmtEth0/RP0/CPU0/0\n",
      "INFO:pyvxr.console:rpe1:need to configure mgmt interface MgmtEth0/RP0/CPU0/0\n",
      "INFO:pyvxr.console:rp1:need to configure mgmt interface MgmtEth0/RP0/CPU0/0\n",
      "INFO:pyvxr.console:rp3:need to configure mgmt interface MgmtEth0/RP0/CPU0/0\n",
      "INFO:pyvxr.console:rpe1:mgmt interface configuration applied\n",
      "INFO:pyvxr.console:rp1:mgmt interface configuration applied\n",
      "INFO:pyvxr.console:rpe3:mgmt interface configuration applied\n",
      "INFO:pyvxr.console:rp3:mgmt interface configuration applied\n",
      "INFO:pyvxr.console:rpe1:mgmt interface up (ip:192.168.254.66)\n",
      "INFO:pyvxr.console:rp1:mgmt interface up (ip:192.168.254.11)\n",
      "INFO:pyvxr.console:rpe3:mgmt interface up (ip:192.168.254.20)\n",
      "INFO:pyvxr.console:rp3:mgmt interface up (ip:192.168.254.142)\n",
      "INFO:pyvxr.vxr_session:Starting a local bash session for user:vxr\n",
      "INFO:pyvxr.vxr_session:Starting a local bash session for user:vxr\n",
      "INFO:pyvxr.vxr_session:Starting a local bash session for user:vxr\n",
      "INFO:pyvxr.vxr_session:Starting a local bash session for user:vxr\n",
      "INFO:pyvxr.ssh_tunnel:rp3:Setting up ssh tunnels for port(s) [22, 830]\n",
      "INFO:pyvxr.ssh_tunnel:rp1:Setting up ssh tunnels for port(s) [22, 830]\n",
      "INFO:pyvxr.ssh_tunnel:rpe3:Setting up ssh tunnels for port(s) [22, 830]\n",
      "INFO:pyvxr.ssh_tunnel:rpe1:Setting up ssh tunnels for port(s) [22, 830]\n",
      "INFO:pyvxr.bringup:rp1:applying XR config\n",
      "INFO:pyvxr.bringup:rp3:applying XR config\n",
      "INFO:pyvxr.bringup:rpe1:applying XR config\n",
      "INFO:pyvxr.bringup:rpe3:applying XR config\n",
      "INFO:pyvxr.vxr:Sim up\n",
      "INFO:pyvxr.vxr:Getting sim status from localhost:/nobackup/vxr/pyvxr/y90isrs7t2\n"
     ]
    },
    {
     "name": "stdout",
     "output_type": "stream",
     "text": [
      "Sim status:  {'localhost': 'running'}\n"
     ]
    }
   ],
   "source": [
    "sim.clean()\n",
    "print(\"Simulation starting. Please wait for the Sim status message. This may take 3-10 minutes.\")\n",
    "try:\n",
    "    sim.start(cfg)\n",
    "    status = sim.status()\n",
    "    print(\"Sim status: \", status)\n",
    "except Exception as err:\n",
    "    print(\"Sim launch failed (%s)\" % str(err))"
   ]
  },
  {
   "cell_type": "code",
   "execution_count": 10,
   "metadata": {},
   "outputs": [],
   "source": [
    "# Defining two little helpers to obtain the telnet and ssh ip addresses and ports to the routers.\n",
    "\n",
    "def get_telnet_cmd(sim, router):\n",
    "    \"\"\"Get a telnet command to a router in a VXR simulation.\n",
    "    Keyword arguments:\n",
    "    sim -- an instance of the Vxr object\n",
    "    router -- the router name in the simulation\n",
    "    \"\"\"\n",
    "    console_ports = sim.ports()\n",
    "    return \"telnet \" + str(console_ports[router]['HostAgent']) + ' ' + str(console_ports[router]['serial0'])\n",
    "\n",
    "def get_ssh_cmd(sim, device, is_server=False):\n",
    "    \"\"\"Get a telnet command to a router in a VXR simulation\n",
    "    Keyword arguments:\n",
    "    sim -- an instance of the Vxr object\n",
    "    router -- the router name in the simulation\n",
    "    \"\"\"\n",
    "    console_ports = sim.ports()\n",
    "    if (is_server):\n",
    "        return \"ssh root@\" + str(console_ports[device]['HostAgent']) + ' -p' + str(console_ports[device]['xr_redir22'])\n",
    "    else:\n",
    "        return \"ssh cisco@\" + str(console_ports[device]['HostAgent']) + ' -p' + str(console_ports[device]['xr_redir22'])"
   ]
  },
  {
   "cell_type": "markdown",
   "metadata": {},
   "source": [
    ">At this point, console access to the router is available. Optionally, you can access the simulated router consoles directly from your laptop  through telnet or ssh."
   ]
  },
  {
   "cell_type": "code",
   "execution_count": 11,
   "metadata": {},
   "outputs": [
    {
     "name": "stdout",
     "output_type": "stream",
     "text": [
      "Consoles can be reached by:\n",
      "telnet 172.17.0.2 39210 \n",
      " telnet 172.17.0.2 41988 \n",
      " telnet 172.17.0.2 43910 \n",
      " telnet 172.17.0.2 37439\n",
      "or better:\n",
      "ssh cisco@172.17.0.2 -p63075 \n",
      " ssh cisco@172.17.0.2 -p64956 \n",
      " ssh cisco@172.17.0.2 -p64689 \n",
      " ssh cisco@172.17.0.2 -p65443\n",
      "The password is cisco123\n"
     ]
    }
   ],
   "source": [
    "print('Consoles can be reached by:')\n",
    "print(get_telnet_cmd(sim, 'rp1'), '\\n', get_telnet_cmd(sim, 'rp3'), '\\n', get_telnet_cmd(sim, 'rpe1'),  '\\n', get_telnet_cmd(sim, 'rpe3'))\n",
    "print('or better:')\n",
    "print(get_ssh_cmd(sim, 'rp1'), '\\n', get_ssh_cmd(sim, 'rp3'), '\\n', get_ssh_cmd(sim, 'rpe1'),  '\\n', get_ssh_cmd(sim, 'rpe3'))\n",
    "print('The password is cisco123')"
   ]
  },
  {
   "cell_type": "markdown",
   "metadata": {},
   "source": [
    "> You can either open your terminal and directly access the consoles of the routers or you can just continue playing the next steps and access the router consoles from this notebook."
   ]
  },
  {
   "cell_type": "markdown",
   "metadata": {},
   "source": [
    "### Verify the Features"
   ]
  },
  {
   "cell_type": "code",
   "execution_count": 12,
   "metadata": {},
   "outputs": [],
   "source": [
    "import telnetlib\n",
    "console_ports = sim.ports()\n",
    "loginpe1 = telnetlib.Telnet(str(console_ports['rpe1']['HostAgent']) , str(console_ports['rpe1']['serial0']))\n",
    "loginp1 = telnetlib.Telnet(str(console_ports['rp1']['HostAgent']) , str(console_ports['rp1']['serial0']))\n",
    "loginp3 = telnetlib.Telnet(str(console_ports['rp3']['HostAgent']) , str(console_ports['rp3']['serial0']))\n",
    "loginpe3 = telnetlib.Telnet(str(console_ports['rpe3']['HostAgent']) , str(console_ports['rpe3']['serial0']))"
   ]
  },
  {
   "cell_type": "markdown",
   "metadata": {},
   "source": [
    "> Keep replaying this cell until the **State** of OSPF is **FULL/DR** "
   ]
  },
  {
   "cell_type": "code",
   "execution_count": 19,
   "metadata": {},
   "outputs": [
    {
     "name": "stdout",
     "output_type": "stream",
     "text": [
      "\n",
      "RP/0/RP0/CPU0:PE1#show ip ospf neighbor\n",
      "Fri Apr 23 05:50:46.060 UTC\n",
      "\n",
      "* Indicates MADJ interface\n",
      "# Indicates Neighbor awaiting BFD session up\n",
      "\n",
      "Neighbors for OSPF 10\n",
      "\n",
      "Neighbor ID     Pri   State           Dead Time   Address         Interface\n",
      "10.0.0.5        1     FULL/DR         00:00:34    10.20.7.1       FourHundredGigE0/0/0/1\n",
      "    Neighbor is up for 00:01:50\n",
      "\n",
      "Total neighbor count: 1\n",
      "RP/0/RP0/CPU0:PE1#\n"
     ]
    }
   ],
   "source": [
    "loginpe1.write(('''\n",
    "show ip ospf neighbor\n",
    "''').encode('ascii'))\n",
    "line = loginpe1.read_until(b'/r/n',4)\n",
    "print(line.decode())"
   ]
  },
  {
   "cell_type": "code",
   "execution_count": 20,
   "metadata": {},
   "outputs": [
    {
     "name": "stdout",
     "output_type": "stream",
     "text": [
      "\n",
      "RP/0/RP0/CPU0:PE1#show mpls ldp neighbor\n",
      "Fri Apr 23 05:50:52.147 UTC\n",
      "\n",
      "Peer LDP Identifier: 10.0.0.5:0\n",
      "  TCP connection: 10.0.0.5:21199 - 10.0.0.3:646\n",
      "  Graceful Restart: No\n",
      "  Session Holdtime: 180 sec\n",
      "  State: Oper; Msgs sent/rcvd: 12/12; Downstream-Unsolicited\n",
      "  Up time: 00:01:25\n",
      "  LDP Discovery Sources:\n",
      "    IPv4: (1)\n",
      "      FourHundredGigE0/0/0/1\n",
      "    IPv6: (0)\n",
      "  Addresses bound to this peer:\n",
      "    IPv4: (4)\n",
      "      10.0.0.5       10.5.7.1       10.20.7.1      192.168.254.11  \n",
      "    IPv6: (0)\n",
      "\n",
      "RP/0/RP0/CPU0:PE1#\n"
     ]
    }
   ],
   "source": [
    "loginpe1.write(('''\n",
    "show mpls ldp neighbor\n",
    "''').encode('ascii'))\n",
    "line = loginpe1.read_until(b'/r/n',2)\n",
    "print(line.decode())"
   ]
  },
  {
   "cell_type": "code",
   "execution_count": 21,
   "metadata": {},
   "outputs": [
    {
     "name": "stdout",
     "output_type": "stream",
     "text": [
      "\n",
      "RP/0/RP0/CPU0:P1#show ip ospf neighbor\n",
      "Fri Apr 23 05:50:54.042 UTC\n",
      "\n",
      "* Indicates MADJ interface\n",
      "# Indicates Neighbor awaiting BFD session up\n",
      "\n",
      "Neighbors for OSPF 10\n",
      "\n",
      "Neighbor ID     Pri   State           Dead Time   Address         Interface\n",
      "10.0.0.7        1     FULL/DR         00:00:32    10.5.7.2        FourHundredGigE0/0/0/0\n",
      "    Neighbor is up for 00:02:01\n",
      "10.0.0.3        1     FULL/BDR        00:00:32    10.20.7.2       FourHundredGigE0/0/0/1\n",
      "    Neighbor is up for 00:02:00\n",
      "\n",
      "Total neighbor count: 2\n",
      "RP/0/RP0/CPU0:P1#\n"
     ]
    }
   ],
   "source": [
    "loginp1.write(('''\n",
    "show ip ospf neighbor\n",
    "''').encode('ascii'))\n",
    "line = loginp1.read_until(b'/r/n',2)\n",
    "print(line.decode())"
   ]
  },
  {
   "cell_type": "code",
   "execution_count": 22,
   "metadata": {},
   "outputs": [
    {
     "name": "stdout",
     "output_type": "stream",
     "text": [
      "\n",
      "RP/0/RP0/CPU0:P1#show mpls ldp neighbor\n",
      "Fri Apr 23 05:50:56.050 UTC\n",
      "\n",
      "Peer LDP Identifier: 10.0.0.3:0\n",
      "  TCP connection: 10.0.0.3:646 - 10.0.0.5:21199\n",
      "  Graceful Restart: No\n",
      "  Session Holdtime: 180 sec\n",
      "  State: Oper; Msgs sent/rcvd: 12/12; Downstream-Unsolicited\n",
      "  Up time: 00:01:29\n",
      "  LDP Discovery Sources:\n",
      "    IPv4: (1)\n",
      "      FourHundredGigE0/0/0/1\n",
      "    IPv6: (0)\n",
      "  Addresses bound to this peer:\n",
      "    IPv4: (3)\n",
      "      10.0.0.3       10.20.7.2      192.168.254.66  \n",
      "    IPv6: (0)\n",
      "\n",
      "Peer LDP Identifier: 10.0.0.7:0\n",
      "  TCP connection: 10.0.0.7:23653 - 10.0.0.5:646\n",
      "  Graceful Restart: No\n",
      "  Session Holdtime: 180 sec\n",
      "  State: Oper; Msgs sent/rcvd: 12/12; Downstream-Unsolicited\n",
      "  Up time: 00:01:25\n",
      "  LDP Discovery Sources:\n",
      "    IPv4: (1)\n",
      "      FourHundredGigE0/0/0/0\n",
      "    IPv6: (0)\n",
      "  Addresses bound to this peer:\n",
      "    IPv4: (4)\n",
      "      10.0.0.7       10.5.7.2       10.21.7.1      192.168.254.142  \n",
      "    IPv6: (0)\n",
      "\n",
      "RP/0/RP0/CPU0:P1#\n"
     ]
    }
   ],
   "source": [
    "loginp1.write(('''\n",
    "show mpls ldp neighbor\n",
    "''').encode('ascii'))\n",
    "line = loginp1.read_until(b'/r/n',2)\n",
    "print(line.decode())"
   ]
  },
  {
   "cell_type": "markdown",
   "metadata": {},
   "source": [
    ">Once you are done with experimenting on the topology, you should bring down the emulator by executing the following steps:"
   ]
  },
  {
   "cell_type": "code",
   "execution_count": 23,
   "metadata": {},
   "outputs": [
    {
     "name": "stderr",
     "output_type": "stream",
     "text": [
      "INFO:pyvxr.vxr:Stopping sim on host localhost (dir /nobackup/vxr/pyvxr/y90isrs7t2)\n",
      "INFO:pyvxr.sim:Stopping previous simulation (if any)\n"
     ]
    }
   ],
   "source": [
    "sim.stop()"
   ]
  },
  {
   "cell_type": "code",
   "execution_count": 24,
   "metadata": {},
   "outputs": [
    {
     "name": "stderr",
     "output_type": "stream",
     "text": [
      "INFO:pyvxr.vxr:Cleaning sim on host localhost (dir /nobackup/vxr/pyvxr/y90isrs7t2)\n",
      "INFO:pyvxr.sim:Stopping previous simulation (if any)\n",
      "INFO:pyvxr.sim:Cleaning previous simulation (if any)\n"
     ]
    }
   ],
   "source": [
    "sim.clean()"
   ]
  },
  {
   "cell_type": "markdown",
   "metadata": {},
   "source": [
    "> Clean up the sim scratch-space - delete the sim directory "
   ]
  },
  {
   "cell_type": "code",
   "execution_count": 25,
   "metadata": {},
   "outputs": [],
   "source": [
    "shutil.rmtree(sim_dir)"
   ]
  },
  {
   "cell_type": "code",
   "execution_count": null,
   "metadata": {},
   "outputs": [],
   "source": []
  }
 ],
 "metadata": {
  "kernelspec": {
   "display_name": "Python 3",
   "language": "python",
   "name": "python3"
  },
  "language_info": {
   "codemirror_mode": {
    "name": "ipython",
    "version": 3
   },
   "file_extension": ".py",
   "mimetype": "text/x-python",
   "name": "python",
   "nbconvert_exporter": "python",
   "pygments_lexer": "ipython3",
   "version": "3.8.8"
  }
 },
 "nbformat": 4,
 "nbformat_minor": 4
}
