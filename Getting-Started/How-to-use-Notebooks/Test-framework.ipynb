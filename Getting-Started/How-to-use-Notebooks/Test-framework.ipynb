{
 "cells": [
  {
   "cell_type": "markdown",
   "metadata": {},
   "source": [
    "# Using Pyvxr Test Framework within Notebooks\n",
    "###### <sup>Author: Sarah Samuel (sasamuel@cisco.com). </sup>"
   ]
  },
  {
   "cell_type": "markdown",
   "metadata": {},
   "source": [
    "You can easily bring up a simulated network with preset configurations using the sample YAML files provided in this folder."
   ]
  },
  {
   "cell_type": "markdown",
   "metadata": {},
   "source": [
    "### Start a clean simulation \n",
    "For this example we will create a simulation with 5 routers and 2 traffic generator ports using the corresponding YAML file [5Routers_2TgnPorts.yaml](5Routers_2TgnPorts.yaml) as shown below."
   ]
  },
  {
   "cell_type": "code",
   "execution_count": 25,
   "metadata": {},
   "outputs": [
    {
     "name": "stdout",
     "output_type": "stream",
     "text": [
      "03:27:59 INFO v1.0.2 2021-02-10 03:27 output_dir:vxr.out\n",
      "03:27:59 INFO vxr-amd-03:/nobackup/sasamuel/notebooks/spitfire_notebooks/Put-Technology-to-Work/QoS\n",
      "03:27:59 INFO Yaml:5Routers_2TgnPorts.yaml\n",
      "03:28:00 INFO Extracting vxr version from '/opt/cisco/vxr2/latest/setup.sh' file.\n",
      "03:28:00 INFO Starting a local bash session for user:cafyops\n",
      "03:28:00 INFO Launch: sim_dir:. sim_rel:/opt/cisco/vxr2/latest\n",
      "03:28:02 INFO Stopping previous simulation (if any)\n",
      "03:28:03 INFO Cleaning previous simulation (if any)\n",
      "03:28:03 INFO Starting vxr: 'sim --skiphomecheck -n '\n",
      "03:28:07 INFO Vxr up on host localhost\n",
      "03:28:07 INFO Getting port vector files for:rce1, rce2, rp1, rpe1, rpe2, trex\n",
      "/bin/cp: cannot stat './rce1/PortVector.txt': No such file or directory\n",
      "/bin/cp: cannot stat './rce2/PortVector.txt': No such file or directory\n",
      "/bin/cp: cannot stat './rp1/PortVector.txt': No such file or directory\n",
      "/bin/cp: cannot stat './rpe2/PortVector.txt': No such file or directory\n",
      "/bin/cp: cannot stat './rpe1/PortVector.txt': No such file or directory\n",
      "/bin/cp: cannot stat './trex/PortVector.txt': No such file or directory\n",
      "03:29:10 INFO rp1:wait for XR login prompt (console output captured in vxr.out/logs/console.rp1.log)\n",
      "03:29:10 INFO rpe2:wait for XR login prompt (console output captured in vxr.out/logs/console.rpe2.log)\n",
      "03:29:10 INFO rce2:wait for XR login prompt (console output captured in vxr.out/logs/console.rce2.log)\n",
      "03:29:11 INFO rce1:wait for XR login prompt (console output captured in vxr.out/logs/console.rce1.log)\n",
      "03:29:11 INFO rpe1:wait for XR login prompt (console output captured in vxr.out/logs/console.rpe1.log)\n",
      "03:31:56 INFO rp1:entering new XR username 'cisco', password 'cisco123'\n",
      "03:31:58 INFO rp1:entering XR username 'cisco', password 'cisco123'\n",
      "03:31:59 INFO rp1:login successful\n",
      "03:31:59 INFO rp1:wait for IOS XR RUN state\n",
      "03:31:59 INFO rp1:run state RPs:1 (expected:1) LCs:0 (expected:0)\n",
      "03:31:59 INFO rp1:all nodes reached IOS XR RUN state\n",
      "03:31:59 INFO rp1:applying initial XR config (terminal width, etc)\n",
      "03:31:59 INFO rp1:waiting for ztp and cvac to complete\n",
      "03:32:00 INFO rp1:found ztp directory. Assuming ztp present\n",
      "03:32:00 INFO rp1:waiting for ztp to complete\n",
      "03:32:00 INFO rp1:ztp done\n",
      "03:32:05 INFO rpe1:entering new XR username 'cisco', password 'cisco123'\n",
      "03:32:07 INFO rpe1:entering XR username 'cisco', password 'cisco123'\n",
      "03:32:08 INFO rpe1:login successful\n",
      "03:32:08 INFO rpe1:wait for IOS XR RUN state\n",
      "03:32:08 INFO rpe1:run state RPs:1 (expected:1) LCs:0 (expected:0)\n",
      "03:32:08 INFO rpe1:all nodes reached IOS XR RUN state\n",
      "03:32:08 INFO rpe1:applying initial XR config (terminal width, etc)\n",
      "03:32:08 INFO rpe1:waiting for ztp and cvac to complete\n",
      "03:32:08 INFO rpe1:found ztp directory. Assuming ztp present\n",
      "03:32:08 INFO rpe1:waiting for ztp to complete\n",
      "03:32:09 INFO rpe1:ztp done\n",
      "03:32:22 INFO rce1:entering new XR username 'cisco', password 'cisco123'\n",
      "03:32:24 INFO rce1:entering XR username 'cisco', password 'cisco123'\n",
      "03:32:24 INFO rce2:entering new XR username 'cisco', password 'cisco123'\n",
      "03:32:25 INFO rce1:login successful\n",
      "03:32:25 INFO rce1:wait for IOS XR RUN state\n",
      "03:32:26 INFO rce2:entering XR username 'cisco', password 'cisco123'\n",
      "03:32:26 INFO rce1:run state RPs:1 (expected:1) LCs:0 (expected:0)\n",
      "03:32:26 INFO rce1:all nodes reached IOS XR RUN state\n",
      "03:32:26 INFO rce1:applying initial XR config (terminal width, etc)\n",
      "03:32:26 INFO rce1:waiting for ztp and cvac to complete\n",
      "03:32:26 INFO rce1:found ztp directory. Assuming ztp present\n",
      "03:32:26 INFO rce1:waiting for ztp to complete\n",
      "03:32:26 INFO rce1:ztp done\n",
      "03:32:27 INFO rce2:login successful\n",
      "03:32:27 INFO rce2:wait for IOS XR RUN state\n",
      "03:32:27 INFO rce2:run state RPs:1 (expected:1) LCs:0 (expected:0)\n",
      "03:32:27 INFO rce2:all nodes reached IOS XR RUN state\n",
      "03:32:27 INFO rce2:applying initial XR config (terminal width, etc)\n",
      "03:32:27 INFO rce2:waiting for ztp and cvac to complete\n",
      "03:32:28 INFO rce2:found ztp directory. Assuming ztp present\n",
      "03:32:28 INFO rce2:waiting for ztp to complete\n",
      "03:32:28 INFO rce2:ztp done\n",
      "03:32:33 INFO rpe2:entering new XR username 'cisco', password 'cisco123'\n",
      "03:32:35 INFO rpe2:entering XR username 'cisco', password 'cisco123'\n",
      "03:32:37 INFO rpe2:login successful\n",
      "03:32:37 INFO rpe2:wait for IOS XR RUN state\n",
      "03:32:37 INFO rpe2:run state RPs:1 (expected:1) LCs:0 (expected:0)\n",
      "03:32:37 INFO rpe2:all nodes reached IOS XR RUN state\n",
      "03:32:37 INFO rpe2:applying initial XR config (terminal width, etc)\n",
      "03:32:37 INFO rpe2:waiting for ztp and cvac to complete\n",
      "03:32:38 INFO rpe2:found ztp directory. Assuming ztp present\n",
      "03:32:38 INFO rpe2:waiting for ztp to complete\n",
      "03:32:38 INFO rpe2:ztp done\n",
      "03:32:40 INFO Setting up ssh tunnels on host 'localhost'\n",
      "03:32:43 INFO Configure mgmt interfaces before setting up ssh tunnels\n",
      "03:32:43 INFO trex:login root/cisco123\n",
      "03:32:44 INFO trex:sending return\n",
      "03:32:44 INFO trex:entering linux username 'root'\n",
      "03:32:44 INFO trex:entering linux password 'cisco123'\n",
      "03:32:44 INFO rpe1:will configure mgmt interface\n",
      "03:32:44 INFO rp1:will configure mgmt interface\n",
      "03:32:44 INFO rce1:will configure mgmt interface\n",
      "03:32:44 INFO rce2:will configure mgmt interface\n",
      "03:32:44 INFO rpe2:will configure mgmt interface\n",
      "03:32:44 INFO trex:reached Linux prompt. Reseting console\n",
      "03:32:45 INFO rpe1:mgmt interface configuration applied\n",
      "03:32:46 INFO rp1:mgmt interface configuration applied\n",
      "03:32:46 INFO rce1:mgmt interface configuration applied\n",
      "03:32:46 INFO rpe2:mgmt interface configuration applied\n",
      "03:32:46 INFO rce2:mgmt interface configuration applied\n",
      "03:32:47 INFO trex:mgmt interface up (ip:192.168.122.100)\n",
      "03:33:01 INFO rpe1:mgmt interface up (ip:192.168.122.34)\n",
      "03:33:01 INFO rp1:mgmt interface up (ip:192.168.122.97)\n",
      "03:33:01 INFO rce1:mgmt interface up (ip:192.168.122.224)\n",
      "03:33:02 INFO rpe2:mgmt interface up (ip:192.168.122.40)\n",
      "03:33:02 INFO rce2:mgmt interface up (ip:192.168.122.190)\n",
      "03:33:02 INFO Starting a local bash session for user:cafyops\n",
      "03:33:02 INFO Starting a local bash session for user:cafyops\n",
      "03:33:02 INFO Starting a local bash session for user:cafyops\n",
      "03:33:03 INFO Starting a local bash session for user:cafyops\n",
      "03:33:03 INFO Starting a local bash session for user:cafyops\n",
      "03:33:03 INFO Starting a local bash session for user:cafyops\n",
      "03:33:03 INFO rce1:Setting up ssh tunnels for port(s) [22, 161, 830]\n",
      "03:33:03 INFO rce2:Setting up ssh tunnels for port(s) [22, 161, 830]\n",
      "03:33:03 INFO rp1:Setting up ssh tunnels for port(s) [22, 161, 830]\n",
      "03:33:03 INFO rpe1:Setting up ssh tunnels for port(s) [22, 161, 830]\n",
      "03:33:03 INFO trex:Setting up ssh tunnels for port(s) [21, 22, 23, 50, 53, 80]\n",
      "03:33:03 INFO rpe2:Setting up ssh tunnels for port(s) [22, 161, 830]\n",
      "03:33:24 INFO rce1:Setting up socat UDP tunnel for XR port 161\n",
      "03:33:24 INFO rce2:Setting up socat UDP tunnel for XR port 161\n",
      "03:33:24 INFO rpe1:Setting up socat UDP tunnel for XR port 161\n",
      "03:33:24 INFO rp1:Setting up socat UDP tunnel for XR port 161\n",
      "03:33:24 INFO rpe2:Setting up socat UDP tunnel for XR port 161\n",
      "03:34:06 INFO rce1:applying XR config\n",
      "03:34:06 INFO rce2:applying XR config\n",
      "03:34:06 INFO rp1:applying XR config\n",
      "03:34:06 INFO rpe1:applying XR config\n",
      "03:34:06 INFO rpe2:applying XR config\n",
      "03:34:16 INFO Sim up\n"
     ]
    }
   ],
   "source": [
    "!/opt/cisco/pyvxr/pyvxr-latest/vxr.py start 5Routers_2TgnPorts.yaml"
   ]
  },
  {
   "cell_type": "markdown",
   "metadata": {},
   "source": [
    "> To know more operations that can be done with the emulator, use the -h option as shown in the following code cell."
   ]
  },
  {
   "cell_type": "code",
   "execution_count": 26,
   "metadata": {},
   "outputs": [
    {
     "name": "stdout",
     "output_type": "stream",
     "text": [
      "usage: vxr.py [-h] [--version]\n",
      "              {start,clean,consoles,stop,ports,restart,sim-info,sim-check,status,logs,reconnect,toxml,vcpu-count,tgngui,oir,save-xr-config,restore-xr-config,nsim-log,user_ctl,help}\n",
      "              ...\n",
      "\n",
      "optional arguments:\n",
      "  -h, --help            show this help message and exit\n",
      "  --version             show program's version number and exit\n",
      "\n",
      "Available subcommands:\n",
      "  {start,clean,consoles,stop,ports,restart,sim-info,sim-check,status,logs,reconnect,toxml,vcpu-count,tgngui,oir,save-xr-config,restore-xr-config,nsim-log,user_ctl,help}\n",
      "    start               Start a fresh simulation and 'bring up the topology\n",
      "    clean               Release all resources associated with sim session and\n",
      "                        clean all router state.\n",
      "    consoles            Connect to devices via serial console\n",
      "    stop                Shut down routers. Routers can be restarted with\n",
      "                        'restart' command.\n",
      "    ports               Dump serial console ports (serial0, serial1),\n",
      "                        redirects, etc\n",
      "    restart             Powercycle all or specific nodes\n",
      "    sim-info            Show simulation host and simulation directory\n",
      "    sim-check           Run simulation diagnostics\n",
      "    status              Show simulation status (running, ended, aborted, etc)\n",
      "    logs                Download log files from the simulation server\n",
      "    reconnect           Re-attempt auto-bringup (if enabled)\n",
      "    toxml               Generate VXR's sim-config.xml file from pyvxr yaml\n",
      "                        file\n",
      "    vcpu-count          Estimate the number of cpu cores required for a given\n",
      "                        topology\n",
      "    tgngui              Start a VNC viewer for TGN devices\n",
      "    oir                 Perform an OIR operation (spitfire_d only)\n",
      "    save-xr-config      Save XR config to a file\n",
      "    restore-xr-config   Restore XR config from a file\n",
      "    nsim-log            Set NSIM logging level\n",
      "    user_ctl            Perform VXR user control operation\n",
      "    help                Show help\n",
      "\n",
      "Launch and manage VXR simulation\n",
      "\n",
      "Typical usage\n",
      "-------------\n",
      "    # bringup topology\n",
      "    vxr.py start <TOPO_YAML_FILE>\n",
      "\n",
      "    # connect to serial consoles\n",
      "    vxr.py consoles\n",
      "\n",
      "    # clean up simulation and release resources\n",
      "    vxr.py clean\n",
      "\n",
      "    # For sample yaml topologies, check\n",
      "    # /opt/cisco/pyvxr/pyvxr-latest/examples\n",
      "    \n"
     ]
    }
   ],
   "source": [
    "!/opt/cisco/pyvxr/pyvxr-latest/vxr.py -h"
   ]
  },
  {
   "cell_type": "markdown",
   "metadata": {},
   "source": [
    "### Check status of the simulation"
   ]
  },
  {
   "cell_type": "code",
   "execution_count": 27,
   "metadata": {},
   "outputs": [
    {
     "name": "stdout",
     "output_type": "stream",
     "text": [
      "{\"localhost\": \"running\"}\n"
     ]
    }
   ],
   "source": [
    "!/opt/cisco/pyvxr/pyvxr-latest/vxr.py status"
   ]
  },
  {
   "cell_type": "markdown",
   "metadata": {},
   "source": [
    "### Obtain the ports to access the devices.\n",
    "You can run any of the IOS-XR commands or linux commmands in the console terminals."
   ]
  },
  {
   "cell_type": "code",
   "execution_count": 28,
   "metadata": {},
   "outputs": [
    {
     "name": "stdout",
     "output_type": "stream",
     "text": [
      "{\n",
      "  \"rce1\": {\n",
      "    \"HostAgent\": \"172.29.93.200\",\n",
      "    \"dual_rp\": false,\n",
      "    \"linecard_slots\": [\n",
      "      0\n",
      "    ],\n",
      "    \"monitor0\": 33268,\n",
      "    \"plugin\": \"sherman\",\n",
      "    \"redir0\": 0,\n",
      "    \"serial0\": 28110,\n",
      "    \"serial1\": 22450,\n",
      "    \"xr_mgmt_ip\": \"192.168.122.224\",\n",
      "    \"xr_redir161\": 64136,\n",
      "    \"xr_redir22\": 64692,\n",
      "    \"xr_redir830\": 60414\n",
      "  },\n",
      "  \"rce2\": {\n",
      "    \"HostAgent\": \"172.29.93.200\",\n",
      "    \"dual_rp\": false,\n",
      "    \"linecard_slots\": [\n",
      "      0\n",
      "    ],\n",
      "    \"monitor0\": 18174,\n",
      "    \"plugin\": \"sherman\",\n",
      "    \"redir0\": 0,\n",
      "    \"serial0\": 35476,\n",
      "    \"serial1\": 11324,\n",
      "    \"xr_mgmt_ip\": \"192.168.122.190\",\n",
      "    \"xr_redir161\": 62293,\n",
      "    \"xr_redir22\": 65153,\n",
      "    \"xr_redir830\": 61838\n",
      "  },\n",
      "  \"rp1\": {\n",
      "    \"HostAgent\": \"172.29.93.200\",\n",
      "    \"dual_rp\": false,\n",
      "    \"linecard_slots\": [\n",
      "      0\n",
      "    ],\n",
      "    \"monitor0\": 33132,\n",
      "    \"plugin\": \"sherman\",\n",
      "    \"redir0\": 0,\n",
      "    \"serial0\": 11441,\n",
      "    \"serial1\": 35928,\n",
      "    \"xr_mgmt_ip\": \"192.168.122.97\",\n",
      "    \"xr_redir161\": 63045,\n",
      "    \"xr_redir22\": 64324,\n",
      "    \"xr_redir830\": 63662\n",
      "  },\n",
      "  \"rpe1\": {\n",
      "    \"HostAgent\": \"172.29.93.200\",\n",
      "    \"dual_rp\": false,\n",
      "    \"linecard_slots\": [\n",
      "      0\n",
      "    ],\n",
      "    \"monitor0\": 9195,\n",
      "    \"plugin\": \"sherman\",\n",
      "    \"redir0\": 0,\n",
      "    \"serial0\": 20424,\n",
      "    \"serial1\": 35574,\n",
      "    \"xr_mgmt_ip\": \"192.168.122.34\",\n",
      "    \"xr_redir161\": 62950,\n",
      "    \"xr_redir22\": 63410,\n",
      "    \"xr_redir830\": 61670\n",
      "  },\n",
      "  \"rpe2\": {\n",
      "    \"HostAgent\": \"172.29.93.200\",\n",
      "    \"dual_rp\": false,\n",
      "    \"linecard_slots\": [\n",
      "      0\n",
      "    ],\n",
      "    \"monitor0\": 19219,\n",
      "    \"plugin\": \"sherman\",\n",
      "    \"redir0\": 0,\n",
      "    \"serial0\": 20840,\n",
      "    \"serial1\": 24095,\n",
      "    \"xr_mgmt_ip\": \"192.168.122.40\",\n",
      "    \"xr_redir161\": 62907,\n",
      "    \"xr_redir22\": 63351,\n",
      "    \"xr_redir830\": 63749\n",
      "  },\n",
      "  \"trex\": {\n",
      "    \"HostAgent\": \"172.29.93.200\",\n",
      "    \"dual_rp\": false,\n",
      "    \"linecard_slots\": [\n",
      "      0\n",
      "    ],\n",
      "    \"monitor0\": 16213,\n",
      "    \"plugin\": \"x86_64\",\n",
      "    \"serial0\": 22780,\n",
      "    \"serial1\": 25222,\n",
      "    \"xr_mgmt_ip\": \"192.168.122.100\",\n",
      "    \"xr_redir21\": 60428,\n",
      "    \"xr_redir22\": 61890,\n",
      "    \"xr_redir23\": 62800,\n",
      "    \"xr_redir50\": 60774,\n",
      "    \"xr_redir53\": 63341,\n",
      "    \"xr_redir80\": 65067\n",
      "  }\n",
      "}\n"
     ]
    }
   ],
   "source": [
    "!/opt/cisco/pyvxr/pyvxr-latest/vxr.py ports"
   ]
  },
  {
   "cell_type": "markdown",
   "metadata": {},
   "source": [
    "### Save the IOS-XR configurations to a file"
   ]
  },
  {
   "cell_type": "code",
   "execution_count": 29,
   "metadata": {},
   "outputs": [
    {
     "name": "stdout",
     "output_type": "stream",
     "text": [
      "03:36:02 INFO v1.0.2 2021-02-10 03:36 output_dir:vxr.out\n",
      "03:36:02 INFO vxr-amd-03:/nobackup/sasamuel/notebooks/spitfire_notebooks/Put-Technology-to-Work/QoS\n",
      "03:36:02 INFO Starting a local bash session for user:cafyops\n",
      "03:36:03 INFO Saving XR config for 'rce1' device \n",
      "03:36:03 INFO Saving XR config for 'rp1' device \n",
      "03:36:03 INFO Saving XR config for 'rce2' device \n",
      "03:36:03 INFO Saving XR config for 'rpe2' device \n",
      "03:36:03 INFO Saving XR config for 'rpe1' device \n",
      "03:36:03 INFO rce2:wait for XR login prompt (console output captured in vxr.out/logs/console.rce2.log)\n",
      "03:36:03 INFO rpe1:wait for XR login prompt (console output captured in vxr.out/logs/console.rpe1.log)\n",
      "03:36:03 INFO rpe2:wait for XR login prompt (console output captured in vxr.out/logs/console.rpe2.log)\n",
      "03:36:03 INFO rce1:wait for XR login prompt (console output captured in vxr.out/logs/console.rce1.log)\n",
      "03:36:03 INFO rp1:wait for XR login prompt (console output captured in vxr.out/logs/console.rp1.log)\n",
      "03:36:05 INFO rpe1:saved running config\n",
      "03:36:05 INFO rce2:saved running config\n",
      "03:36:05 INFO rce1:saved running config\n",
      "03:36:05 INFO rp1:saved running config\n",
      "03:36:06 INFO rpe2:saved running config\n",
      "03:36:07 WARN scp failed (scp -o StrictHostKeyChecking=no -o UserKnownHostsFile=/dev/null -P 64692 'cisco@localhost:/disk0:/running-config' vxr.out/running-config.rce1 failed with exit status 1  \n",
      "running-config                                100% 2556    54.9KB/s   00:00    \n",
      "Connection to localhost closed by remote host.\n",
      ")\n",
      "03:36:08 WARN scp failed (scp -o StrictHostKeyChecking=no -o UserKnownHostsFile=/dev/null -P 65153 'cisco@localhost:/disk0:/running-config' vxr.out/running-config.rce2 failed with exit status 1  \n",
      "running-config                                100% 2476    53.6KB/s   00:00    \n",
      "Connection to localhost closed by remote host.\n",
      ")\n",
      "03:36:09 WARN scp failed (scp -o StrictHostKeyChecking=no -o UserKnownHostsFile=/dev/null -P 64324 'cisco@localhost:/disk0:/running-config' vxr.out/running-config.rp1 failed with exit status 1  \n",
      "running-config                                100% 2730    61.9KB/s   00:00    \n",
      "Connection to localhost closed by remote host.\n",
      ")\n",
      "03:36:10 WARN scp failed (scp -o StrictHostKeyChecking=no -o UserKnownHostsFile=/dev/null -P 63410 'cisco@localhost:/disk0:/running-config' vxr.out/running-config.rpe1 failed with exit status 1  \n",
      "running-config                                100% 2874    62.2KB/s   00:00    \n",
      "Connection to localhost closed by remote host.\n",
      ")\n",
      "03:36:11 WARN scp failed (scp -o StrictHostKeyChecking=no -o UserKnownHostsFile=/dev/null -P 63351 'cisco@localhost:/disk0:/running-config' vxr.out/running-config.rpe2 failed with exit status 1  \n",
      "running-config                                100% 2874    61.3KB/s   00:00    \n",
      "Connection to localhost closed by remote host.\n",
      ")\n",
      "03:36:11 INFO Saving XR running-config in 'xrcfg' file\n"
     ]
    }
   ],
   "source": [
    "!/opt/cisco/pyvxr/pyvxr-latest/vxr.py save-xr-config --save-restore-file xrcfg"
   ]
  },
  {
   "cell_type": "markdown",
   "metadata": {},
   "source": [
    "### Stop the simulation\n",
    "Once you are done experimenting on the topology, stop the simulation."
   ]
  },
  {
   "cell_type": "code",
   "execution_count": 30,
   "metadata": {},
   "outputs": [
    {
     "name": "stdout",
     "output_type": "stream",
     "text": [
      "03:36:23 INFO v1.0.2 2021-02-10 03:36 output_dir:vxr.out\n",
      "03:36:23 INFO vxr-amd-03:/nobackup/sasamuel/notebooks/spitfire_notebooks/Put-Technology-to-Work/QoS\n",
      "03:36:23 INFO Stopping sim on host localhost (dir .)\n",
      "03:36:23 INFO Starting a local bash session for user:cafyops\n",
      "03:36:24 INFO Stopping previous simulation (if any)\n"
     ]
    }
   ],
   "source": [
    "!/opt/cisco/pyvxr/pyvxr-latest/vxr.py stop"
   ]
  },
  {
   "cell_type": "markdown",
   "metadata": {},
   "source": [
    "### Clean simulation"
   ]
  },
  {
   "cell_type": "code",
   "execution_count": 31,
   "metadata": {},
   "outputs": [
    {
     "name": "stdout",
     "output_type": "stream",
     "text": [
      "03:36:33 INFO v1.0.2 2021-02-10 03:36 output_dir:vxr.out\n",
      "03:36:33 INFO vxr-amd-03:/nobackup/sasamuel/notebooks/spitfire_notebooks/Put-Technology-to-Work/QoS\n",
      "03:36:33 INFO Cleaning sim on host localhost (dir .)\n",
      "03:36:33 INFO Starting a local bash session for user:cafyops\n",
      "03:36:34 INFO Stopping previous simulation (if any)\n",
      "03:36:40 INFO Cleaning previous simulation (if any)\n"
     ]
    }
   ],
   "source": [
    "!/opt/cisco/pyvxr/pyvxr-latest/vxr.py clean"
   ]
  },
  {
   "cell_type": "code",
   "execution_count": null,
   "metadata": {},
   "outputs": [],
   "source": []
  }
 ],
 "metadata": {
  "kernelspec": {
   "display_name": "Python 3",
   "language": "python",
   "name": "python3"
  },
  "language_info": {
   "codemirror_mode": {
    "name": "ipython",
    "version": 3
   },
   "file_extension": ".py",
   "mimetype": "text/x-python",
   "name": "python",
   "nbconvert_exporter": "python",
   "pygments_lexer": "ipython3",
   "version": "3.6.12"
  }
 },
 "nbformat": 4,
 "nbformat_minor": 4
}
