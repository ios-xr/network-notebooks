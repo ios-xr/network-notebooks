{
 "cells": [
  {
   "cell_type": "markdown",
   "metadata": {},
   "source": [
    "# Notebook User Interface"
   ]
  },
  {
   "cell_type": "markdown",
   "metadata": {},
   "source": [
    "\n",
    "<b>Notebook opens in a browser and has a user friendly interface. Notebook is a document made of cells. These cells can contain code, narrative text, images, or videos. </b>\n",
    "\n",
    "<b>Cells in notebook are of three types − Code, Markdown and Raw. </b>\n",
    "\n",
    "\n",
    "* Code Cells: These cells conatin Python statements. When you run these cells, you'll view the result in an output cell (just below the code cell).\n",
    "\n",
    "* Markdown Cells: These cells contain text or images formatted using markdown language.\n"
   ]
  },
  {
   "cell_type": "markdown",
   "metadata": {},
   "source": [
    "![add](NBUI.png)\n"
   ]
  },
  {
   "cell_type": "markdown",
   "metadata": {},
   "source": [
    "<b>All actions in the Notebook are available in the menu bar and toolbar, which are both above the main Notebook area. All the folders in the repository are visible in the left pane.</b>\n"
   ]
  },
  {
   "cell_type": "markdown",
   "metadata": {},
   "source": [
    "![Menu](MTbar.png)"
   ]
  },
  {
   "cell_type": "markdown",
   "metadata": {},
   "source": [
    "Toolbar Option            |  Description\n",
    ":-------------------------:|:-------------------------:\n",
    "![Add Code](addcell.png)   |  Use the Add icon to add news cells\n",
    "![Play](play.png)          |  Use this Play icon to run the cells\n",
    "![Save](save.png)          |  Use this Save icon to run the cells\n",
    "![Cell Type](celltype.png) |  Use this to select the cell type"
   ]
  },
  {
   "cell_type": "markdown",
   "metadata": {},
   "source": [
    "# How to Use Notebooks?"
   ]
  },
  {
   "cell_type": "markdown",
   "metadata": {},
   "source": [
    "### Running your Code"
   ]
  },
  {
   "cell_type": "markdown",
   "metadata": {},
   "source": [
    "To run the code in a cell,\n",
    "\n",
    "1. Select the cell. (The blue bar on the left of the cell indicates the cell is selected.) \n",
    "\n",
    "2. From the Toolbar, press the Play icon."
   ]
  },
  {
   "cell_type": "markdown",
   "metadata": {},
   "source": [
    "<b>Example 1: Try running the below code cell. You can observe the output displayed below the code cell:</b>"
   ]
  },
  {
   "cell_type": "code",
   "execution_count": 1,
   "metadata": {},
   "outputs": [
    {
     "name": "stdout",
     "output_type": "stream",
     "text": [
      "******View the output here******\n",
      " Welcome to Notebook.\n"
     ]
    }
   ],
   "source": [
    "print (\"******View the output here******\")\n",
    "print (\" Welcome to Notebook.\")"
   ]
  },
  {
   "cell_type": "markdown",
   "metadata": {},
   "source": [
    "<b>Example 2: Try running the below code cell to clean the SIM. You can observe the output displayed below the code cell:</b>"
   ]
  },
  {
   "cell_type": "code",
   "execution_count": 6,
   "metadata": {},
   "outputs": [
    {
     "name": "stderr",
     "output_type": "stream",
     "text": [
      "INFO:pyvxr.vxr:v1.0.3 2021-02-09 01:37 output_dir:vxr.out\n",
      "INFO:pyvxr.vxr:vxr-amd-03:/nobackup/annag/spitfire_notebooks/Getting-Started/2-How-to-use-Notebooks\n",
      "WARNING:pyvxr.vxr:Config not specified or not found. Will attempt to release slurm resources if reserved\n"
     ]
    },
    {
     "name": "stdout",
     "output_type": "stream",
     "text": [
      "******View the output here******\n",
      "3.8.5 (default, Sep  4 2020, 07:30:14) \n",
      "[GCC 7.3.0]\n",
      "Sim clean: Done\n"
     ]
    }
   ],
   "source": [
    "print (\"******View the output here******\")\n",
    "from pyvxr.vxr import Vxr\n",
    "from pathlib import Path\n",
    "\n",
    "import sys\n",
    "import os\n",
    "import pexpect\n",
    "\n",
    "print(sys.version)\n",
    "import logging\n",
    "logging.basicConfig(level=logging.INFO) \n",
    "\n",
    "sim = Vxr()\n",
    "sim.no_image_copy=True\n",
    "sim.clean()\n",
    "print(\"Sim clean: Done\")\n"
   ]
  },
  {
   "cell_type": "markdown",
   "metadata": {},
   "source": [
    "### Customize the existing code"
   ]
  },
  {
   "cell_type": "markdown",
   "metadata": {},
   "source": [
    "<b>To customize the code,  </b>\n",
    "\n",
    "1. Select the cell.\n",
    "2. Update the configuration.\n",
    "3. From the Toolbar, press the Play icon."
   ]
  },
  {
   "cell_type": "markdown",
   "metadata": {},
   "source": [
    "<b>Example: Try changing the text and run the below code cell. You can observe the output displayed below the code cell:</b>"
   ]
  },
  {
   "cell_type": "code",
   "execution_count": 7,
   "metadata": {},
   "outputs": [
    {
     "name": "stdout",
     "output_type": "stream",
     "text": [
      "******View the output here******\n",
      " Welcome to Notebook. You can update this text \n"
     ]
    }
   ],
   "source": [
    "print (\"******View the output here******\")\n",
    "print (\" Welcome to Notebook. You can update this text \")"
   ]
  },
  {
   "cell_type": "markdown",
   "metadata": {},
   "source": [
    "### Add your code"
   ]
  },
  {
   "cell_type": "markdown",
   "metadata": {},
   "source": [
    "To add your code,\n",
    "\n",
    "1. From the Toolbar, press the Add icon.\n",
    "2. From the Toolbar, Select cell type as <b>Code</b>. (To add text, select the cell type as Markdown.)\n",
    "3. Add your code.\n",
    "4. From the Toolbar, press the add icon."
   ]
  },
  {
   "cell_type": "markdown",
   "metadata": {},
   "source": [
    "<b>Example: Create a code cell and add the following code to view the video: </b>\n",
    "\n",
    "from IPython.display import YouTubeVideo\n",
    "\n",
    "YouTubeVideo('C09YpMKWh2Q')"
   ]
  },
  {
   "cell_type": "code",
   "execution_count": 8,
   "metadata": {},
   "outputs": [
    {
     "data": {
      "image/jpeg": "[encoded data removed]",
      "text/html": [
       "\n",
       "        <iframe\n",
       "            width=\"400\"\n",
       "            height=\"300\"\n",
       "            src=\"https://www.youtube.com/embed/C09YpMKWh2Q\"\n",
       "            frameborder=\"0\"\n",
       "            allowfullscreen\n",
       "        ></iframe>\n",
       "        "
      ],
      "text/plain": [
       "<IPython.lib.display.YouTubeVideo at 0x2aee94cb4bb0>"
      ]
     },
     "execution_count": 8,
     "metadata": {},
     "output_type": "execute_result"
    }
   ],
   "source": [
    "from IPython.display import YouTubeVideo\n",
    "\n",
    "YouTubeVideo('C09YpMKWh2Q')"
   ]
  },
  {
   "cell_type": "markdown",
   "metadata": {},
   "source": [
    "### Save your Changes"
   ]
  },
  {
   "cell_type": "markdown",
   "metadata": {},
   "source": [
    "Press the Save icon from the Toolbar."
   ]
  },
  {
   "cell_type": "markdown",
   "metadata": {},
   "source": []
  }
 ],
 "metadata": {
  "kernelspec": {
   "display_name": "Python 3",
   "language": "python",
   "name": "python3"
  },
  "language_info": {
   "codemirror_mode": {
    "name": "ipython",
    "version": 3
   },
   "file_extension": ".py",
   "mimetype": "text/x-python",
   "name": "python",
   "nbconvert_exporter": "python",
   "pygments_lexer": "ipython3",
   "version": "3.8.5"
  }
 },
 "nbformat": 4,
 "nbformat_minor": 4
}
