{
 "cells": [
  {
   "cell_type": "markdown",
   "metadata": {},
   "source": [
    "# Interaction with Emulator - Networks within Notebooks\n",
    "###### <sup>By Sarah Samuel (sasamuel@cisco.com) </sup>"
   ]
  },
  {
   "cell_type": "markdown",
   "metadata": {},
   "source": [
    "You can now experiment with networking features as and when you read about them. You no longer need multiple routers connected in specific topologies to try different feature configurations. The Cisco 8000 Emulator is a software simulation of Cisco hardware and go to great lengths to be true to the real hardware.  Using the pyvxr python client, the Cisco 8000 Emulator is invoked from within the notebooks in order to bring up a virtual network of routers.\n",
    "\n",
    "In [Notebook User Interface](Using_Notebooks.ipynb), you saw that a Jupyter notebook is a mixture of runnable code and notes written in markdown. This notebook  is very useful as an interactive document because you can now do each programatic step and experiment with the simulated network. \n",
    "\n",
    "Let's see how this actually happens. In this notebook, we will be using a 2 router back-to-back network topology, like below.\n",
    "\n",
    "**TOPOLOGY**\n",
    "\n",
    "<div>\n",
    "<img src=\"b2b_routers.png\" width=\"700\"/>\n",
    "</div>\n"
   ]
  },
  {
   "cell_type": "markdown",
   "metadata": {},
   "source": [
    ">In the cell below, the python module **b2b_routers** contains the code to set up the python enviroment, the simulated 2-router topology as depicted in the topology diagram along with the base configuration of the routers. The variable **sim** is initiailized to the pyvxr module. The **sim.init** and **sim.up** API calls initialize the 2 routers and brings up the network. For more informaiton on the router configuration and topology, refer to the **b2b_routers.py** file in this folder.\n",
    "\n",
    "> Play the below cell to bring up the network. Please note that the bring up can be slow, sometimes taking 10 minutes or more."
   ]
  },
  {
   "cell_type": "code",
   "execution_count": 1,
   "metadata": {},
   "outputs": [
    {
     "name": "stderr",
     "output_type": "stream",
     "text": [
      "INFO:pyvxr.vxr:v1.1.0 2021-04-23 05:35 output_dir:vxr.out\n",
      "INFO:pyvxr.vxr:b10e8f6b8c14:/home/vxr/notebooks/Getting-Started/How-to-use-Notebooks\n",
      "INFO:pyvxr.vxr:Extracting vxr version from '/opt/cisco/vxr2/latest/setup.sh' file.\n",
      "INFO:pyvxr.vxr_session:Starting a local bash session for user:vxr\n"
     ]
    },
    {
     "name": "stdout",
     "output_type": "stream",
     "text": [
      "3.8.8 (default, Apr 13 2021, 19:58:26) \n",
      "[GCC 7.3.0]\n",
      "Simulation starting. Please wait for the Sim status message. This may take 3-10 minutes.\n"
     ]
    },
    {
     "name": "stderr",
     "output_type": "stream",
     "text": [
      "INFO:pyvxr.sim:Launch: sim_dir:/nobackup/vxr/pyvxr/qkaxb19q56 sim_rel:/opt/cisco/vxr2/latest\n",
      "INFO:pyvxr.sim:Stopping previous simulation (if any)\n",
      "INFO:pyvxr.sim:Cleaning previous simulation (if any)\n",
      "INFO:pyvxr.sim:Starting vxr: 'sim --skiphomecheck -n '\n",
      "INFO:pyvxr.sim:Vxr up on host localhost\n",
      "INFO:pyvxr.vxr:Getting port vector files for:r1, r2\n",
      "INFO:pyvxr.console:r1:wait for XR login prompt (console output captured in vxr.out/logs/console.r1.log)\n",
      "INFO:pyvxr.console:r2:wait for XR login prompt (console output captured in vxr.out/logs/console.r2.log)\n",
      "INFO:pyvxr.console:r2:entering new XR username 'cisco', password 'cisco123'\n",
      "INFO:pyvxr.console:r2:entering XR username 'cisco', password 'cisco123'\n",
      "INFO:pyvxr.bringup:r2:login successful\n",
      "INFO:pyvxr.bringup:r2:wait for IOS XR RUN state\n",
      "INFO:pyvxr.bringup:r2:run state RPs:1 (expected:1) LCs:0 (expected:0)\n",
      "INFO:pyvxr.bringup:r2:all nodes reached IOS XR RUN state\n",
      "INFO:pyvxr.console:r2:applying initial XR config (terminal width, etc)\n",
      "INFO:pyvxr.console:r2:waiting for ztp and cvac to complete\n",
      "INFO:pyvxr.console:r2:found ztp directory. Assuming ztp present\n",
      "INFO:pyvxr.console:r2:waiting for ztp to complete\n",
      "INFO:pyvxr.console:r2:ztp done\n",
      "INFO:pyvxr.console:r1:entering new XR username 'cisco', password 'cisco123'\n",
      "INFO:pyvxr.console:r1:entering XR username 'cisco', password 'cisco123'\n",
      "INFO:pyvxr.bringup:r1:login successful\n",
      "INFO:pyvxr.bringup:r1:wait for IOS XR RUN state\n",
      "INFO:pyvxr.bringup:r1:run state RPs:1 (expected:1) LCs:0 (expected:0)\n",
      "INFO:pyvxr.bringup:r1:all nodes reached IOS XR RUN state\n",
      "INFO:pyvxr.console:r1:applying initial XR config (terminal width, etc)\n",
      "INFO:pyvxr.console:r1:waiting for ztp and cvac to complete\n",
      "INFO:pyvxr.console:r1:found ztp directory. Assuming ztp present\n",
      "INFO:pyvxr.console:r1:waiting for ztp to complete\n",
      "INFO:pyvxr.console:r1:ztp done\n",
      "INFO:pyvxr.vxr:Setting up ssh tunnels on host 'localhost'\n",
      "INFO:pyvxr.ssh_tunnel:Configure mgmt interfaces before setting up ssh tunnels\n",
      "INFO:pyvxr.console:r2:need to configure mgmt interface MgmtEth0/RP0/CPU0/0\n",
      "INFO:pyvxr.console:r1:need to configure mgmt interface MgmtEth0/RP0/CPU0/0\n",
      "INFO:pyvxr.console:r2:mgmt interface configuration applied\n",
      "INFO:pyvxr.console:r1:mgmt interface configuration applied\n",
      "INFO:pyvxr.console:r1:mgmt interface up (ip:192.168.254.209)\n",
      "INFO:pyvxr.console:r2:mgmt interface up (ip:192.168.254.4)\n",
      "INFO:pyvxr.vxr_session:Starting a local bash session for user:vxr\n",
      "INFO:pyvxr.vxr_session:Starting a local bash session for user:vxr\n",
      "INFO:pyvxr.ssh_tunnel:r1:Setting up ssh tunnels for port(s) [22, 23]\n",
      "INFO:pyvxr.ssh_tunnel:r2:Setting up ssh tunnels for port(s) [22, 23]\n",
      "INFO:pyvxr.bringup:r1:applying XR config\n",
      "INFO:pyvxr.bringup:r2:applying XR config\n",
      "INFO:pyvxr.vxr:Sim up\n",
      "INFO:pyvxr.vxr:Getting sim status from localhost:/nobackup/vxr/pyvxr/qkaxb19q56\n"
     ]
    },
    {
     "name": "stdout",
     "output_type": "stream",
     "text": [
      "Sim status:  {'localhost': 'running'}\n"
     ]
    }
   ],
   "source": [
    "from b2b_routers import *\n",
    "sim = Vxr()\n",
    "sim.no_image_copy=True\n",
    "\n",
    "print(\"Simulation starting. Please wait for the Sim status message. This may take 3-10 minutes.\")\n",
    "try:\n",
    "    sim.start(cfg)\n",
    "    status = sim.status()\n",
    "    print(\"Sim status: \", status)\n",
    "except Exception as err:\n",
    "    print(\"Sim launch failed (%s)\" % str(err))"
   ]
  },
  {
   "cell_type": "markdown",
   "metadata": {},
   "source": [
    "> At this point, console access to the routers is available. Play the below cell and obtain the telnet and ssh connection details of the routers. You can access the simulated router consoles directly from your laptop through telnet/ssh or you can just continue playing the subsequent code-cells of this notebook and watch the notebook access the telnet console and execute commands on the router."
   ]
  },
  {
   "cell_type": "code",
   "execution_count": 2,
   "metadata": {},
   "outputs": [
    {
     "name": "stdout",
     "output_type": "stream",
     "text": [
      "Consoles can be reached by:\n",
      "PE1: telnet 172.17.0.2 38095 \n",
      "PE2: telnet 172.17.0.2 44105\n",
      "or better:\n",
      "PE1: ssh cisco@172.17.0.2 -p60791 \n",
      "PE2: ssh cisco@172.17.0.2 -p61262\n",
      "The password is cisco123\n"
     ]
    }
   ],
   "source": [
    "print('Consoles can be reached by:')\n",
    "print('PE1:', get_telnet_cmd(sim, 'r1'), '\\nPE2:', get_telnet_cmd(sim, 'r2'))\n",
    "print('or better:')\n",
    "print('PE1:', get_ssh_cmd(sim, 'r1'), '\\nPE2:', get_ssh_cmd(sim, 'r2'))\n",
    "print('The password is cisco123')"
   ]
  },
  {
   "cell_type": "markdown",
   "metadata": {},
   "source": [
    "> When the below cell is played the notebook accesses the telnet consoles of the routers."
   ]
  },
  {
   "cell_type": "code",
   "execution_count": 3,
   "metadata": {},
   "outputs": [],
   "source": [
    "ports = sim.ports()\n",
    "loginpe1 = telnetlib.Telnet(str(ports['r1']['HostAgent']) , str(ports['r1']['serial0']))\n",
    "loginpe2 = telnetlib.Telnet(str(ports['r2']['HostAgent']) , str(ports['r2']['serial0']))"
   ]
  },
  {
   "cell_type": "markdown",
   "metadata": {},
   "source": [
    "> If you want to execute show commands on PE1, play the below cell. Edit the commands in red in the cell below and then play this cell once again to view the outputs of other show commands. If you want to execute commands on PE2, use **loginpe2** instead of **loginpe1**. The live output from the router's console is displayed beneath this cell. "
   ]
  },
  {
   "cell_type": "code",
   "execution_count": 4,
   "metadata": {},
   "outputs": [
    {
     "name": "stdout",
     "output_type": "stream",
     "text": [
      "\n",
      "RP/0/RP0/CPU0:PE2#show version\n",
      "Fri Apr 23 05:40:00.127 UTC\n",
      "Cisco IOS XR Software, Version 7.3.1 LNT\n",
      "Copyright (c) 2013-2021 by Cisco Systems, Inc.\n",
      "\n",
      "Build Information:\n",
      " Built By     : ingunawa\n",
      " Built On     : Fri Feb 26 04:56:31 UTC 2021\n",
      " Build Host   : iox-ucs-020\n",
      " Workspace    : /auto/srcarchive17/prod/7.3.1/8000/ws\n",
      " Version      : 7.3.1\n",
      " Label        : 7.3.1\n",
      "\n",
      "cisco 8000 (VXR)\n",
      "cisco 8201 (VXR) processor with 32GB of memory\n",
      "PE2 uptime is 4 minutes\n",
      "Cisco 8201 1RU Chassis\n",
      "\n",
      "RP/0/RP0/CPU0:PE2#show ip int br | i Up\n",
      "Fri Apr 23 05:40:00.289 UTC\n",
      "Loopback0                      10.0.0.9        Up              Up       default \n",
      "FourHundredGigE0/0/0/0         10.11.11.2      Up              Up       default \n",
      "FourHundredGigE0/0/0/1         10.33.33.1      Up              Up       default \n",
      "MgmtEth0/RP0/CPU0/0            192.168.254.4   Up              Up       default \n",
      "RP/0/RP0/CPU0:PE2#\n"
     ]
    }
   ],
   "source": [
    "loginpe2.write(('''\n",
    "show version\n",
    "show ip int br | i Up\n",
    "''').encode('ascii'))\n",
    "\n",
    "line = loginpe2.read_until(b'/r/n',4)\n",
    "print(line.decode())"
   ]
  },
  {
   "cell_type": "markdown",
   "metadata": {},
   "source": [
    "> Now, from the PE1 router, lets try to ping the interface on the remote router PE2 which has the ip address 11.11.11.2. The exclamation marks (**!**) indicate that ping is successful and the remote router PE2 has responded."
   ]
  },
  {
   "cell_type": "code",
   "execution_count": 5,
   "metadata": {},
   "outputs": [
    {
     "name": "stdout",
     "output_type": "stream",
     "text": [
      "\n",
      "RP/0/RP0/CPU0:PE1#show arp 10.11.11.2\n",
      "Fri Apr 23 05:40:44.553 UTC\n",
      "RP/0/RP0/CPU0:PE1#ping 10.11.11.1\n",
      "Fri Apr 23 05:40:44.657 UTC\n",
      "Type escape sequence to abort.\n",
      "Sending 5, 100-byte ICMP Echos to 10.11.11.1, timeout is 2 seconds:\n",
      "!!!!!\n",
      "Success rate is 100 percent (5/5), round-trip min/avg/max = 1/5/17 ms\n",
      "RP/0/RP0/CPU0:PE1#ping 10.11.11.2 \n",
      "Fri Apr 23 05:40:45.155 UTC\n",
      "Type escape sequence to abort.\n",
      "Sending 5, 100-byte ICMP Echos to 10.11.11.2, timeout is 2 seconds:\n",
      "!!!!!\n",
      "Success rate is 100 percent (5/5), round-trip min/avg/max = 10/23/43 ms\n",
      "RP/0/RP0/CPU0:PE1#\n"
     ]
    }
   ],
   "source": [
    "loginpe1.write(('''\n",
    "show arp 10.11.11.2\n",
    "ping 10.11.11.1\n",
    "ping 10.11.11.2 \n",
    "''').encode('ascii'))\n",
    "\n",
    "line = loginpe1.read_until(b'/r/n',12)\n",
    "print(line.decode())"
   ]
  },
  {
   "cell_type": "markdown",
   "metadata": {},
   "source": [
    "> Configuration commands can also be performed using the notebook. Let's try configuring OSPF on PE1 and PE2."
   ]
  },
  {
   "cell_type": "code",
   "execution_count": 6,
   "metadata": {},
   "outputs": [
    {
     "name": "stdout",
     "output_type": "stream",
     "text": [
      "\n",
      "RP/0/RP0/CPU0:PE1#configure\n",
      "edGigE0/0/0/0\n",
      "  interface FourHundredGigE0/0/0/1\n",
      "  interface Loopback0\n",
      "commit\n",
      "root\n",
      "exit\n",
      "Fri Apr 23 05:41:04.023 UTC\n",
      "RP/0/RP0/CPU0:PE1(config)#router ospf 10\n",
      "RP/0/RP0/CPU0:PE1(config-ospf)# router-id 10.0.0.3\n",
      "RP/0/RP0/CPU0:PE1(config-ospf)# area 0\n",
      "RP/0/RP0/CPU0:PE1(config-ospf-ar)#  interface FourHundredGigE0/0/0/0\n",
      "RP/0/RP0/CPU0:PE1(config-ospf-ar-if)#  interface FourHundredGigE0/0/0/1\n",
      "RP/0/RP0/CPU0:PE1(config-ospf-ar-if)#  interface Loopback0\n",
      "RP/0/RP0/CPU0:PE1(config-ospf-ar-if)#commit\n",
      "Fri Apr 23 05:41:04.657 UTC\n",
      "RP/0/RP0/CPU0:PE1(config-ospf-ar-if)#root\n",
      "RP/0/RP0/CPU0:PE1(config)#exit\n",
      "RP/0/RP0/CPU0:PE1#\n",
      "\n",
      "RP/0/RP0/CPU0:PE2#configure\n",
      "ack0\n",
      "commit\n",
      "root\n",
      "exit\n",
      "Fri Apr 23 05:41:07.370 UTC\n",
      "RP/0/RP0/CPU0:PE2(config)#router ospf 10\n",
      "RP/0/RP0/CPU0:PE2(config-ospf)# router-id 10.0.0.9\n",
      "RP/0/RP0/CPU0:PE2(config-ospf)# area 0\n",
      "RP/0/RP0/CPU0:PE2(config-ospf-ar)#  interface FourHundredGigE0/0/0/0\n",
      "RP/0/RP0/CPU0:PE2(config-ospf-ar-if)#  interface FourHundredGigE0/0/0/1\n",
      "RP/0/RP0/CPU0:PE2(config-ospf-ar-if)#  interface Loopback0\n",
      "RP/0/RP0/CPU0:PE2(config-ospf-ar-if)#commit\n",
      "Fri Apr 23 05:41:07.865 UTC\n",
      "RP/0/RP0/CPU0:PE2(config-ospf-ar-if)#root\n",
      "RP/0/RP0/CPU0:PE2(config)#exit\n",
      "RP/0/RP0/CPU0:PE2#\n"
     ]
    }
   ],
   "source": [
    "loginpe1.write(('''\n",
    "configure\n",
    "router ospf 10\n",
    " router-id 10.0.0.3\n",
    " area 0\n",
    "  interface FourHundredGigE0/0/0/0\n",
    "  interface FourHundredGigE0/0/0/1\n",
    "  interface Loopback0\n",
    "commit\n",
    "root\n",
    "exit\n",
    "''').encode('ascii'))\n",
    "\n",
    "line = loginpe1.read_until(b'/r/n',4)\n",
    "print(line.decode())\n",
    "\n",
    "loginpe2.write(('''\n",
    "configure\n",
    "router ospf 10\n",
    " router-id 10.0.0.9\n",
    " area 0\n",
    "  interface FourHundredGigE0/0/0/0\n",
    "  interface FourHundredGigE0/0/0/1\n",
    "  interface Loopback0\n",
    "commit\n",
    "root\n",
    "exit\n",
    "''').encode('ascii'))\n",
    "\n",
    "line = loginpe2.read_until(b'/r/n',4)\n",
    "print(line.decode())"
   ]
  },
  {
   "cell_type": "markdown",
   "metadata": {},
   "source": [
    "> Check whether OSPF is in FULL State. Play this cell again until OSPF is in FULL state. It might take about 30-40 seconds. And then look for routes learnt through OSPF. The routes learnt through OSPF have an O at the beginning of the line."
   ]
  },
  {
   "cell_type": "code",
   "execution_count": 7,
   "metadata": {},
   "outputs": [
    {
     "name": "stdout",
     "output_type": "stream",
     "text": [
      "\n",
      "RP/0/RP0/CPU0:PE1#show ip ospf nei\n",
      "Fri Apr 23 05:41:53.684 UTC\n",
      "\n",
      "* Indicates MADJ interface\n",
      "# Indicates Neighbor awaiting BFD session up\n",
      "\n",
      "Neighbors for OSPF 10\n",
      "\n",
      "Neighbor ID     Pri   State           Dead Time   Address         Interface\n",
      "10.0.0.9        1     FULL/DR         00:00:37    10.11.11.2      FourHundredGigE0/0/0/0\n",
      "    Neighbor is up for 00:00:34\n",
      "\n",
      "Total neighbor count: 1\n",
      "RP/0/RP0/CPU0:PE1#show ip route\n",
      "Fri Apr 23 05:41:53.830 UTC\n",
      "\n",
      "Codes: C - connected, S - static, R - RIP, B - BGP, (>) - Diversion path\n",
      "       D - EIGRP, EX - EIGRP external, O - OSPF, IA - OSPF inter area\n",
      "       N1 - OSPF NSSA external type 1, N2 - OSPF NSSA external type 2\n",
      "       E1 - OSPF external type 1, E2 - OSPF external type 2, E - EGP\n",
      "       i - ISIS, L1 - IS-IS level-1, L2 - IS-IS level-2\n",
      "       ia - IS-IS inter area, su - IS-IS summary null, * - candidate default\n",
      "       U - per-user static route, o - ODR, L - local, G  - DAGR, l - LISP\n",
      "       A - access/subscriber, a - Application route\n",
      "       M - mobile route, r - RPL, t - Traffic Engineering, (!) - FRR Backup path\n",
      "\n",
      "Gateway of last resort is not set\n",
      "\n",
      "L    10.0.0.3/32 is directly connected, 00:02:16, Loopback0\n",
      "O    10.0.0.9/32 [110/2] via 10.11.11.2, 00:00:04, FourHundredGigE0/0/0/0\n",
      "C    10.11.11.0/24 is directly connected, 00:02:16, FourHundredGigE0/0/0/0\n",
      "L    10.11.11.1/32 is directly connected, 00:02:16, FourHundredGigE0/0/0/0\n",
      "C    10.22.22.0/24 is directly connected, 00:02:16, FourHundredGigE0/0/0/1\n",
      "L    10.22.22.1/32 is directly connected, 00:02:16, FourHundredGigE0/0/0/1\n",
      "O    10.33.33.0/24 [110/2] via 10.11.11.2, 00:00:04, FourHundredGigE0/0/0/0\n",
      "C    192.168.254.0/24 is directly connected, 00:02:48, MgmtEth0/RP0/CPU0/0\n",
      "L    192.168.254.209/32 is directly connected, 00:02:48, MgmtEth0/RP0/CPU0/0\n",
      "RP/0/RP0/CPU0:PE1#\n"
     ]
    }
   ],
   "source": [
    "loginpe1.write(('''\n",
    "show ip ospf nei\n",
    "show ip route\n",
    "''').encode('ascii'))\n",
    "\n",
    "line = loginpe1.read_until(b'/r/n',4)\n",
    "print(line.decode())"
   ]
  },
  {
   "cell_type": "markdown",
   "metadata": {},
   "source": [
    "> The routes learnt through OSPF can be pinged even if they are not directly connected."
   ]
  },
  {
   "cell_type": "code",
   "execution_count": 8,
   "metadata": {},
   "outputs": [
    {
     "name": "stdout",
     "output_type": "stream",
     "text": [
      "\n",
      "RP/0/RP0/CPU0:PE1#ping 10.33.33.1 \n",
      "Fri Apr 23 05:42:05.243 UTC\n",
      "Type escape sequence to abort.\n",
      "Sending 5, 100-byte ICMP Echos to 10.33.33.1, timeout is 2 seconds:\n",
      "!!!!!\n",
      "Success rate is 100 percent (5/5), round-trip min/avg/max = 10/16/30 ms\n",
      "RP/0/RP0/CPU0:PE1#\n"
     ]
    }
   ],
   "source": [
    "loginpe1.write(('''\n",
    "ping 10.33.33.1 \n",
    "''').encode('ascii'))\n",
    "\n",
    "line = loginpe1.read_until(b'/r/n',4)\n",
    "print(line.decode())"
   ]
  },
  {
   "cell_type": "markdown",
   "metadata": {},
   "source": [
    "> Anything that you would normally do in the telnet or ssh console of the router can be done from the notebook. Experiment on more show commands and configuration commands on the routers by editing the code-cells in this notebook.\n",
    "\n",
    "> Once you have finished you can shutdown the topology and clean up."
   ]
  },
  {
   "cell_type": "code",
   "execution_count": 9,
   "metadata": {},
   "outputs": [
    {
     "name": "stderr",
     "output_type": "stream",
     "text": [
      "INFO:pyvxr.vxr:Stopping sim on host localhost (dir /nobackup/vxr/pyvxr/qkaxb19q56)\n",
      "INFO:pyvxr.sim:Stopping previous simulation (if any)\n"
     ]
    }
   ],
   "source": [
    "sim.stop()"
   ]
  },
  {
   "cell_type": "code",
   "execution_count": 10,
   "metadata": {},
   "outputs": [
    {
     "name": "stderr",
     "output_type": "stream",
     "text": [
      "INFO:pyvxr.vxr:Cleaning sim on host localhost (dir /nobackup/vxr/pyvxr/qkaxb19q56)\n",
      "INFO:pyvxr.sim:Stopping previous simulation (if any)\n",
      "INFO:pyvxr.sim:Cleaning previous simulation (if any)\n"
     ]
    }
   ],
   "source": [
    "sim.clean()"
   ]
  },
  {
   "cell_type": "markdown",
   "metadata": {},
   "source": [
    "> Clean up the sim scratch-space - delete the sim directory "
   ]
  },
  {
   "cell_type": "code",
   "execution_count": 11,
   "metadata": {},
   "outputs": [],
   "source": [
    "shutil.rmtree(sim_dir)"
   ]
  },
  {
   "cell_type": "markdown",
   "metadata": {},
   "source": [
    "We have many other capabilties that can be accessed with notebooks. Explore the other network notebooks to learn more."
   ]
  }
 ],
 "metadata": {
  "kernelspec": {
   "display_name": "Python 3",
   "language": "python",
   "name": "python3"
  },
  "language_info": {
   "codemirror_mode": {
    "name": "ipython",
    "version": 3
   },
   "file_extension": ".py",
   "mimetype": "text/x-python",
   "name": "python",
   "nbconvert_exporter": "python",
   "pygments_lexer": "ipython3",
   "version": "3.8.8"
  }
 },
 "nbformat": 4,
 "nbformat_minor": 4
}
