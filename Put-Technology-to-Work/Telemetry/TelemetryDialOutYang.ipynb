{
 "cells": [
  {
   "cell_type": "markdown",
   "metadata": {},
   "source": [
    "# Deploy YANG Data Model to Stream CPU Utilization Data Using Model-driven Telemetry\n",
    "##### <sup>Authored by Veena Manuel (veedas@cisco.com)</sup>"
   ]
  },
  {
   "cell_type": "markdown",
   "metadata": {},
   "source": [
    "The use case illustrates how, with the YANG data model, you can stream telemetry data about CPU utilization. Monitoring CPU utilization ensures efficient storage capabilities in your network. In a Dial-out mode, the router dials out to the receiver to establish a subscription-based telemetry session."
   ]
  },
  {
   "cell_type": "markdown",
   "metadata": {},
   "source": [
    "The following image represents a topology with 4 routers; router P1 is connected to a collector to stream telemetry data.\n",
    "\n",
    "![Topology](Telemetry-topology.png)"
   ]
  },
  {
   "cell_type": "markdown",
   "metadata": {},
   "source": [
    "Telemetry involves the following workflow:\n",
    "- Define: You define a subscription to stream data from the router to the receiver. To define a subscription,\n",
    "you create a destination-group and a sensor-group.\n",
    "- Deploy: The router establishes a subscription-based telemetry session and streams data to the receiver.\n",
    "You verify subscription deployment on the router.\n",
    "- Operate: You consume and analyse telemetry data using open-source tools, and take necessary actions\n",
    "based on the analysis.\n",
    "\n",
    "To gain an indepth understanding about telemetry streaming modes, see the [Telemetry Configuration Guide](https://www.cisco.com/c/en/us/support/routers/8000-series-routers/products-installation-and-configuration-guides-list.html)."
   ]
  },
  {
   "cell_type": "markdown",
   "metadata": {},
   "source": [
    "## Configuration steps\n",
    "* [Bring up emulator session with the base network and configurations](#step1)\n",
    "* [Configure a Telemetry Session Between the Router and the Collector](#step2)\n",
    "* [Verify the Telemetry configuration](#step3)\n",
    "* [Operate on Telemetry Data](#step4)"
   ]
  },
  {
   "cell_type": "markdown",
   "metadata": {},
   "source": [
    "## <a name=\"step1\"></a>Bring up emulator session with the base network and configurations"
   ]
  },
  {
   "cell_type": "markdown",
   "metadata": {},
   "source": [
    "In order to set up the emulator, you have to execute the cell below by clicking the play button at the top of this notebook. \n",
    "\n",
    "In the cell below, the python module **telemetry** sets up the python enviroment and the simulated router test bed along with the base configurations of IPv4 addresses, OSPF configurations, MPLS configurations, Loopback interfaces, etc. After the import, the below code block initialises and brings up the emulator using **sim.start** API call.\n",
    "\n",
    ">The bring up can be slow, 10 minutes +.\n"
   ]
  },
  {
   "cell_type": "code",
   "execution_count": null,
   "metadata": {},
   "outputs": [],
   "source": [
    "from telemetry import *\n",
    "sim = Vxr()\n",
    "sim.no_image_copy=True\n",
    "\n",
    "sim.clean()\n",
    "print(\"Sim clean: Done\")\n",
    "print(\"Simulation starting. Please wait for the Sim status message. This may take 3-10 minutes.\")\n",
    "\n",
    "try:\n",
    "    sim.start(cfg)\n",
    "    status = sim.status()\n",
    "    print(\"Sim status: \", status)\n",
    "except Exception as err:\n",
    "    print(\"Sim launch failed (%s)\" % str(err))"
   ]
  },
  {
   "cell_type": "markdown",
   "metadata": {},
   "source": [
    ">At this point, console access to the router is available. Optionally, you can access the simulated router consoles directly from your laptop  through ssh."
   ]
  },
  {
   "cell_type": "code",
   "execution_count": 2,
   "metadata": {},
   "outputs": [
    {
     "name": "stdout",
     "output_type": "stream",
     "text": [
      "Consoles can be reached by:\n",
      "P1: telnet 172.17.0.2 41145 \n",
      "P3: telnet 172.17.0.2 40160 \n",
      "PE1: telnet 172.17.0.2 33849 \n",
      "PE3: telnet 172.17.0.2 39988 \n",
      "ser1: telnet 172.17.0.2 36292\n",
      "or better:\n",
      "P1: ssh cisco@172.17.0.2 -p64966 \n",
      "P3: ssh cisco@172.17.0.2 -p60916 \n",
      "PE1: ssh cisco@172.17.0.2 -p60537 \n",
      "PE3: ssh cisco@172.17.0.2 -p62351 \n",
      "ser1: ssh cisco@172.17.0.2 -p60508\n",
      "The password is cisco123\n"
     ]
    }
   ],
   "source": [
    "print('Consoles can be reached by:')\n",
    "print('P1:', get_telnet_cmd(sim, 'rp1'), '\\nP3:', get_telnet_cmd(sim, 'rp3'), '\\nPE1:', get_telnet_cmd(sim, 'rpe1'), '\\nPE3:', get_telnet_cmd(sim, 'rpe3'), '\\nser1:', get_telnet_cmd(sim, 'ser1'))\n",
    "print('or better:')\n",
    "print('P1:', get_ssh_cmd(sim, 'rp1'), '\\nP3:', get_ssh_cmd(sim, 'rp3'), '\\nPE1:', get_ssh_cmd(sim, 'rpe1'),  '\\nPE3:', get_ssh_cmd(sim, 'rpe3'), '\\nser1:', get_ssh_cmd(sim, 'ser1')),\n",
    "print('The password is cisco123')"
   ]
  },
  {
   "cell_type": "code",
   "execution_count": 3,
   "metadata": {},
   "outputs": [],
   "source": [
    "ports = sim.ports()\n",
    "ser1_ipaddress = str(ports['ser1']['HostAgent'])\n",
    "ser1_sshport = str(ports['ser1']['xr_redir22'])\n",
    "p1_ipaddress = str(ports['rp1']['HostAgent'])\n",
    "p1_sshport = str(ports['rp1']['xr_redir22'])"
   ]
  },
  {
   "cell_type": "markdown",
   "metadata": {},
   "source": [
    "Install ncclient to talk to NETCONF-enabled devices. Here, router P1."
   ]
  },
  {
   "cell_type": "code",
   "execution_count": 4,
   "metadata": {},
   "outputs": [],
   "source": [
    "%%capture coutput\n",
    "!pip install ncclient"
   ]
  },
  {
   "cell_type": "markdown",
   "metadata": {},
   "source": [
    "## <a name=\"step3\"></a>Configure a telemetry session between the router and the collector"
   ]
  },
  {
   "cell_type": "markdown",
   "metadata": {},
   "source": [
    "To configure telemetry on the router, you will need to setup the following values for a dial-out mode:\n",
    "- Create a destination group: Create one or more destinations to collect telemetry data from a router. Define a destination-group to contain the details about the destinations. Include the destination address (ipv4 or ipv6), port, transport, and encoding format in the destination-group.\n",
    "> This use case uses 'self-describing-gpb' encoding and 'UDP' as the transport protocol. If you use TCP or gRPC, ensure that a receiver is setup at the collector. The receiver must match the values for encoding, transport and port that you set in the telemetry configuration.\n",
    "\n",
    "- Create a Sensor-group: Specify the subset of the data that you want to stream from the router using sensor paths. The Sensor path represents the path in the hierarchy of a YANG data model. Create a sensor-group to contain the sensor paths.\n",
    "> Here, the sensor path is for streaming CPU utilization.\n",
    "\n",
    "- Create a Subscription: Subscribe to telemetry data that is streamed from a router. A Subscription binds the destination-group with the sensor-group and sets the streaming method. The streaming method can be Cadence-driven or Event-driven telemetry. Cadence-driven telemetry continually streams data (operational statistics and state transitions) at a configured cadence. Whereas, event-driven telemetry optimizes data that is collected at the receiver and streams data only when a state transition occurs."
   ]
  },
  {
   "cell_type": "markdown",
   "metadata": {},
   "source": [
    ">Port number range <1-65535>."
   ]
  },
  {
   "cell_type": "markdown",
   "metadata": {},
   "source": [
    "> IMPORTANT: Do not forget to replace the destination address and port number"
   ]
  },
  {
   "cell_type": "code",
   "execution_count": 5,
   "metadata": {},
   "outputs": [
    {
     "name": "stdout",
     "output_type": "stream",
     "text": [
      "<?xml version=\"1.0\"?>\n",
      "<rpc-reply message-id=\"urn:uuid:4cc55f5f-d7c7-43b3-ad45-3e291cd4760a\" xmlns:nc=\"urn:ietf:params:xml:ns:netconf:base:1.0\" xmlns=\"urn:ietf:params:xml:ns:netconf:base:1.0\">\n",
      " <ok/>\n",
      "</rpc-reply>\n",
      "\n"
     ]
    }
   ],
   "source": [
    "from ncclient import manager\n",
    "from ncclient.xml_ import to_ele\n",
    "from lxml import etree\n",
    "\n",
    "telemetry = '''\n",
    "<config>\n",
    "<telemetry-model-driven xmlns=\"http://cisco.com/ns/yang/Cisco-IOS-XR-telemetry-model-driven-cfg\">\n",
    "   <destination-groups>\n",
    "    <destination-group>\n",
    "     <destination-id>D1</destination-id>\n",
    "     <ipv4-destinations>\n",
    "      <ipv4-destination>\n",
    "       <ipv4-address>192.168.122.20</ipv4-address>\n",
    "       <destination-port>20030</destination-port>\n",
    "       <encoding>self-describing-gpb</encoding>\n",
    "       <protocol>\n",
    "        <protocol>udp</protocol>\n",
    "       </protocol>\n",
    "      </ipv4-destination>\n",
    "     </ipv4-destinations>\n",
    "    </destination-group>\n",
    "   </destination-groups>\n",
    "   <sensor-groups>\n",
    "    <sensor-group>\n",
    "     <sensor-group-identifier>SGroup1</sensor-group-identifier>\n",
    "     <sensor-paths>\n",
    "      <sensor-path>\n",
    "       <telemetry-sensor-path>Cisco-IOS-XR-wdsysmon-fd-oper:system-monitoring/cpu-utilization</telemetry-sensor-path>\n",
    "      </sensor-path>\n",
    "     </sensor-paths>\n",
    "    </sensor-group>\n",
    "   </sensor-groups>\n",
    "   <enable></enable>\n",
    "   <subscriptions>\n",
    "    <subscription>\n",
    "     <subscription-identifier>Sub1</subscription-identifier>\n",
    "     <sensor-profiles>\n",
    "      <sensor-profile>\n",
    "       <sensorgroupid>SGroup1</sensorgroupid>\n",
    "       <sample-interval>3000</sample-interval>\n",
    "      </sensor-profile>\n",
    "     </sensor-profiles>\n",
    "     <destination-profiles>\n",
    "      <destination-profile>\n",
    "       <destination-id>D1</destination-id>\n",
    "      </destination-profile>\n",
    "     </destination-profiles>\n",
    "    </subscription>\n",
    "   </subscriptions>\n",
    "  </telemetry-model-driven>\n",
    " </config>\n",
    " '''\n",
    "\n",
    "def connect(host, port, user, password, source):\n",
    "      conn = manager.connect(host=host,\n",
    "                             port=port,\n",
    "                             username=user,\n",
    "                             password = password,\n",
    "                             device_params={'name': 'iosxr'},\n",
    "                             hostkey_verify=False,\n",
    "                             allow_agent=False,\n",
    "                             look_for_keys=False\n",
    "                            )\n",
    "\n",
    "      rpc_reply = conn.edit_config(config=telemetry)\n",
    "      conn.commit()\n",
    "      print(rpc_reply)\n",
    "\n",
    "connect(p1_ipaddress, p1_sshport, 'cisco', 'cisco123', 'candidate')"
   ]
  },
  {
   "cell_type": "markdown",
   "metadata": {},
   "source": [
    "## <a name=\"step4\"></a>Verify the telemetry configuration"
   ]
  },
  {
   "cell_type": "markdown",
   "metadata": {},
   "source": [
    "Access the telnet consoles of the router to apply and verify the telemetry configuration."
   ]
  },
  {
   "cell_type": "code",
   "execution_count": 6,
   "metadata": {},
   "outputs": [],
   "source": [
    "console_ports = sim.ports()\n",
    "loginp1 = telnetlib.Telnet(str(console_ports['rp1']['HostAgent']) , str(console_ports['rp1']['serial0']))"
   ]
  },
  {
   "cell_type": "markdown",
   "metadata": {},
   "source": [
    "Verify the deployment of the subscription on the router."
   ]
  },
  {
   "cell_type": "code",
   "execution_count": 7,
   "metadata": {},
   "outputs": [
    {
     "name": "stdout",
     "output_type": "stream",
     "text": [
      "***** VIEW FROM TELNET CONSOLE OF P1 *****\n",
      "\n",
      "RP/0/RP0/CPU0:P1#show running-config telemetry model-driven\n",
      "Wed Apr 21 12:21:32.957 UTC\n",
      "telemetry model-driven\n",
      " destination-group D1\n",
      "  address-family ipv4 192.168.122.20 port 20030\n",
      "   encoding self-describing-gpb\n",
      "   protocol udp\n",
      "  !\n",
      " !\n",
      " sensor-group SGroup1\n",
      "  sensor-path Cisco-IOS-XR-wdsysmon-fd-oper:system-monitoring/cpu-utilization\n",
      " !\n",
      " subscription Sub1\n",
      "  sensor-group-id SGroup1 sample-interval 3000\n",
      "  destination-id D1\n",
      " !\n",
      "!\n",
      "\n",
      "RP/0/RP0/CPU0:P1#\n"
     ]
    }
   ],
   "source": [
    "# Show the telemetry configuration applied on the router.\n",
    "loginp1.write(('''\n",
    "show running-config telemetry model-driven\n",
    "''').encode('ascii'))\n",
    "line = loginp1.read_until(b'/r/n',2)\n",
    "print(\"***** VIEW FROM TELNET CONSOLE OF P1 *****\")\n",
    "print(line.decode())"
   ]
  },
  {
   "cell_type": "markdown",
   "metadata": {},
   "source": [
    "Verify the telemetry configuration on the router."
   ]
  },
  {
   "cell_type": "code",
   "execution_count": 8,
   "metadata": {},
   "outputs": [
    {
     "name": "stdout",
     "output_type": "stream",
     "text": [
      "***** VIEW FROM TELNET CONSOLE OF P1 *****\n",
      "\n",
      "RP/0/RP0/CPU0:P1#show telemetry model-driven subscription Sub1\n",
      "Wed Apr 21 12:21:36.406 UTC\n",
      "Subscription:  Sub1\n",
      "-------------\n",
      "  State:       NA\n",
      "  Sensor groups:\n",
      "  Id: SGroup1\n",
      "    Sample Interval:      3000 ms\n",
      "    Heartbeat Interval:   NA\n",
      "    Sensor Path:          Cisco-IOS-XR-wdsysmon-fd-oper:system-monitoring/cpu-utilization\n",
      "    Sensor Path State:    Not Resolved\n",
      "\n",
      "  Destination Groups:\n",
      "  Group Id: D1\n",
      "    Destination IP:       192.168.122.20\n",
      "    Destination Port:     20030\n",
      "    Encoding:             self-describing-gpb\n",
      "    Transport:            udp\n",
      "    State:                NA\n",
      "    TLS :                 False\n",
      "\n",
      "  Collection Groups:\n",
      "  ------------------\n",
      "  No active collection groups\n",
      "\n",
      "RP/0/RP0/CPU0:P1#\n"
     ]
    }
   ],
   "source": [
    "# Show the telemetry configuration applied on the router.\n",
    "loginp1.write(('''\n",
    "show telemetry model-driven subscription Sub1\n",
    "''').encode('ascii'))\n",
    "line = loginp1.read_until(b'/r/n',2)\n",
    "print(\"***** VIEW FROM TELNET CONSOLE OF P1 *****\")\n",
    "print(line.decode())"
   ]
  },
  {
   "cell_type": "markdown",
   "metadata": {},
   "source": [
    ">After the telemetry session is established, the router streams data to the receiver to create a data lake. Check the collector console to see the streamed data."
   ]
  },
  {
   "cell_type": "markdown",
   "metadata": {},
   "source": [
    "## <a name=\"step5\"></a>Operate on telemetry data"
   ]
  },
  {
   "cell_type": "markdown",
   "metadata": {},
   "source": [
    "You can start consuming and analyzing telemetry data from the data lake using an open-sourced collection\n",
    "stack based on your requirement. \n",
    "For example, the following tools can be used to analyze the collected telemetry data:\n",
    "- Pipeline is a lightweight tool used to collect data. You can download Network Telemetry Pipeline from Github. You define how you want the collector to interact with routers and where you want to send the\n",
    "processed data using pipeline.conf file.\n",
    "- Telegraph (plugin-driven server agent) and InfluxDB (a time series database (TSDB)) stores telemetry\n",
    "data, which is retrieved by visualization tools. You can download InfluxDB from Github. You define\n",
    "what data you want to include into your TSDB using the metrics.json file.\n",
    "- Grafana is a visualization tool that displays graphs and counters for data streamed from the router.\n",
    "\n",
    "For more information, see http://xrdocs.io/telemetry/."
   ]
  },
  {
   "cell_type": "markdown",
   "metadata": {},
   "source": [
    "#### Clean-up the topology"
   ]
  },
  {
   "cell_type": "markdown",
   "metadata": {},
   "source": [
    ">Once you are done with experimenting on the topology, you should bring down the emulator by executing the following steps:"
   ]
  },
  {
   "cell_type": "code",
   "execution_count": 9,
   "metadata": {},
   "outputs": [],
   "source": [
    "# close our telnet\n",
    "loginp1.close()"
   ]
  },
  {
   "cell_type": "code",
   "execution_count": 10,
   "metadata": {},
   "outputs": [],
   "source": [
    "sim.stop()"
   ]
  },
  {
   "cell_type": "code",
   "execution_count": 11,
   "metadata": {},
   "outputs": [],
   "source": [
    "sim.clean()"
   ]
  },
  {
   "cell_type": "code",
   "execution_count": null,
   "metadata": {},
   "outputs": [],
   "source": [
    "# Clean up sim scratch space\n",
    "shutil.rmtree(sim_dir)"
   ]
  }
 ],
 "metadata": {
  "kernelspec": {
   "display_name": "Python 3",
   "language": "python",
   "name": "python3"
  },
  "language_info": {
   "codemirror_mode": {
    "name": "ipython",
    "version": 3
   },
   "file_extension": ".py",
   "mimetype": "text/x-python",
   "name": "python",
   "nbconvert_exporter": "python",
   "pygments_lexer": "ipython3",
   "version": "3.8.8"
  }
 },
 "nbformat": 4,
 "nbformat_minor": 4
}
