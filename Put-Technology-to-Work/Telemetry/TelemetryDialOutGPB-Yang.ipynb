{
 "cells": [
  {
   "cell_type": "markdown",
   "metadata": {},
   "source": [
    "# Setup a Pipeline and Stream CPU Utilization Data Using Model-driven Telemetry\n",
    "##### <sup>Authored by Veena Manuel (veedas@cisco.com)</sup>"
   ]
  },
  {
   "cell_type": "markdown",
   "metadata": {},
   "source": [
    "The use case illustrates how, with the YANG data model, you can stream telemetry data about CPU utilization. Monitoring CPU utilization ensures efficient storage capabilities in your network. This use case also illustrates setting up a pipeline to consume telemetry data that is streamed from the router."
   ]
  },
  {
   "cell_type": "markdown",
   "metadata": {},
   "source": [
    "The following table outlines the specifications of this use case:\n",
    "\n",
    "| Mode            | Transport       | Encoding | \n",
    "|-----------------|---------------- | ---------|\n",
    "| Dial-out        | gRPC            | GPB      |"
   ]
  },
  {
   "cell_type": "markdown",
   "metadata": {},
   "source": [
    "> In a Dial-out mode, the router dials out to the receiver to establish a subscription-based telemetry session."
   ]
  },
  {
   "cell_type": "markdown",
   "metadata": {},
   "source": [
    "The following image represents a topology with 4 routers; router P1 is connected to a collector to stream telemetry data."
   ]
  },
  {
   "cell_type": "markdown",
   "metadata": {},
   "source": [
    "![Topology](Telemetry-topology.png)"
   ]
  },
  {
   "cell_type": "markdown",
   "metadata": {},
   "source": [
    "Telemetry involves the following workflow:\n",
    "- Define: You define a subscription to stream data from the router to the receiver. To define a subscription,\n",
    "you create a destination-group and a sensor-group.\n",
    "- Deploy: The router establishes a subscription-based telemetry session and streams data to the receiver.\n",
    "You verify subscription deployment on the router.\n",
    "- Operate: You consume and analyse telemetry data using open-source tools, and take necessary actions\n",
    "based on the analysis.\n",
    "\n",
    "To gain an indepth understanding about telemetry streaming modes, see the [Telemetry Configuration Guide](https://www.cisco.com/c/en/us/support/routers/8000-series-routers/products-installation-and-configuration-guides-list.html)."
   ]
  },
  {
   "cell_type": "markdown",
   "metadata": {},
   "source": [
    "## Configuration steps\n",
    "* [Bring up emulator session with the base network and configurations](#step1)\n",
    "* [Setup a Pipeline](#step2)\n",
    "* [Configure a Telemetry Session Between the Router and the Collector](#step3)\n",
    "* [Verify the Telemetry configuration](#step4)\n",
    "* [View the streamed telemetry data](#step5)\n",
    "* [Operate on Telemetry Data](#step6)"
   ]
  },
  {
   "cell_type": "markdown",
   "metadata": {},
   "source": [
    "## <a name=\"step1\"></a>Bring up emulator session with the base network and configurations"
   ]
  },
  {
   "cell_type": "markdown",
   "metadata": {},
   "source": [
    "In order to set up the emulator, you have to execute the cell below by clicking the play button at the top of this notebook. \n",
    "\n",
    "In the cell below, the python module **telemetryrx** sets up the python enviroment and the simulated router test bed along with the base configurations of IPv4 addresses, OSPF configurations, MPLS configurations, Loopback interfaces, etc. After the import, the below code block initialises and brings up the emulator using **sim.start API call.\n",
    "\n",
    ">The bring up can be slow, 10 minutes +. \n"
   ]
  },
  {
   "cell_type": "code",
   "execution_count": null,
   "metadata": {},
   "outputs": [],
   "source": [
    "from telemetryrx import *\n",
    "sim = Vxr()\n",
    "sim.no_image_copy=True\n",
    "\n",
    "sim.clean()\n",
    "print(\"Sim clean: Done\")\n",
    "print(\"Simulation starting. Please wait for the Sim status message. This may take 3-10 minutes.\")\n",
    "\n",
    "try:\n",
    "    sim.start(cfg)\n",
    "    status = sim.status()\n",
    "    print(\"Sim status: \", status)\n",
    "except Exception as err:\n",
    "    print(\"Sim launch failed (%s)\" % str(err))"
   ]
  },
  {
   "cell_type": "markdown",
   "metadata": {},
   "source": [
    ">At this point, console access to the router is available. Optionally, you can access the simulated router consoles directly from your laptop  through ssh."
   ]
  },
  {
   "cell_type": "code",
   "execution_count": 22,
   "metadata": {},
   "outputs": [
    {
     "name": "stdout",
     "output_type": "stream",
     "text": [
      "Consoles can be reached by:\n",
      "P1: telnet 172.17.0.2 41198 \n",
      "P3: telnet 172.17.0.2 38183 \n",
      "PE1: telnet 172.17.0.2 35151 \n",
      "PE3: telnet 172.17.0.2 44613 \n",
      "ser1: telnet 172.17.0.2 43499\n",
      "or better:\n",
      "P1: ssh cisco@172.17.0.2 -p62385 \n",
      "P3: ssh cisco@172.17.0.2 -p64666 \n",
      "PE1: ssh cisco@172.17.0.2 -p60357 \n",
      "PE3: ssh cisco@172.17.0.2 -p64555 \n",
      "ser1: ssh cisco@172.17.0.2 -p64842\n",
      "The password is cisco123\n"
     ]
    }
   ],
   "source": [
    "print('Consoles can be reached by:')\n",
    "print('P1:', get_telnet_cmd(sim, 'rp1'), '\\nP3:', get_telnet_cmd(sim, 'rp3'), '\\nPE1:', get_telnet_cmd(sim, 'rpe1'), '\\nPE3:', get_telnet_cmd(sim, 'rpe3'), '\\nser1:', get_telnet_cmd(sim, 'ser1'))\n",
    "print('or better:')\n",
    "print('P1:', get_ssh_cmd(sim, 'rp1'), '\\nP3:', get_ssh_cmd(sim, 'rp3'), '\\nPE1:', get_ssh_cmd(sim, 'rpe1'),  '\\nPE3:', get_ssh_cmd(sim, 'rpe3'), '\\nser1:', get_ssh_cmd(sim, 'ser1')),\n",
    "print('The password is cisco123')"
   ]
  },
  {
   "cell_type": "code",
   "execution_count": 23,
   "metadata": {},
   "outputs": [],
   "source": [
    "ports = sim.ports()\n",
    "ser1_ipaddress = str(ports['ser1']['HostAgent'])\n",
    "ser1_sshport = str(ports['ser1']['xr_redir22'])\n",
    "p1_ipaddress = str(ports['rp1']['HostAgent'])\n",
    "p1_sshport = str(ports['rp1']['xr_redir22'])"
   ]
  },
  {
   "cell_type": "markdown",
   "metadata": {},
   "source": [
    "Install python modules such as, paramiko to ssh to the server and ncclient to talk to NETCONF-enabled devices. Here, router P1."
   ]
  },
  {
   "cell_type": "code",
   "execution_count": 24,
   "metadata": {},
   "outputs": [],
   "source": [
    "%%capture coutput\n",
    "\n",
    "# Installing pre-requisite module\n",
    "!pip install paramiko\n",
    "!pip install paramiko-expect\n",
    "!pip install ncclient"
   ]
  },
  {
   "cell_type": "markdown",
   "metadata": {},
   "source": [
    "## <a name=\"step2\"></a>Setup the Pipeline"
   ]
  },
  {
   "cell_type": "markdown",
   "metadata": {},
   "source": [
    "Pipeline is a well-written Golang–based code that consumes IOS XR telemetry streams directly from routers or indirectly from a pub/sub bus (Kafka). In this example, you setup the pipeline to stream data directly from the router. Once collected, the Pipeline performs transformations of the data and forwards the result to the configured consumer.\n",
    "\n",
    "Pipeline supports different input transport formats from routers:\n",
    "- TCP\n",
    "- gRPC\n",
    "- UDP\n",
    "\n",
    "Pipeline supports these encoding formats:\n",
    "- (compact) GPB\n",
    "- KV-GPB\n",
    "- JSON\n",
    "\n",
    "Pipeline supports streaming telemetry data to the following consumers:\n",
    "- InfluxDB (TSDB)\n",
    "- Prometheus (TSDB)\n",
    "- Apache Kafka\n",
    "- dump-to-file (mostly for diagnostics purposes)"
   ]
  },
  {
   "cell_type": "markdown",
   "metadata": {},
   "source": [
    "> In this use case, the data will be dumped to a file."
   ]
  },
  {
   "cell_type": "markdown",
   "metadata": {},
   "source": [
    "### Create a file to stream telemetry data"
   ]
  },
  {
   "cell_type": "markdown",
   "metadata": {},
   "source": [
    "Create a file dumpdata.txt to collect data that is streamed from the router. "
   ]
  },
  {
   "cell_type": "code",
   "execution_count": 25,
   "metadata": {},
   "outputs": [
    {
     "name": "stdout",
     "output_type": "stream",
     "text": [
      "Last login: Wed Apr 21 12:10:06 2021\n",
      "[root@localhost ~]# cd /\n",
      "[root@localhost /]# touch dumpdata.txt\n",
      "[root@localhost /]# ls -l\n",
      "total 16\n",
      "lrwxrwxrwx.   1 root root    7 Apr 21 05:57 \u001b[0m\u001b[01;36mbin\u001b[0m -> \u001b[01;34musr/bin\u001b[0m\n",
      "dr-xr-xr-x.   4 root root 4096 Apr 21 06:05 \u001b[01;34mboot\u001b[0m\n",
      "drwxr-xr-x   19 root root 3100 Apr 21 12:07 \u001b[01;34mdev\u001b[0m\n",
      "-rw-r--r--    1 root root    0 Apr 21 12:15 dumpdata.txt\n",
      "drwxr-xr-x.  83 root root 8192 Apr 21 12:07 \u001b[01;34metc\u001b[0m\n",
      "drwxr-xr-x.   2 root root    6 Apr 11  2018 \u001b[01;34mhome\u001b[0m\n",
      "lrwxrwxrwx.   1 root root    7 Apr 21 05:57 \u001b[01;36mlib\u001b[0m -> \u001b[01;34musr/lib\u001b[0m\n",
      "lrwxrwxrwx.   1 root root    9 Apr 21 05:57 \u001b[01;36mlib64\u001b[0m -> \u001b[01;34musr/lib64\u001b[0m\n",
      "drwxr-xr-x.   2 root root    6 Apr 11  2018 \u001b[01;34mmedia\u001b[0m\n",
      "drwxr-xr-x.   2 root root    6 Apr 11  2018 \u001b[01;34mmnt\u001b[0m\n",
      "drwxr-xr-x.   4 root root   29 Apr 21 06:04 \u001b[01;34mopt\u001b[0m\n",
      "dr-xr-xr-x  119 root root    0 Apr 21 12:06 \u001b[01;34mproc\u001b[0m\n",
      "dr-xr-x---.   4 root root  166 Apr 21 12:10 \u001b[01;34mroot\u001b[0m\n",
      "drwxr-xr-x   27 root root  820 Apr 21 12:10 \u001b[01;34mrun\u001b[0m\n",
      "lrwxrwxrwx.   1 root root    8 Apr 21 05:57 \u001b[01;36msbin\u001b[0m -> \u001b[01;34musr/sbin\u001b[0m\n",
      "drwxr-xr-x.   2 root root    6 Apr 11  2018 \u001b[01;34msrv\u001b[0m\n",
      "dr-xr-xr-x   13 root root    0 Apr 21 12:07 \u001b[01;34msys\u001b[0m\n",
      "drwxrwxrwt.   8 root root  235 Apr 21 12:10 \u001b[30;42mtmp\u001b[0m\n",
      "drwxr-xr-x.  13 root root  155 Apr 21 05:57 \u001b[01;34musr\u001b[0m\n",
      "drwxr-xr-x.  20 root root  282 Apr 21 06:05 \u001b[01;34mvar\u001b[0m\n",
      "[root@localhost /]# "
     ]
    },
    {
     "data": {
      "text/plain": [
       "0"
      ]
     },
     "execution_count": 25,
     "metadata": {},
     "output_type": "execute_result"
    }
   ],
   "source": [
    "import paramiko\n",
    "from paramiko_expect import SSHClientInteraction\n",
    "\n",
    "PROMPT = '.*root@.*'\n",
    "\n",
    "client = paramiko.SSHClient()\n",
    "# Set SSH key parameters to auto accept unknown hosts\n",
    "client.load_system_host_keys()\n",
    "client.set_missing_host_key_policy(paramiko.AutoAddPolicy())\n",
    "client.connect(hostname=ser1_ipaddress, port=ser1_sshport, username='root', password='cisco123', allow_agent=False, look_for_keys=False)\n",
    "\n",
    "# Check if the file is copied\n",
    "interact = SSHClientInteraction(client, display=True)\n",
    "interact.expect(PROMPT)\n",
    "\n",
    "interact.send('cd /')\n",
    "interact.expect(PROMPT)\n",
    "\n",
    "# Create the file to dump data\n",
    "interact.send('touch dumpdata.txt')\n",
    "interact.expect(PROMPT)\n",
    "\n",
    "# Create the file to dump data\n",
    "interact.send('ls -l')\n",
    "interact.expect(PROMPT)"
   ]
  },
  {
   "cell_type": "markdown",
   "metadata": {},
   "source": [
    "### Copy the pipeline files to the server"
   ]
  },
  {
   "cell_type": "code",
   "execution_count": 26,
   "metadata": {},
   "outputs": [
    {
     "name": "stdout",
     "output_type": "stream",
     "text": [
      "chmod 777 pipeline\n",
      "[root@localhost /]# ls -l pipeline*\n",
      "-rwxrwxrwx 1 root root 86075854 Apr 21 12:15 \u001b[0m\u001b[01;32mpipeline\u001b[0m\n",
      "-rw-r--r-- 1 root root      174 Apr 21 12:15 pipeline_gpb_grpc.conf\n",
      "[root@localhost /]# ifconfig\n",
      "eth0: flags=4163<UP,BROADCAST,RUNNING,MULTICAST>  mtu 1500\n",
      "        inet 192.168.254.216  netmask 255.255.255.0  broadcast 192.168.254.255\n",
      "        inet6 fe80::be:c6ff:feb0:f7f  prefixlen 64  scopeid 0x20<link>\n",
      "        ether 02:be:c6:b0:0f:7f  txqueuelen 1000  (Ethernet)\n",
      "        RX packets 7211  bytes 86943102 (82.9 MiB)\n",
      "        RX errors 0  dropped 8  overruns 0  frame 0\n",
      "        TX packets 8577  bytes 839059 (819.3 KiB)\n",
      "        TX errors 0  dropped 0 overruns 0  carrier 0  collisions 0\n",
      "\n",
      "eth1: flags=4163<UP,BROADCAST,RUNNING,MULTICAST>  mtu 1500\n",
      "        ether 02:38:3e:3d:fe:f4  txqueuelen 1000  (Ethernet)\n",
      "        RX packets 0  bytes 0 (0.0 B)\n",
      "        RX errors 0  dropped 0  overruns 0  frame 0\n",
      "        TX packets 60  bytes 10088 (9.8 KiB)\n",
      "        TX errors 0  dropped 0 overruns 0  carrier 0  collisions 0\n",
      "\n",
      "lo: flags=73<UP,LOOPBACK,RUNNING>  mtu 65536\n",
      "        inet 127.0.0.1  netmask 255.0.0.0\n",
      "        inet6 ::1  prefixlen 128  scopeid 0x10<host>\n",
      "        loop  txqueuelen 1000  (Local Loopback)\n",
      "        RX packets 516  bytes 44116 (43.0 KiB)\n",
      "        RX errors 0  dropped 0  overruns 0  frame 0\n",
      "        TX packets 516  bytes 44116 (43.0 KiB)\n",
      "        TX errors 0  dropped 0 overruns 0  carrier 0  collisions 0\n",
      "\n",
      "[root@localhost /]# "
     ]
    },
    {
     "data": {
      "text/plain": [
       "0"
      ]
     },
     "execution_count": 26,
     "metadata": {},
     "output_type": "execute_result"
    }
   ],
   "source": [
    "# Using SFTP for the pipeline file-transfers. \n",
    "# Pipeline is a large file so this step takes approx 8-10 minutes to copy pipeline file to the server.\n",
    "\n",
    "transfer = client.open_sftp()\n",
    "transfer.put(\"./pipeline_gpb_grpc.conf\", \"/pipeline_gpb_grpc.conf\")\n",
    "transfer.put(\"./pipeline\", \"/pipeline\")\n",
    "transfer.close()\n",
    "\n",
    "# Check if the file is copied\n",
    "interact.send('chmod 777 pipeline')\n",
    "interact.expect(PROMPT)\n",
    "\n",
    "interact.send('ls -l pipeline*')\n",
    "interact.expect(PROMPT)\n",
    "\n",
    "interact.send('ifconfig')\n",
    "interact.expect(PROMPT)"
   ]
  },
  {
   "cell_type": "markdown",
   "metadata": {},
   "source": [
    "### Run the pipeline"
   ]
  },
  {
   "cell_type": "code",
   "execution_count": 27,
   "metadata": {},
   "outputs": [
    {
     "name": "stdout",
     "output_type": "stream",
     "text": [
      "./pipeline -config pipeline_gpb_grpc.conf\n",
      "Startup pipeline\n",
      "Load config from [pipeline_gpb_grpc.conf], logging in [pipeline.log]\n",
      "Wait for ^C to shutdown\n"
     ]
    },
    {
     "data": {
      "text/plain": [
       "0"
      ]
     },
     "execution_count": 27,
     "metadata": {},
     "output_type": "execute_result"
    }
   ],
   "source": [
    "# Run the copied file.\n",
    "interact.send('./pipeline -config pipeline_gpb_grpc.conf')\n",
    "interact.expect('Wait for.*')"
   ]
  },
  {
   "cell_type": "markdown",
   "metadata": {},
   "source": [
    "## <a name=\"step3\"></a>Configure a telemetry session between the router and the collector using Yang Model"
   ]
  },
  {
   "cell_type": "markdown",
   "metadata": {},
   "source": [
    "To configure telemetry on the router, you will need to setup the following values for a dial-out mode:\n",
    "- Create a destination group: Create one or more destinations to collect telemetry data from a router. Define a destination-group to contain the details about the destinations. Include the destination address (ipv4 or ipv6), port, transport, and encoding format in the destination-group.\n",
    "\n",
    "- Create a Sensor-group: Specify the subset of the data that you want to stream from the router using sensor paths. The Sensor path represents the path in the hierarchy of a YANG data model. Create a sensor-group to contain the sensor paths.\n",
    "> Here, the sensor path is for streaming CPU utilization.\n",
    "\n",
    "- Create a Subscription: Subscribe to telemetry data that is streamed from a router. A Subscription binds the destination-group with the sensor-group and sets the streaming method. The streaming method can be Cadence-driven or Event-driven telemetry. Cadence-driven telemetry continually streams data (operational statistics and state transitions) at a configured cadence. Whereas, event-driven telemetry optimizes data that is collected at the receiver and streams data only when a state transition occurs."
   ]
  },
  {
   "cell_type": "markdown",
   "metadata": {},
   "source": [
    ">Port number range <1-65535>."
   ]
  },
  {
   "cell_type": "markdown",
   "metadata": {},
   "source": [
    "> IMPORTANT: To find the IP address of the collector, check the output of the <b>ifconfig</b> command on the Linux server."
   ]
  },
  {
   "cell_type": "code",
   "execution_count": 8,
   "metadata": {},
   "outputs": [
    {
     "name": "stdout",
     "output_type": "stream",
     "text": [
      "<?xml version=\"1.0\"?>\n",
      "<rpc-reply message-id=\"urn:uuid:ddb22e3d-8322-4123-aad3-031eb3dace75\" xmlns:nc=\"urn:ietf:params:xml:ns:netconf:base:1.0\" xmlns=\"urn:ietf:params:xml:ns:netconf:base:1.0\">\n",
      " <ok/>\n",
      "</rpc-reply>\n",
      "\n"
     ]
    }
   ],
   "source": [
    "from ncclient import manager\n",
    "from ncclient.xml_ import to_ele\n",
    "from lxml import etree\n",
    "\n",
    "telemetry = '''\n",
    "<config>\n",
    "<telemetry-model-driven xmlns=\"http://cisco.com/ns/yang/Cisco-IOS-XR-telemetry-model-driven-cfg\">\n",
    "   <destination-groups>\n",
    "    <destination-group>\n",
    "     <destination-id>D1</destination-id>\n",
    "     <ipv4-destinations>\n",
    "      <ipv4-destination>\n",
    "       <ipv4-address>192.168.122.104</ipv4-address>\n",
    "       <destination-port>20030</destination-port>\n",
    "       <encoding>gpb</encoding>\n",
    "       <protocol>\n",
    "        <protocol>grpc</protocol>\n",
    "        <no-tls/>\n",
    "       </protocol>\n",
    "      </ipv4-destination>\n",
    "     </ipv4-destinations>\n",
    "    </destination-group>\n",
    "   </destination-groups>\n",
    "   <sensor-groups>\n",
    "    <sensor-group>\n",
    "     <sensor-group-identifier>SGroup1</sensor-group-identifier>\n",
    "     <sensor-paths>\n",
    "      <sensor-path>\n",
    "       <telemetry-sensor-path>Cisco-IOS-XR-wdsysmon-fd-oper:system-monitoring/cpu-utilization</telemetry-sensor-path>\n",
    "      </sensor-path>\n",
    "     </sensor-paths>\n",
    "    </sensor-group>\n",
    "   </sensor-groups>\n",
    "   <enable></enable>\n",
    "   <subscriptions>\n",
    "    <subscription>\n",
    "     <subscription-identifier>Sub1</subscription-identifier>\n",
    "     <sensor-profiles>\n",
    "      <sensor-profile>\n",
    "       <sensorgroupid>SGroup1</sensorgroupid>\n",
    "       <sample-interval>3000</sample-interval>\n",
    "      </sensor-profile>\n",
    "     </sensor-profiles>\n",
    "     <destination-profiles>\n",
    "      <destination-profile>\n",
    "       <destination-id>D1</destination-id>\n",
    "      </destination-profile>\n",
    "     </destination-profiles>\n",
    "    </subscription>\n",
    "   </subscriptions>\n",
    "  </telemetry-model-driven>\n",
    " </config>\n",
    " '''\n",
    "\n",
    "def connect(host, port, user, password, source):\n",
    "      conn = manager.connect(host=host,\n",
    "                             port=port,\n",
    "                             username=user,\n",
    "                             password = password,\n",
    "                             device_params={'name': 'iosxr'},\n",
    "                             hostkey_verify=False,\n",
    "                             allow_agent=False,\n",
    "                             look_for_keys=False\n",
    "                            )\n",
    "\n",
    "      rpc_reply = conn.edit_config(config=telemetry)\n",
    "      conn.commit()\n",
    "      print(rpc_reply)\n",
    "\n",
    "connect(p1_ipaddress, p1_sshport, 'cisco', 'cisco123', 'candidate')"
   ]
  },
  {
   "cell_type": "markdown",
   "metadata": {},
   "source": [
    "Play the below cell so that the notebook can access the telnet consoles of the devices."
   ]
  },
  {
   "cell_type": "code",
   "execution_count": 9,
   "metadata": {},
   "outputs": [],
   "source": [
    "console_ports = sim.ports()\n",
    "loginp1 = telnetlib.Telnet(str(console_ports['rp1']['HostAgent']) , str(console_ports['rp1']['serial0']))\n",
    "loginser1 = telnetlib.Telnet(str(console_ports['ser1']['HostAgent']) , str(console_ports['ser1']['serial0']))"
   ]
  },
  {
   "cell_type": "markdown",
   "metadata": {},
   "source": [
    "Run the following command till the <i>Sensor Path State</i> is <b>Resolved</b>. Note that the state changes takes a few seconds. After the state changes to Resolved, proceed to the next step."
   ]
  },
  {
   "cell_type": "code",
   "execution_count": 13,
   "metadata": {},
   "outputs": [
    {
     "name": "stdout",
     "output_type": "stream",
     "text": [
      "***** VIEW FROM TELNET CONSOLE OF P1 *****\n",
      "\n",
      "RP/0/RP0/CPU0:P1#show tele mod sensor-group SGroup1 internal\n",
      "Wed Apr 21 12:03:18.875 UTC\n",
      "  Sensor Group Id:SGroup1\n",
      "    Sensor Path:        Cisco-IOS-XR-wdsysmon-fd-oper:system-monitoring/cpu-utilization\n",
      "    Sensor Path State:  Resolved\n",
      "      Sysdb Path:       /oper/wdsysmon_fd/gl/<wdsysmon_fd_oper_CPUUtilization_nodeid>\n",
      "       Yang Path:       Cisco-IOS-XR-wdsysmon-fd-oper:system-monitoring/cpu-utilization\n",
      "\n",
      "\n",
      "RP/0/RP0/CPU0:P1#\n"
     ]
    }
   ],
   "source": [
    "# Show the telemetry configuration applied on the router.\n",
    "loginp1.write(('''\n",
    "show tele mod sensor-group SGroup1 internal\n",
    "''').encode('ascii'))\n",
    "line = loginp1.read_until(b'/r/n',2)\n",
    "print(\"***** VIEW FROM TELNET CONSOLE OF P1 *****\")\n",
    "print(line.decode())"
   ]
  },
  {
   "cell_type": "markdown",
   "metadata": {},
   "source": [
    "## <a name=\"step4\"></a>Verify the telemetry configuration"
   ]
  },
  {
   "cell_type": "markdown",
   "metadata": {},
   "source": [
    "Access the telnet consoles of the router to apply and verify the telemetry configuration."
   ]
  },
  {
   "cell_type": "code",
   "execution_count": 14,
   "metadata": {},
   "outputs": [
    {
     "name": "stdout",
     "output_type": "stream",
     "text": [
      "***** VIEW FROM TELNET CONSOLE OF P1 *****\n",
      "\n",
      "RP/0/RP0/CPU0:P1#show running-config telemetry model-driven\n",
      "Wed Apr 21 12:03:25.132 UTC\n",
      "telemetry model-driven\n",
      " destination-group D1\n",
      "  address-family ipv4 192.168.122.104 port 20030\n",
      "   encoding gpb\n",
      "   protocol grpc no-tls\n",
      "  !\n",
      " !\n",
      " sensor-group SGroup1\n",
      "  sensor-path Cisco-IOS-XR-wdsysmon-fd-oper:system-monitoring/cpu-utilization\n",
      " !\n",
      " subscription Sub1\n",
      "  sensor-group-id SGroup1 sample-interval 3000\n",
      "  destination-id D1\n",
      " !\n",
      "!\n",
      "\n",
      "RP/0/RP0/CPU0:P1#\n"
     ]
    }
   ],
   "source": [
    "# Show the telemetry configuration applied on the router.\n",
    "loginp1.write(('''\n",
    "show running-config telemetry model-driven\n",
    "''').encode('ascii'))\n",
    "line = loginp1.read_until(b'/r/n',2)\n",
    "print(\"***** VIEW FROM TELNET CONSOLE OF P1 *****\")\n",
    "print(line.decode())"
   ]
  },
  {
   "cell_type": "markdown",
   "metadata": {},
   "source": [
    "Verify the deployment of the subscription and the telemetry configuration on the router."
   ]
  },
  {
   "cell_type": "code",
   "execution_count": 15,
   "metadata": {},
   "outputs": [
    {
     "name": "stdout",
     "output_type": "stream",
     "text": [
      "***** VIEW FROM TELNET CONSOLE OF P1 *****\n",
      "\n",
      "RP/0/RP0/CPU0:P1#show telemetry model-driven subscription Sub1\n",
      "Wed Apr 21 12:03:28.439 UTC\n",
      "Subscription:  Sub1\n",
      "-------------\n",
      "  State:       NA\n",
      "  Sensor groups:\n",
      "  Id: SGroup1\n",
      "    Sample Interval:      3000 ms\n",
      "    Heartbeat Interval:   NA\n",
      "    Sensor Path:          Cisco-IOS-XR-wdsysmon-fd-oper:system-monitoring/cpu-utilization\n",
      "    Sensor Path State:    Resolved\n",
      "\n",
      "  Destination Groups:\n",
      "  Group Id: D1\n",
      "    Destination IP:       192.168.122.104\n",
      "    Destination Port:     20030\n",
      "    Encoding:             gpb\n",
      "    Transport:            grpc\n",
      "    State:                NA\n",
      "    TLS :                 False\n",
      "\n",
      "  Collection Groups:\n",
      "  ------------------\n",
      "  No active collection groups\n",
      "\n",
      "RP/0/RP0/CPU0:P1#\n"
     ]
    }
   ],
   "source": [
    "# Show the telemetry configuration applied on the router.\n",
    "loginp1.write(('''\n",
    "show telemetry model-driven subscription Sub1\n",
    "''').encode('ascii'))\n",
    "line = loginp1.read_until(b'/r/n',2)\n",
    "print(\"***** VIEW FROM TELNET CONSOLE OF P1 *****\")\n",
    "print(line.decode())"
   ]
  },
  {
   "cell_type": "markdown",
   "metadata": {},
   "source": [
    "## <a name=\"step5\"></a>View the streamed telemetry data"
   ]
  },
  {
   "cell_type": "markdown",
   "metadata": {},
   "source": [
    "After the telemetry session is established, the router streams data to the receiver to create a data lake. Check the collector console to see the streamed data. Here is the data from the Linx server (collector) console. The collector was configured to steam data to <b>dumpdata.txt file</b>. View its contents from the server console by playing the below cell. Click the stop button in the notebook when you want to stop the cell execution."
   ]
  },
  {
   "cell_type": "code",
   "execution_count": 16,
   "metadata": {},
   "outputs": [
    {
     "name": "stdout",
     "output_type": "stream",
     "text": [
      "***** VIEW FROM TELNET CONSOLE OF SERVER *****\n",
      "\n",
      "[root@localhost ~]# cat /dumpdata.txt\n",
      "[root@localhost ~]# \n"
     ]
    }
   ],
   "source": [
    "loginser1.write(('''\n",
    "cat /dumpdata.txt\n",
    "''').encode('ascii'))\n",
    "line = loginser1.read_until(b'/r/n',1)\n",
    "print(\"***** VIEW FROM TELNET CONSOLE OF SERVER *****\")\n",
    "print(line.decode())"
   ]
  },
  {
   "cell_type": "markdown",
   "metadata": {},
   "source": [
    "> Snapshot of the data captured from the server."
   ]
  },
  {
   "cell_type": "markdown",
   "metadata": {},
   "source": [
    "![StreamedData](dumpdata.png)"
   ]
  },
  {
   "cell_type": "markdown",
   "metadata": {},
   "source": [
    ">Press <b>Ctrl + C</b> to stop the pipeline and the data stream if you are directly accessing the server console."
   ]
  },
  {
   "cell_type": "markdown",
   "metadata": {},
   "source": [
    "![StopPipeline](stoppipeline.png)"
   ]
  },
  {
   "cell_type": "markdown",
   "metadata": {},
   "source": [
    "## <a name=\"step6\"></a>Operate on telemetry data"
   ]
  },
  {
   "cell_type": "markdown",
   "metadata": {},
   "source": [
    "You can start consuming and analyzing telemetry data from the data lake using an open-sourced collection\n",
    "stack based on your requirement. \n",
    "For example, the following tools can be used to analyze the collected telemetry data:\n",
    "- Pipeline is a lightweight tool used to collect data. You can download Network Telemetry Pipeline from Github. You define how you want the collector to interact with routers and where you want to send the\n",
    "processed data using pipeline.conf file.\n",
    "- Telegraph (plugin-driven server agent) and InfluxDB (a time series database (TSDB)) stores telemetry\n",
    "data, which is retrieved by visualization tools. You can download InfluxDB from Github. You define\n",
    "what data you want to include into your TSDB using the metrics.json file.\n",
    "- Grafana is a visualization tool that displays graphs and counters for data streamed from the router.\n",
    "\n",
    "For more information, see http://xrdocs.io/telemetry/."
   ]
  },
  {
   "cell_type": "markdown",
   "metadata": {},
   "source": [
    "#### Clean-up the topology"
   ]
  },
  {
   "cell_type": "markdown",
   "metadata": {},
   "source": [
    ">Once you are done with experimenting on the topology, you should bring down the emulator by executing the following steps:"
   ]
  },
  {
   "cell_type": "code",
   "execution_count": 28,
   "metadata": {},
   "outputs": [
    {
     "name": "stdout",
     "output_type": "stream",
     "text": [
      "^C\n",
      "\n",
      "Interrupt, stopping gracefully\n",
      "\n",
      " Stopping input 'dial_out_'\n",
      " Stopping output 'jsonoutput'\n",
      "Done\n",
      "[root@localhost /]# \n",
      "[root@localhost /]# exit\n",
      "logout\n"
     ]
    }
   ],
   "source": [
    "# Send ctrl-C when you want to stop the execution of pipeline.\n",
    "interact.send(\"\\x03\")\n",
    "interact.expect(PROMPT)\n",
    "\n",
    "interact.send('exit')\n",
    "interact.expect('.*')\n",
    "\n",
    "client.close()\n"
   ]
  },
  {
   "cell_type": "code",
   "execution_count": 29,
   "metadata": {},
   "outputs": [],
   "source": [
    "# close your telnet session\n",
    "loginp1.close()\n",
    "loginser1.close()"
   ]
  },
  {
   "cell_type": "code",
   "execution_count": 2,
   "metadata": {},
   "outputs": [
    {
     "name": "stderr",
     "output_type": "stream",
     "text": [
      "INFO:pyvxr.vxr:Stopping sim on host localhost (dir /nobackup/vxr/pyvxr/xkzr0lnawl)\n",
      "INFO:pyvxr.sim:Stopping previous simulation (if any)\n"
     ]
    }
   ],
   "source": [
    "sim.stop()"
   ]
  },
  {
   "cell_type": "code",
   "execution_count": 3,
   "metadata": {},
   "outputs": [
    {
     "name": "stderr",
     "output_type": "stream",
     "text": [
      "INFO:pyvxr.vxr:Cleaning sim on host localhost (dir /nobackup/vxr/pyvxr/xkzr0lnawl)\n",
      "INFO:pyvxr.sim:Stopping previous simulation (if any)\n",
      "INFO:pyvxr.sim:Cleaning previous simulation (if any)\n"
     ]
    }
   ],
   "source": [
    "sim.clean()"
   ]
  },
  {
   "cell_type": "code",
   "execution_count": 4,
   "metadata": {},
   "outputs": [],
   "source": [
    "# Clean up sim scratch space\n",
    "shutil.rmtree(sim_dir)"
   ]
  },
  {
   "cell_type": "code",
   "execution_count": null,
   "metadata": {},
   "outputs": [],
   "source": []
  }
 ],
 "metadata": {
  "kernelspec": {
   "display_name": "Python 3",
   "language": "python",
   "name": "python3"
  },
  "language_info": {
   "codemirror_mode": {
    "name": "ipython",
    "version": 3
   },
   "file_extension": ".py",
   "mimetype": "text/x-python",
   "name": "python",
   "nbconvert_exporter": "python",
   "pygments_lexer": "ipython3",
   "version": "3.8.8"
  }
 },
 "nbformat": 4,
 "nbformat_minor": 4
}
