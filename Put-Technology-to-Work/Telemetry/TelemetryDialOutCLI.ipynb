{
 "cells": [
  {
   "cell_type": "markdown",
   "metadata": {},
   "source": [
    "# Stream CPU Utilization Data Using Model-driven Telemetry\n",
    "##### <sup>Authored by Veena Manuel (veedas@cisco.com)</sup>"
   ]
  },
  {
   "cell_type": "markdown",
   "metadata": {},
   "source": [
    "The use case illustrates how, with the Dial-out mode, you can use telemetry data to proactively monitor CPU\n",
    "utilization. Monitoring CPU utilization ensures efficient storage capabilities in your network. In a Dial-out mode, the router dials out to the receiver to establish a subscription-based telemetry session."
   ]
  },
  {
   "cell_type": "markdown",
   "metadata": {},
   "source": [
    "The following image represents a topology with 4 routers; router P1 is connected to a collector to stream telemetry data.\n",
    "\n",
    "![Topology](Telemetry-topology.png)"
   ]
  },
  {
   "cell_type": "markdown",
   "metadata": {},
   "source": [
    "Telemetry involves the following workflow:\n",
    "- Define: You define a subscription to stream data from the router to the receiver. To define a subscription,\n",
    "you create a destination-group and a sensor-group.\n",
    "- Deploy: The router establishes a subscription-based telemetry session and streams data to the receiver.\n",
    "You verify subscription deployment on the router.\n",
    "- Operate: You consume and analyse telemetry data using open-source tools, and take necessary actions\n",
    "based on the analysis.\n",
    "\n",
    "To gain an indepth understanding about telemetry streaming modes, see the [Telemetry Configuration Guide](https://www.cisco.com/c/en/us/support/routers/8000-series-routers/products-installation-and-configuration-guides-list.html)."
   ]
  },
  {
   "cell_type": "markdown",
   "metadata": {},
   "source": [
    "## Configuration steps\n",
    "* [Bring up emulator session with the base network and configurations](#step1)\n",
    "* [Configure a Telemetry Session Between the Router and the Collector](#step2)\n",
    "* [Verify the Telemetry configuration](#step3)\n",
    "* [Operate on Telemetry Data](#step4)"
   ]
  },
  {
   "cell_type": "markdown",
   "metadata": {},
   "source": [
    "## <a name=\"step1\"></a>Bring up emulator session with the base network and configurations"
   ]
  },
  {
   "cell_type": "markdown",
   "metadata": {},
   "source": [
    "In order to set up the emulator, you have to execute the cell below by clicking the play button at the top of this notebook. \n",
    "\n",
    "In the cell below, the python module **telemetry** sets up the python enviroment and the simulated router test bed along with the base configurations of IPv4 addresses, OSPF configurations, MPLS configurations, Loopback interfaces, etc. After the import, the below code block initialises and brings up the emulator using **sim.start** API call.\n"
   ]
  },
  {
   "cell_type": "code",
   "execution_count": 1,
   "metadata": {},
   "outputs": [
    {
     "name": "stderr",
     "output_type": "stream",
     "text": [
      "INFO:pyvxr.vxr:v1.1.0 2021-04-23 09:07 output_dir:vxr.out\n",
      "INFO:pyvxr.vxr:b10e8f6b8c14:/home/vxr/notebooks/Put-Technology-to-Work/Telemetry\n",
      "WARNING:pyvxr.vxr:Config not specified or not found. Will attempt to release slurm resources if reserved\n",
      "INFO:pyvxr.vxr:Extracting vxr version from '/opt/cisco/vxr2/latest/setup.sh' file.\n",
      "INFO:pyvxr.vxr_session:Starting a local bash session for user:vxr\n"
     ]
    },
    {
     "name": "stdout",
     "output_type": "stream",
     "text": [
      "3.8.8 (default, Apr 13 2021, 19:58:26) \n",
      "[GCC 7.3.0]\n",
      "Sim clean: Done\n",
      "Simulation starting. Please wait for the Sim status message. This may take 3-10 minutes.\n"
     ]
    },
    {
     "name": "stderr",
     "output_type": "stream",
     "text": [
      "INFO:pyvxr.sim:Launch: sim_dir:/nobackup/vxr/pyvxr/vykkmul6dk sim_rel:/opt/cisco/vxr2/latest\n",
      "INFO:pyvxr.sim:Stopping previous simulation (if any)\n",
      "INFO:pyvxr.sim:Cleaning previous simulation (if any)\n",
      "INFO:pyvxr.sim:Starting vxr: 'sim --skiphomecheck -n '\n",
      "INFO:pyvxr.sim:Vxr up on host localhost\n",
      "INFO:pyvxr.vxr:Getting port vector files for:rp1, rp3, rpe1, rpe3, ser1\n",
      "INFO:pyvxr.console:rp3:wait for XR login prompt (console output captured in vxr.out/logs/console.rp3.log)\n",
      "INFO:pyvxr.console:rpe1:wait for XR login prompt (console output captured in vxr.out/logs/console.rpe1.log)\n",
      "INFO:pyvxr.console:rpe3:wait for XR login prompt (console output captured in vxr.out/logs/console.rpe3.log)\n",
      "INFO:pyvxr.console:rp1:wait for XR login prompt (console output captured in vxr.out/logs/console.rp1.log)\n",
      "INFO:pyvxr.console:rp3:entering new XR username 'cisco', password 'cisco123'\n",
      "INFO:pyvxr.console:rp3:entering XR username 'cisco', password 'cisco123'\n",
      "INFO:pyvxr.bringup:rp3:login successful\n",
      "INFO:pyvxr.bringup:rp3:wait for IOS XR RUN state\n",
      "INFO:pyvxr.bringup:rp3:run state RPs:1 (expected:1) LCs:0 (expected:0)\n",
      "INFO:pyvxr.bringup:rp3:all nodes reached IOS XR RUN state\n",
      "INFO:pyvxr.console:rp3:applying initial XR config (terminal width, etc)\n",
      "INFO:pyvxr.console:rp3:waiting for ztp and cvac to complete\n",
      "INFO:pyvxr.console:rp3:found ztp directory. Assuming ztp present\n",
      "INFO:pyvxr.console:rp3:waiting for ztp to complete\n",
      "INFO:pyvxr.console:rp3:ztp done\n",
      "INFO:pyvxr.console:rpe3:entering new XR username 'cisco', password 'cisco123'\n",
      "INFO:pyvxr.console:rpe3:entering XR username 'cisco', password 'cisco123'\n",
      "INFO:pyvxr.console:rpe1:entering new XR username 'cisco', password 'cisco123'\n",
      "INFO:pyvxr.bringup:rpe3:login successful\n",
      "INFO:pyvxr.bringup:rpe3:wait for IOS XR RUN state\n",
      "INFO:pyvxr.bringup:rpe3:run state RPs:1 (expected:1) LCs:0 (expected:0)\n",
      "INFO:pyvxr.bringup:rpe3:all nodes reached IOS XR RUN state\n",
      "INFO:pyvxr.console:rpe3:applying initial XR config (terminal width, etc)\n",
      "INFO:pyvxr.console:rpe3:waiting for ztp and cvac to complete\n",
      "INFO:pyvxr.console:rpe3:found ztp directory. Assuming ztp present\n",
      "INFO:pyvxr.console:rpe3:waiting for ztp to complete\n",
      "INFO:pyvxr.console:rpe3:ztp done\n",
      "INFO:pyvxr.console:rpe1:entering XR username 'cisco', password 'cisco123'\n",
      "INFO:pyvxr.bringup:rpe1:login successful\n",
      "INFO:pyvxr.console:rp1:entering new XR username 'cisco', password 'cisco123'\n",
      "INFO:pyvxr.bringup:rpe1:wait for IOS XR RUN state\n",
      "INFO:pyvxr.bringup:rpe1:run state RPs:1 (expected:1) LCs:0 (expected:0)\n",
      "INFO:pyvxr.bringup:rpe1:all nodes reached IOS XR RUN state\n",
      "INFO:pyvxr.console:rpe1:applying initial XR config (terminal width, etc)\n",
      "INFO:pyvxr.console:rpe1:waiting for ztp and cvac to complete\n",
      "INFO:pyvxr.console:rpe1:found ztp directory. Assuming ztp present\n",
      "INFO:pyvxr.console:rpe1:waiting for ztp to complete\n",
      "INFO:pyvxr.console:rpe1:ztp done\n",
      "INFO:pyvxr.console:rp1:entering XR username 'cisco', password 'cisco123'\n",
      "INFO:pyvxr.bringup:rp1:login successful\n",
      "INFO:pyvxr.bringup:rp1:wait for IOS XR RUN state\n",
      "INFO:pyvxr.bringup:rp1:run state RPs:1 (expected:1) LCs:0 (expected:0)\n",
      "INFO:pyvxr.bringup:rp1:all nodes reached IOS XR RUN state\n",
      "INFO:pyvxr.console:rp1:applying initial XR config (terminal width, etc)\n",
      "INFO:pyvxr.console:rp1:waiting for ztp and cvac to complete\n",
      "INFO:pyvxr.console:rp1:found ztp directory. Assuming ztp present\n",
      "INFO:pyvxr.console:rp1:waiting for ztp to complete\n",
      "INFO:pyvxr.console:rp1:ztp done\n",
      "INFO:pyvxr.vxr:Setting up ssh tunnels on host 'localhost'\n",
      "INFO:pyvxr.ssh_tunnel:Configure mgmt interfaces before setting up ssh tunnels\n",
      "INFO:pyvxr.console:rp3:need to configure mgmt interface MgmtEth0/RP0/CPU0/0\n",
      "INFO:pyvxr.console:rpe1:need to configure mgmt interface MgmtEth0/RP0/CPU0/0\n",
      "INFO:pyvxr.console:rp1:need to configure mgmt interface MgmtEth0/RP0/CPU0/0\n",
      "INFO:pyvxr.console:ser1:login root/cisco123\n",
      "INFO:pyvxr.console:ser1:sending return\n",
      "INFO:pyvxr.console:ser1:entering linux username 'root'\n",
      "INFO:pyvxr.console:ser1:entering linux password 'cisco123'\n",
      "INFO:pyvxr.console:ser1:reached Linux prompt. Reseting console\n",
      "INFO:pyvxr.console:rp3:mgmt interface configuration applied\n",
      "INFO:pyvxr.console:rpe3:need to configure mgmt interface MgmtEth0/RP0/CPU0/0\n",
      "INFO:pyvxr.console:rp1:mgmt interface configuration applied\n",
      "INFO:pyvxr.console:rpe1:mgmt interface configuration applied\n",
      "INFO:pyvxr.console:rpe3:mgmt interface configuration applied\n",
      "WARNING:pyvxr.vxr_thread:Caught exception from 'rp3' (_configure_mgmt_interface)\n",
      "INFO:pyvxr.vxr:Running sim-check on host localhost (dir /nobackup/vxr/pyvxr/vykkmul6dk)\n",
      "INFO:pyvxr.vxr_session:Starting a local bash session for user:vxr\n",
      "INFO:pyvxr.vxr:Getting log files from localhost:/nobackup/vxr/pyvxr/vykkmul6dk\n",
      "INFO:pyvxr.vxr:Logs located under vxr.out/logs/localhost\n"
     ]
    },
    {
     "name": "stdout",
     "output_type": "stream",
     "text": [
      "Sim launch failed (rp3:No IP address assigned to the management interface (MgmtEth0/RP0/CPU0/0). \u001b[1m\u001b[91m!!! CHECK vxr.out/logs/console.rp3.log FOR CLUES !!!\u001b[0m)\n"
     ]
    }
   ],
   "source": [
    "from telemetry import *\n",
    "sim = Vxr()\n",
    "sim.no_image_copy=True\n",
    "\n",
    "sim.clean()\n",
    "print(\"Sim clean: Done\")\n",
    "print(\"Simulation starting. Please wait for the Sim status message. This may take 3-10 minutes.\")\n",
    "\n",
    "try:\n",
    "    sim.start(cfg)\n",
    "    status = sim.status()\n",
    "    print(\"Sim status: \", status)\n",
    "except Exception as err:\n",
    "    print(\"Sim launch failed (%s)\" % str(err))"
   ]
  },
  {
   "cell_type": "markdown",
   "metadata": {},
   "source": [
    ">At this point, console access to the router is available. Optionally, you can access the simulated router consoles directly from your laptop  through ssh."
   ]
  },
  {
   "cell_type": "code",
   "execution_count": 2,
   "metadata": {},
   "outputs": [
    {
     "name": "stdout",
     "output_type": "stream",
     "text": [
      "Consoles can be reached by:\n",
      "P1: telnet 172.17.0.2 44985 \n",
      "P3: telnet 172.17.0.2 34380 \n",
      "PE1: telnet 172.17.0.2 33912 \n",
      "PE3: telnet 172.17.0.2 44277 \n",
      "ser1: telnet 172.17.0.2 39404\n",
      "or better:\n"
     ]
    },
    {
     "ename": "KeyError",
     "evalue": "'xr_redir22'",
     "output_type": "error",
     "traceback": [
      "\u001b[0;31m---------------------------------------------------------------------------\u001b[0m",
      "\u001b[0;31mKeyError\u001b[0m                                  Traceback (most recent call last)",
      "\u001b[0;32m<ipython-input-2-be9c7123dc6d>\u001b[0m in \u001b[0;36m<module>\u001b[0;34m\u001b[0m\n\u001b[1;32m      2\u001b[0m \u001b[0mprint\u001b[0m\u001b[0;34m(\u001b[0m\u001b[0;34m'P1:'\u001b[0m\u001b[0;34m,\u001b[0m \u001b[0mget_telnet_cmd\u001b[0m\u001b[0;34m(\u001b[0m\u001b[0msim\u001b[0m\u001b[0;34m,\u001b[0m \u001b[0;34m'rp1'\u001b[0m\u001b[0;34m)\u001b[0m\u001b[0;34m,\u001b[0m \u001b[0;34m'\\nP3:'\u001b[0m\u001b[0;34m,\u001b[0m \u001b[0mget_telnet_cmd\u001b[0m\u001b[0;34m(\u001b[0m\u001b[0msim\u001b[0m\u001b[0;34m,\u001b[0m \u001b[0;34m'rp3'\u001b[0m\u001b[0;34m)\u001b[0m\u001b[0;34m,\u001b[0m \u001b[0;34m'\\nPE1:'\u001b[0m\u001b[0;34m,\u001b[0m \u001b[0mget_telnet_cmd\u001b[0m\u001b[0;34m(\u001b[0m\u001b[0msim\u001b[0m\u001b[0;34m,\u001b[0m \u001b[0;34m'rpe1'\u001b[0m\u001b[0;34m)\u001b[0m\u001b[0;34m,\u001b[0m \u001b[0;34m'\\nPE3:'\u001b[0m\u001b[0;34m,\u001b[0m \u001b[0mget_telnet_cmd\u001b[0m\u001b[0;34m(\u001b[0m\u001b[0msim\u001b[0m\u001b[0;34m,\u001b[0m \u001b[0;34m'rpe3'\u001b[0m\u001b[0;34m)\u001b[0m\u001b[0;34m,\u001b[0m \u001b[0;34m'\\nser1:'\u001b[0m\u001b[0;34m,\u001b[0m \u001b[0mget_telnet_cmd\u001b[0m\u001b[0;34m(\u001b[0m\u001b[0msim\u001b[0m\u001b[0;34m,\u001b[0m \u001b[0;34m'ser1'\u001b[0m\u001b[0;34m)\u001b[0m\u001b[0;34m)\u001b[0m\u001b[0;34m\u001b[0m\u001b[0;34m\u001b[0m\u001b[0m\n\u001b[1;32m      3\u001b[0m \u001b[0mprint\u001b[0m\u001b[0;34m(\u001b[0m\u001b[0;34m'or better:'\u001b[0m\u001b[0;34m)\u001b[0m\u001b[0;34m\u001b[0m\u001b[0;34m\u001b[0m\u001b[0m\n\u001b[0;32m----> 4\u001b[0;31m \u001b[0mprint\u001b[0m\u001b[0;34m(\u001b[0m\u001b[0;34m'P1:'\u001b[0m\u001b[0;34m,\u001b[0m \u001b[0mget_ssh_cmd\u001b[0m\u001b[0;34m(\u001b[0m\u001b[0msim\u001b[0m\u001b[0;34m,\u001b[0m \u001b[0;34m'rp1'\u001b[0m\u001b[0;34m)\u001b[0m\u001b[0;34m,\u001b[0m \u001b[0;34m'\\nP3:'\u001b[0m\u001b[0;34m,\u001b[0m \u001b[0mget_ssh_cmd\u001b[0m\u001b[0;34m(\u001b[0m\u001b[0msim\u001b[0m\u001b[0;34m,\u001b[0m \u001b[0;34m'rp3'\u001b[0m\u001b[0;34m)\u001b[0m\u001b[0;34m,\u001b[0m \u001b[0;34m'\\nPE1:'\u001b[0m\u001b[0;34m,\u001b[0m \u001b[0mget_ssh_cmd\u001b[0m\u001b[0;34m(\u001b[0m\u001b[0msim\u001b[0m\u001b[0;34m,\u001b[0m \u001b[0;34m'rpe1'\u001b[0m\u001b[0;34m)\u001b[0m\u001b[0;34m,\u001b[0m  \u001b[0;34m'\\nPE3:'\u001b[0m\u001b[0;34m,\u001b[0m \u001b[0mget_ssh_cmd\u001b[0m\u001b[0;34m(\u001b[0m\u001b[0msim\u001b[0m\u001b[0;34m,\u001b[0m \u001b[0;34m'rpe3'\u001b[0m\u001b[0;34m)\u001b[0m\u001b[0;34m,\u001b[0m \u001b[0;34m'\\nser1:'\u001b[0m\u001b[0;34m,\u001b[0m \u001b[0mget_ssh_cmd\u001b[0m\u001b[0;34m(\u001b[0m\u001b[0msim\u001b[0m\u001b[0;34m,\u001b[0m \u001b[0;34m'ser1'\u001b[0m\u001b[0;34m)\u001b[0m\u001b[0;34m)\u001b[0m\u001b[0;34m,\u001b[0m\u001b[0;34m\u001b[0m\u001b[0;34m\u001b[0m\u001b[0m\n\u001b[0m\u001b[1;32m      5\u001b[0m \u001b[0mprint\u001b[0m\u001b[0;34m(\u001b[0m\u001b[0;34m'The password is cisco123'\u001b[0m\u001b[0;34m)\u001b[0m\u001b[0;34m\u001b[0m\u001b[0;34m\u001b[0m\u001b[0m\n",
      "\u001b[0;32m~/notebooks/Put-Technology-to-Work/Telemetry/telemetry.py\u001b[0m in \u001b[0;36mget_ssh_cmd\u001b[0;34m(sim, device, is_server)\u001b[0m\n\u001b[1;32m    345\u001b[0m         \u001b[0;32mreturn\u001b[0m \u001b[0;34m\"ssh root@\"\u001b[0m \u001b[0;34m+\u001b[0m \u001b[0mstr\u001b[0m\u001b[0;34m(\u001b[0m\u001b[0mconsole_ports\u001b[0m\u001b[0;34m[\u001b[0m\u001b[0mdevice\u001b[0m\u001b[0;34m]\u001b[0m\u001b[0;34m[\u001b[0m\u001b[0;34m'HostAgent'\u001b[0m\u001b[0;34m]\u001b[0m\u001b[0;34m)\u001b[0m \u001b[0;34m+\u001b[0m \u001b[0;34m' -p'\u001b[0m \u001b[0;34m+\u001b[0m \u001b[0mstr\u001b[0m\u001b[0;34m(\u001b[0m\u001b[0mconsole_ports\u001b[0m\u001b[0;34m[\u001b[0m\u001b[0mdevice\u001b[0m\u001b[0;34m]\u001b[0m\u001b[0;34m[\u001b[0m\u001b[0;34m'xr_redir22'\u001b[0m\u001b[0;34m]\u001b[0m\u001b[0;34m)\u001b[0m\u001b[0;34m\u001b[0m\u001b[0;34m\u001b[0m\u001b[0m\n\u001b[1;32m    346\u001b[0m     \u001b[0;32melse\u001b[0m\u001b[0;34m:\u001b[0m\u001b[0;34m\u001b[0m\u001b[0;34m\u001b[0m\u001b[0m\n\u001b[0;32m--> 347\u001b[0;31m         \u001b[0;32mreturn\u001b[0m \u001b[0;34m\"ssh cisco@\"\u001b[0m \u001b[0;34m+\u001b[0m \u001b[0mstr\u001b[0m\u001b[0;34m(\u001b[0m\u001b[0mconsole_ports\u001b[0m\u001b[0;34m[\u001b[0m\u001b[0mdevice\u001b[0m\u001b[0;34m]\u001b[0m\u001b[0;34m[\u001b[0m\u001b[0;34m'HostAgent'\u001b[0m\u001b[0;34m]\u001b[0m\u001b[0;34m)\u001b[0m \u001b[0;34m+\u001b[0m \u001b[0;34m' -p'\u001b[0m \u001b[0;34m+\u001b[0m \u001b[0mstr\u001b[0m\u001b[0;34m(\u001b[0m\u001b[0mconsole_ports\u001b[0m\u001b[0;34m[\u001b[0m\u001b[0mdevice\u001b[0m\u001b[0;34m]\u001b[0m\u001b[0;34m[\u001b[0m\u001b[0;34m'xr_redir22'\u001b[0m\u001b[0;34m]\u001b[0m\u001b[0;34m)\u001b[0m\u001b[0;34m\u001b[0m\u001b[0;34m\u001b[0m\u001b[0m\n\u001b[0m",
      "\u001b[0;31mKeyError\u001b[0m: 'xr_redir22'"
     ]
    }
   ],
   "source": [
    "print('Consoles can be reached by:')\n",
    "print('P1:', get_telnet_cmd(sim, 'rp1'), '\\nP3:', get_telnet_cmd(sim, 'rp3'), '\\nPE1:', get_telnet_cmd(sim, 'rpe1'), '\\nPE3:', get_telnet_cmd(sim, 'rpe3'), '\\nser1:', get_telnet_cmd(sim, 'ser1'))\n",
    "print('or better:')\n",
    "print('P1:', get_ssh_cmd(sim, 'rp1'), '\\nP3:', get_ssh_cmd(sim, 'rp3'), '\\nPE1:', get_ssh_cmd(sim, 'rpe1'),  '\\nPE3:', get_ssh_cmd(sim, 'rpe3'), '\\nser1:', get_ssh_cmd(sim, 'ser1')),\n",
    "print('The password is cisco123')"
   ]
  },
  {
   "cell_type": "markdown",
   "metadata": {},
   "source": [
    ">Accessing the telnet consoles of all 4 routers from this notebook."
   ]
  },
  {
   "cell_type": "code",
   "execution_count": 3,
   "metadata": {},
   "outputs": [],
   "source": [
    "console_ports = sim.ports()\n",
    "loginpe1 = telnetlib.Telnet(str(console_ports['rpe1']['HostAgent']) , str(console_ports['rpe1']['serial0']))\n",
    "loginp1 = telnetlib.Telnet(str(console_ports['rp1']['HostAgent']) , str(console_ports['rp1']['serial0']))\n",
    "loginp3 = telnetlib.Telnet(str(console_ports['rp3']['HostAgent']) , str(console_ports['rp3']['serial0']))\n",
    "loginpe3 = telnetlib.Telnet(str(console_ports['rpe3']['HostAgent']) , str(console_ports['rpe3']['serial0']))\n",
    "loginser1 = telnetlib.Telnet(str(console_ports['ser1']['HostAgent']) , str(console_ports['ser1']['serial0']))"
   ]
  },
  {
   "cell_type": "markdown",
   "metadata": {},
   "source": [
    "## <a name=\"step3\"></a>Configure a telemetry session between the router and the collector"
   ]
  },
  {
   "cell_type": "markdown",
   "metadata": {},
   "source": [
    "Enter telemetry configuration mmode."
   ]
  },
  {
   "cell_type": "code",
   "execution_count": 4,
   "metadata": {},
   "outputs": [
    {
     "name": "stdout",
     "output_type": "stream",
     "text": [
      "***** VIEW FROM TELNET CONSOLE OF P1 *****\n",
      "\n",
      "RP/0/RP0/CPU0:P1#config\n",
      "Wed Apr 21 11:56:31.209 UTC\n",
      "RP/0/RP0/CPU0:P1(config)#telemetry model-driven\n",
      "RP/0/RP0/CPU0:P1(config-model-driven)#!\n",
      "RP/0/RP0/CPU0:P1(config-model-driven)#commit\n",
      "Wed Apr 21 11:56:31.680 UTC\n",
      "RP/0/RP0/CPU0:P1(config-model-driven)#\n"
     ]
    }
   ],
   "source": [
    "loginp1.write(('''\n",
    "config\n",
    "telemetry model-driven\n",
    "!\n",
    "commit\n",
    "''').encode('ascii'))\n",
    "line = loginp1.read_until(b'/r/n',3)\n",
    "print(\"***** VIEW FROM TELNET CONSOLE OF P1 *****\")\n",
    "print(line.decode())"
   ]
  },
  {
   "cell_type": "markdown",
   "metadata": {},
   "source": [
    "### <a name=\"step3a\"></a>Create a Destination Group"
   ]
  },
  {
   "cell_type": "markdown",
   "metadata": {},
   "source": [
    "Create one or more destinations to collect telemetry data from a router. Define a destination-group to contain the details about the destinations. Include the destination address (ipv4 or ipv6), port, transport, and encoding format in the destination-group.\n",
    "\n",
    "> This use case uses 'self-describing-gpb' encoding and 'UDP' as the transport protocol. If you use TCP or gRPC, ensure that a receiver is setup at the collector. The receiver must match the values for encoding, transport and port that you set in the telemetry configuration.   "
   ]
  },
  {
   "cell_type": "markdown",
   "metadata": {},
   "source": [
    ">Port number range <1-65535>."
   ]
  },
  {
   "cell_type": "markdown",
   "metadata": {},
   "source": [
    "> IMPORTANT: Do not forget to replace the destination address and port number of the collector in your setup. "
   ]
  },
  {
   "cell_type": "code",
   "execution_count": 5,
   "metadata": {},
   "outputs": [
    {
     "name": "stdout",
     "output_type": "stream",
     "text": [
      "***** VIEW FROM TELNET CONSOLE OF P1 *****\n",
      "\n",
      "RP/0/RP0/CPU0:P1(config-model-driven)#destination-group D1\n",
      "RP/0/RP0/CPU0:P1(config-model-driven-dest)#   address-family ipv4 192.168.123.99 port 20030  \n",
      "RP/0/RP0/CPU0:P1(config-model-driven-dest-addr)#   encoding self-describing-gpb  \n",
      "RP/0/RP0/CPU0:P1(config-model-driven-dest-addr)#   protocol udp\n",
      "RP/0/RP0/CPU0:P1(config-model-driven-dest-addr)# !\n",
      "RP/0/RP0/CPU0:P1(config-model-driven-dest-addr)#commit\n",
      "Wed Apr 21 11:56:36.964 UTC\n",
      "RP/0/RP0/CPU0:P1(config-model-driven-dest-addr)#exit\n",
      "RP/0/RP0/CPU0:P1(config-model-driven-dest)#exit\n",
      "RP/0/RP0/CPU0:P1(config-model-driven)#\n"
     ]
    }
   ],
   "source": [
    "loginp1.write(('''\n",
    "destination-group D1\n",
    "   address-family ipv4 192.168.123.99 port 20030  \n",
    "   encoding self-describing-gpb  \n",
    "   protocol udp\n",
    " !\n",
    "commit\n",
    "exit\n",
    "exit\n",
    "''').encode('ascii'))\n",
    "line = loginp1.read_until(b'/r/n',3)\n",
    "print(\"***** VIEW FROM TELNET CONSOLE OF P1 *****\")\n",
    "print(line.decode())"
   ]
  },
  {
   "cell_type": "markdown",
   "metadata": {},
   "source": [
    "### <a name=\"step3b\"></a>Create a Sensor-group"
   ]
  },
  {
   "cell_type": "markdown",
   "metadata": {},
   "source": [
    "Specify the subset of the data that you want to stream from the router using sensor paths. The Sensor path represents the path in the hierarchy of a YANG data model. Create a sensor-group to contain the sensor paths."
   ]
  },
  {
   "cell_type": "markdown",
   "metadata": {},
   "source": [
    ">Here, the sensor path is for streaming CPU utilization."
   ]
  },
  {
   "cell_type": "code",
   "execution_count": 6,
   "metadata": {},
   "outputs": [
    {
     "name": "stdout",
     "output_type": "stream",
     "text": [
      "***** VIEW FROM TELNET CONSOLE OF P1 *****\n",
      "\n",
      "RP/0/RP0/CPU0:P1(config-model-driven)#sensor-group SGroup1\n",
      "RP/0/RP0/CPU0:P1(config-model-driven-snsr-grp)#   sensor-path Cisco-IOS-XR-wdsysmon-fd-oper:system-monitoring/cpu-utilization\n",
      "RP/0/RP0/CPU0:P1(config-model-driven-snsr-grp)# !  \n",
      "RP/0/RP0/CPU0:P1(config-model-driven-snsr-grp)#commit\n",
      "Wed Apr 21 11:56:40.829 UTC\n",
      "RP/0/RP0/CPU0:P1(config-model-driven-snsr-grp)#exit\n",
      "RP/0/RP0/CPU0:P1(config-model-driven)#\n"
     ]
    }
   ],
   "source": [
    "loginp1.write(('''\n",
    "sensor-group SGroup1\n",
    "   sensor-path Cisco-IOS-XR-wdsysmon-fd-oper:system-monitoring/cpu-utilization\n",
    " !  \n",
    "commit\n",
    "exit\n",
    "''').encode('ascii'))\n",
    "line = loginp1.read_until(b'/r/n',3)\n",
    "print(\"***** VIEW FROM TELNET CONSOLE OF P1 *****\")\n",
    "print(line.decode())"
   ]
  },
  {
   "cell_type": "markdown",
   "metadata": {},
   "source": [
    "### <a name=\"step3c\"></a>Create a Subscription"
   ]
  },
  {
   "cell_type": "markdown",
   "metadata": {},
   "source": [
    "Subscribe to telemetry data that is streamed from a router. A Subscription binds the destination-group with the sensor-group and sets the streaming method. The streaming method can be Cadence-driven or Event-driven telemetry. Cadence-driven telemetry continually streams data (operational statistics and state transitions) at a configured cadence. Whereas, event-driven telemetry optimizes data that is collected at the receiver and streams data only when a state transition occurs."
   ]
  },
  {
   "cell_type": "code",
   "execution_count": 7,
   "metadata": {},
   "outputs": [
    {
     "name": "stdout",
     "output_type": "stream",
     "text": [
      "***** VIEW FROM TELNET CONSOLE OF P1 *****\n",
      "\n",
      "-interval 30000  \n",
      "  destination-id D1 \n",
      " !\n",
      "commit\n",
      "root\n",
      "exit\n",
      "RP/0/RP0/CPU0:P1(config-model-driven)#subscription Sub1  \n",
      "RP/0/RP0/CPU0:P1(config-model-driven-subs)#  sensor-group-id SGroup1 sample-interval 30000  \n",
      "RP/0/RP0/CPU0:P1(config-model-driven-subs)#  destination-id D1 \n",
      "RP/0/RP0/CPU0:P1(config-model-driven-subs)# !\n",
      "RP/0/RP0/CPU0:P1(config-model-driven-subs)#commit\n",
      "Wed Apr 21 11:56:43.855 UTC\n",
      "RP/0/RP0/CPU0:P1(config-model-driven-subs)#root\n",
      "RP/0/RP0/CPU0:P1(config)#exit\n",
      "RP/0/RP0/CPU0:P1#\n"
     ]
    }
   ],
   "source": [
    "loginp1.write(('''\n",
    "subscription Sub1  \n",
    "  sensor-group-id SGroup1 sample-interval 30000  \n",
    "  destination-id D1 \n",
    " !\n",
    "commit\n",
    "root\n",
    "exit\n",
    "''').encode('ascii'))\n",
    "line = loginp1.read_until(b'/r/n',3)\n",
    "print(\"***** VIEW FROM TELNET CONSOLE OF P1 *****\")\n",
    "print(line.decode())"
   ]
  },
  {
   "cell_type": "markdown",
   "metadata": {},
   "source": [
    "## <a name=\"step4\"></a>Verify the Telemetry Configuration"
   ]
  },
  {
   "cell_type": "markdown",
   "metadata": {},
   "source": [
    "Verify the deployment of the subscription on the router."
   ]
  },
  {
   "cell_type": "code",
   "execution_count": 8,
   "metadata": {},
   "outputs": [
    {
     "name": "stdout",
     "output_type": "stream",
     "text": [
      "***** VIEW FROM TELNET CONSOLE OF P1 *****\n",
      "\n",
      "RP/0/RP0/CPU0:P1#show running-config telemetry model-driven\n",
      "Wed Apr 21 11:56:50.678 UTC\n",
      "telemetry model-driven\n",
      " destination-group D1\n",
      "  address-family ipv4 192.168.122.99 port 20030\n",
      "   encoding self-describing-gpb\n",
      "   protocol udp\n",
      "  !\n",
      " !\n",
      " sensor-group SGroup1\n",
      "  sensor-path Cisco-IOS-XR-wdsysmon-fd-oper:system-monitoring/cpu-utilization\n",
      " !\n",
      " subscription Sub1\n",
      "  sensor-group-id SGroup1 sample-interval 30000\n",
      "  destination-id D1\n",
      " !\n",
      "!\n",
      "\n",
      "RP/0/RP0/CPU0:P1#\n"
     ]
    }
   ],
   "source": [
    "# Show the telemetry configuration applied on the router.\n",
    "loginp1.write(('''\n",
    "show running-config telemetry model-driven\n",
    "''').encode('ascii'))\n",
    "line = loginp1.read_until(b'/r/n',2)\n",
    "print(\"***** VIEW FROM TELNET CONSOLE OF P1 *****\")\n",
    "print(line.decode())"
   ]
  },
  {
   "cell_type": "code",
   "execution_count": 9,
   "metadata": {},
   "outputs": [
    {
     "name": "stdout",
     "output_type": "stream",
     "text": [
      "***** VIEW FROM TELNET CONSOLE OF P1 *****\n",
      "\n",
      "RP/0/RP0/CPU0:P1#show telemetry model-driven subscription Sub1\n",
      "Wed Apr 21 11:56:53.628 UTC\n",
      "Subscription:  Sub1\n",
      "-------------\n",
      "  State:       NA\n",
      "  Sensor groups:\n",
      "  Id: SGroup1\n",
      "    Sample Interval:      30000 ms\n",
      "    Heartbeat Interval:   NA\n",
      "    Sensor Path:          Cisco-IOS-XR-wdsysmon-fd-oper:system-monitoring/cpu-utilization\n",
      "    Sensor Path State:    Not Resolved\n",
      "\n",
      "  Destination Groups:\n",
      "  Group Id: D1\n",
      "    Destination IP:       192.168.122.99\n",
      "    Destination Port:     20030\n",
      "    Encoding:             self-describing-gpb\n",
      "    Transport:            udp\n",
      "    State:                NA\n",
      "    TLS :                 False\n",
      "\n",
      "  Collection Groups:\n",
      "  ------------------\n",
      "  No active collection groups\n",
      "\n",
      "RP/0/RP0/CPU0:P1#\n"
     ]
    }
   ],
   "source": [
    "# Show the telemetry configuration applied on the router.\n",
    "loginp1.write(('''\n",
    "show telemetry model-driven subscription Sub1\n",
    "''').encode('ascii'))\n",
    "line = loginp1.read_until(b'/r/n',2)\n",
    "print(\"***** VIEW FROM TELNET CONSOLE OF P1 *****\")\n",
    "print(line.decode())"
   ]
  },
  {
   "cell_type": "markdown",
   "metadata": {},
   "source": [
    ">After the telemetry session is established, the router streams data to the receiver to create a data lake. Check the collector console to see the streamed data."
   ]
  },
  {
   "cell_type": "markdown",
   "metadata": {},
   "source": [
    "## <a name=\"step5\"></a>Operate on Telemetry Data"
   ]
  },
  {
   "cell_type": "markdown",
   "metadata": {},
   "source": [
    "You can start consuming and analyzing telemetry data from the data lake using an open-sourced collection\n",
    "stack based on your requirement. \n",
    "For example, the following tools can be used to analyze the collected telemetry data:\n",
    "- Pipeline is a lightweight tool used to collect data. You can download Network Telemetry Pipeline from Github. You define how you want the collector to interact with routers and where you want to send the\n",
    "processed data using pipeline.conf file.\n",
    "- Telegraph (plugin-driven server agent) and InfluxDB (a time series database (TSDB)) stores telemetry\n",
    "data, which is retrieved by visualization tools. You can download InfluxDB from Github. You define\n",
    "what data you want to include into your TSDB using the metrics.json file.\n",
    "- Grafana is a visualization tool that displays graphs and counters for data streamed from the router.\n",
    "\n",
    "For more information, see http://xrdocs.io/telemetry/."
   ]
  },
  {
   "cell_type": "markdown",
   "metadata": {},
   "source": [
    "#### Clean-up the topology"
   ]
  },
  {
   "cell_type": "markdown",
   "metadata": {},
   "source": [
    ">Once you are done with experimenting on the topology, you should bring down the emulator by executing the following steps:"
   ]
  },
  {
   "cell_type": "code",
   "execution_count": 2,
   "metadata": {},
   "outputs": [
    {
     "ename": "NameError",
     "evalue": "name 'loginp1' is not defined",
     "output_type": "error",
     "traceback": [
      "\u001b[0;31m---------------------------------------------------------------------------\u001b[0m",
      "\u001b[0;31mNameError\u001b[0m                                 Traceback (most recent call last)",
      "\u001b[0;32m<ipython-input-2-4005d910137f>\u001b[0m in \u001b[0;36m<module>\u001b[0;34m\u001b[0m\n\u001b[1;32m      1\u001b[0m \u001b[0;31m# close our telnet\u001b[0m\u001b[0;34m\u001b[0m\u001b[0;34m\u001b[0m\u001b[0;34m\u001b[0m\u001b[0m\n\u001b[0;32m----> 2\u001b[0;31m \u001b[0mloginp1\u001b[0m\u001b[0;34m.\u001b[0m\u001b[0mclose\u001b[0m\u001b[0;34m(\u001b[0m\u001b[0;34m)\u001b[0m\u001b[0;34m\u001b[0m\u001b[0;34m\u001b[0m\u001b[0m\n\u001b[0m\u001b[1;32m      3\u001b[0m \u001b[0mloginpe1\u001b[0m\u001b[0;34m.\u001b[0m\u001b[0mclose\u001b[0m\u001b[0;34m(\u001b[0m\u001b[0;34m)\u001b[0m\u001b[0;34m\u001b[0m\u001b[0;34m\u001b[0m\u001b[0m\n\u001b[1;32m      4\u001b[0m \u001b[0mloginser1\u001b[0m\u001b[0;34m.\u001b[0m\u001b[0mclose\u001b[0m\u001b[0;34m(\u001b[0m\u001b[0;34m)\u001b[0m\u001b[0;34m\u001b[0m\u001b[0;34m\u001b[0m\u001b[0m\n",
      "\u001b[0;31mNameError\u001b[0m: name 'loginp1' is not defined"
     ]
    }
   ],
   "source": [
    "# close our telnet\n",
    "loginp1.close()\n",
    "loginpe1.close()\n",
    "loginser1.close()"
   ]
  },
  {
   "cell_type": "code",
   "execution_count": 2,
   "metadata": {},
   "outputs": [
    {
     "name": "stderr",
     "output_type": "stream",
     "text": [
      "INFO:pyvxr.vxr:Stopping sim on host localhost (dir /nobackup/vxr/pyvxr/vykkmul6dk)\n",
      "INFO:pyvxr.sim:Stopping previous simulation (if any)\n"
     ]
    }
   ],
   "source": [
    "sim.stop()"
   ]
  },
  {
   "cell_type": "code",
   "execution_count": null,
   "metadata": {},
   "outputs": [
    {
     "name": "stderr",
     "output_type": "stream",
     "text": [
      "INFO:pyvxr.vxr:Cleaning sim on host localhost (dir /nobackup/vxr/pyvxr/vykkmul6dk)\n",
      "INFO:pyvxr.sim:Stopping previous simulation (if any)\n"
     ]
    }
   ],
   "source": [
    "sim.clean()"
   ]
  },
  {
   "cell_type": "code",
   "execution_count": null,
   "metadata": {},
   "outputs": [],
   "source": [
    "# Clean up sim scratch space\n",
    "shutil.rmtree(sim_dir)"
   ]
  },
  {
   "cell_type": "code",
   "execution_count": null,
   "metadata": {},
   "outputs": [],
   "source": []
  }
 ],
 "metadata": {
  "kernelspec": {
   "display_name": "Python 3",
   "language": "python",
   "name": "python3"
  },
  "language_info": {
   "codemirror_mode": {
    "name": "ipython",
    "version": 3
   },
   "file_extension": ".py",
   "mimetype": "text/x-python",
   "name": "python",
   "nbconvert_exporter": "python",
   "pygments_lexer": "ipython3",
   "version": "3.8.8"
  }
 },
 "nbformat": 4,
 "nbformat_minor": 4
}
