{
 "cells": [
  {
   "cell_type": "markdown",
   "id": "bc6f02d6-637f-43e3-ada9-998fef55acfb",
   "metadata": {},
   "source": [
    "# Notebook Quick Test\n",
    "###### <sup>Developed by: Sarah Samuel (sasamuel@cisco.com). </sup>"
   ]
  },
  {
   "cell_type": "markdown",
   "id": "12f04f00-3d1e-430a-b084-b686766ef392",
   "metadata": {},
   "source": [
    "A short notebook to test the main notebook components:\n",
    "* Sim-up with 5 routers + linux server\n",
    "* Basic configurations and protocols\n",
    "* TREX\n",
    "* Traffic\n",
    "* Yang models for configuring routers\n",
    "\n",
    "#### TOPOLOGY:\n",
    "![Topology](../QoS/tgn-ospf-mpls.png)\n"
   ]
  },
  {
   "cell_type": "code",
   "execution_count": 1,
   "id": "458d81bd-b2ca-43d1-8f95-e2271ed473c5",
   "metadata": {
    "execution": {
     "iopub.execute_input": "2021-07-15T16:03:47.361512Z",
     "iopub.status.busy": "2021-07-15T16:03:47.360348Z",
     "iopub.status.idle": "2021-07-15T16:03:54.956871Z",
     "shell.execute_reply": "2021-07-15T16:03:54.957653Z"
    }
   },
   "outputs": [
    {
     "name": "stdout",
     "output_type": "stream",
     "text": [
      "Requirement already satisfied: ncclient in /home/vxr/miniconda3/envs/pyvxr/lib/python3.8/site-packages (0.6.12)\r\n"
     ]
    },
    {
     "name": "stdout",
     "output_type": "stream",
     "text": [
      "Requirement already satisfied: setuptools>0.6 in /home/vxr/miniconda3/envs/pyvxr/lib/python3.8/site-packages (from ncclient) (52.0.0.post20210125)\r\n",
      "Requirement already satisfied: six in /home/vxr/miniconda3/envs/pyvxr/lib/python3.8/site-packages (from ncclient) (1.16.0)\r\n",
      "Requirement already satisfied: lxml>=3.3.0 in /home/vxr/miniconda3/envs/pyvxr/lib/python3.8/site-packages (from ncclient) (4.6.3)\r\n",
      "Requirement already satisfied: paramiko>=1.15.0 in /home/vxr/miniconda3/envs/pyvxr/lib/python3.8/site-packages (from ncclient) (2.7.2)\r\n",
      "Requirement already satisfied: bcrypt>=3.1.3 in /home/vxr/miniconda3/envs/pyvxr/lib/python3.8/site-packages (from paramiko>=1.15.0->ncclient) (3.2.0)\r\n",
      "Requirement already satisfied: cryptography>=2.5 in /home/vxr/miniconda3/envs/pyvxr/lib/python3.8/site-packages (from paramiko>=1.15.0->ncclient) (3.4.7)\r\n"
     ]
    },
    {
     "name": "stdout",
     "output_type": "stream",
     "text": [
      "Requirement already satisfied: pynacl>=1.0.1 in /home/vxr/miniconda3/envs/pyvxr/lib/python3.8/site-packages (from paramiko>=1.15.0->ncclient) (1.4.0)\r\n",
      "Requirement already satisfied: cffi>=1.1 in /home/vxr/miniconda3/envs/pyvxr/lib/python3.8/site-packages (from bcrypt>=3.1.3->paramiko>=1.15.0->ncclient) (1.14.6)\r\n",
      "Requirement already satisfied: pycparser in /home/vxr/miniconda3/envs/pyvxr/lib/python3.8/site-packages (from cffi>=1.1->bcrypt>=3.1.3->paramiko>=1.15.0->ncclient) (2.20)\r\n"
     ]
    },
    {
     "name": "stdout",
     "output_type": "stream",
     "text": [
      "Requirement already satisfied: paramiko in /home/vxr/miniconda3/envs/pyvxr/lib/python3.8/site-packages (2.7.2)\r\n"
     ]
    },
    {
     "name": "stdout",
     "output_type": "stream",
     "text": [
      "Requirement already satisfied: cryptography>=2.5 in /home/vxr/miniconda3/envs/pyvxr/lib/python3.8/site-packages (from paramiko) (3.4.7)\r\n",
      "Requirement already satisfied: bcrypt>=3.1.3 in /home/vxr/miniconda3/envs/pyvxr/lib/python3.8/site-packages (from paramiko) (3.2.0)\r\n",
      "Requirement already satisfied: pynacl>=1.0.1 in /home/vxr/miniconda3/envs/pyvxr/lib/python3.8/site-packages (from paramiko) (1.4.0)\r\n",
      "Requirement already satisfied: six>=1.4.1 in /home/vxr/miniconda3/envs/pyvxr/lib/python3.8/site-packages (from bcrypt>=3.1.3->paramiko) (1.16.0)\r\n",
      "Requirement already satisfied: cffi>=1.1 in /home/vxr/miniconda3/envs/pyvxr/lib/python3.8/site-packages (from bcrypt>=3.1.3->paramiko) (1.14.6)\r\n",
      "Requirement already satisfied: pycparser in /home/vxr/miniconda3/envs/pyvxr/lib/python3.8/site-packages (from cffi>=1.1->bcrypt>=3.1.3->paramiko) (2.20)\r\n"
     ]
    },
    {
     "name": "stdout",
     "output_type": "stream",
     "text": [
      "Requirement already satisfied: paramiko-expect in /home/vxr/miniconda3/envs/pyvxr/lib/python3.8/site-packages (0.3.0)\r\n",
      "Requirement already satisfied: paramiko>=1.10.1 in /home/vxr/miniconda3/envs/pyvxr/lib/python3.8/site-packages (from paramiko-expect) (2.7.2)\r\n"
     ]
    },
    {
     "name": "stdout",
     "output_type": "stream",
     "text": [
      "Requirement already satisfied: cryptography>=2.5 in /home/vxr/miniconda3/envs/pyvxr/lib/python3.8/site-packages (from paramiko>=1.10.1->paramiko-expect) (3.4.7)\r\n",
      "Requirement already satisfied: pynacl>=1.0.1 in /home/vxr/miniconda3/envs/pyvxr/lib/python3.8/site-packages (from paramiko>=1.10.1->paramiko-expect) (1.4.0)\r\n",
      "Requirement already satisfied: bcrypt>=3.1.3 in /home/vxr/miniconda3/envs/pyvxr/lib/python3.8/site-packages (from paramiko>=1.10.1->paramiko-expect) (3.2.0)\r\n",
      "Requirement already satisfied: six>=1.4.1 in /home/vxr/miniconda3/envs/pyvxr/lib/python3.8/site-packages (from bcrypt>=3.1.3->paramiko>=1.10.1->paramiko-expect) (1.16.0)\r\n",
      "Requirement already satisfied: cffi>=1.1 in /home/vxr/miniconda3/envs/pyvxr/lib/python3.8/site-packages (from bcrypt>=3.1.3->paramiko>=1.10.1->paramiko-expect) (1.14.6)\r\n",
      "Requirement already satisfied: pycparser in /home/vxr/miniconda3/envs/pyvxr/lib/python3.8/site-packages (from cffi>=1.1->bcrypt>=3.1.3->paramiko>=1.10.1->paramiko-expect) (2.20)\r\n"
     ]
    }
   ],
   "source": [
    "!pip install ncclient\n",
    "!pip install paramiko\n",
    "!pip install paramiko-expect"
   ]
  },
  {
   "cell_type": "code",
   "execution_count": 2,
   "id": "f4c6ffd8-1b5c-4cb0-b161-167fac7a3b3b",
   "metadata": {
    "execution": {
     "iopub.execute_input": "2021-07-15T16:03:54.973205Z",
     "iopub.status.busy": "2021-07-15T16:03:54.972236Z",
     "iopub.status.idle": "2021-07-15T16:08:55.381434Z",
     "shell.execute_reply": "2021-07-15T16:08:55.380450Z"
    }
   },
   "outputs": [
    {
     "name": "stderr",
     "output_type": "stream",
     "text": [
      "INFO:pyvxr.vxr:v1.1.1 2021-07-15 16:03 output_dir:vxr.out\n"
     ]
    },
    {
     "name": "stderr",
     "output_type": "stream",
     "text": [
      "INFO:pyvxr.vxr:96846d5bb628:/home/vxr/notebooks/Put-Technology-to-Work/testNotebooks\n"
     ]
    },
    {
     "name": "stderr",
     "output_type": "stream",
     "text": [
      "WARNING:pyvxr.vxr:Config not specified or not found. Will attempt to release slurm resources if reserved\n"
     ]
    },
    {
     "name": "stderr",
     "output_type": "stream",
     "text": [
      "INFO:pyvxr.vxr:Extracting vxr version from '/opt/cisco/vxr2/latest/setup.sh' file.\n"
     ]
    },
    {
     "name": "stderr",
     "output_type": "stream",
     "text": [
      "INFO:pyvxr.vxr_session:Starting a local bash session for user:vxr\n"
     ]
    },
    {
     "name": "stdout",
     "output_type": "stream",
     "text": [
      "3.8.10 (default, Jun  4 2021, 15:09:15) \n",
      "[GCC 7.5.0]\n",
      "Sim clean: Done\n",
      "Simulation starting. Please wait for the Sim status message. This may take 3-10 minutes.\n"
     ]
    },
    {
     "name": "stderr",
     "output_type": "stream",
     "text": [
      "INFO:pyvxr.sim:Launch: sim_dir:/nobackup/vxr/pyvxr/1osxeycjb7 sim_rel:/opt/cisco/vxr2/latest\n"
     ]
    },
    {
     "name": "stderr",
     "output_type": "stream",
     "text": [
      "INFO:pyvxr.sim:Stopping previous simulation (if any)\n"
     ]
    },
    {
     "name": "stderr",
     "output_type": "stream",
     "text": [
      "INFO:pyvxr.sim:Cleaning previous simulation (if any)\n"
     ]
    },
    {
     "name": "stderr",
     "output_type": "stream",
     "text": [
      "INFO:pyvxr.sim:Starting vxr: 'sim --skiphomecheck -n '\n"
     ]
    },
    {
     "name": "stderr",
     "output_type": "stream",
     "text": [
      "INFO:pyvxr.sim:Vxr up on host localhost\n"
     ]
    },
    {
     "name": "stderr",
     "output_type": "stream",
     "text": [
      "INFO:pyvxr.vxr:Getting port vector files for:rce1, rce2, rp1, rpe1, rpe2, trex\n"
     ]
    },
    {
     "name": "stderr",
     "output_type": "stream",
     "text": [
      "/bin/cp: cannot stat '/nobackup/vxr/pyvxr/1osxeycjb7/rce1/PortVector.txt': No such file or directory\n",
      "/bin/cp: cannot stat '/nobackup/vxr/pyvxr/1osxeycjb7/rce2/PortVector.txt': No such file or directory\n",
      "/bin/cp: cannot stat '/nobackup/vxr/pyvxr/1osxeycjb7/rp1/PortVector.txt': No such file or directory\n",
      "/bin/cp: cannot stat '/nobackup/vxr/pyvxr/1osxeycjb7/rpe1/PortVector.txt': No such file or directory\n",
      "/bin/cp: cannot stat '/nobackup/vxr/pyvxr/1osxeycjb7/rpe2/PortVector.txt': No such file or directory\n",
      "/bin/cp: cannot stat '/nobackup/vxr/pyvxr/1osxeycjb7/trex/PortVector.txt': No such file or directory\n"
     ]
    },
    {
     "name": "stderr",
     "output_type": "stream",
     "text": [
      "INFO:pyvxr.console:rce1:wait for XR login prompt (console output captured in vxr.out/logs/console.rce1.log)\n"
     ]
    },
    {
     "name": "stderr",
     "output_type": "stream",
     "text": [
      "INFO:pyvxr.console:rpe1:wait for XR login prompt (console output captured in vxr.out/logs/console.rpe1.log)\n"
     ]
    },
    {
     "name": "stderr",
     "output_type": "stream",
     "text": [
      "INFO:pyvxr.console:rpe2:wait for XR login prompt (console output captured in vxr.out/logs/console.rpe2.log)\n"
     ]
    },
    {
     "name": "stderr",
     "output_type": "stream",
     "text": [
      "INFO:pyvxr.console:rce2:wait for XR login prompt (console output captured in vxr.out/logs/console.rce2.log)\n"
     ]
    },
    {
     "name": "stderr",
     "output_type": "stream",
     "text": [
      "INFO:pyvxr.console:rp1:wait for XR login prompt (console output captured in vxr.out/logs/console.rp1.log)\n"
     ]
    },
    {
     "name": "stderr",
     "output_type": "stream",
     "text": [
      "INFO:pyvxr.console:rce2:entering new XR username 'cisco', password 'cisco123'\n"
     ]
    },
    {
     "name": "stderr",
     "output_type": "stream",
     "text": [
      "INFO:pyvxr.console:rce2:entering XR username 'cisco', password 'cisco123'\n"
     ]
    },
    {
     "name": "stderr",
     "output_type": "stream",
     "text": [
      "INFO:pyvxr.bringup:rce2:login successful\n"
     ]
    },
    {
     "name": "stderr",
     "output_type": "stream",
     "text": [
      "INFO:pyvxr.bringup:rce2:wait for IOS XR RUN state\n"
     ]
    },
    {
     "name": "stderr",
     "output_type": "stream",
     "text": [
      "INFO:pyvxr.bringup:rce2:run state RPs:1 (expected:1) LCs:0 (expected:0)\n"
     ]
    },
    {
     "name": "stderr",
     "output_type": "stream",
     "text": [
      "INFO:pyvxr.bringup:rce2:all nodes reached IOS XR RUN state\n"
     ]
    },
    {
     "name": "stderr",
     "output_type": "stream",
     "text": [
      "INFO:pyvxr.console:rce2:applying initial XR config (terminal width, etc)\n"
     ]
    },
    {
     "name": "stderr",
     "output_type": "stream",
     "text": [
      "INFO:pyvxr.console:rce2:waiting for ztp and cvac to complete\n"
     ]
    },
    {
     "name": "stderr",
     "output_type": "stream",
     "text": [
      "INFO:pyvxr.console:rce2:found ztp directory. Assuming ztp present\n"
     ]
    },
    {
     "name": "stderr",
     "output_type": "stream",
     "text": [
      "INFO:pyvxr.console:rce2:waiting for ztp to complete\n"
     ]
    },
    {
     "name": "stderr",
     "output_type": "stream",
     "text": [
      "INFO:pyvxr.console:rce2:ztp done\n"
     ]
    },
    {
     "name": "stderr",
     "output_type": "stream",
     "text": [
      "INFO:pyvxr.console:rpe1:entering new XR username 'cisco', password 'cisco123'\n"
     ]
    },
    {
     "name": "stderr",
     "output_type": "stream",
     "text": [
      "INFO:pyvxr.console:rpe1:entering XR username 'cisco', password 'cisco123'\n"
     ]
    },
    {
     "name": "stderr",
     "output_type": "stream",
     "text": [
      "INFO:pyvxr.bringup:rpe1:login successful\n"
     ]
    },
    {
     "name": "stderr",
     "output_type": "stream",
     "text": [
      "INFO:pyvxr.bringup:rpe1:wait for IOS XR RUN state\n"
     ]
    },
    {
     "name": "stderr",
     "output_type": "stream",
     "text": [
      "INFO:pyvxr.bringup:rpe1:run state RPs:1 (expected:1) LCs:0 (expected:0)\n"
     ]
    },
    {
     "name": "stderr",
     "output_type": "stream",
     "text": [
      "INFO:pyvxr.bringup:rpe1:all nodes reached IOS XR RUN state\n"
     ]
    },
    {
     "name": "stderr",
     "output_type": "stream",
     "text": [
      "INFO:pyvxr.console:rpe1:applying initial XR config (terminal width, etc)\n"
     ]
    },
    {
     "name": "stderr",
     "output_type": "stream",
     "text": [
      "INFO:pyvxr.console:rpe1:waiting for ztp and cvac to complete\n"
     ]
    },
    {
     "name": "stderr",
     "output_type": "stream",
     "text": [
      "INFO:pyvxr.console:rpe1:found ztp directory. Assuming ztp present\n"
     ]
    },
    {
     "name": "stderr",
     "output_type": "stream",
     "text": [
      "INFO:pyvxr.console:rpe1:waiting for ztp to complete\n"
     ]
    },
    {
     "name": "stderr",
     "output_type": "stream",
     "text": [
      "INFO:pyvxr.console:rpe1:ztp done\n"
     ]
    },
    {
     "name": "stderr",
     "output_type": "stream",
     "text": [
      "INFO:pyvxr.console:rce1:entering new XR username 'cisco', password 'cisco123'\n"
     ]
    },
    {
     "name": "stderr",
     "output_type": "stream",
     "text": [
      "INFO:pyvxr.console:rce1:entering XR username 'cisco', password 'cisco123'\n"
     ]
    },
    {
     "name": "stderr",
     "output_type": "stream",
     "text": [
      "INFO:pyvxr.bringup:rce1:login successful\n"
     ]
    },
    {
     "name": "stderr",
     "output_type": "stream",
     "text": [
      "INFO:pyvxr.bringup:rce1:wait for IOS XR RUN state\n"
     ]
    },
    {
     "name": "stderr",
     "output_type": "stream",
     "text": [
      "INFO:pyvxr.bringup:rce1:run state RPs:1 (expected:1) LCs:0 (expected:0)\n"
     ]
    },
    {
     "name": "stderr",
     "output_type": "stream",
     "text": [
      "INFO:pyvxr.bringup:rce1:all nodes reached IOS XR RUN state\n"
     ]
    },
    {
     "name": "stderr",
     "output_type": "stream",
     "text": [
      "INFO:pyvxr.console:rce1:applying initial XR config (terminal width, etc)\n"
     ]
    },
    {
     "name": "stderr",
     "output_type": "stream",
     "text": [
      "INFO:pyvxr.console:rce1:waiting for ztp and cvac to complete\n"
     ]
    },
    {
     "name": "stderr",
     "output_type": "stream",
     "text": [
      "INFO:pyvxr.console:rce1:found ztp directory. Assuming ztp present\n"
     ]
    },
    {
     "name": "stderr",
     "output_type": "stream",
     "text": [
      "INFO:pyvxr.console:rce1:waiting for ztp to complete\n"
     ]
    },
    {
     "name": "stderr",
     "output_type": "stream",
     "text": [
      "INFO:pyvxr.console:rce1:ztp done\n"
     ]
    },
    {
     "name": "stderr",
     "output_type": "stream",
     "text": [
      "INFO:pyvxr.console:rpe2:entering new XR username 'cisco', password 'cisco123'\n"
     ]
    },
    {
     "name": "stderr",
     "output_type": "stream",
     "text": [
      "INFO:pyvxr.console:rp1:entering new XR username 'cisco', password 'cisco123'\n"
     ]
    },
    {
     "name": "stderr",
     "output_type": "stream",
     "text": [
      "INFO:pyvxr.console:rpe2:entering XR username 'cisco', password 'cisco123'\n"
     ]
    },
    {
     "name": "stderr",
     "output_type": "stream",
     "text": [
      "INFO:pyvxr.console:rp1:entering XR username 'cisco', password 'cisco123'\n"
     ]
    },
    {
     "name": "stderr",
     "output_type": "stream",
     "text": [
      "INFO:pyvxr.bringup:rpe2:login successful\n"
     ]
    },
    {
     "name": "stderr",
     "output_type": "stream",
     "text": [
      "INFO:pyvxr.bringup:rpe2:wait for IOS XR RUN state\n"
     ]
    },
    {
     "name": "stderr",
     "output_type": "stream",
     "text": [
      "INFO:pyvxr.bringup:rpe2:run state RPs:1 (expected:1) LCs:0 (expected:0)\n"
     ]
    },
    {
     "name": "stderr",
     "output_type": "stream",
     "text": [
      "INFO:pyvxr.bringup:rpe2:all nodes reached IOS XR RUN state\n"
     ]
    },
    {
     "name": "stderr",
     "output_type": "stream",
     "text": [
      "INFO:pyvxr.console:rpe2:applying initial XR config (terminal width, etc)\n"
     ]
    },
    {
     "name": "stderr",
     "output_type": "stream",
     "text": [
      "INFO:pyvxr.console:rpe2:waiting for ztp and cvac to complete\n"
     ]
    },
    {
     "name": "stderr",
     "output_type": "stream",
     "text": [
      "INFO:pyvxr.bringup:rp1:login successful\n"
     ]
    },
    {
     "name": "stderr",
     "output_type": "stream",
     "text": [
      "INFO:pyvxr.console:rpe2:found ztp directory. Assuming ztp present\n"
     ]
    },
    {
     "name": "stderr",
     "output_type": "stream",
     "text": [
      "INFO:pyvxr.console:rpe2:waiting for ztp to complete\n"
     ]
    },
    {
     "name": "stderr",
     "output_type": "stream",
     "text": [
      "INFO:pyvxr.bringup:rp1:wait for IOS XR RUN state\n"
     ]
    },
    {
     "name": "stderr",
     "output_type": "stream",
     "text": [
      "INFO:pyvxr.console:rpe2:ztp done\n"
     ]
    },
    {
     "name": "stderr",
     "output_type": "stream",
     "text": [
      "INFO:pyvxr.bringup:rp1:run state RPs:1 (expected:1) LCs:0 (expected:0)\n"
     ]
    },
    {
     "name": "stderr",
     "output_type": "stream",
     "text": [
      "INFO:pyvxr.bringup:rp1:all nodes reached IOS XR RUN state\n"
     ]
    },
    {
     "name": "stderr",
     "output_type": "stream",
     "text": [
      "INFO:pyvxr.console:rp1:applying initial XR config (terminal width, etc)\n"
     ]
    },
    {
     "name": "stderr",
     "output_type": "stream",
     "text": [
      "INFO:pyvxr.console:rp1:waiting for ztp and cvac to complete\n"
     ]
    },
    {
     "name": "stderr",
     "output_type": "stream",
     "text": [
      "INFO:pyvxr.console:rp1:found ztp directory. Assuming ztp present\n"
     ]
    },
    {
     "name": "stderr",
     "output_type": "stream",
     "text": [
      "INFO:pyvxr.console:rp1:waiting for ztp to complete\n"
     ]
    },
    {
     "name": "stderr",
     "output_type": "stream",
     "text": [
      "INFO:pyvxr.console:rp1:ztp done\n"
     ]
    },
    {
     "name": "stderr",
     "output_type": "stream",
     "text": [
      "INFO:pyvxr.vxr:Setting up ssh tunnels on host 'localhost'\n"
     ]
    },
    {
     "name": "stderr",
     "output_type": "stream",
     "text": [
      "INFO:pyvxr.ssh_tunnel:Configure mgmt interfaces before setting up ssh tunnels\n"
     ]
    },
    {
     "name": "stderr",
     "output_type": "stream",
     "text": [
      "INFO:pyvxr.console:rce2:need to configure mgmt interface MgmtEth0/RP0/CPU0/0\n"
     ]
    },
    {
     "name": "stderr",
     "output_type": "stream",
     "text": [
      "INFO:pyvxr.console:rpe1:need to configure mgmt interface MgmtEth0/RP0/CPU0/0\n"
     ]
    },
    {
     "name": "stderr",
     "output_type": "stream",
     "text": [
      "INFO:pyvxr.console:rpe2:need to configure mgmt interface MgmtEth0/RP0/CPU0/0\n"
     ]
    },
    {
     "name": "stderr",
     "output_type": "stream",
     "text": [
      "INFO:pyvxr.console:rp1:need to configure mgmt interface MgmtEth0/RP0/CPU0/0\n"
     ]
    },
    {
     "name": "stderr",
     "output_type": "stream",
     "text": [
      "INFO:pyvxr.console:trex:login root/cisco123\n"
     ]
    },
    {
     "name": "stderr",
     "output_type": "stream",
     "text": [
      "INFO:pyvxr.console:rce1:need to configure mgmt interface MgmtEth0/RP0/CPU0/0\n"
     ]
    },
    {
     "name": "stderr",
     "output_type": "stream",
     "text": [
      "INFO:pyvxr.console:trex:sending return\n"
     ]
    },
    {
     "name": "stderr",
     "output_type": "stream",
     "text": [
      "INFO:pyvxr.console:trex:entering linux username 'root'\n"
     ]
    },
    {
     "name": "stderr",
     "output_type": "stream",
     "text": [
      "INFO:pyvxr.console:trex:entering linux password 'cisco123'\n"
     ]
    },
    {
     "name": "stderr",
     "output_type": "stream",
     "text": [
      "INFO:pyvxr.console:trex:reached Linux prompt. Reseting console\n"
     ]
    },
    {
     "name": "stderr",
     "output_type": "stream",
     "text": [
      "INFO:pyvxr.console:rce2:mgmt interface configuration applied\n"
     ]
    },
    {
     "name": "stderr",
     "output_type": "stream",
     "text": [
      "INFO:pyvxr.console:rpe2:mgmt interface configuration applied\n"
     ]
    },
    {
     "name": "stderr",
     "output_type": "stream",
     "text": [
      "INFO:pyvxr.console:rpe1:mgmt interface configuration applied\n"
     ]
    },
    {
     "name": "stderr",
     "output_type": "stream",
     "text": [
      "INFO:pyvxr.console:rp1:mgmt interface configuration applied\n"
     ]
    },
    {
     "name": "stderr",
     "output_type": "stream",
     "text": [
      "INFO:pyvxr.console:rce1:mgmt interface configuration applied\n"
     ]
    },
    {
     "name": "stderr",
     "output_type": "stream",
     "text": [
      "INFO:pyvxr.console:rpe2:mgmt interface up (ip:192.168.254.229)\n"
     ]
    },
    {
     "name": "stderr",
     "output_type": "stream",
     "text": [
      "INFO:pyvxr.console:rpe1:mgmt interface up (ip:192.168.254.155)\n"
     ]
    },
    {
     "name": "stderr",
     "output_type": "stream",
     "text": [
      "INFO:pyvxr.console:rce1:mgmt interface up (ip:192.168.254.199)\n"
     ]
    },
    {
     "name": "stderr",
     "output_type": "stream",
     "text": [
      "INFO:pyvxr.console:rp1:mgmt interface up (ip:192.168.254.78)\n"
     ]
    },
    {
     "name": "stderr",
     "output_type": "stream",
     "text": [
      "INFO:pyvxr.console:trex:mgmt interface up (ip:192.168.254.36)\n"
     ]
    },
    {
     "name": "stderr",
     "output_type": "stream",
     "text": [
      "INFO:pyvxr.console:rce2:mgmt interface up (ip:192.168.254.60)\n"
     ]
    },
    {
     "name": "stderr",
     "output_type": "stream",
     "text": [
      "INFO:pyvxr.vxr_session:Starting a local bash session for user:vxr\n"
     ]
    },
    {
     "name": "stderr",
     "output_type": "stream",
     "text": [
      "INFO:pyvxr.vxr_session:Starting a local bash session for user:vxr\n"
     ]
    },
    {
     "name": "stderr",
     "output_type": "stream",
     "text": [
      "INFO:pyvxr.vxr_session:Starting a local bash session for user:vxr\n"
     ]
    },
    {
     "name": "stderr",
     "output_type": "stream",
     "text": [
      "INFO:pyvxr.vxr_session:Starting a local bash session for user:vxr\n"
     ]
    },
    {
     "name": "stderr",
     "output_type": "stream",
     "text": [
      "INFO:pyvxr.vxr_session:Starting a local bash session for user:vxr\n"
     ]
    },
    {
     "name": "stderr",
     "output_type": "stream",
     "text": [
      "INFO:pyvxr.vxr_session:Starting a local bash session for user:vxr\n"
     ]
    },
    {
     "name": "stderr",
     "output_type": "stream",
     "text": [
      "INFO:pyvxr.ssh_tunnel:rce2:Setting up ssh tunnels for port(s) [22, 830]\n"
     ]
    },
    {
     "name": "stderr",
     "output_type": "stream",
     "text": [
      "INFO:pyvxr.ssh_tunnel:rce1:Setting up ssh tunnels for port(s) [22, 830]\n"
     ]
    },
    {
     "name": "stderr",
     "output_type": "stream",
     "text": [
      "INFO:pyvxr.ssh_tunnel:rp1:Setting up ssh tunnels for port(s) [22, 830]\n"
     ]
    },
    {
     "name": "stderr",
     "output_type": "stream",
     "text": [
      "INFO:pyvxr.ssh_tunnel:rpe1:Setting up ssh tunnels for port(s) [22, 830]\n"
     ]
    },
    {
     "name": "stderr",
     "output_type": "stream",
     "text": [
      "INFO:pyvxr.ssh_tunnel:rpe2:Setting up ssh tunnels for port(s) [22, 830]\n"
     ]
    },
    {
     "name": "stderr",
     "output_type": "stream",
     "text": [
      "INFO:pyvxr.ssh_tunnel:trex:Setting up ssh tunnels for port(s) [21, 22, 23, 50, 53, 80]\n"
     ]
    },
    {
     "name": "stderr",
     "output_type": "stream",
     "text": [
      "INFO:pyvxr.bringup:rce1:applying XR config\n"
     ]
    },
    {
     "name": "stderr",
     "output_type": "stream",
     "text": [
      "INFO:pyvxr.bringup:rce2:applying XR config\n"
     ]
    },
    {
     "name": "stderr",
     "output_type": "stream",
     "text": [
      "INFO:pyvxr.bringup:rp1:applying XR config\n"
     ]
    },
    {
     "name": "stderr",
     "output_type": "stream",
     "text": [
      "INFO:pyvxr.bringup:rpe1:applying XR config\n"
     ]
    },
    {
     "name": "stderr",
     "output_type": "stream",
     "text": [
      "INFO:pyvxr.bringup:rpe2:applying XR config\n"
     ]
    },
    {
     "name": "stderr",
     "output_type": "stream",
     "text": [
      "INFO:pyvxr.vxr:Sim up\n"
     ]
    },
    {
     "name": "stderr",
     "output_type": "stream",
     "text": [
      "INFO:pyvxr.vxr:Getting sim status from localhost:/nobackup/vxr/pyvxr/1osxeycjb7\n"
     ]
    },
    {
     "name": "stdout",
     "output_type": "stream",
     "text": [
      "Sim status:  {'localhost': 'running'}\n"
     ]
    }
   ],
   "source": [
    "# DESCRIPTION: This is a quick test for notebooks that brings up a 5 router network topology with OSPF and MPLS and \n",
    "# traffic generators connected to either of the PE routers.\n",
    "# PLATFORM: Emulator for CISCO 8000     \n",
    "# AUTHOR: Sarah Samuel (sasamuel@cisco.com)\n",
    "# DATE: 14 July 2021\n",
    "\n",
    "from ncclient import manager\n",
    "from ncclient.xml_ import to_ele\n",
    "from lxml import etree\n",
    "import time\n",
    "import sys\n",
    "sys.path.append(\"..\")\n",
    "from QoS.SP_tgn import *\n",
    "\n",
    "\n",
    "def connect(host, port, user, password, source):\n",
    "      conn = manager.connect(host=host,\n",
    "                             port=port,\n",
    "                             username=user,\n",
    "                             password = password,\n",
    "                             device_params={'name': 'iosxr'},\n",
    "                             hostkey_verify=False,\n",
    "                             allow_agent=False,\n",
    "                             look_for_keys=False\n",
    "                            )\n",
    "\n",
    "      rpc_reply = conn.edit_config(config=telemetry)\n",
    "      conn.commit()\n",
    "      print(rpc_reply)\n",
    "\n",
    "TestResult = True\n",
    "sim = Vxr()\n",
    "sim.no_image_copy=True\n",
    "sim.clean()\n",
    "print(\"Sim clean: Done\")\n",
    "print(\"Simulation starting. Please wait for the Sim status message. This may take 3-10 minutes.\")\n",
    "\n",
    "try:\n",
    "    sim.start(cfg)\n",
    "    status = sim.status()\n",
    "    print(\"Sim status: \", status)\n",
    "except Exception as err:\n",
    "    print(\"Sim launch failed (%s)\" % str(err))\n",
    "    TestResult = False\n",
    "    sim.clean()\n",
    "     # Clean up sim scratch space\n",
    "    shutil.rmtree(sim_dir)\n",
    "    raise"
   ]
  },
  {
   "cell_type": "code",
   "execution_count": 3,
   "id": "db65ec46-362a-479c-980d-a1cb836eb9e6",
   "metadata": {
    "execution": {
     "iopub.execute_input": "2021-07-15T16:08:55.401161Z",
     "iopub.status.busy": "2021-07-15T16:08:55.400165Z",
     "iopub.status.idle": "2021-07-15T16:09:35.666311Z",
     "shell.execute_reply": "2021-07-15T16:09:35.667163Z"
    }
   },
   "outputs": [
    {
     "name": "stdout",
     "output_type": "stream",
     "text": [
      "Consoles can be reached by:\n",
      "P1:  telnet 172.17.0.2 34359 \n",
      "PE1:  telnet 172.17.0.2 42167 \n",
      "PE2:  telnet 172.17.0.2 33279 \n",
      "CE1:  telnet 172.17.0.2 40186 \n",
      "CE2:  telnet 172.17.0.2 42576 \n",
      "TGN:  telnet 172.17.0.2 39368\n",
      "or better:\n"
     ]
    },
    {
     "name": "stdout",
     "output_type": "stream",
     "text": [
      "P1:  ssh cisco@172.17.0.2 -p64570 \n",
      "PE1:  ssh cisco@172.17.0.2 -p60352 \n",
      "PE2:  ssh cisco@172.17.0.2 -p63657 \n",
      "CE1:  ssh cisco@172.17.0.2 -p60465 \n",
      "CE2:  ssh cisco@172.17.0.2 -p63220 \n",
      "TGN:  ssh root@172.17.0.2 -p63247\n",
      "The password is cisco123\n",
      "\n",
      "*********Waiting for 40s for protocol convergence*********\n"
     ]
    }
   ],
   "source": [
    "print('Consoles can be reached by:')\n",
    "print('P1: ', get_telnet_cmd(sim, 'rp1'), '\\nPE1: ', get_telnet_cmd(sim, 'rpe1'), '\\nPE2: ', get_telnet_cmd(sim, 'rpe2'), '\\nCE1: ', get_telnet_cmd(sim, 'rce1'), '\\nCE2: ', get_telnet_cmd(sim, 'rce2'), '\\nTGN: ', get_telnet_cmd(sim, 'trex'))\n",
    "print('or better:')\n",
    "print('P1: ', get_ssh_cmd(sim, 'rp1'), '\\nPE1: ', get_ssh_cmd(sim, 'rpe1'), '\\nPE2: ', get_ssh_cmd(sim, 'rpe2'), '\\nCE1: ', get_ssh_cmd(sim, 'rce1'), '\\nCE2: ', get_ssh_cmd(sim, 'rce2'), '\\nTGN: ', get_ssh_cmd(sim, 'trex', 'True'))\n",
    "print('The password is cisco123')\n",
    "\n",
    "ports = sim.ports()\n",
    "loginpe1 = telnetlib.Telnet(str(ports['rpe1']['HostAgent']) , str(ports['rpe1']['serial0']))\n",
    "loginp1 = telnetlib.Telnet(str(ports['rp1']['HostAgent']) , str(ports['rp1']['serial0']))\n",
    "loginpe2 = telnetlib.Telnet(str(ports['rpe2']['HostAgent']) , str(ports['rpe2']['serial0']))\n",
    "logince1 = telnetlib.Telnet(str(ports['rce1']['HostAgent']) , str(ports['rce1']['serial0']))\n",
    "logince2 = telnetlib.Telnet(str(ports['rce2']['HostAgent']) , str(ports['rce2']['serial0']))\n",
    "trexipaddress = str(ports['trex']['HostAgent'])\n",
    "trexport = str(ports['trex']['xr_redir22'])\n",
    "p1_ipaddress = str(ports['rp1']['HostAgent'])\n",
    "p1_sshport = str(ports['rp1']['xr_redir22'])\n",
    "\n",
    "print(\"\\n*********Waiting for 40s for protocol convergence*********\")\n",
    "time.sleep(40)\n"
   ]
  },
  {
   "cell_type": "code",
   "execution_count": 4,
   "id": "9e45c78f-f75c-428f-8b49-6d122bc81b9d",
   "metadata": {
    "execution": {
     "iopub.execute_input": "2021-07-15T16:09:35.676734Z",
     "iopub.status.busy": "2021-07-15T16:09:35.675818Z",
     "iopub.status.idle": "2021-07-15T16:09:39.682877Z",
     "shell.execute_reply": "2021-07-15T16:09:39.681880Z"
    }
   },
   "outputs": [
    {
     "name": "stdout",
     "output_type": "stream",
     "text": [
      "\r",
      "\r\n",
      "\r",
      "RP/0/RP0/CPU0:P1#show ip ospf nei\r",
      "\r\n",
      "\r",
      "Thu Jul 15 16:09:35.753 UTC\r",
      "\r\n",
      "\r",
      "\r\n",
      "* Indicates MADJ interface\r",
      "\r\n",
      "# Indicates Neighbor awaiting BFD session up\r",
      "\r\n",
      "\r",
      "\r\n",
      "Neighbors for OSPF 10\r",
      "\r\n",
      "\r",
      "\r\n",
      "Neighbor ID     Pri   State           Dead Time   Address         Interface\r",
      "\r\n",
      "209.165.200.229 1     FULL/DR         00:00:38    198.51.100.2    FourHundredGigE0/0/0/0\r",
      "\r\n",
      "    Neighbor is up for 00:00:32\r",
      "\r\n",
      "209.165.200.227 1     FULL/DR         00:00:38    192.0.2.2       FourHundredGigE0/0/0/1\r",
      "\r\n",
      "    Neighbor is up for 00:00:32\r",
      "\r\n",
      "\r",
      "\r\n",
      "Total neighbor count: 2\r",
      "\r\n",
      "RP/0/RP0/CPU0:P1#show mpls ldp interface\r",
      "\r\n",
      "\r",
      "Thu Jul 15 16:09:35.866 UTC\r",
      "\r\n",
      "Interface FourHundredGigE0/0/0/0 (0xf000138)\r",
      "\r\n",
      "   VRF: 'default' (0x60000000)\r",
      "\r\n",
      "   Enabled via config: LDP interface\r",
      "\r\n",
      "Interface FourHundredGigE0/0/0/1 (0xf0001a0)\r",
      "\r\n",
      "   VRF: 'default' (0x60000000)\r",
      "\r\n",
      "   Enabled via config: LDP interface\r",
      "\r\n",
      "RP/0/RP0/CPU0:P1#show mpls ldp bindings brief\r",
      "\r\n",
      "\r",
      "Thu Jul 15 16:09:35.944 UTC\r",
      "\r\n",
      "\r",
      "\r\n",
      "Prefix              Local      Advertised  Remote Bindings\r",
      "\r\n",
      "                    Label        (peers)       (peers)    \r",
      "\r\n",
      "------------------  ---------  ----------  ---------------\r",
      "\r\n",
      "10.0.0.0/24         24004               2                1\r",
      "\r\n",
      "10.1.1.0/24         24001               2                2\r",
      "\r\n",
      "192.0.2.0/24        ImpNull             2                2\r",
      "\r\n",
      "192.168.254.0/24    ImpNull             2                2\r",
      "\r\n",
      "198.51.100.0/24     ImpNull             2                2\r",
      "\r\n",
      "203.0.113.0/24      24005               2                1\r",
      "\r\n",
      "209.165.200.225/32  ImpNull             2                2\r",
      "\r\n",
      "209.165.200.227/32  24003               2                1\r",
      "\r\n",
      "209.165.200.229/32  24000               2                2\r",
      "\r\n",
      "209.165.201.0/27    24002               2                2\r",
      "\r\n",
      "\r",
      "\r\n",
      "RP/0/RP0/CPU0:P1#show run mpls ldp\r",
      "\r\n",
      "\r",
      "Thu Jul 15 16:09:36.032 UTC\r",
      "\r\n",
      "mpls ldp\r",
      "\r\n",
      " router-id 209.165.200.225\r",
      "\r\n",
      " interface FourHundredGigE0/0/0/0\r",
      "\r\n",
      " !\r",
      "\r\n",
      " interface FourHundredGigE0/0/0/1\r",
      "\r\n",
      " !\r",
      "\r\n",
      "!\r",
      "\r\n",
      "\r",
      "\r\n",
      "RP/0/RP0/CPU0:P1#show mpls ldp neigh br\r",
      "\r\n",
      "\r",
      "Thu Jul 15 16:09:36.358 UTC\r",
      "\r\n",
      "\r",
      "\r\n",
      "Peer               GR  NSR  Up Time     Discovery   Addresses     Labels    \r",
      "\r\n",
      "                                        ipv4  ipv6  ipv4  ipv6  ipv4   ipv6 \r",
      "\r\n",
      "-----------------  --  ---  ----------  ----------  ----------  ------------\r",
      "\r\n",
      "209.165.200.229:0  N   N    00:00:01    1     0     5     0     7      0    \r",
      "\r\n",
      "209.165.200.227:0  N   N    00:00:00    1     0     5     0     10     0    \r",
      "\r\n",
      "\r",
      "\r\n",
      "RP/0/RP0/CPU0:P1#show ip route\r",
      "\r\n",
      "\r",
      "Thu Jul 15 16:09:36.446 UTC\r",
      "\r\n",
      "\r",
      "\r\n",
      "Codes: C - connected, S - static, R - RIP, B - BGP, (>) - Diversion path\r",
      "\r\n",
      "       D - EIGRP, EX - EIGRP external, O - OSPF, IA - OSPF inter area\r",
      "\r\n",
      "       N1 - OSPF NSSA external type 1, N2 - OSPF NSSA external type 2\r",
      "\r\n",
      "       E1 - OSPF external type 1, E2 - OSPF external type 2, E - EGP\r",
      "\r\n",
      "       i - ISIS, L1 - IS-IS level-1, L2 - IS-IS level-2\r",
      "\r\n",
      "       ia - IS-IS inter area, su - IS-IS summary null, * - candidate default\r",
      "\r\n",
      "       U - per-user static route, o - ODR, L - local, G  - DAGR, l - LISP\r",
      "\r\n",
      "       A - access/subscriber, a - Application route\r",
      "\r\n",
      "       M - mobile route, r - RPL, t - Traffic Engineering, (!) - FRR Backup path\r",
      "\r\n",
      "\r",
      "\r\n",
      "Gateway of last resort is not set\r",
      "\r\n",
      "\r",
      "\r\n",
      "O    10.0.0.0/24 [110/2] via 192.0.2.2, 00:00:02, FourHundredGigE0/0/0/1\r",
      "\r\n",
      "O    10.1.1.0/24 [110/2] via 198.51.100.2, 00:00:02, FourHundredGigE0/0/0/0\r",
      "\r\n",
      "C    192.0.2.0/24 is directly connected, 00:00:42, FourHundredGigE0/0/0/1\r",
      "\r\n",
      "L    192.0.2.1/32 is directly connected, 00:00:42, FourHundredGigE0/0/0/1\r",
      "\r\n",
      "C    192.168.254.0/24 is directly connected, 00:01:57, MgmtEth0/RP0/CPU0/0\r",
      "\r\n",
      "L    192.168.254.78/32 is directly connected, 00:01:57, MgmtEth0/RP0/CPU0/0\r",
      "\r\n",
      "C    198.51.100.0/24 is directly connected, 00:00:42, FourHundredGigE0/0/0/0\r",
      "\r\n",
      "L    198.51.100.1/32 is directly connected, 00:00:42, FourHundredGigE0/0/0/0\r",
      "\r\n",
      "O    203.0.113.0/24 [110/2] via 192.0.2.2, 00:00:02, FourHundredGigE0/0/0/1\r",
      "\r\n",
      "L    209.165.200.225/32 is directly connected, 00:00:42, Loopback0\r",
      "\r\n",
      "O    209.165.200.227/32 [110/2] via 192.0.2.2, 00:00:02, FourHundredGigE0/0/0/1\r",
      "\r\n",
      "O    209.165.200.229/32 [110/2] via 198.51.100.2, 00:00:02, FourHundredGigE0/0/0/0\r",
      "\r\n",
      "O    209.165.201.0/27 [110/2] via 198.51.100.2, 00:00:02, FourHundredGigE0/0/0/0\r",
      "\r\n",
      "RP/0/RP0/CPU0:P1#\n"
     ]
    }
   ],
   "source": [
    "loginp1.write(('''\n",
    "show ip ospf nei\n",
    "show mpls ldp interface\n",
    "show mpls ldp bindings brief\n",
    "show run mpls ldp\n",
    "show mpls ldp neigh br\n",
    "show ip route\n",
    "''').encode('ascii'))\n",
    "line = loginp1.read_until(b'/r/n',4)\n",
    "print(line.decode())\n"
   ]
  },
  {
   "cell_type": "code",
   "execution_count": 5,
   "id": "4f91a2de-f3d1-458a-aed8-c2fd572c5e44",
   "metadata": {
    "execution": {
     "iopub.execute_input": "2021-07-15T16:09:39.692346Z",
     "iopub.status.busy": "2021-07-15T16:09:39.691381Z",
     "iopub.status.idle": "2021-07-15T16:09:49.539543Z",
     "shell.execute_reply": "2021-07-15T16:09:49.540475Z"
    }
   },
   "outputs": [
    {
     "name": "stderr",
     "output_type": "stream",
     "text": [
      "INFO:paramiko.transport:Connected (version 2.0, client OpenSSH_7.4)\n"
     ]
    },
    {
     "name": "stderr",
     "output_type": "stream",
     "text": [
      "INFO:paramiko.transport:Authentication (publickey) failed.\n"
     ]
    },
    {
     "name": "stderr",
     "output_type": "stream",
     "text": [
      "INFO:paramiko.transport:Authentication (password) successful!\n"
     ]
    },
    {
     "name": "stderr",
     "output_type": "stream",
     "text": [
      "INFO:paramiko.transport.sftp:[chan 0] Opened sftp connection (server version 3)\n"
     ]
    },
    {
     "name": "stderr",
     "output_type": "stream",
     "text": [
      "INFO:paramiko.transport.sftp:[chan 0] sftp session closed.\n"
     ]
    },
    {
     "name": "stdout",
     "output_type": "stream",
     "text": [
      "Last login: Thu Jul 15 16:07:21 2021\n"
     ]
    },
    {
     "name": "stdout",
     "output_type": "stream",
     "text": [
      "[root@localhost ~]# "
     ]
    },
    {
     "name": "stdout",
     "output_type": "stream",
     "text": [
      "ifconfig eth1 10.0.0.1 netmask 255.255.255.0 up; ifconfig et h2 10.1.1.1 netmask 255.255.255.0 up\n"
     ]
    },
    {
     "name": "stdout",
     "output_type": "stream",
     "text": [
      "[root@localhost ~]# "
     ]
    },
    {
     "name": "stdout",
     "output_type": "stream",
     "text": [
      "cd /opt/cisco/trex/latest/\n",
      "[root@localhost latest]# "
     ]
    },
    {
     "name": "stdout",
     "output_type": "stream",
     "text": [
      "./t-rex-64 -i\n"
     ]
    },
    {
     "name": "stdout",
     "output_type": "stream",
     "text": [
      "Starting Scapy server..."
     ]
    },
    {
     "name": "stdout",
     "output_type": "stream",
     "text": [
      "."
     ]
    },
    {
     "name": "stdout",
     "output_type": "stream",
     "text": [
      "."
     ]
    },
    {
     "name": "stdout",
     "output_type": "stream",
     "text": [
      "."
     ]
    },
    {
     "name": "stdout",
     "output_type": "stream",
     "text": [
      ".\u001b[32m Scapy server is started\u001b[0m\n"
     ]
    },
    {
     "name": "stdout",
     "output_type": "stream",
     "text": [
      "Trying to bind to vfio-pci ...\n",
      "Trying to compile and bind to igb_uio ...\n"
     ]
    },
    {
     "name": "stdout",
     "output_type": "stream",
     "text": [
      "ERROR: We don't have precompiled igb_uio.ko module for your kernel version.\n",
      "Will try compiling automatically...\n"
     ]
    },
    {
     "name": "stdout",
     "output_type": "stream",
     "text": [
      "Success.\n",
      "\n"
     ]
    },
    {
     "name": "stdout",
     "output_type": "stream",
     "text": [
      "/usr/bin/python3 dpdk_nic_bind.py --bind=igb_uio 0000:00:04.0 0000:00:05.0 \n"
     ]
    },
    {
     "name": "stdout",
     "output_type": "stream",
     "text": [
      "The ports are bound/configured.\n"
     ]
    },
    {
     "name": "stdout",
     "output_type": "stream",
     "text": [
      "Starting  TRex v2.89 please wait  ... \n"
     ]
    },
    {
     "name": "stdout",
     "output_type": "stream",
     "text": [
      " set driver name net_virtio \n",
      " driver capability  :\n",
      " set dpdk queues mode to ONE_QUE \n",
      " Number of ports found: 2\n",
      "zmq publisher at: tcp://*:4500\n"
     ]
    },
    {
     "name": "stdout",
     "output_type": "stream",
     "text": [
      " wait 1 sec "
     ]
    },
    {
     "name": "stderr",
     "output_type": "stream",
     "text": [
      "INFO:paramiko.transport:Connected (version 2.0, client OpenSSH_7.4)\n"
     ]
    },
    {
     "name": "stderr",
     "output_type": "stream",
     "text": [
      "INFO:paramiko.transport:Authentication (publickey) failed.\n"
     ]
    },
    {
     "name": "stderr",
     "output_type": "stream",
     "text": [
      "INFO:paramiko.transport:Authentication (password) successful!\n"
     ]
    },
    {
     "name": "stdout",
     "output_type": "stream",
     "text": [
      "Last login: Thu Jul 15 16:09:39 2021 from gateway\n"
     ]
    },
    {
     "name": "stdout",
     "output_type": "stream",
     "text": [
      "[root@localhost ~]# "
     ]
    },
    {
     "name": "stdout",
     "output_type": "stream",
     "text": [
      "cd /opt/cisco/trex/latest/\n",
      "[root@localhost latest]# "
     ]
    },
    {
     "name": "stdout",
     "output_type": "stream",
     "text": [
      "./trex-console\n"
     ]
    },
    {
     "name": "stdout",
     "output_type": "stream",
     "text": [
      "start -f stl/dscp_traffic1.py -d 1h -m 100pps -p 0\n"
     ]
    },
    {
     "name": "stdout",
     "output_type": "stream",
     "text": [
      "\n",
      "Using 'python3' as Python interpeter\n",
      "\n"
     ]
    },
    {
     "name": "stdout",
     "output_type": "stream",
     "text": [
      "\n",
      "\u001b[1mConnecting to RPC server on localhost:4501                  \u001b[22m \u001b[1m\u001b[32m[SUCCESS]\u001b[39m\u001b[22m\n",
      "\n",
      "\n",
      "\u001b[1mConnecting to publisher server on localhost:4500            \u001b[22m "
     ]
    },
    {
     "name": "stdout",
     "output_type": "stream",
     "text": [
      "\u001b[1m\u001b[32m[SUCCESS]\u001b[39m\u001b[22m\n",
      "\n"
     ]
    },
    {
     "name": "stdout",
     "output_type": "stream",
     "text": [
      "\n",
      "\u001b[1mAcquiring ports [0, 1]:                                     \u001b[22m \u001b[1m\u001b[32m[SUCCESS]\u001b[39m\u001b[22m\n",
      "\n"
     ]
    },
    {
     "name": "stdout",
     "output_type": "stream",
     "text": [
      "\n",
      "\u001b[4mServer Info:\u001b[24m\n",
      "\n",
      "Server version:   \u001b[1mv2.89 @ STL\u001b[22m\n",
      "Server mode:      \u001b[1mStateless\u001b[22m\n",
      "Server CPU:       \u001b[1m1 x VXR\u001b[22m\n",
      "Ports count:      \u001b[1m2 x 100.0Gbps @ Virtio network device\t\u001b[22m\n",
      "\n",
      "-=TRex Console v3.0=-\n",
      "\n",
      "Type 'help' or '?' for supported actions\n",
      "\n",
      "trex>start -f stl/dscp_traffic1.py -d 1h -m 100pps -p 0\n"
     ]
    }
   ],
   "source": [
    "try:\n",
    "    client1, client2, interact1, interact2 = generate_hipriority_traffic (trexipaddress, trexport)\n",
    "except Exception as err:\n",
    "    print (\"\\nTREX failed\")\n",
    "    TestResult = False\n",
    "    sim.stop()\n",
    "    sim.clean()\n",
    "    # Clean up sim scratch space\n",
    "    shutil.rmtree(sim_dir)\n",
    "    raise"
   ]
  },
  {
   "cell_type": "code",
   "execution_count": 6,
   "id": "c0227c31-1d7b-4783-97a9-188987933bc3",
   "metadata": {
    "execution": {
     "iopub.execute_input": "2021-07-15T16:09:49.550087Z",
     "iopub.status.busy": "2021-07-15T16:09:49.548495Z",
     "iopub.status.idle": "2021-07-15T16:10:33.575413Z",
     "shell.execute_reply": "2021-07-15T16:10:33.576235Z"
    }
   },
   "outputs": [
    {
     "name": "stdout",
     "output_type": "stream",
     "text": [
      "\n",
      "*********Waiting for 40s for traffic flow*********\n"
     ]
    },
    {
     "name": "stdout",
     "output_type": "stream",
     "text": [
      "***** LIVE OUTPUT FROM TELNET CONSOLE OF PE1 *****\n",
      "\r",
      "\r\n",
      "\r",
      "RP/0/RP0/CPU0:PE1#show interface FourHundredGigE0/0/0/2 acc\r",
      "\r\n",
      "\r",
      "Thu Jul 15 16:10:29.465 UTC\r",
      "\r\n",
      "FourHundredGigE0/0/0/2\r",
      "\r\n",
      "  Protocol              Pkts In         Chars In     Pkts Out        Chars Out\r",
      "\r\n",
      "  IPV4_UNICAST             4009                0            0                0\r",
      "\r\n",
      "  ARP                         3              180            2               84\r",
      "\r\n",
      "\r",
      "\r\n",
      "\r",
      "\r\n",
      "RP/0/RP0/CPU0:PE1#show interface FourHundredGigE0/0/0/1 acc\r",
      "\r\n",
      "\r",
      "Thu Jul 15 16:10:29.551 UTC\r",
      "\r\n",
      "FourHundredGigE0/0/0/1\r",
      "\r\n",
      "  Protocol              Pkts In         Chars In     Pkts Out        Chars Out\r",
      "\r\n",
      "  IPV4_UNICAST               12                0            0                0\r",
      "\r\n",
      "  MPLS                        0                0         4017            16068\r",
      "\r\n",
      "  ARP                         1               74            1               42\r",
      "\r\n",
      "\r",
      "\r\n",
      "\r",
      "\r\n",
      "RP/0/RP0/CPU0:PE1#\n"
     ]
    }
   ],
   "source": [
    "print(\"\\n*********Waiting for 40s for traffic flow*********\")\n",
    "time.sleep(40)\n",
    "\n",
    "loginpe1.write(('''\n",
    "show interface FourHundredGigE0/0/0/2 acc\n",
    "show interface FourHundredGigE0/0/0/1 acc\n",
    "''').encode('ascii'))\n",
    "line = loginpe1.read_until(b'/r/n',4)\n",
    "print(\"***** LIVE OUTPUT FROM TELNET CONSOLE OF PE1 *****\")\n",
    "print(line.decode())"
   ]
  },
  {
   "cell_type": "code",
   "execution_count": 7,
   "id": "c03ed787-61e9-46a2-b527-b03688b78e08",
   "metadata": {
    "execution": {
     "iopub.execute_input": "2021-07-15T16:10:33.586488Z",
     "iopub.status.busy": "2021-07-15T16:10:33.585433Z",
     "iopub.status.idle": "2021-07-15T16:10:35.223981Z",
     "shell.execute_reply": "2021-07-15T16:10:35.223155Z"
    }
   },
   "outputs": [
    {
     "name": "stderr",
     "output_type": "stream",
     "text": [
      "INFO:ncclient.transport.ssh:Connected (version 2.0, client Cisco-2.0)\n"
     ]
    },
    {
     "name": "stderr",
     "output_type": "stream",
     "text": [
      "INFO:ncclient.transport.ssh:Authentication (password) successful!\n"
     ]
    },
    {
     "name": "stderr",
     "output_type": "stream",
     "text": [
      "INFO:ncclient.transport.ssh:[host 172.17.0.2 session 0x7fd15e162040] Sending:\n",
      "b'<?xml version=\"1.0\" encoding=\"UTF-8\"?><nc:hello xmlns:nc=\"urn:ietf:params:xml:ns:netconf:base:1.0\"><nc:capabilities><nc:capability>urn:ietf:params:netconf:base:1.0</nc:capability><nc:capability>urn:ietf:params:netconf:base:1.1</nc:capability><nc:capability>urn:ietf:params:netconf:capability:writable-running:1.0</nc:capability><nc:capability>urn:ietf:params:netconf:capability:candidate:1.0</nc:capability><nc:capability>urn:ietf:params:netconf:capability:confirmed-commit:1.0</nc:capability><nc:capability>urn:ietf:params:netconf:capability:rollback-on-error:1.0</nc:capability><nc:capability>urn:ietf:params:netconf:capability:startup:1.0</nc:capability><nc:capability>urn:ietf:params:netconf:capability:url:1.0?scheme=http,ftp,file,https,sftp</nc:capability><nc:capability>urn:ietf:params:netconf:capability:validate:1.0</nc:capability><nc:capability>urn:ietf:params:netconf:capability:xpath:1.0</nc:capability><nc:capability>urn:ietf:params:netconf:capability:notification:1.0</nc:capability><nc:capability>urn:liberouter:params:netconf:capability:power-control:1.0</nc:capability><nc:capability>urn:ietf:params:netconf:capability:interleave:1.0</nc:capability><nc:capability>urn:ietf:params:netconf:capability:with-defaults:1.0</nc:capability></nc:capabilities></nc:hello>]]>]]>'\n"
     ]
    },
    {
     "name": "stderr",
     "output_type": "stream",
     "text": [
      "INFO:ncclient.transport.ssh:[host 172.17.0.2 session 0x7fd15e162040] Received message from host\n"
     ]
    },
    {
     "name": "stderr",
     "output_type": "stream",
     "text": [
      "INFO:ncclient.transport.ssh:[host 172.17.0.2 session-id 2485655117] initialized: session-id=2485655117 | server_capabilities=<dict_keyiterator object at 0x7fd15d926810>\n"
     ]
    },
    {
     "name": "stderr",
     "output_type": "stream",
     "text": [
      "INFO:ncclient.operations.rpc:[host 172.17.0.2 session-id 2485655117] Requesting 'EditConfig'\n"
     ]
    },
    {
     "name": "stderr",
     "output_type": "stream",
     "text": [
      "INFO:ncclient.transport.ssh:[host 172.17.0.2 session-id 2485655117] Sending:\n",
      "b'\\n#1682\\n<?xml version=\"1.0\" encoding=\"UTF-8\"?><nc:rpc xmlns:nc=\"urn:ietf:params:xml:ns:netconf:base:1.0\" message-id=\"urn:uuid:d6964a78-e4bc-4c76-b2ad-e2cd18191f97\"><nc:edit-config><nc:target><nc:candidate/></nc:target><config>\\n<telemetry-model-driven xmlns=\"http://cisco.com/ns/yang/Cisco-IOS-XR-telemetry-model-driven-cfg\">\\n   <destination-groups>\\n    <destination-group>\\n     <destination-id>D1</destination-id>\\n     <ipv4-destinations>\\n      <ipv4-destination>\\n       <ipv4-address>10.168.122.119</ipv4-address>\\n       <destination-port>20030</destination-port>\\n       <encoding>gpb</encoding>\\n       <protocol>\\n        <protocol>grpc</protocol>\\n        <no-tls/>\\n       </protocol>\\n      </ipv4-destination>\\n     </ipv4-destinations>\\n    </destination-group>\\n   </destination-groups>\\n   <sensor-groups>\\n    <sensor-group>\\n     <sensor-group-identifier>SGroup1</sensor-group-identifier>\\n     <sensor-paths>\\n      <sensor-path>\\n       <telemetry-sensor-path>Cisco-IOS-XR-wdsysmon-fd-oper:system-monitoring/cpu-utilization</telemetry-sensor-path>\\n      </sensor-path>\\n     </sensor-paths>\\n    </sensor-group>\\n   </sensor-groups>\\n   <enable/>\\n   <subscriptions>\\n    <subscription>\\n     <subscription-identifier>Sub1</subscription-identifier>\\n     <sensor-profiles>\\n      <sensor-profile>\\n       <sensorgroupid>SGroup1</sensorgroupid>\\n       <sample-interval>3000</sample-interval>\\n      </sensor-profile>\\n     </sensor-profiles>\\n     <destination-profiles>\\n      <destination-profile>\\n       <destination-id>D1</destination-id>\\n      </destination-profile>\\n     </destination-profiles>\\n    </subscription>\\n   </subscriptions>\\n  </telemetry-model-driven>\\n </config></nc:edit-config></nc:rpc>\\n##\\n'\n"
     ]
    },
    {
     "name": "stderr",
     "output_type": "stream",
     "text": [
      "INFO:ncclient.transport.ssh:[host 172.17.0.2 session-id 2485655117] Received message from host\n"
     ]
    },
    {
     "name": "stderr",
     "output_type": "stream",
     "text": [
      "INFO:ncclient.operations.rpc:[host 172.17.0.2 session-id 2485655117] Requesting 'Commit'\n"
     ]
    },
    {
     "name": "stderr",
     "output_type": "stream",
     "text": [
      "INFO:ncclient.transport.ssh:[host 172.17.0.2 session-id 2485655117] Sending:\n",
      "b'\\n#177\\n<?xml version=\"1.0\" encoding=\"UTF-8\"?><nc:rpc xmlns:nc=\"urn:ietf:params:xml:ns:netconf:base:1.0\" message-id=\"urn:uuid:4dbf860f-b801-4a7a-b693-b24c54d67455\"><nc:commit/></nc:rpc>\\n##\\n'\n"
     ]
    },
    {
     "name": "stderr",
     "output_type": "stream",
     "text": [
      "INFO:ncclient.transport.ssh:[host 172.17.0.2 session-id 2485655117] Received message from host\n"
     ]
    },
    {
     "name": "stdout",
     "output_type": "stream",
     "text": [
      "<?xml version=\"1.0\"?>\n",
      "<rpc-reply message-id=\"urn:uuid:d6964a78-e4bc-4c76-b2ad-e2cd18191f97\" xmlns:nc=\"urn:ietf:params:xml:ns:netconf:base:1.0\" xmlns=\"urn:ietf:params:xml:ns:netconf:base:1.0\">\n",
      " <ok/>\n",
      "</rpc-reply>\n",
      "\n"
     ]
    }
   ],
   "source": [
    "telemetry = '''\n",
    "<config>\n",
    "<telemetry-model-driven xmlns=\"http://cisco.com/ns/yang/Cisco-IOS-XR-telemetry-model-driven-cfg\">\n",
    "   <destination-groups>\n",
    "    <destination-group>\n",
    "     <destination-id>D1</destination-id>\n",
    "     <ipv4-destinations>\n",
    "      <ipv4-destination>\n",
    "       <ipv4-address>10.168.122.119</ipv4-address>\n",
    "       <destination-port>20030</destination-port>\n",
    "       <encoding>gpb</encoding>\n",
    "       <protocol>\n",
    "        <protocol>grpc</protocol>\n",
    "        <no-tls/>\n",
    "       </protocol>\n",
    "      </ipv4-destination>\n",
    "     </ipv4-destinations>\n",
    "    </destination-group>\n",
    "   </destination-groups>\n",
    "   <sensor-groups>\n",
    "    <sensor-group>\n",
    "     <sensor-group-identifier>SGroup1</sensor-group-identifier>\n",
    "     <sensor-paths>\n",
    "      <sensor-path>\n",
    "       <telemetry-sensor-path>Cisco-IOS-XR-wdsysmon-fd-oper:system-monitoring/cpu-utilization</telemetry-sensor-path>\n",
    "      </sensor-path>\n",
    "     </sensor-paths>\n",
    "    </sensor-group>\n",
    "   </sensor-groups>\n",
    "   <enable></enable>\n",
    "   <subscriptions>\n",
    "    <subscription>\n",
    "     <subscription-identifier>Sub1</subscription-identifier>\n",
    "     <sensor-profiles>\n",
    "      <sensor-profile>\n",
    "       <sensorgroupid>SGroup1</sensorgroupid>\n",
    "       <sample-interval>3000</sample-interval>\n",
    "      </sensor-profile>\n",
    "     </sensor-profiles>\n",
    "     <destination-profiles>\n",
    "      <destination-profile>\n",
    "       <destination-id>D1</destination-id>\n",
    "      </destination-profile>\n",
    "     </destination-profiles>\n",
    "    </subscription>\n",
    "   </subscriptions>\n",
    "  </telemetry-model-driven>\n",
    " </config>\n",
    " '''\n",
    "try:\n",
    "    connect(p1_ipaddress, p1_sshport, 'cisco', 'cisco123', 'candidate')\n",
    "except Exception as err:\n",
    "    print (\"\\nYang model cfg failed\")\n",
    "    TestResult = False\n",
    "    sim.stop()\n",
    "    sim.clean()\n",
    "    # Clean up sim scratch space\n",
    "    shutil.rmtree(sim_dir)\n",
    "    raise"
   ]
  },
  {
   "cell_type": "code",
   "execution_count": 8,
   "id": "f833cfd6-2f54-4ef8-a7da-0d32478b599c",
   "metadata": {
    "execution": {
     "iopub.execute_input": "2021-07-15T16:10:35.233375Z",
     "iopub.status.busy": "2021-07-15T16:10:35.232420Z",
     "iopub.status.idle": "2021-07-15T16:10:37.239415Z",
     "shell.execute_reply": "2021-07-15T16:10:37.238592Z"
    }
   },
   "outputs": [
    {
     "name": "stdout",
     "output_type": "stream",
     "text": [
      "***** VIEW FROM TELNET CONSOLE OF P1 *****\n",
      "\r",
      "\r\n",
      "\r",
      "RP/0/RP0/CPU0:P1#show running-config telemetry model-driven\r",
      "\r\n",
      "\r",
      "Thu Jul 15 16:10:35.304 UTC\r",
      "\r\n",
      "telemetry model-driven\r",
      "\r\n",
      " destination-group D1\r",
      "\r\n",
      "  address-family ipv4 10.168.122.119 port 20030\r",
      "\r\n",
      "   encoding gpb\r",
      "\r\n",
      "   protocol grpc no-tls\r",
      "\r\n",
      "  !\r",
      "\r\n",
      " !\r",
      "\r\n",
      " sensor-group SGroup1\r",
      "\r\n",
      "  sensor-path Cisco-IOS-XR-wdsysmon-fd-oper:system-monitoring/cpu-utilization\r",
      "\r\n",
      " !\r",
      "\r\n",
      " subscription Sub1\r",
      "\r\n",
      "  sensor-group-id SGroup1 sample-interval 3000\r",
      "\r\n",
      "  destination-id D1\r",
      "\r\n",
      " !\r",
      "\r\n",
      "!\r",
      "\r\n",
      "\r",
      "\r\n",
      "RP/0/RP0/CPU0:P1#\n"
     ]
    }
   ],
   "source": [
    "# Show the telemetry configuration applied on the router.\n",
    "loginp1.write(('''\n",
    "show running-config telemetry model-driven\n",
    "''').encode('ascii'))\n",
    "line = loginp1.read_until(b'/r/n',2)\n",
    "print(\"***** VIEW FROM TELNET CONSOLE OF P1 *****\")\n",
    "print(line.decode())"
   ]
  },
  {
   "cell_type": "code",
   "execution_count": 9,
   "id": "91b54ac8-bf5e-46d4-a8f5-67bdfbb423e5",
   "metadata": {
    "execution": {
     "iopub.execute_input": "2021-07-15T16:10:37.249083Z",
     "iopub.status.busy": "2021-07-15T16:10:37.247824Z",
     "iopub.status.idle": "2021-07-15T16:10:59.497643Z",
     "shell.execute_reply": "2021-07-15T16:10:59.496656Z"
    },
    "tags": []
   },
   "outputs": [
    {
     "name": "stderr",
     "output_type": "stream",
     "text": [
      "INFO:pyvxr.vxr:Stopping sim on host localhost (dir /nobackup/vxr/pyvxr/1osxeycjb7)\n"
     ]
    },
    {
     "name": "stderr",
     "output_type": "stream",
     "text": [
      "INFO:pyvxr.sim:Stopping previous simulation (if any)\n"
     ]
    },
    {
     "name": "stderr",
     "output_type": "stream",
     "text": [
      "INFO:pyvxr.vxr:Cleaning sim on host localhost (dir /nobackup/vxr/pyvxr/1osxeycjb7)\n"
     ]
    },
    {
     "name": "stderr",
     "output_type": "stream",
     "text": [
      "INFO:pyvxr.sim:Stopping previous simulation (if any)\n"
     ]
    },
    {
     "name": "stderr",
     "output_type": "stream",
     "text": [
      "INFO:pyvxr.sim:Cleaning previous simulation (if any)\n"
     ]
    }
   ],
   "source": [
    "loginpe1.close()\n",
    "loginpe2.close()\n",
    "logince1.close()\n",
    "logince2.close()\n",
    "loginp1.close()\n",
    "client1.close()\n",
    "client2.close()\n",
    "\n",
    "sim.stop()\n",
    "sim.clean()\n",
    "# Clean up sim scratch space\n",
    "shutil.rmtree(sim_dir)\n"
   ]
  },
  {
   "cell_type": "code",
   "execution_count": 10,
   "id": "32c14d2e-54eb-4460-877e-1d21e29fc107",
   "metadata": {
    "execution": {
     "iopub.execute_input": "2021-07-15T16:10:59.505016Z",
     "iopub.status.busy": "2021-07-15T16:10:59.504056Z",
     "iopub.status.idle": "2021-07-15T16:10:59.509215Z",
     "shell.execute_reply": "2021-07-15T16:10:59.508425Z"
    }
   },
   "outputs": [
    {
     "name": "stdout",
     "output_type": "stream",
     "text": [
      "********* NOTEBOOK TEST IS SUCCESSFUL *********\n"
     ]
    }
   ],
   "source": [
    "if (TestResult):\n",
    "    print(\"********* NOTEBOOK TEST IS SUCCESSFUL *********\")\n",
    "else:\n",
    "    print(\"********* NOTEBOOK TEST FAILED *********\")"
   ]
  }
 ],
 "metadata": {
  "kernelspec": {
   "display_name": "Python 3 (ipykernel)",
   "language": "python",
   "name": "python3"
  },
  "language_info": {
   "codemirror_mode": {
    "name": "ipython",
    "version": 3
   },
   "file_extension": ".py",
   "mimetype": "text/x-python",
   "name": "python",
   "nbconvert_exporter": "python",
   "pygments_lexer": "ipython3",
   "version": "3.8.10"
  }
 },
 "nbformat": 4,
 "nbformat_minor": 5
}
