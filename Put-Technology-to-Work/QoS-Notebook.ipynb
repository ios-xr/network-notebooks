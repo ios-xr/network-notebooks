{
 "cells": [
  {
   "cell_type": "markdown",
   "metadata": {},
   "source": [
    "# QoS, to make Networks Dependable\n",
    "<sup> <b>Author:</b> Sarah Samuel (sasamuel@cisco.com) <b>Inputs:</b> Vineet Upendra (vupendra@cisco.com) </sup>"
   ]
  },
  {
   "cell_type": "markdown",
   "metadata": {},
   "source": [
    "## What is Quality of Service?"
   ]
  },
  {
   "cell_type": "markdown",
   "metadata": {},
   "source": [
    "Quality of Service (QoS) is the technique of prioritizing traffic flows and providing preferential forwarding for higher-priority packets. The fundamental reason to implement QoS in your network is to provide guaranteed end-to-end traffic forwarding."
   ]
  },
  {
   "cell_type": "markdown",
   "metadata": {},
   "source": [
    "Modular QoS provides features that ensure better and more predictable network service by:\n",
    "* supporting bandwidth allocation\n",
    "* improving loss characteristics\n",
    "* avoiding and managing network congestion\n",
    "* metering network traffic\n",
    "* setting traffic flow priorities across the network.\n",
    "\n",
    "This notebook shows you how you can configure QoS on the network with various examples."
   ]
  },
  {
   "cell_type": "markdown",
   "metadata": {},
   "source": [
    "NETWORK TOPOLOGY:\n",
    "![Topology](./images/QoS.png)"
   ]
  },
  {
   "cell_type": "markdown",
   "metadata": {},
   "source": [
    "## Before You Begin"
   ]
  },
  {
   "cell_type": "markdown",
   "metadata": {},
   "source": [
    "Before you begin to configure QoS on the simulator, ensure to complete the following prerequisites.\n",
    "* [Set up simulator](#step1)\n",
    "* [Add the base configuration](#step2)\n",
    "* [Design the virtual router topology](#step3)\n",
    "* [Deploy the configurations](#step4)\n"
   ]
  },
  {
   "cell_type": "markdown",
   "metadata": {},
   "source": [
    "## QoS Configurations"
   ]
  },
  {
   "cell_type": "markdown",
   "metadata": {},
   "source": [
    "After the simulated topology is up and running with the base configurations, we apply the QoS configurations in the below sections:\n",
    "* [Create a class-map](#step5)\n",
    "* [Create a policy-map](#step6)\n",
    "* [Attach the traffic policy to an interface](#step7)\n",
    "* [Verification of the traffic policy](#step8)\n",
    "* [Example 1: IP Precedence Marking Configuration](#step9)\n",
    "* [Example 2: IP DSCP Marking Configuration](#step21)\n",
    "* [Example 3: QoS Group Marking Configuration](#step10)\n",
    "* [Example 4: MPLS Experimental Bit Imposition Marking Configuration](#step12)\n",
    "* [Example 5: MPLS Experimental Topmost Marking Configuration](#step13)"
   ]
  },
  {
   "cell_type": "markdown",
   "metadata": {},
   "source": [
    "### <a name=\"step1\"></a>Set up Simulator\n"
   ]
  },
  {
   "cell_type": "markdown",
   "metadata": {},
   "source": [
    ">First, you'll have to set up the simulator to build your network. The following sets up our python enviroment and the simulator object."
   ]
  },
  {
   "cell_type": "code",
   "execution_count": 1,
   "metadata": {},
   "outputs": [
    {
     "name": "stdout",
     "output_type": "stream",
     "text": [
      "3.6.9 (default, Jun 29 2022, 11:45:57) \n",
      "[GCC 8.4.0]\n",
      "\n",
      "*** Logging into the devices ***\n",
      "\n",
      "2022-09-21 05:17:10,211: %UNICON-INFO: +++ rp2 logfile /tmp/rp2-cli-20220921T051710209.log +++\n",
      "\n",
      "2022-09-21 05:17:10,212: %UNICON-INFO: +++ Unicon plugin iosxr/spitfire (unicon.plugins.iosxr.spitfire) +++\n",
      "Password: \n",
      "\n",
      "2022-09-21 05:17:10,363: %UNICON-INFO: +++ connection to spawn: ssh -l cisco 10.10.20.227 -p 63506, id: 140531386314536 +++\n",
      "\n",
      "2022-09-21 05:17:10,366: %UNICON-INFO: connection to rp2\n",
      "\n",
      "Last login: Wed Sep 21 04:41:50 2022 from 192.168.122.1\n",
      "\n",
      "\n",
      "\n",
      "RP/0/RP0/CPU0:P2#\n",
      "\n",
      "2022-09-21 05:17:10,896: %UNICON-INFO: Learned hostname(s): 'P2'.\n",
      "\n",
      "2022-09-21 05:17:10,898: %UNICON-INFO: +++ initializing handle +++\n",
      "\n",
      "2022-09-21 05:17:10,976: %UNICON-INFO: +++ P2 with via 'cli': executing command 'terminal length 0' +++\n",
      "terminal length 0\n",
      "Wed Sep 21 05:13:17.347 UTC\n",
      "RP/0/RP0/CPU0:P2#\n",
      "\n",
      "2022-09-21 05:17:11,270: %UNICON-INFO: +++ P2 with via 'cli': executing command 'terminal width 0' +++\n",
      "terminal width 0\n",
      "Wed Sep 21 05:13:17.624 UTC\n",
      "RP/0/RP0/CPU0:P2#\n",
      "\n",
      "2022-09-21 05:17:11,528: %UNICON-INFO: +++ P2 with via 'cli': executing command 'show version' +++\n",
      "show version\n",
      "Wed Sep 21 05:13:17.890 UTC\n",
      "Cisco IOS XR Software, Version 7.5.2 LNT\n",
      "Copyright (c) 2013-2022 by Cisco Systems, Inc.\n",
      "\n",
      "Build Information:\n",
      " Built By     : ingunawa\n",
      " Built On     : Tue Apr 26 23:38:37 UTC 2022\n",
      " Build Host   : iox-ucs-030\n",
      " Workspace    : /auto/srcarchive14/prod/7.5.2/8000/ws\n",
      " Version      : 7.5.2\n",
      " Label        : 7.5.2-iso\n",
      "\n",
      "cisco 8000 (VXR)\n",
      "cisco 8201 (VXR) processor with 32GB of memory\n",
      "P2 uptime is 1 week, 5 days, 13 hours, 44 minutes\n",
      "Cisco 8201 1RU Chassis\n",
      "\n",
      "RP/0/RP0/CPU0:P2#\n",
      "\n",
      "2022-09-21 05:17:11,862: %UNICON-INFO: +++ P2 with via 'cli': executing command 'bash cat /etc/bake-info.txt' +++\n",
      "bash cat /etc/bake-info.txt\n",
      "Wed Sep 21 05:13:18.236 UTC\n",
      "### XR Information\n",
      "\n",
      "User = ingunawa\n",
      "Host = iox-ucs-030\n",
      "Workspace = /auto/srcarchive14/prod/7.5.2/8000/ws\n",
      "Built on: Tue Apr 26 16:55:36 PDT 2022\n",
      "Lineup = r75x.lu%EFR-00000433660\n",
      "XR version = 7.5.2-LNT\n",
      "\n",
      "RP/0/RP0/CPU0:P2#\n",
      "\n",
      "2022-09-21 05:17:12,421: %UNICON-INFO: +++ P2 with via 'cli': executing command 'bash cat /etc/build-info.txt' +++\n",
      "bash cat /etc/build-info.txt\n",
      "Wed Sep 21 05:13:18.776 UTC\n",
      "### XR Information\n",
      "\n",
      "User = ingunawa\n",
      "Host = iox-ucs-030\n",
      "Workspace = /auto/srcarchive14/prod/7.5.2/8000/ws\n",
      "Built on = Tue Apr 26 23:38:37 UTC 2022\n",
      "Lineup = r75x.lu%EFR-00000433660\n",
      "XR version = 7.5.2\n",
      "\n",
      "### Leaba Information\n",
      "\n",
      "Silicon One SDK binary release 1.48.0.10\n",
      "\n",
      "RP/0/RP0/CPU0:P2#\n",
      "Checking for config lock\n",
      "\n",
      "2022-09-21 05:17:12,975: %UNICON-INFO: +++ P2 with via 'cli': executing command 'show configuration lock' +++\n",
      "show configuration lock\n",
      "Wed Sep 21 05:13:19.331 UTC\n",
      "RP/0/RP0/CPU0:P2#\n",
      "\n",
      "2022-09-21 05:17:13,254: %UNICON-INFO: +++ P2 with via 'cli': executing command 'show ztp log | i 'SUCCESSFULLY'' +++\n",
      "show ztp log | i 'SUCCESSFULLY'\n",
      "Wed Sep 21 05:13:19.607 UTC\n",
      "2022-09-02 13:55:32,249   7242 [__main__     ] INF: Exiting SUCCESSFULLY\n",
      "2022-09-08 15:32:33,886   7289 [__main__     ] INF: Exiting SUCCESSFULLY\n",
      "RP/0/RP0/CPU0:P2#\n",
      "\n",
      "2022-09-21 05:17:13,908: %UNICON-INFO: +++ P2 with via 'cli': configure +++\n",
      "configure terminal\n",
      "Wed Sep 21 05:13:20.343 UTC\n",
      "RP/0/RP0/CPU0:P2(config)#logging console disable\n",
      "RP/0/RP0/CPU0:P2(config)#line console\n",
      "RP/0/RP0/CPU0:P2(config-line)#exec-timeout 0 0\n",
      "RP/0/RP0/CPU0:P2(config-line)#absolute-timeout 0\n",
      "RP/0/RP0/CPU0:P2(config-line)#session-timeout 0\n",
      "RP/0/RP0/CPU0:P2(config-line)#line default\n",
      "RP/0/RP0/CPU0:P2(config-line)#exec-timeout 0 0\n",
      "RP/0/RP0/CPU0:P2(config-line)#absolute-timeout 0\n",
      "RP/0/RP0/CPU0:P2(config-line)#session-timeout 0\n",
      "RP/0/RP0/CPU0:P2(config-line)#commit\n",
      "Wed Sep 21 05:13:21.109 UTC\n",
      "RP/0/RP0/CPU0:P2(config-line)#end\n",
      "RP/0/RP0/CPU0:P2#\n",
      "\n",
      "2022-09-21 05:17:15,200: %UNICON-INFO: +++ rpe2 logfile /tmp/rpe2-cli-20220921T051715200.log +++\n",
      "\n",
      "2022-09-21 05:17:15,202: %UNICON-INFO: +++ Unicon plugin iosxr/spitfire (unicon.plugins.iosxr.spitfire) +++\n",
      "Password: \n",
      "\n",
      "2022-09-21 05:17:15,357: %UNICON-INFO: +++ connection to spawn: ssh -l cisco 10.10.20.229 -p 62996, id: 140531388978232 +++\n",
      "\n",
      "2022-09-21 05:17:15,359: %UNICON-INFO: connection to rpe2\n",
      "\n",
      "Last login: Wed Sep 21 04:41:16 2022 from 192.168.122.1\n",
      "\n",
      "\n",
      "\n",
      "RP/0/RP0/CPU0:PE2#\n",
      "\n",
      "2022-09-21 05:17:15,975: %UNICON-INFO: Learned hostname(s): 'PE2'.\n",
      "\n",
      "2022-09-21 05:17:15,976: %UNICON-INFO: +++ initializing handle +++\n",
      "\n",
      "2022-09-21 05:17:16,052: %UNICON-INFO: +++ PE2 with via 'cli': executing command 'terminal length 0' +++\n",
      "terminal length 0\n",
      "Wed Sep 21 05:12:43.890 UTC\n",
      "RP/0/RP0/CPU0:PE2#\n",
      "\n",
      "2022-09-21 05:17:16,349: %UNICON-INFO: +++ PE2 with via 'cli': executing command 'terminal width 0' +++\n",
      "terminal width 0\n",
      "Wed Sep 21 05:12:44.167 UTC\n",
      "RP/0/RP0/CPU0:PE2#\n",
      "\n",
      "2022-09-21 05:17:16,596: %UNICON-INFO: +++ PE2 with via 'cli': executing command 'show version' +++\n",
      "show version\n",
      "Wed Sep 21 05:12:44.427 UTC\n",
      "Cisco IOS XR Software, Version 7.5.2 LNT\n",
      "Copyright (c) 2013-2022 by Cisco Systems, Inc.\n",
      "\n",
      "Build Information:\n",
      " Built By     : ingunawa\n",
      " Built On     : Tue Apr 26 23:38:37 UTC 2022\n",
      " Build Host   : iox-ucs-030\n",
      " Workspace    : /auto/srcarchive14/prod/7.5.2/8000/ws\n",
      " Version      : 7.5.2\n",
      " Label        : 7.5.2-iso\n",
      "\n",
      "cisco 8000 (VXR)\n",
      "cisco 8201 (VXR) processor with 32GB of memory\n",
      "PE2 uptime is 2 weeks, 4 days, 15 hours, 21 minutes\n",
      "Cisco 8201 1RU Chassis\n",
      "\n",
      "RP/0/RP0/CPU0:PE2#\n",
      "\n",
      "2022-09-21 05:17:16,954: %UNICON-INFO: +++ PE2 with via 'cli': executing command 'bash cat /etc/bake-info.txt' +++\n",
      "bash cat /etc/bake-info.txt\n",
      "Wed Sep 21 05:12:44.784 UTC\n",
      "### XR Information\n",
      "\n",
      "User = ingunawa\n",
      "Host = iox-ucs-030\n",
      "Workspace = /auto/srcarchive14/prod/7.5.2/8000/ws\n",
      "Built on: Tue Apr 26 16:55:36 PDT 2022\n",
      "Lineup = r75x.lu%EFR-00000433660\n",
      "XR version = 7.5.2-LNT\n",
      "\n",
      "RP/0/RP0/CPU0:PE2#\n",
      "\n",
      "2022-09-21 05:17:17,551: %UNICON-INFO: +++ PE2 with via 'cli': executing command 'bash cat /etc/build-info.txt' +++\n",
      "bash cat /etc/build-info.txt\n",
      "Wed Sep 21 05:12:45.372 UTC\n",
      "### XR Information\n",
      "\n",
      "User = ingunawa\n",
      "Host = iox-ucs-030\n",
      "Workspace = /auto/srcarchive14/prod/7.5.2/8000/ws\n",
      "Built on = Tue Apr 26 23:38:37 UTC 2022\n",
      "Lineup = r75x.lu%EFR-00000433660\n",
      "XR version = 7.5.2\n",
      "\n",
      "### Leaba Information\n",
      "\n",
      "Silicon One SDK binary release 1.48.0.10\n",
      "\n",
      "RP/0/RP0/CPU0:PE2#\n",
      "Checking for config lock\n",
      "\n",
      "2022-09-21 05:17:18,193: %UNICON-INFO: +++ PE2 with via 'cli': executing command 'show configuration lock' +++\n",
      "show configuration lock\n",
      "Wed Sep 21 05:12:46.031 UTC\n",
      "RP/0/RP0/CPU0:PE2#\n",
      "\n",
      "2022-09-21 05:17:18,502: %UNICON-INFO: +++ PE2 with via 'cli': executing command 'show ztp log | i 'SUCCESSFULLY'' +++\n",
      "show ztp log | i 'SUCCESSFULLY'\n",
      "Wed Sep 21 05:12:46.325 UTC\n",
      "2022-09-02 13:55:55,249   7364 [__main__     ] INF: Exiting SUCCESSFULLY\n",
      "RP/0/RP0/CPU0:PE2#\n",
      "\n",
      "2022-09-21 05:17:19,228: %UNICON-INFO: +++ PE2 with via 'cli': configure +++\n",
      "configure terminal\n",
      "Wed Sep 21 05:12:47.125 UTC\n",
      "RP/0/RP0/CPU0:PE2(config)#logging console disable\n",
      "RP/0/RP0/CPU0:PE2(config)#line console\n",
      "RP/0/RP0/CPU0:PE2(config-line)#exec-timeout 0 0\n",
      "RP/0/RP0/CPU0:PE2(config-line)#absolute-timeout 0\n",
      "RP/0/RP0/CPU0:PE2(config-line)#session-timeout 0\n",
      "RP/0/RP0/CPU0:PE2(config-line)#line default\n",
      "RP/0/RP0/CPU0:PE2(config-line)#exec-timeout 0 0\n",
      "RP/0/RP0/CPU0:PE2(config-line)#absolute-timeout 0\n",
      "RP/0/RP0/CPU0:PE2(config-line)#session-timeout 0\n",
      "RP/0/RP0/CPU0:PE2(config-line)#commit\n",
      "Wed Sep 21 05:12:47.903 UTC\n",
      "RP/0/RP0/CPU0:PE2(config-line)#end\n",
      "RP/0/RP0/CPU0:PE2#\n",
      "\n",
      "2022-09-21 05:17:20,537: %UNICON-INFO: +++ trex logfile /tmp/trex-cli-20220921T051720536.log +++\n",
      "\n",
      "2022-09-21 05:17:20,538: %UNICON-INFO: +++ Unicon plugin linux (unicon.plugins.linux) +++\n",
      "\n",
      "2022-09-21 05:17:20,545: %UNICON-INFO: +++ connection to spawn: ssh -l root 10.10.20.230 -p 64254, id: 140531388588496 +++\n",
      "\n",
      "2022-09-21 05:17:20,548: %UNICON-INFO: connection to trex\n",
      "root@10.10.20.230's password: \n",
      "Last login: Wed Sep 21 04:43:17 2022 from sonic-6\n",
      "[root@localhost ~]# \n",
      "\n",
      "2022-09-21 05:17:20,888: %UNICON-INFO: Learned hostname: localhost\n",
      "\n",
      "[root@localhost ~]# \n",
      "\n",
      "2022-09-21 05:17:20,909: %UNICON-INFO: +++ initializing handle +++\n"
     ]
    }
   ],
   "source": [
    "from lib.xr import *\n",
    "nodes = {\n",
    "         'PE1':'', \n",
    "         'P1':'',\n",
    "         'P2':'', \n",
    "         'PE2':'', \n",
    "         'trex':''\n",
    "        }\n",
    "\n",
    "tb = access_device_consoles(\"lib/tb.yaml\", nodes)"
   ]
  },
  {
   "cell_type": "markdown",
   "metadata": {},
   "source": [
    "### <a name=\"step2\"></a>Add Base Router Configuration"
   ]
  },
  {
   "cell_type": "markdown",
   "metadata": {},
   "source": [
    ">This defines and starts up a small two router topology for our lab and a Linux server to use on the same LAN, with SSH to all of the routers.\n",
    "Takes a minute or five to start. "
   ]
  },
  {
   "cell_type": "code",
   "execution_count": 2,
   "metadata": {},
   "outputs": [
    {
     "name": "stdout",
     "output_type": "stream",
     "text": [
      "\n",
      "2022-09-21 05:17:27,197: %UNICON-INFO: +++ P2 with via 'cli': configure +++\n",
      "configure terminal\n",
      "Wed Sep 21 05:13:33.629 UTC\n",
      "RP/0/RP0/CPU0:P2(config)#\n",
      "RP/0/RP0/CPU0:P2(config)#ssh server v2\n",
      "RP/0/RP0/CPU0:P2(config)#ssh server netconf\n",
      "RP/0/RP0/CPU0:P2(config)#netconf-yang agent ssh\n",
      "RP/0/RP0/CPU0:P2(config)#!\n",
      "RP/0/RP0/CPU0:P2(config)#hostname P2\n",
      "RP/0/RP0/CPU0:P2(config)#!\n",
      "RP/0/RP0/CPU0:P2(config)#interface Loopback0\n",
      "RP/0/RP0/CPU0:P2(config-if)# ipv4 address 10.200.200.202 255.255.255.255\n",
      "RP/0/RP0/CPU0:P2(config-if)#!\n",
      "RP/0/RP0/CPU0:P2(config-if)#interface FourHundredGigE0/0/0/0\n",
      "RP/0/RP0/CPU0:P2(config-if)# description Connected_to_P1\n",
      "RP/0/RP0/CPU0:P2(config-if)# mtu 9216\n",
      "RP/0/RP0/CPU0:P2(config-if)# ipv4 address 10.120.3.2 255.255.255.0\n",
      "RP/0/RP0/CPU0:P2(config-if)# no shutdown\n",
      "RP/0/RP0/CPU0:P2(config-if)#!\n",
      "RP/0/RP0/CPU0:P2(config-if)#interface FourHundredGigE0/0/0/1\n",
      "RP/0/RP0/CPU0:P2(config-if)# description Connected_to_PE2\n",
      "RP/0/RP0/CPU0:P2(config-if)# mtu 9216\n",
      "RP/0/RP0/CPU0:P2(config-if)# ipv4 address 10.120.4.1 255.255.255.0\n",
      "RP/0/RP0/CPU0:P2(config-if)# ipv4 unreachables disable\n",
      "RP/0/RP0/CPU0:P2(config-if)# load-interval 30\n",
      "RP/0/RP0/CPU0:P2(config-if)# damp\n",
      "RP/0/RP0/CPU0:P2(config-if)# !\n",
      "RP/0/RP0/CPU0:P2(config-if)# carrier-delay up 150000 down 0\n",
      "RP/0/RP0/CPU0:P2(config-if)# load-interval 30\n",
      "RP/0/RP0/CPU0:P2(config-if)# no shutdown\n",
      "RP/0/RP0/CPU0:P2(config-if)#!\n",
      "RP/0/RP0/CPU0:P2(config-if)#router ospf 10\n",
      "RP/0/RP0/CPU0:P2(config-ospf)# router-id 10.200.200.202\n",
      "RP/0/RP0/CPU0:P2(config-ospf)# area 0\n",
      "RP/0/RP0/CPU0:P2(config-ospf-ar)#  interface FourHundredGigE0/0/0/0\n",
      "RP/0/RP0/CPU0:P2(config-ospf-ar-if)#  interface FourHundredGigE0/0/0/1\n",
      "RP/0/RP0/CPU0:P2(config-ospf-ar-if)#  interface Loopback0\n",
      "RP/0/RP0/CPU0:P2(config-ospf-ar-if)#  !\n",
      "RP/0/RP0/CPU0:P2(config-ospf-ar-if)# !\n",
      "RP/0/RP0/CPU0:P2(config-ospf-ar-if)#!\n",
      "RP/0/RP0/CPU0:P2(config-ospf-ar-if)#mpls ldp\n",
      "RP/0/RP0/CPU0:P2(config-ldp)# router-id 10.200.200.202\n",
      "RP/0/RP0/CPU0:P2(config-ldp)# interface FourHundredGigE0/0/0/0\n",
      "RP/0/RP0/CPU0:P2(config-ldp-if)# interface FourHundredGigE0/0/0/1\n",
      "RP/0/RP0/CPU0:P2(config-ldp-if)# !\n",
      "RP/0/RP0/CPU0:P2(config-ldp-if)#!\n",
      "RP/0/RP0/CPU0:P2(config-ldp-if)# \n",
      "RP/0/RP0/CPU0:P2(config-ldp-if)#commit\n",
      "Wed Sep 21 05:13:36.113 UTC\n",
      "RP/0/RP0/CPU0:P2(config-ldp-if)#end\n",
      "RP/0/RP0/CPU0:P2#\n",
      "\n",
      "2022-09-21 05:17:30,975: %UNICON-INFO: +++ PE2 with via 'cli': configure +++\n",
      "configure terminal\n",
      "Wed Sep 21 05:12:58.881 UTC\n",
      "RP/0/RP0/CPU0:PE2(config)#\n",
      "RP/0/RP0/CPU0:PE2(config)#ssh server v2\n",
      "RP/0/RP0/CPU0:PE2(config)#ssh server netconf\n",
      "RP/0/RP0/CPU0:PE2(config)#netconf-yang agent ssh\n",
      "RP/0/RP0/CPU0:PE2(config)#!\n",
      "RP/0/RP0/CPU0:PE2(config)#hostname PE2\n",
      "RP/0/RP0/CPU0:PE2(config)#!\n",
      "RP/0/RP0/CPU0:PE2(config)#interface Loopback0\n",
      "RP/0/RP0/CPU0:PE2(config-if)# ipv4 address 10.100.100.102 255.255.255.255\n",
      "RP/0/RP0/CPU0:PE2(config-if)#!\n",
      "RP/0/RP0/CPU0:PE2(config-if)#interface FourHundredGigE0/0/0/0\n",
      "RP/0/RP0/CPU0:PE2(config-if)# description Connected_to_P2\n",
      "RP/0/RP0/CPU0:PE2(config-if)# mtu 9216\n",
      "RP/0/RP0/CPU0:PE2(config-if)# ipv4 address 10.120.4.2 255.255.255.0\n",
      "RP/0/RP0/CPU0:PE2(config-if)# no shutdown\n",
      "RP/0/RP0/CPU0:PE2(config-if)#!\n",
      "RP/0/RP0/CPU0:PE2(config-if)#interface FourHundredGigE0/0/0/1\n",
      "RP/0/RP0/CPU0:PE2(config-if)# description Connected_to_TREX_eth2\n",
      "RP/0/RP0/CPU0:PE2(config-if)# mtu 9216\n",
      "RP/0/RP0/CPU0:PE2(config-if)# ipv4 address 10.1.1.2 255.255.255.0\n",
      "RP/0/RP0/CPU0:PE2(config-if)# ipv4 unreachables disable\n",
      "RP/0/RP0/CPU0:PE2(config-if)# load-interval 30\n",
      "RP/0/RP0/CPU0:PE2(config-if)# dampening\n",
      "RP/0/RP0/CPU0:PE2(config-if)# !\n",
      "RP/0/RP0/CPU0:PE2(config-if)# carrier-delay up 150000 down 0\n",
      "RP/0/RP0/CPU0:PE2(config-if)# load-interval 30\n",
      "RP/0/RP0/CPU0:PE2(config-if)# no shutdown\n",
      "RP/0/RP0/CPU0:PE2(config-if)#!\n",
      "RP/0/RP0/CPU0:PE2(config-if)#router ospf 10\n",
      "RP/0/RP0/CPU0:PE2(config-ospf)# router-id 10.100.100.102\n",
      "RP/0/RP0/CPU0:PE2(config-ospf)# area 0\n",
      "RP/0/RP0/CPU0:PE2(config-ospf-ar)#  interface FourHundredGigE0/0/0/0\n",
      "RP/0/RP0/CPU0:PE2(config-ospf-ar-if)#  interface FourHundredGigE0/0/0/1\n",
      "RP/0/RP0/CPU0:PE2(config-ospf-ar-if)#  interface Loopback0\n",
      "RP/0/RP0/CPU0:PE2(config-ospf-ar-if)#  !\n",
      "RP/0/RP0/CPU0:PE2(config-ospf-ar-if)# !\n",
      "RP/0/RP0/CPU0:PE2(config-ospf-ar-if)#!\n",
      "RP/0/RP0/CPU0:PE2(config-ospf-ar-if)#mpls ldp\n",
      "RP/0/RP0/CPU0:PE2(config-ldp)# router-id 10.100.100.102\n",
      "RP/0/RP0/CPU0:PE2(config-ldp)# interface FourHundredGigE0/0/0/0\n",
      "RP/0/RP0/CPU0:PE2(config-ldp-if)# interface FourHundredGigE0/0/0/1\n",
      "RP/0/RP0/CPU0:PE2(config-ldp-if)# !\n",
      "RP/0/RP0/CPU0:PE2(config-ldp-if)#!\n",
      "RP/0/RP0/CPU0:PE2(config-ldp-if)#commit\n",
      "Wed Sep 21 05:13:01.396 UTC\n",
      "RP/0/RP0/CPU0:PE2(config-ldp-if)#end\n",
      "RP/0/RP0/CPU0:PE2#\n"
     ]
    }
   ],
   "source": [
    "out = nodes['PE1'].configure(pe1_config_str)\n",
    "out = nodes['P1'].configure(p1_config_str)\n",
    "out = nodes['P2'].configure(p2_config_str)\n",
    "out = nodes['PE2'].configure(pe2_config_str)"
   ]
  },
  {
   "cell_type": "markdown",
   "metadata": {},
   "source": [
    "### Start the network traffic"
   ]
  },
  {
   "cell_type": "code",
   "execution_count": 3,
   "metadata": {},
   "outputs": [
    {
     "name": "stdout",
     "output_type": "stream",
     "text": [
      "Last login: Tue Sep 20 09:15:27 2022 from sonic-6\n",
      "[root@localhost ~]# ifconfig eth1 10.0.0.1 netmask 255.255.255.0 up; ifconfig et h2 10.1.1.1 netmask 255.255.255.0 up\n",
      "[root@localhost ~]# cd /opt/cisco/trex/latest/\n",
      "[root@localhost latest]# ./t-rex-64 -i\n",
      "Starting Scapy server........ Scapy server is started\n",
      "Trying to bind to vfio-pci ...\n",
      "Trying to compile and bind to igb_uio ...\n",
      "ERROR: We don't have precompiled igb_uio.ko module for your kernel version.\n",
      "Will try compiling automatically...\n",
      "Success.\n",
      "\n",
      "/usr/bin/python3 dpdk_nic_bind.py --bind=igb_uio 0000:00:04.0 0000:00:05.0 \n",
      "The ports are bound/configured.\n",
      "Starting  TRex v2.99 please wait  ... \n",
      " set driver name net_virtio \n",
      " driver capability  : SLRO \n",
      " set dpdk queues mode to ONE_QUE \n",
      " Number of ports found: 2\n",
      "zmq publisher at: tcp://*:4500\n",
      " wait 1 sec Last login: Tue Sep 20 09:15:53 2022 from sonic-6\n",
      "[root@localhost ~]# cd /opt/cisco/trex/latest/\n",
      "[root@localhost latest]# ./trex-console\n",
      "start -f stl/dscp_traffic1.py -d 1h -m 100pps -p 0\n",
      "\n",
      "Using 'python3' as Python interpeter\n",
      "\n",
      "\n",
      "Connecting to RPC server on localhost:4501                   [SUCCESS]\n",
      "\n",
      "\n",
      "Connecting to publisher server on localhost:4500             [SUCCESS]\n",
      "\n",
      "\n",
      "Acquiring ports [0, 1]:                                      [SUCCESS]\n",
      "\n",
      "\n",
      "Server Info:\n",
      "\n",
      "Server version:   v2.99 @ STL\n",
      "Server mode:      Stateless\n",
      "Server CPU:       1 x VXR\n",
      "Ports count:      2 x 100.0Gbps @ Virtio network device\t\n",
      "\n",
      "-=TRex Console v3.0=-\n",
      "\n",
      "Type 'help' or '?' for supported actions\n",
      "\n",
      "trex>start -f stl/dscp_traffic1.py -d 1h -m 100pps -p 0\n"
     ]
    }
   ],
   "source": [
    "# Import the function that generates high priority traffic\n",
    "from traffic.TrafficGenerator import generate_hipriority_traffic\n",
    "trex_ipaddress = str(nodes['trex'].connections.cli.ip)\n",
    "trex_port = str(nodes['trex'].connections.cli.port)\n",
    "client1, client2, interact1, interact2 = generate_hipriority_traffic (trex_ipaddress, trex_port)"
   ]
  },
  {
   "cell_type": "markdown",
   "metadata": {},
   "source": [
    "## <a name=\"step5\"></a>Create a class map"
   ]
  },
  {
   "cell_type": "markdown",
   "metadata": {},
   "source": [
    ">First, create the class-map by executing the below steps."
   ]
  },
  {
   "cell_type": "code",
   "execution_count": 4,
   "metadata": {},
   "outputs": [
    {
     "name": "stdout",
     "output_type": "stream",
     "text": [
      "\n",
      "2022-09-20 09:19:25,100: %UNICON-INFO: +++ PE1 with via 'cli': configure +++\n",
      "configure terminal\n",
      "Tue Sep 20 09:15:27.945 UTC\n",
      "RP/0/RP0/CPU0:PE1(config)#\n",
      "RP/0/RP0/CPU0:PE1(config)#class-map match-any class1\n",
      "RP/0/RP0/CPU0:PE1(config-cmap)# match dscp ef\n",
      "RP/0/RP0/CPU0:PE1(config-cmap)# end-class-map\n",
      "RP/0/RP0/CPU0:PE1(config)#commit\n",
      "Tue Sep 20 09:15:28.433 UTC\n",
      "RP/0/RP0/CPU0:PE1(config)#end\n",
      "RP/0/RP0/CPU0:PE1#\n"
     ]
    }
   ],
   "source": [
    "# The below steps configures the class-map.\n",
    "out = nodes['PE1'].configure('''\n",
    "class-map match-any class1\n",
    " match dscp ef\n",
    " end-class-map\n",
    "''')"
   ]
  },
  {
   "cell_type": "markdown",
   "metadata": {},
   "source": [
    ">Verify the class-map with show commands."
   ]
  },
  {
   "cell_type": "code",
   "execution_count": 5,
   "metadata": {},
   "outputs": [
    {
     "name": "stdout",
     "output_type": "stream",
     "text": [
      "\n",
      "2022-09-20 09:20:12,942: %UNICON-INFO: +++ PE1 with via 'cli': executing command 'show class-map class1' +++\n",
      "show class-map class1\n",
      "Tue Sep 20 09:16:15.723 UTC\n",
      "1) ClassMap: class1    Type: qos \n",
      "    Referenced by 0 Policymaps \n",
      "\n",
      "RP/0/RP0/CPU0:PE1#\n"
     ]
    }
   ],
   "source": [
    "out = nodes['PE1'].execute('show class-map class1')"
   ]
  },
  {
   "cell_type": "markdown",
   "metadata": {},
   "source": [
    "## <a name=\"step6\"></a>Create a policy-map"
   ]
  },
  {
   "cell_type": "code",
   "execution_count": 7,
   "metadata": {},
   "outputs": [
    {
     "name": "stdout",
     "output_type": "stream",
     "text": [
      "\n",
      "2022-09-20 09:20:47,017: %UNICON-INFO: +++ PE1 with via 'cli': configure +++\n",
      "configure terminal\n",
      "Tue Sep 20 09:16:49.862 UTC\n",
      "RP/0/RP0/CPU0:PE1(config)#\n",
      "RP/0/RP0/CPU0:PE1(config)#policy-map policy1\n",
      "RP/0/RP0/CPU0:PE1(config-pmap)# class class1\n",
      "RP/0/RP0/CPU0:PE1(config-pmap-c)#  set qos-group 4\n",
      "RP/0/RP0/CPU0:PE1(config-pmap-c)# class class-default \n",
      "RP/0/RP0/CPU0:PE1(config-pmap-c)# end-policy-map\n",
      "RP/0/RP0/CPU0:PE1(config)#commit\n",
      "Tue Sep 20 09:16:50.434 UTC\n",
      "RP/0/RP0/CPU0:PE1(config)#end\n",
      "RP/0/RP0/CPU0:PE1#\n"
     ]
    }
   ],
   "source": [
    "# This step configures the policy-map using the class-map created in the previous step.\n",
    "out = nodes['PE1'].configure('''\n",
    "policy-map policy1\n",
    " class class1\n",
    "  set qos-group 4\n",
    " class class-default \n",
    " end-policy-map\n",
    "''')"
   ]
  },
  {
   "cell_type": "markdown",
   "metadata": {},
   "source": [
    "> Verify the policy-map with show commands."
   ]
  },
  {
   "cell_type": "code",
   "execution_count": 8,
   "metadata": {},
   "outputs": [
    {
     "name": "stdout",
     "output_type": "stream",
     "text": [
      "\n",
      "2022-09-20 09:20:50,513: %UNICON-INFO: +++ PE1 with via 'cli': executing command 'show policy-map policy1' +++\n",
      "show policy-map policy1\n",
      "                                   ^\n",
      "% Invalid input detected at '^' marker.\n",
      "RP/0/RP0/CPU0:PE1#\n"
     ]
    }
   ],
   "source": [
    "out = nodes['PE1'].execute('show policy-map policy1')"
   ]
  },
  {
   "cell_type": "markdown",
   "metadata": {},
   "source": [
    "## <a name=\"step7\"></a>Apply the traffic policy to an interface"
   ]
  },
  {
   "cell_type": "code",
   "execution_count": 9,
   "metadata": {},
   "outputs": [
    {
     "name": "stdout",
     "output_type": "stream",
     "text": [
      "\n",
      "2022-09-20 09:21:18,988: %UNICON-INFO: +++ PE1 with via 'cli': configure +++\n",
      "configure terminal\n",
      "Tue Sep 20 09:17:21.830 UTC\n",
      "RP/0/RP0/CPU0:PE1(config)#\n",
      "RP/0/RP0/CPU0:PE1(config)#interface FourHundredGigE0/0/0/0\n",
      "RP/0/RP0/CPU0:PE1(config-if)# service-policy input policy1\n",
      "RP/0/RP0/CPU0:PE1(config-if)#commit\n",
      "Tue Sep 20 09:17:22.243 UTC\n",
      "RP/0/RP0/CPU0:PE1(config-if)#end\n",
      "RP/0/RP0/CPU0:PE1#\n"
     ]
    }
   ],
   "source": [
    "# Applying traffic policy to an interface in ingress direction.\n",
    "# Note that policy can be applied on the interface in the ingress and egress direction.\n",
    "out = nodes['PE1'].configure('''\n",
    "interface FourHundredGigE0/0/0/0\n",
    " service-policy input policy1\n",
    "''')"
   ]
  },
  {
   "cell_type": "markdown",
   "metadata": {},
   "source": [
    "## <a name=\"step8\"></a>Verification of the traffic policy"
   ]
  },
  {
   "cell_type": "code",
   "execution_count": 10,
   "metadata": {},
   "outputs": [
    {
     "name": "stdout",
     "output_type": "stream",
     "text": [
      "\n",
      "2022-09-20 09:21:23,141: %UNICON-INFO: +++ PE1 with via 'cli': executing command 'show qos interface FourHundredGigE0/0/0/0 input' +++\n",
      "show qos interface FourHundredGigE0/0/0/0 input\n",
      "Tue Sep 20 09:17:25.917 UTC\n",
      "NOTE:- Configured values are displayed within parentheses\n",
      "Interface FourHundredGigE0/0/0/0 ifh 0xf000138  -- input policy\n",
      "NPU Id:                        0\n",
      "Total number of classes:       2\n",
      "Interface Bandwidth:           400000000 kbps\n",
      "Policy Name:                   policy1\n",
      "Accounting Type:               Layer1 (Include Layer 1 encapsulation and above)\n",
      "------------------------------------------------------------------------------\n",
      "Level1 Class                             =   class1\n",
      "New qos group                            =   4\n",
      "Policer not configured for this class\n",
      "\n",
      "Level1 Class                             =   class-default\n",
      "Policer not configured for this class\n",
      "RP/0/RP0/CPU0:PE1#\n"
     ]
    }
   ],
   "source": [
    "# now display the policy applied on the interface.\n",
    "out = nodes['PE1'].execute('show qos interface FourHundredGigE0/0/0/0 input')"
   ]
  },
  {
   "cell_type": "code",
   "execution_count": 11,
   "metadata": {},
   "outputs": [
    {
     "name": "stdout",
     "output_type": "stream",
     "text": [
      "\n",
      "2022-09-20 09:21:31,602: %UNICON-INFO: +++ PE1 with via 'cli': executing command 'show interface FourHundredGigE0/0/0/0 accounting' +++\n",
      "show interface FourHundredGigE0/0/0/0 accounting\n",
      "Tue Sep 20 09:17:34.373 UTC\n",
      "FourHundredGigE0/0/0/0\n",
      "  Protocol              Pkts In         Chars In     Pkts Out        Chars Out\n",
      "  IPV4_UNICAST            16805           773030            0                0\n",
      "  ARP                         4              240            2               84\n",
      "\n",
      "\n",
      "RP/0/RP0/CPU0:PE1#\n",
      "\n",
      "2022-09-20 09:21:31,911: %UNICON-INFO: +++ PE1 with via 'cli': executing command 'show policy-map interface FourHundredGigE0/0/0/0 input' +++\n",
      "show policy-map interface FourHundredGigE0/0/0/0 input\n",
      "Tue Sep 20 09:17:34.685 UTC\n",
      "\n",
      "FourHundredGigE0/0/0/0 input: policy1\n",
      "\n",
      "Class class1\n",
      "  Classification statistics          (packets/bytes)     (rate - kbps)\n",
      "    Matched             :                   0/0                    0\n",
      "    Transmitted         :                   0/0                    0\n",
      "    Total Dropped       :                   0/0                    0\n",
      "Class class-default\n",
      "  Classification statistics          (packets/bytes)     (rate - kbps)\n",
      "    Matched             :                   0/0                    0\n",
      "    Transmitted         :                   0/0                    0\n",
      "    Total Dropped       :                   0/0                    0\n",
      "Policy Bag Stats time: 708331098000  [Local Time: 06/12/92 06:38:18.000] \n",
      "RP/0/RP0/CPU0:PE1#\n"
     ]
    }
   ],
   "source": [
    "# Check the traffic on the port\n",
    "out = nodes['PE1'].execute('show interface FourHundredGigE0/0/0/0 accounting')\n",
    "# Policy-map counter updates are v slow. To see the counters incrementing, replay this cell a few times \n",
    "out = nodes['PE1'].execute('show policy-map interface FourHundredGigE0/0/0/0 input')"
   ]
  },
  {
   "cell_type": "markdown",
   "metadata": {},
   "source": [
    "## <a name=\"step9\"></a>Example 1: IP Precedence Marking Configuration"
   ]
  },
  {
   "cell_type": "markdown",
   "metadata": {},
   "source": [
    "> In the previous sections, you have already configured an input service-policy on the input interface **FourHundredGigE0/0/0/0** to set the qos-group value to 4 for all incoming traffic packets which have the **DSCP** bits set to **EF** (Expedited Forwarding). \n",
    "\n",
    "> Play the next cell to configure an output service policy named **out-policy1** on the output interface **FourHundredGigE0/0/0/1**. This service-policy matches all the outgoing trafic packets that have qos-group value set to 4 and sets the IP precedence bit to 1 for the matched packets. "
   ]
  },
  {
   "cell_type": "code",
   "execution_count": 12,
   "metadata": {},
   "outputs": [
    {
     "name": "stdout",
     "output_type": "stream",
     "text": [
      "\n",
      "2022-09-20 09:21:57,571: %UNICON-INFO: +++ PE1 with via 'cli': configure +++\n",
      "configure terminal\n",
      "Tue Sep 20 09:18:00.426 UTC\n",
      "RP/0/RP0/CPU0:PE1(config)#\n",
      "RP/0/RP0/CPU0:PE1(config)#class-map match-any out-class1\n",
      "RP/0/RP0/CPU0:PE1(config-cmap)# match qos-group 4\n",
      "RP/0/RP0/CPU0:PE1(config-cmap)# end-class-map\n",
      "RP/0/RP0/CPU0:PE1(config)#\n",
      "RP/0/RP0/CPU0:PE1(config)#policy-map out-policy1\n",
      "RP/0/RP0/CPU0:PE1(config-pmap)# class out-class1\n",
      "RP/0/RP0/CPU0:PE1(config-pmap-c)#  set precedence 1\n",
      "RP/0/RP0/CPU0:PE1(config-pmap-c)#\n",
      "RP/0/RP0/CPU0:PE1(config-pmap-c)#interface FourHundredGigE0/0/0/1\n",
      "RP/0/RP0/CPU0:PE1(config-if)# service-policy output out-policy1\n",
      "RP/0/RP0/CPU0:PE1(config-if)#commit\n",
      "Tue Sep 20 09:18:01.248 UTC\n",
      "RP/0/RP0/CPU0:PE1(config-if)#end\n",
      "RP/0/RP0/CPU0:PE1#\n"
     ]
    }
   ],
   "source": [
    "out = nodes['PE1'].configure('''\n",
    "class-map match-any out-class1\n",
    " match qos-group 4\n",
    " end-class-map\n",
    "\n",
    "policy-map out-policy1\n",
    " class out-class1\n",
    "  set precedence 1\n",
    "\n",
    "interface FourHundredGigE0/0/0/1\n",
    " service-policy output out-policy1\n",
    "''')"
   ]
  },
  {
   "cell_type": "markdown",
   "metadata": {},
   "source": [
    "> The egress packets on interface **FourHundredGigE0/0/0/1**  matches the class-map **out-class1** in the service-policy **out-policy1**. You can view the policy-map details and counters by playing the next cell. Note that the policy-map counter updates are slow. To see the policy-map counters incrementing, replay this cell a few times"
   ]
  },
  {
   "cell_type": "code",
   "execution_count": 13,
   "metadata": {},
   "outputs": [
    {
     "name": "stdout",
     "output_type": "stream",
     "text": [
      "\n",
      "2022-09-20 09:22:01,766: %UNICON-INFO: +++ PE1 with via 'cli': executing command 'show qos interface FourHundredGigE0/0/0/1 output' +++\n",
      "show qos interface FourHundredGigE0/0/0/1 output\n",
      "Tue Sep 20 09:18:04.540 UTC\n",
      "NOTE:- Configured values are displayed within parentheses\n",
      "Interface FourHundredGigE0/0/0/1 ifh 0xf0001a0  -- output policy\n",
      "NPU Id:                        0\n",
      "Total number of classes:       2\n",
      "Interface Bandwidth:           400000000 kbps\n",
      "Policy Name:                   out-policy1\n",
      "VOQ Base:                      0\n",
      "Accounting Type:               Layer1 (Include Layer 1 encapsulation and above)\n",
      "VOQ Mode:                      8\n",
      "Shared Counter Mode:           1\n",
      "------------------------------------------------------------------------------\n",
      "Level1 Class                             =   out-class1\n",
      "New prec                                 =   1\n",
      "\n",
      "Level1 Class                             =   class-default\n",
      "RP/0/RP0/CPU0:PE1#\n",
      "\n",
      "2022-09-20 09:22:02,040: %UNICON-INFO: +++ PE1 with via 'cli': executing command 'show interface FourHundredGigE0/0/0/1 accounting' +++\n",
      "show interface FourHundredGigE0/0/0/1 accounting\n",
      "Tue Sep 20 09:18:04.829 UTC\n",
      "FourHundredGigE0/0/0/1\n",
      "  Protocol              Pkts In         Chars In     Pkts Out        Chars Out\n",
      "  IPV4_UNICAST            58426          3040187            0                0\n",
      "  MPLS                        0                0        19850           992500\n",
      "  ARP                       118             7080          118             4956\n",
      "\n",
      "\n",
      "RP/0/RP0/CPU0:PE1#\n",
      "\n",
      "2022-09-20 09:22:02,368: %UNICON-INFO: +++ PE1 with via 'cli': executing command 'show policy-map interface FourHundredGigE0/0/0/1 output' +++\n",
      "show policy-map interface FourHundredGigE0/0/0/1 output\n",
      "Tue Sep 20 09:18:05.139 UTC\n",
      "\n",
      "FourHundredGigE0/0/0/1 output: out-policy1\n",
      "\n",
      "Class out-class1\n",
      "  Classification statistics          (packets/bytes)     (rate - kbps)\n",
      "    Matched             :                   0/0                    0\n",
      "    Transmitted         :                   0/0                    0\n",
      "    Total Dropped       :                   0/0                    0\n",
      "Class class-default\n",
      "  Classification statistics          (packets/bytes)     (rate - kbps)\n",
      "    Matched             :                   0/0                    0\n",
      "    Transmitted         :                   0/0                    0\n",
      "    Total Dropped       :                   0/0                    0\n",
      "Policy Bag Stats time: 178502321000  [Local Time: 08/28/75 23:58:41.000] \n",
      "RP/0/RP0/CPU0:PE1#\n"
     ]
    }
   ],
   "source": [
    "# now display the policy applied on the interface.\n",
    "out = nodes['PE1'].execute('show qos interface FourHundredGigE0/0/0/1 output')\n",
    "\n",
    "# Other useful show commands\n",
    "out = nodes['PE1'].execute('show interface FourHundredGigE0/0/0/1 accounting')\n",
    "# Policy-map counter updates are v slow. To see the counters incrementing, replay this cell a few times \n",
    "out = nodes['PE1'].execute('show policy-map interface FourHundredGigE0/0/0/1 output')\n"
   ]
  },
  {
   "cell_type": "code",
   "execution_count": 14,
   "metadata": {},
   "outputs": [
    {
     "name": "stdout",
     "output_type": "stream",
     "text": [
      "\n",
      "2022-09-20 09:22:32,979: %UNICON-INFO: +++ PE1 with via 'cli': executing command 'rollback configuration last 1' +++\n",
      "rollback configuration last 1\n",
      "Tue Sep 20 09:18:35.761 UTC\n",
      "\n",
      "Loading Rollback Changes.\n",
      "Loaded Rollback Changes in 1 sec \n",
      "Committing.\n",
      "5 items committed in 1 sec (4)items/sec\n",
      "Updating.\n",
      "Updated Commit database in 1 sec \n",
      "Configuration successfully rolled back 1 commits.\n",
      "RP/0/RP0/CPU0:PE1#\n"
     ]
    }
   ],
   "source": [
    "# Remove the previous commit in order to configure more policies.\n",
    "out = nodes['PE1'].execute('rollback configuration last 1')"
   ]
  },
  {
   "cell_type": "markdown",
   "metadata": {},
   "source": [
    "## <a name=\"step21\"></a>Example 2: IP DSCP Marking Configuration"
   ]
  },
  {
   "cell_type": "markdown",
   "metadata": {},
   "source": [
    "> Play the next cell to configure an output service policy named **policy-dscp** on the output interface **FourHundredGigE0/0/0/1**. This service-policy matches all the outgoing trafic packets that have qos-group value set to 4 and sets the IP DSCP value to 5 for the matched packets. "
   ]
  },
  {
   "cell_type": "code",
   "execution_count": 15,
   "metadata": {},
   "outputs": [
    {
     "name": "stdout",
     "output_type": "stream",
     "text": [
      "\n",
      "2022-09-20 09:22:40,148: %UNICON-INFO: +++ PE1 with via 'cli': configure +++\n",
      "configure terminal\n",
      "Tue Sep 20 09:18:42.989 UTC\n",
      "RP/0/RP0/CPU0:PE1(config)#\n",
      "RP/0/RP0/CPU0:PE1(config)#class-map match-any out-class1\n",
      "RP/0/RP0/CPU0:PE1(config-cmap)# match qos-group 4\n",
      "RP/0/RP0/CPU0:PE1(config-cmap)# end-class-map\n",
      "RP/0/RP0/CPU0:PE1(config)#\n",
      "RP/0/RP0/CPU0:PE1(config)#policy-map policy-dscp\n",
      "RP/0/RP0/CPU0:PE1(config-pmap)# class out-class1\n",
      "RP/0/RP0/CPU0:PE1(config-pmap-c)#  set dscp 5\n",
      "RP/0/RP0/CPU0:PE1(config-pmap-c)# class class-default\n",
      "RP/0/RP0/CPU0:PE1(config-pmap-c)# end-policy-map\n",
      "RP/0/RP0/CPU0:PE1(config)#\n",
      "RP/0/RP0/CPU0:PE1(config)#interface FourHundredGigE0/0/0/1\n",
      "RP/0/RP0/CPU0:PE1(config-if)# service-policy output policy-dscp\n",
      "RP/0/RP0/CPU0:PE1(config-if)#commit\n",
      "Tue Sep 20 09:18:43.980 UTC\n",
      "RP/0/RP0/CPU0:PE1(config-if)#end\n",
      "RP/0/RP0/CPU0:PE1#\n"
     ]
    }
   ],
   "source": [
    "out = nodes['PE1'].configure('''\n",
    "class-map match-any out-class1\n",
    " match qos-group 4\n",
    " end-class-map\n",
    "\n",
    "policy-map policy-dscp\n",
    " class out-class1\n",
    "  set dscp 5\n",
    " class class-default\n",
    " end-policy-map\n",
    "\n",
    "interface FourHundredGigE0/0/0/1\n",
    " service-policy output policy-dscp\n",
    "''')"
   ]
  },
  {
   "cell_type": "markdown",
   "metadata": {},
   "source": [
    "> The egress traffic packets on interface **FourHundredGigE0/0/0/1**  matches the class-map **out-class1** in the service-policy **policy-dscp**, because the input service-policy on the input interface ie **FourHundredGigE0/0/0/0** sets the qos-group value to 4 for the incoming packets."
   ]
  },
  {
   "cell_type": "code",
   "execution_count": 16,
   "metadata": {},
   "outputs": [
    {
     "name": "stdout",
     "output_type": "stream",
     "text": [
      "\n",
      "2022-09-20 09:23:22,958: %UNICON-INFO: +++ PE1 with via 'cli': executing command 'show qos interface FourHundredGigE0/0/0/1 output' +++\n",
      "show qos interface FourHundredGigE0/0/0/1 output\n",
      "Tue Sep 20 09:19:25.730 UTC\n",
      "NOTE:- Configured values are displayed within parentheses\n",
      "Interface FourHundredGigE0/0/0/1 ifh 0xf0001a0  -- output policy\n",
      "NPU Id:                        0\n",
      "Total number of classes:       2\n",
      "Interface Bandwidth:           400000000 kbps\n",
      "Policy Name:                   policy-dscp\n",
      "VOQ Base:                      0\n",
      "Accounting Type:               Layer1 (Include Layer 1 encapsulation and above)\n",
      "VOQ Mode:                      8\n",
      "Shared Counter Mode:           1\n",
      "------------------------------------------------------------------------------\n",
      "Level1 Class                             =   out-class1\n",
      "New dscp                                 =   5\n",
      "\n",
      "Level1 Class                             =   class-default\n",
      "RP/0/RP0/CPU0:PE1#\n",
      "\n",
      "2022-09-20 09:23:23,220: %UNICON-INFO: +++ PE1 with via 'cli': executing command 'show interface FourHundredGigE0/0/0/1 accounting' +++\n",
      "show interface FourHundredGigE0/0/0/1 accounting\n",
      "Tue Sep 20 09:19:25.993 UTC\n",
      "FourHundredGigE0/0/0/1\n",
      "  Protocol              Pkts In         Chars In     Pkts Out        Chars Out\n",
      "  IPV4_UNICAST            58428          3040291            0                0\n",
      "  MPLS                        0                0        27964          1398200\n",
      "  ARP                       118             7080          118             4956\n",
      "\n",
      "\n",
      "RP/0/RP0/CPU0:PE1#\n",
      "\n",
      "2022-09-20 09:23:23,511: %UNICON-INFO: +++ PE1 with via 'cli': executing command 'show policy-map interface FourHundredGigE0/0/0/1 output' +++\n",
      "show policy-map interface FourHundredGigE0/0/0/1 output\n",
      "Tue Sep 20 09:19:26.276 UTC\n",
      "\n",
      "FourHundredGigE0/0/0/1 output: policy-dscp\n",
      "\n",
      "Class out-class1\n",
      "  Classification statistics          (packets/bytes)     (rate - kbps)\n",
      "    Matched             :                 623/42364                0\n",
      "    Transmitted         :                 623/42364                0\n",
      "    Total Dropped       :                   0/0                    0\n",
      "Class class-default\n",
      "  Classification statistics          (packets/bytes)     (rate - kbps)\n",
      "    Matched             :                   0/0                    0\n",
      "    Transmitted         :                   0/0                    0\n",
      "    Total Dropped       :                   0/0                    0\n",
      "Policy Bag Stats time: 1663665534411  [Local Time: 09/20/22 09:18:54.411] \n",
      "RP/0/RP0/CPU0:PE1#\n"
     ]
    }
   ],
   "source": [
    "# now display the policy applied on the interface.\n",
    "out = nodes['PE1'].execute('show qos interface FourHundredGigE0/0/0/1 output')\n",
    "\n",
    "# Other useful show commands\n",
    "out = nodes['PE1'].execute('show interface FourHundredGigE0/0/0/1 accounting')\n",
    "# Policy-map counter updates are v slow. To see the counters incrementing, replay this cell a few times \n",
    "out = nodes['PE1'].execute('show policy-map interface FourHundredGigE0/0/0/1 output')"
   ]
  },
  {
   "cell_type": "code",
   "execution_count": 17,
   "metadata": {},
   "outputs": [
    {
     "name": "stdout",
     "output_type": "stream",
     "text": [
      "\n",
      "2022-09-20 09:23:38,130: %UNICON-INFO: +++ PE1 with via 'cli': executing command 'rollback configuration last 1' +++\n",
      "rollback configuration last 1\n",
      "Tue Sep 20 09:19:40.907 UTC\n",
      "\n",
      "Loading Rollback Changes.\n",
      "Loaded Rollback Changes in 1 sec \n",
      "Committing.\n",
      "5 items committed in 1 sec (4)items/sec\n",
      "Updating.\n",
      "Updated Commit database in 1 sec \n",
      "Configuration successfully rolled back 1 commits.\n",
      "RP/0/RP0/CPU0:PE1#\n"
     ]
    }
   ],
   "source": [
    "# Remove the previous commit in order to configure more policies.\n",
    "out = nodes['PE1'].execute('rollback configuration last 1')"
   ]
  },
  {
   "cell_type": "markdown",
   "metadata": {},
   "source": [
    "## <a name=\"step10\"></a>Example 3: QoS Group Marking Configuration"
   ]
  },
  {
   "cell_type": "markdown",
   "metadata": {},
   "source": [
    "> In this example, you will unconfigure the input service-policy **policy1** and then configure another input service policy named **policy-qg** on the interface **FourHundredGigE0/0/0/0**. The qos-group value is set to 1 for all incoming traffic packets that match **class3**. "
   ]
  },
  {
   "cell_type": "code",
   "execution_count": 38,
   "metadata": {},
   "outputs": [
    {
     "name": "stdout",
     "output_type": "stream",
     "text": [
      "\n",
      "2021-06-17 13:43:16,631: %UNICON-INFO: +++ R1 with alias 'cli': configure +++\n",
      "configure terminal\n",
      "RP/0/RP0/CPU0:R1(config)#\n",
      "RP/0/RP0/CPU0:R1(config)#class-map match-any class3\n",
      "RP/0/RP0/CPU0:R1(config-cmap)# match protocol ipv4\n",
      "RP/0/RP0/CPU0:R1(config-cmap)# match access-group ipv4 101\n",
      "RP/0/RP0/CPU0:R1(config-cmap)# end-class-map\n",
      "RP/0/RP0/CPU0:R1(config)#\n",
      "RP/0/RP0/CPU0:R1(config)#policy-map policy-qg\n",
      "RP/0/RP0/CPU0:R1(config-pmap)# class class3\n",
      "RP/0/RP0/CPU0:R1(config-pmap-c)#  set qos-group 1\n",
      "RP/0/RP0/CPU0:R1(config-pmap-c)#  end-policy-map\n",
      "RP/0/RP0/CPU0:R1(config)#\n",
      "RP/0/RP0/CPU0:R1(config)#interface FourHundredGigE0/0/0/0\n",
      "RP/0/RP0/CPU0:R1(config-if)# no service-policy input policy1\n",
      "RP/0/RP0/CPU0:R1(config-if)# service-policy input policy-qg\n",
      "RP/0/RP0/CPU0:R1(config-if)#commit\n",
      "RP/0/RP0/CPU0:R1(config-if)#end\n",
      "RP/0/RP0/CPU0:R1#\n"
     ]
    }
   ],
   "source": [
    "out = nodes['PE1'].configure('''\n",
    "class-map match-any class3\n",
    " match protocol ipv4\n",
    " match access-group ipv4 101\n",
    " end-class-map\n",
    "\n",
    "policy-map policy-qg\n",
    " class class3\n",
    "  set qos-group 1\n",
    "  end-policy-map\n",
    "\n",
    "interface FourHundredGigE0/0/0/0\n",
    " no service-policy input policy1\n",
    " service-policy input policy-qg\n",
    "''')"
   ]
  },
  {
   "cell_type": "code",
   "execution_count": 39,
   "metadata": {},
   "outputs": [
    {
     "name": "stdout",
     "output_type": "stream",
     "text": [
      "\n",
      "2021-06-17 13:44:19,438: %UNICON-INFO: +++ R1 with alias 'cli': executing command 'show qos interface FourHundredGigE0/0/0/0 input' +++\n",
      "show qos interface FourHundredGigE0/0/0/0 input\n",
      "NOTE:- Configured values are displayed within parentheses\n",
      "Interface FourHundredGigE0/0/0/0 ifh 0xf000138  -- input policy\n",
      "NPU Id:                        0\n",
      "Total number of classes:       2\n",
      "Interface Bandwidth:           400000000 kbps\n",
      "Policy Name:                   policy-qg\n",
      "Accounting Type:               Layer1 (Include Layer 1 encapsulation and above)\n",
      "------------------------------------------------------------------------------\n",
      "Level1 Class                             =   class3\n",
      "New qos group                            =   1\n",
      "Policer not configured for this class\n",
      "\n",
      "Level1 Class                             =   class-default\n",
      "Policer not configured for this class\n",
      "RP/0/RP0/CPU0:R1#\n",
      "\n",
      "2021-06-17 13:44:19,675: %UNICON-INFO: +++ R1 with alias 'cli': executing command 'show interface FourHundredGigE0/0/0/0 accounting' +++\n",
      "show interface FourHundredGigE0/0/0/0 accounting\n",
      "FourHundredGigE0/0/0/0\n",
      "  Protocol              Pkts In         Chars In     Pkts Out        Chars Out\n",
      "  IPV4_UNICAST            51811                0            0                0\n",
      "  ARP                         7              420            2               84\n",
      "\n",
      "\n",
      "RP/0/RP0/CPU0:R1#\n",
      "\n",
      "2021-06-17 13:44:19,905: %UNICON-INFO: +++ R1 with alias 'cli': executing command 'show policy-map interface FourHundredGigE0/0/0/0 input' +++\n",
      "show policy-map interface FourHundredGigE0/0/0/0 input\n",
      "\n",
      "FourHundredGigE0/0/0/0 input: policy-qg\n",
      "\n",
      "Class class3\n",
      "  Classification statistics          (packets/bytes)     (rate - kbps)\n",
      "    Matched             :                1275/0                    0\n",
      "    Transmitted         :                1275/0                    0\n",
      "    Total Dropped       :                   0/0                    0\n",
      "Class class-default\n",
      "  Classification statistics          (packets/bytes)     (rate - kbps)\n",
      "    Matched             :                   0/0                    0\n",
      "    Transmitted         :                   0/0                    0\n",
      "    Total Dropped       :                   0/0                    0\n",
      "Policy Bag Stats time: 1623937410012  [Local Time: 06/17/21 13:43:30.012] \n",
      "RP/0/RP0/CPU0:R1#\n"
     ]
    }
   ],
   "source": [
    "# now Display the policy applied on the interface.\n",
    "out = nodes['PE1'].execute('show qos interface FourHundredGigE0/0/0/0 input')\n",
    "\n",
    "# Other useful show commands\n",
    "out = nodes['PE1'].execute('show interface FourHundredGigE0/0/0/0 accounting')\n",
    "# Policy-map counter updates are v slow. To see the counters incrementing, replay this cell a few times \n",
    "out = nodes['PE1'].execute('show policy-map interface FourHundredGigE0/0/0/0 input')"
   ]
  },
  {
   "cell_type": "markdown",
   "metadata": {},
   "source": [
    "> Unconfigure the service-policy using the \"no\" form of the service-policy command instead of **rollback configuration**."
   ]
  },
  {
   "cell_type": "code",
   "execution_count": 40,
   "metadata": {},
   "outputs": [
    {
     "name": "stdout",
     "output_type": "stream",
     "text": [
      "\n",
      "2021-06-17 13:45:16,297: %UNICON-INFO: +++ R1 with alias 'cli': configure +++\n",
      "configure terminal\n",
      "RP/0/RP0/CPU0:R1(config)#\n",
      "RP/0/RP0/CPU0:R1(config)#interface FourHundredGigE0/0/0/0\n",
      "RP/0/RP0/CPU0:R1(config-if)#no service-policy input policy-qg\n",
      "RP/0/RP0/CPU0:R1(config-if)#commit\n",
      "RP/0/RP0/CPU0:R1(config-if)#end\n",
      "RP/0/RP0/CPU0:R1#\n"
     ]
    }
   ],
   "source": [
    "# Remove the policy-map using \"no\" of the command\n",
    "out = nodes['PE1'].configure('''\n",
    "interface FourHundredGigE0/0/0/0\n",
    "no service-policy input policy-qg\n",
    "''')"
   ]
  },
  {
   "cell_type": "markdown",
   "metadata": {},
   "source": [
    "## <a name=\"step12\"></a>Example 4: MPLS Experimental Bit Imposition Marking Configuration"
   ]
  },
  {
   "cell_type": "markdown",
   "metadata": {},
   "source": [
    ">In this example, you will configure an input service policy **policy-mex-imp**. This service policy is associated to a class-map **class3** through the use of the class command. This service-policy sets the MPLS EXP bits of the MPLS labels to 1 for the matched incoming packets."
   ]
  },
  {
   "cell_type": "code",
   "execution_count": 41,
   "metadata": {},
   "outputs": [
    {
     "name": "stdout",
     "output_type": "stream",
     "text": [
      "\n",
      "2021-06-17 13:46:04,818: %UNICON-INFO: +++ R1 with alias 'cli': configure +++\n",
      "configure terminal\n",
      "RP/0/RP0/CPU0:R1(config)#\n",
      "RP/0/RP0/CPU0:R1(config)#class-map match-any class3\n",
      "RP/0/RP0/CPU0:R1(config-cmap)# match protocol ipv4\n",
      "RP/0/RP0/CPU0:R1(config-cmap)# match access-group ipv4 101\n",
      "RP/0/RP0/CPU0:R1(config-cmap)# end-class-map\n",
      "RP/0/RP0/CPU0:R1(config)#\n",
      "RP/0/RP0/CPU0:R1(config)#policy-map policy-mex-imp\n",
      "RP/0/RP0/CPU0:R1(config-pmap)# class class3\n",
      "RP/0/RP0/CPU0:R1(config-pmap-c)#  set mpls exp imposition 1\n",
      "RP/0/RP0/CPU0:R1(config-pmap-c)#  end-policy-map\n",
      "RP/0/RP0/CPU0:R1(config)#\n",
      "RP/0/RP0/CPU0:R1(config)#interface FourHundredGigE0/0/0/0\n",
      "RP/0/RP0/CPU0:R1(config-if)# service-policy input policy-mex-imp\n",
      "RP/0/RP0/CPU0:R1(config-if)#commit\n",
      "RP/0/RP0/CPU0:R1(config-if)#end\n",
      "RP/0/RP0/CPU0:R1#\n"
     ]
    }
   ],
   "source": [
    "out = nodes['PE1'].configure('''\n",
    "class-map match-any class3\n",
    " match protocol ipv4\n",
    " match access-group ipv4 101\n",
    " end-class-map\n",
    "\n",
    "policy-map policy-mex-imp\n",
    " class class3\n",
    "  set mpls exp imposition 1\n",
    "  end-policy-map\n",
    "\n",
    "interface FourHundredGigE0/0/0/0\n",
    " service-policy input policy-mex-imp\n",
    "''')"
   ]
  },
  {
   "cell_type": "code",
   "execution_count": 45,
   "metadata": {},
   "outputs": [
    {
     "name": "stdout",
     "output_type": "stream",
     "text": [
      "\n",
      "2021-06-17 13:47:00,064: %UNICON-INFO: +++ R1 with alias 'cli': executing command 'show qos interface FourHundredGigE0/0/0/0 input' +++\n",
      "show qos interface FourHundredGigE0/0/0/0 input\n",
      "NOTE:- Configured values are displayed within parentheses\n",
      "Interface FourHundredGigE0/0/0/0 ifh 0xf000138  -- input policy\n",
      "NPU Id:                        0\n",
      "Total number of classes:       2\n",
      "Interface Bandwidth:           400000000 kbps\n",
      "Policy Name:                   policy-mex-imp\n",
      "Accounting Type:               Layer1 (Include Layer 1 encapsulation and above)\n",
      "------------------------------------------------------------------------------\n",
      "Level1 Class                             =   class3\n",
      "New imposition exp                       =   1\n",
      "Policer not configured for this class\n",
      "\n",
      "Level1 Class                             =   class-default\n",
      "Policer not configured for this class\n",
      "RP/0/RP0/CPU0:R1#\n",
      "\n",
      "2021-06-17 13:47:00,301: %UNICON-INFO: +++ R1 with alias 'cli': executing command 'show interface FourHundredGigE0/0/0/0 accounting' +++\n",
      "show interface FourHundredGigE0/0/0/0 accounting\n",
      "FourHundredGigE0/0/0/0\n",
      "  Protocol              Pkts In         Chars In     Pkts Out        Chars Out\n",
      "  IPV4_UNICAST            67880                0            0                0\n",
      "  ARP                         8              480            2               84\n",
      "\n",
      "\n",
      "RP/0/RP0/CPU0:R1#\n",
      "\n",
      "2021-06-17 13:47:00,613: %UNICON-INFO: +++ R1 with alias 'cli': executing command 'show policy-map interface FourHundredGigE0/0/0/0 input' +++\n",
      "show policy-map interface FourHundredGigE0/0/0/0 input\n",
      "\n",
      "FourHundredGigE0/0/0/0 input: policy-mex-imp\n",
      "\n",
      "Class class3\n",
      "  Classification statistics          (packets/bytes)     (rate - kbps)\n",
      "    Matched             :                2448/0                    0\n",
      "    Transmitted         :                2448/0                    0\n",
      "    Total Dropped       :                   0/0                    0\n",
      "Class class-default\n",
      "  Classification statistics          (packets/bytes)     (rate - kbps)\n",
      "    Matched             :                   0/0                    0\n",
      "    Transmitted         :                   0/0                    0\n",
      "    Total Dropped       :                   0/0                    0\n",
      "Policy Bag Stats time: 1623937590013  [Local Time: 06/17/21 13:46:30.013] \n",
      "RP/0/RP0/CPU0:R1#\n"
     ]
    }
   ],
   "source": [
    "# now display the policy applied on the interface.\n",
    "out = nodes['PE1'].execute('show qos interface FourHundredGigE0/0/0/0 input')\n",
    "\n",
    "# Other useful show commands\n",
    "out = nodes['PE1'].execute('show interface FourHundredGigE0/0/0/0 accounting')\n",
    "# Policy-map counter updates are v slow. To see the counters incrementing, replay this cell a few times \n",
    "out = nodes['PE1'].execute('show policy-map interface FourHundredGigE0/0/0/0 input')"
   ]
  },
  {
   "cell_type": "code",
   "execution_count": 46,
   "metadata": {},
   "outputs": [
    {
     "name": "stdout",
     "output_type": "stream",
     "text": [
      "\n",
      "2021-06-17 13:47:05,248: %UNICON-INFO: +++ R1 with alias 'cli': executing command 'rollback configuration last 1' +++\n",
      "rollback configuration last 1\n",
      "\n",
      "Loading Rollback Changes.\n",
      "Loaded Rollback Changes in 1 sec \n",
      "Committing.\n",
      "5 items committed in 1 sec (4)items/sec\n",
      "Updating.\n",
      "Updated Commit database in 1 sec \n",
      "Configuration successfully rolled back 1 commits.\n",
      "RP/0/RP0/CPU0:R1#\n"
     ]
    }
   ],
   "source": [
    "# Remove the previous commit in order to configure more policies.\n",
    "out = nodes['PE1'].execute('rollback configuration last 1')"
   ]
  },
  {
   "cell_type": "markdown",
   "metadata": {},
   "source": [
    "## <a name=\"step13\"></a>Example 5: MPLS Experimental Topmost Marking Configuration"
   ]
  },
  {
   "cell_type": "markdown",
   "metadata": {},
   "source": [
    "> Play this cell to configure a service policy **policy-mex-top**. This service policy is associated to a class map **class-mex-top** through the use of the class command, and then the service policy is applied in the output direction on interface **FourHundredGigE0/0/0/1**. The MPLS EXP bits on the topmost label are set to 1 for all matched traffic packets."
   ]
  },
  {
   "cell_type": "code",
   "execution_count": 47,
   "metadata": {},
   "outputs": [
    {
     "name": "stdout",
     "output_type": "stream",
     "text": [
      "\n",
      "2021-06-17 13:51:56,712: %UNICON-INFO: +++ R1 with alias 'cli': configure +++\n",
      "configure terminal\n",
      "RP/0/RP0/CPU0:R1(config)#\n",
      "RP/0/RP0/CPU0:R1(config)#class-map match-any class-mex-top\n",
      "RP/0/RP0/CPU0:R1(config-cmap)# match mpls exp topmost 1\n",
      "RP/0/RP0/CPU0:R1(config-cmap)# end-class-map\n",
      "RP/0/RP0/CPU0:R1(config)#\n",
      "RP/0/RP0/CPU0:R1(config)#policy-map policy-mex-top\n",
      "RP/0/RP0/CPU0:R1(config-pmap)# class class-mex-top\n",
      "RP/0/RP0/CPU0:R1(config-pmap-c)#  set mpls exp topmost 2\n",
      "RP/0/RP0/CPU0:R1(config-pmap-c)#  end-policy-map\n",
      "RP/0/RP0/CPU0:R1(config)#\n",
      "RP/0/RP0/CPU0:R1(config)#interface FourHundredGigE0/0/0/1\n",
      "RP/0/RP0/CPU0:R1(config-if)# service-policy output policy-mex-top\n",
      "RP/0/RP0/CPU0:R1(config-if)#commit\n",
      "RP/0/RP0/CPU0:R1(config-if)#end\n",
      "RP/0/RP0/CPU0:R1#\n"
     ]
    }
   ],
   "source": [
    "out = nodes['PE1'].configure('''\n",
    "class-map match-any class-mex-top\n",
    " match mpls exp topmost 1\n",
    " end-class-map\n",
    "\n",
    "policy-map policy-mex-top\n",
    " class class-mex-top\n",
    "  set mpls exp topmost 2\n",
    "  end-policy-map\n",
    "\n",
    "interface FourHundredGigE0/0/0/1\n",
    " service-policy output policy-mex-top\n",
    "''')"
   ]
  },
  {
   "cell_type": "code",
   "execution_count": 51,
   "metadata": {},
   "outputs": [
    {
     "name": "stdout",
     "output_type": "stream",
     "text": [
      "\n",
      "2021-06-17 13:54:14,566: %UNICON-INFO: +++ R1 with alias 'cli': executing command 'show qos interface FourHundredGigE0/0/0/1 output' +++\n",
      "show qos interface FourHundredGigE0/0/0/1 output\n",
      "NOTE:- Configured values are displayed within parentheses\n",
      "Interface FourHundredGigE0/0/0/1 ifh 0xf0001a0  -- output policy\n",
      "NPU Id:                        0\n",
      "Total number of classes:       2\n",
      "Interface Bandwidth:           400000000 kbps\n",
      "Policy Name:                   policy-mex-top\n",
      "VOQ Base:                      0\n",
      "Accounting Type:               Layer1 (Include Layer 1 encapsulation and above)\n",
      "VOQ Mode:                      8\n",
      "Shared Counter Mode:           1\n",
      "------------------------------------------------------------------------------\n",
      "Level1 Class                             =   class-mex-top\n",
      "New topmost exp                          =   2\n",
      "\n",
      "Level1 Class                             =   class-default\n",
      "RP/0/RP0/CPU0:R1#\n",
      "\n",
      "2021-06-17 13:54:14,800: %UNICON-INFO: +++ R1 with alias 'cli': executing command 'show interface FourHundredGigE0/0/0/1 accounting' +++\n",
      "show interface FourHundredGigE0/0/0/1 accounting\n",
      "FourHundredGigE0/0/0/1\n",
      "  Protocol              Pkts In         Chars In     Pkts Out        Chars Out\n",
      "  IPV4_UNICAST              113                0       111323           445292\n",
      "  ARP                         1               74            1               42\n",
      "\n",
      "\n",
      "RP/0/RP0/CPU0:R1#\n",
      "\n",
      "2021-06-17 13:54:15,050: %UNICON-INFO: +++ R1 with alias 'cli': executing command 'show policy-map interface FourHundredGigE0/0/0/1 output' +++\n",
      "show policy-map interface FourHundredGigE0/0/0/1 output\n",
      "\n",
      "FourHundredGigE0/0/0/1 output: policy-mex-top\n",
      "\n",
      "Class class-mex-top\n",
      "  Classification statistics          (packets/bytes)     (rate - kbps)\n",
      "    Matched             :                   0/0                    0\n",
      "    Transmitted         :                   0/0                    0\n",
      "    Total Dropped       :                   0/0                    0\n",
      "Class class-default\n",
      "  Classification statistics          (packets/bytes)     (rate - kbps)\n",
      "    Matched             :                9269/37076                3\n",
      "    Transmitted         :                9269/37076                3\n",
      "    Total Dropped       :                   0/0                    0\n",
      "Policy Bag Stats time: 1623938010014  [Local Time: 06/17/21 13:53:30.014] \n",
      "RP/0/RP0/CPU0:R1#\n"
     ]
    }
   ],
   "source": [
    "# now display the policy applied on the interface.\n",
    "out = nodes['PE1'].execute('show qos interface FourHundredGigE0/0/0/1 output')\n",
    "\n",
    "# Other useful show commands\n",
    "out = nodes['PE1'].execute('show interface FourHundredGigE0/0/0/1 accounting')\n",
    "# Policy-map counter updates are v slow. To see the counters incrementing, replay this cell a few times \n",
    "out = nodes['PE1'].execute('show policy-map interface FourHundredGigE0/0/0/1 output')"
   ]
  },
  {
   "cell_type": "code",
   "execution_count": 52,
   "metadata": {},
   "outputs": [
    {
     "name": "stdout",
     "output_type": "stream",
     "text": [
      "\n",
      "2021-06-17 13:54:18,968: %UNICON-INFO: +++ R1 with alias 'cli': executing command 'rollback configuration last 1' +++\n",
      "rollback configuration last 1\n",
      "\n",
      "Loading Rollback Changes.\n",
      "Loaded Rollback Changes in 1 sec \n",
      "Committing.\n",
      "5 items committed in 1 sec \n",
      "Updating.\n",
      "Updated Commit database in 1 sec \n",
      "Configuration successfully rolled back 1 commits.\n",
      "RP/0/RP0/CPU0:R1#\n"
     ]
    }
   ],
   "source": [
    "# Remove the previous commit in order to configure more policies.\n",
    "out = nodes['PE1'].execute('rollback configuration last 1')"
   ]
  },
  {
   "cell_type": "markdown",
   "metadata": {},
   "source": [
    ">Clean up configs when done."
   ]
  },
  {
   "cell_type": "code",
   "execution_count": 3,
   "metadata": {},
   "outputs": [
    {
     "name": "stdout",
     "output_type": "stream",
     "text": [
      "\n",
      "2022-09-21 05:17:43,992: %UNICON-INFO: +++ P2 with via 'cli': configure +++\n",
      "configure terminal\n",
      "Wed Sep 21 05:13:50.427 UTC\n",
      "RP/0/RP0/CPU0:P2(config)#\n",
      "RP/0/RP0/CPU0:P2(config)#no interface Loopback0\n",
      "RP/0/RP0/CPU0:P2(config)#!\n",
      "RP/0/RP0/CPU0:P2(config)#no interface FourHundredGigE0/0/0/0\n",
      "RP/0/RP0/CPU0:P2(config)#!\n",
      "RP/0/RP0/CPU0:P2(config)#no interface FourHundredGigE0/0/0/1\n",
      "RP/0/RP0/CPU0:P2(config)#!\n",
      "RP/0/RP0/CPU0:P2(config)#no router ospf 10\n",
      "RP/0/RP0/CPU0:P2(config)#!\n",
      "RP/0/RP0/CPU0:P2(config)#no mpls ldp\n",
      "RP/0/RP0/CPU0:P2(config)#!\n",
      "RP/0/RP0/CPU0:P2(config)# \n",
      "RP/0/RP0/CPU0:P2(config)#commit\n",
      "Wed Sep 21 05:13:51.327 UTC\n",
      "RP/0/RP0/CPU0:P2(config)#end\n",
      "RP/0/RP0/CPU0:P2#\n",
      "\n",
      "2022-09-21 05:17:47,486: %UNICON-INFO: +++ PE2 with via 'cli': configure +++\n",
      "configure terminal\n",
      "Wed Sep 21 05:13:15.394 UTC\n",
      "RP/0/RP0/CPU0:PE2(config)#\n",
      "RP/0/RP0/CPU0:PE2(config)#no interface Loopback0\n",
      "RP/0/RP0/CPU0:PE2(config)#!\n",
      "RP/0/RP0/CPU0:PE2(config)#no interface FourHundredGigE0/0/0/0\n",
      "RP/0/RP0/CPU0:PE2(config)#!\n",
      "RP/0/RP0/CPU0:PE2(config)#no interface FourHundredGigE0/0/0/1\n",
      "RP/0/RP0/CPU0:PE2(config)#!\n",
      "RP/0/RP0/CPU0:PE2(config)#no router ospf 10\n",
      "RP/0/RP0/CPU0:PE2(config)#!\n",
      "RP/0/RP0/CPU0:PE2(config)#no mpls ldp\n",
      "RP/0/RP0/CPU0:PE2(config)#!\n",
      "RP/0/RP0/CPU0:PE2(config)# \n",
      "RP/0/RP0/CPU0:PE2(config)#commit\n",
      "Wed Sep 21 05:13:16.323 UTC\n",
      "RP/0/RP0/CPU0:PE2(config)#end\n",
      "RP/0/RP0/CPU0:PE2#\n"
     ]
    }
   ],
   "source": [
    "out = nodes['PE1'].configure(unconfig_str)\n",
    "out = nodes['P1'].configure(unconfig_str)\n",
    "out = nodes['P2'].configure(unconfig_str)\n",
    "out = nodes['PE2'].configure(unconfig_str)"
   ]
  },
  {
   "cell_type": "code",
   "execution_count": null,
   "metadata": {},
   "outputs": [],
   "source": []
  }
 ],
 "metadata": {
  "kernelspec": {
   "display_name": "Python 3",
   "language": "python",
   "name": "python3"
  },
  "language_info": {
   "codemirror_mode": {
    "name": "ipython",
    "version": 3
   },
   "file_extension": ".py",
   "mimetype": "text/x-python",
   "name": "python",
   "nbconvert_exporter": "python",
   "pygments_lexer": "ipython3",
   "version": "3.6.9"
  }
 },
 "nbformat": 4,
 "nbformat_minor": 4
}
