{
 "cells": [
  {
   "cell_type": "markdown",
   "metadata": {},
   "source": [
    "# Service-Layer API\n",
    "<sup>Authored by Annapoorani G (annag@cisco.com)</sup>"
   ]
  },
  {
   "cell_type": "markdown",
   "metadata": {},
   "source": [
    "Bring your protocol or controller on IOS-XR to interact with the network infrastructure layer components using Cisco IOS-XR Service-Layer API. \n",
    "Service-Layer API is a model-driven API over Google-defined remote procedure call (gRPC)\n",
    "gRPC that enables you to bring your applications, routing protocols, controllers in a rich set of languages including C++, Python, GO, and many more.\n",
    "In IOS-XR, routing protocols use Routing Information Base (RIB), the MPLS label manager, BFD, and other modules, to program the forwarding plane and these are exposed through the service layer API. \n",
    "The Service-Layer API gives direct access to the Network Infrastructure Layer (Service-Adaptation Layer). Therefore, you have the following advantages:"
   ]
  },
  {
   "cell_type": "markdown",
   "metadata": {},
   "source": [
    "* High Performance: Direct access to the Network Infrastructure Layer without going through a Network state database results in higher performance than equivalent Management APIs. For example, Batch updates straight to the RIB, Label Switch Database (over gRPC).\n",
    "* Flexibility: Gives you the flexibility to bring your Protocol or Controller over gRPC\n",
    "* Offload low-level tasks to IOS -XR: IOS-XR infrastructure layer handles conflict resolution, transactional notifications, scalability, and data plane abstraction, hence, you can focus on higher-layer protocols and controller logic\n"
   ]
  },
  {
   "cell_type": "markdown",
   "metadata": {},
   "source": [
    "## Components of Service-Layer API"
   ]
  },
  {
   "cell_type": "markdown",
   "metadata": {},
   "source": [
    "![SLAPI](SL-API.png)"
   ]
  },
  {
   "cell_type": "markdown",
   "metadata": {},
   "source": [
    "## Before You Begin"
   ]
  },
  {
   "cell_type": "markdown",
   "metadata": {},
   "source": [
    "Before you begin to enable Service Layer, ensure to complete the following prerequisites.\n",
    "* [Bring up your emulator](#step1)\n",
    "* [Enable Service Layer on a router](#step2)\n",
    "* [Install gRPC and regenerate bindings](#step3)\n",
    "* [Run pre-packaged tutorials](#step4)"
   ]
  },
  {
   "cell_type": "markdown",
   "metadata": {},
   "source": [
    "## <a name=\"step1\"></a>Bring up your Emulator\n"
   ]
  },
  {
   "cell_type": "markdown",
   "metadata": {},
   "source": [
    ">In order to set up the emulator to build our network, you have to execute the cell below by clicking the play button at the top of this notebook. \n",
    "\n",
    ">In the cell below, the python module **servicelayer** sets up the python enviroment and the simulated 2-router test bed along with the base configurations of IPv4 addresses, MPLS configurations, Loopback interfaces, etc. After the import, the below code block initialises and brings up the emulator using **sim.init** and **sim.up** API calls.\n"
   ]
  },
  {
   "cell_type": "code",
   "execution_count": 4,
   "metadata": {},
   "outputs": [
    {
     "name": "stderr",
     "output_type": "stream",
     "text": [
      "INFO:pyvxr.vxr:v1.1.0 2021-04-27 10:58 output_dir:vxr.out\n",
      "INFO:pyvxr.vxr:bd8e02377cc7:/home/vxr/notebooks/Put-Technology-to-Work/ServiceLayer\n",
      "WARNING:pyvxr.vxr:Config not specified or not found. Will attempt to release slurm resources if reserved\n",
      "INFO:pyvxr.vxr:Extracting vxr version from '/opt/cisco/vxr2/latest/setup.sh' file.\n",
      "INFO:pyvxr.vxr_session:Starting a local bash session for user:vxr\n"
     ]
    },
    {
     "name": "stdout",
     "output_type": "stream",
     "text": [
      "Sim clean: Done\n",
      "Simulation starting. Please wait for the Sim status message. This may take 3-10 minutes.\n"
     ]
    },
    {
     "name": "stderr",
     "output_type": "stream",
     "text": [
      "INFO:pyvxr.sim:Launch: sim_dir:/nobackup/vxr/pyvxr/10kxy79358 sim_rel:/opt/cisco/vxr2/latest\n",
      "INFO:pyvxr.sim:Stopping previous simulation (if any)\n",
      "INFO:pyvxr.sim:Cleaning previous simulation (if any)\n",
      "INFO:pyvxr.sim:Starting vxr: 'sim --skiphomecheck -n '\n",
      "INFO:pyvxr.sim:Vxr up on host localhost\n",
      "INFO:pyvxr.vxr:Getting port vector files for:r1, r2\n",
      "INFO:pyvxr.console:r2:wait for XR login prompt (console output captured in vxr.out/logs/console.r2.log)\n",
      "INFO:pyvxr.console:r1:wait for XR login prompt (console output captured in vxr.out/logs/console.r1.log)\n",
      "INFO:pyvxr.console:r1:entering new XR username 'cisco', password 'cisco123'\n",
      "INFO:pyvxr.console:r2:entering new XR username 'cisco', password 'cisco123'\n",
      "INFO:pyvxr.console:r1:entering XR username 'cisco', password 'cisco123'\n",
      "INFO:pyvxr.console:r2:entering XR username 'cisco', password 'cisco123'\n",
      "INFO:pyvxr.bringup:r1:login successful\n",
      "INFO:pyvxr.bringup:r2:login successful\n",
      "INFO:pyvxr.bringup:r1:wait for IOS XR RUN state\n",
      "INFO:pyvxr.bringup:r2:wait for IOS XR RUN state\n",
      "INFO:pyvxr.bringup:r1:run state RPs:1 (expected:1) LCs:0 (expected:0)\n",
      "INFO:pyvxr.bringup:r1:all nodes reached IOS XR RUN state\n",
      "INFO:pyvxr.console:r1:applying initial XR config (terminal width, etc)\n",
      "INFO:pyvxr.console:r1:waiting for ztp and cvac to complete\n",
      "INFO:pyvxr.bringup:r2:run state RPs:1 (expected:1) LCs:0 (expected:0)\n",
      "INFO:pyvxr.bringup:r2:all nodes reached IOS XR RUN state\n",
      "INFO:pyvxr.console:r2:applying initial XR config (terminal width, etc)\n",
      "INFO:pyvxr.console:r2:waiting for ztp and cvac to complete\n",
      "INFO:pyvxr.console:r1:found ztp directory. Assuming ztp present\n",
      "INFO:pyvxr.console:r1:waiting for ztp to complete\n",
      "INFO:pyvxr.console:r2:found ztp directory. Assuming ztp present\n",
      "INFO:pyvxr.console:r2:waiting for ztp to complete\n",
      "INFO:pyvxr.console:r1:ztp done\n",
      "INFO:pyvxr.console:r2:ztp done\n",
      "INFO:pyvxr.vxr:Setting up ssh tunnels on host 'localhost'\n",
      "INFO:pyvxr.ssh_tunnel:Configure mgmt interfaces before setting up ssh tunnels\n",
      "INFO:pyvxr.console:r1:need to configure mgmt interface MgmtEth0/RP0/CPU0/0\n",
      "INFO:pyvxr.console:r2:need to configure mgmt interface MgmtEth0/RP0/CPU0/0\n",
      "INFO:pyvxr.console:r1:mgmt interface configuration applied\n",
      "INFO:pyvxr.console:r2:mgmt interface configuration applied\n",
      "INFO:pyvxr.console:r1:mgmt interface up (ip:192.168.254.99)\n",
      "INFO:pyvxr.console:r2:mgmt interface up (ip:192.168.254.100)\n",
      "INFO:pyvxr.vxr_session:Starting a local bash session for user:vxr\n",
      "INFO:pyvxr.vxr_session:Starting a local bash session for user:vxr\n",
      "INFO:pyvxr.ssh_tunnel:r1:Setting up ssh tunnels for port(s) [22, 23, 57021]\n",
      "INFO:pyvxr.ssh_tunnel:r2:Setting up ssh tunnels for port(s) [22, 23, 57021]\n",
      "INFO:pyvxr.bringup:r1:applying XR config\n",
      "INFO:pyvxr.bringup:r2:applying XR config\n",
      "INFO:pyvxr.vxr:Sim up\n",
      "INFO:pyvxr.vxr:Getting sim status from localhost:/nobackup/vxr/pyvxr/10kxy79358\n"
     ]
    },
    {
     "name": "stdout",
     "output_type": "stream",
     "text": [
      "Sim status:  {'localhost': 'running'}\n"
     ]
    }
   ],
   "source": [
    "from servicelayer import *\n",
    "sim = Vxr()\n",
    "sim.no_image_copy=True\n",
    "sim.clean()\n",
    "print(\"Sim clean: Done\")\n",
    "print(\"Simulation starting. Please wait for the Sim status message. This may take 3-10 minutes.\")\n",
    "\n",
    "try:\n",
    "    sim.start(cfg)\n",
    "    status = sim.status()\n",
    "    print(\"Sim status: \", status)\n",
    "except Exception as err:\n",
    "    print(\"Sim launch failed (%s)\" % str(err))"
   ]
  },
  {
   "cell_type": "markdown",
   "metadata": {},
   "source": [
    "Play the cell below to obtain the telnet and ssh IP-addresses and ports to access the devices."
   ]
  },
  {
   "cell_type": "code",
   "execution_count": 5,
   "metadata": {},
   "outputs": [
    {
     "name": "stdout",
     "output_type": "stream",
     "text": [
      "Consoles can be reached by:\n",
      "telnet 172.17.0.2 38470 \n",
      " telnet 172.17.0.2 39588\n",
      "or better:\n",
      "ssh cisco@172.17.0.2 -p61559 \n",
      " ssh cisco@172.17.0.2 -p60008\n",
      "The password is cisco123\n"
     ]
    }
   ],
   "source": [
    "print('Consoles can be reached by:')\n",
    "print(get_telnet_cmd(sim, 'r1'), '\\n', get_telnet_cmd(sim, 'r2'))\n",
    "print('or better:')\n",
    "print(get_ssh_cmd(sim, 'r1'), '\\n', get_ssh_cmd(sim, 'r2'))\n",
    "print('The password is cisco123')"
   ]
  },
  {
   "cell_type": "markdown",
   "metadata": {},
   "source": [
    "#### <a name=\"step11\"></a>View the redirect port details\n"
   ]
  },
  {
   "cell_type": "markdown",
   "metadata": {},
   "source": [
    ">Note: Make a note of the redirect port (xr_redir57021) and the IP address. Will need it later."
   ]
  },
  {
   "cell_type": "code",
   "execution_count": 6,
   "metadata": {},
   "outputs": [
    {
     "name": "stdout",
     "output_type": "stream",
     "text": [
      "172.17.0.2 63979\n"
     ]
    }
   ],
   "source": [
    "port = sim.ports()\n",
    "r1_ip = str(port['r1']['HostAgent'])\n",
    "r1_grpc = str(port['r1']['xr_redir57021'])\n",
    "print(r1_ip, r1_grpc)"
   ]
  },
  {
   "cell_type": "markdown",
   "metadata": {},
   "source": [
    "## <a name=\"step2\"></a>Enable Service Layer on a Router"
   ]
  },
  {
   "cell_type": "markdown",
   "metadata": {},
   "source": [
    "### Enable gRPC \n"
   ]
  },
  {
   "cell_type": "markdown",
   "metadata": {},
   "source": [
    "Configure gRPC port to access the gRPC server over the external NAT IP address\n",
    "> Configure gRPC port on either router to be 57777 in order to access the gRPC server over the external NAT IP address."
   ]
  },
  {
   "cell_type": "code",
   "execution_count": 7,
   "metadata": {},
   "outputs": [],
   "source": [
    "import telnetlib\n",
    "ports = sim.ports()\n",
    "loginp1 = telnetlib.Telnet(str(ports['r1']['HostAgent']) , str(ports['r1']['serial0']))\n",
    "loginp2 = telnetlib.Telnet(str(ports['r2']['HostAgent']) , str(ports['r2']['serial0']))"
   ]
  },
  {
   "cell_type": "code",
   "execution_count": 8,
   "metadata": {},
   "outputs": [
    {
     "name": "stdout",
     "output_type": "stream",
     "text": [
      "***** VIEW FROM TELNET CONSOLE *****\n",
      "\n",
      "RP/0/RP0/CPU0:P1#show route\n",
      "Tue Apr 27 11:02:03.527 UTC\n",
      "\n",
      "Codes: C - connected, S - static, R - RIP, B - BGP, (>) - Diversion path\n",
      "       D - EIGRP, EX - EIGRP external, O - OSPF, IA - OSPF inter area\n",
      "       N1 - OSPF NSSA external type 1, N2 - OSPF NSSA external type 2\n",
      "       E1 - OSPF external type 1, E2 - OSPF external type 2, E - EGP\n",
      "       i - ISIS, L1 - IS-IS level-1, L2 - IS-IS level-2\n",
      "       ia - IS-IS inter area, su - IS-IS summary null, * - candidate default\n",
      "       U - per-user static route, o - ODR, L - local, G  - DAGR, l - LISP\n",
      "       A - access/subscriber, a - Application route\n",
      "       M - mobile route, r - RPL, t - Traffic Engineering, (!) - FRR Backup path\n",
      "\n",
      "Gateway of last resort is not set\n",
      "\n",
      "C    192.168.254.0/24 is directly connected, 00:01:07, MgmtEth0/RP0/CPU0/0\n",
      "L    192.168.254.99/32 is directly connected, 00:01:07, MgmtEth0/RP0/CPU0/0\n",
      "C    198.51.100.0/24 is directly connected, 00:00:23, FourHundredGigE0/0/0/0\n",
      "L    198.51.100.1/32 is directly connected, 00:00:23, FourHundredGigE0/0/0/0\n",
      "C    198.51.101.0/24 is directly connected, 00:00:23, FourHundredGigE0/0/0/1\n",
      "L    198.51.101.1/32 is directly connected, 00:00:23, FourHundredGigE0/0/0/1\n",
      "L    209.165.200.225/32 is directly connected, 00:00:23, Loopback0\n",
      "RP/0/RP0/CPU0:P1#\n"
     ]
    }
   ],
   "source": [
    "loginp1.write(('''\n",
    "show route\n",
    "''').encode('ascii'))\n",
    "line = loginp1.read_until(b'/r/n',2)\n",
    "print(\"***** VIEW FROM TELNET CONSOLE *****\")\n",
    "print(line.decode())"
   ]
  },
  {
   "cell_type": "code",
   "execution_count": 9,
   "metadata": {},
   "outputs": [
    {
     "name": "stdout",
     "output_type": "stream",
     "text": [
      "***** VIEW FROM TELNET CONSOLE *****\n",
      "\n",
      "RP/0/RP0/CPU0:P1#configure\n",
      "Tue Apr 27 11:02:35.775 UTC\n",
      "RP/0/RP0/CPU0:P1(config)#grpc\n",
      "RP/0/RP0/CPU0:P1(config-grpc)#port 57021\n",
      "RP/0/RP0/CPU0:P1(config-grpc)#commit\n",
      "Tue Apr 27 11:02:36.362 UTC\n",
      "RP/0/RP0/CPU0:P1(config-grpc)#root\n",
      "RP/0/RP0/CPU0:P1(config)#exit\n",
      "RP/0/RP0/CPU0:P1#show  grpc status\n",
      "Tue Apr 27 11:02:37.466 UTC\n",
      "\n"
     ]
    }
   ],
   "source": [
    "loginp1.write(('''\n",
    "configure\n",
    "grpc\n",
    "port 57021\n",
    "commit\n",
    "root\n",
    "exit\n",
    "show  grpc status\n",
    "''').encode('ascii'))\n",
    "line = loginp1.read_until(b'/r/n',2)\n",
    "print(\"***** VIEW FROM TELNET CONSOLE *****\")\n",
    "print(line.decode())"
   ]
  },
  {
   "cell_type": "markdown",
   "metadata": {},
   "source": [
    "### Enable Service-Layer"
   ]
  },
  {
   "cell_type": "markdown",
   "metadata": {},
   "source": [
    "Service-Layer APIs are served up over gRPC. So simply enable service-layer under the gRPC config mode:"
   ]
  },
  {
   "cell_type": "code",
   "execution_count": 10,
   "metadata": {},
   "outputs": [
    {
     "name": "stdout",
     "output_type": "stream",
     "text": [
      "***** VIEW FROM TELNET CONSOLE *****\n",
      "*************************show gRPC status**********************\n",
      "---------------------------------------------------------------\n",
      "transport                       :     grpc\n",
      "access-family                   :     tcp4\n",
      "TLS                             :     enabled\n",
      "trustpoint                      :     \n",
      "listening-port                  :     57021\n",
      "max-request-per-user            :     10\n",
      "max-request-total               :     128\n",
      "max-streams                     :     32\n",
      "max-streams-per-user            :     32\n",
      "vrf-socket-ns-path              :     global-vrf\n",
      "_______________________________________________________________\n",
      "*************************End of showing status*****************\n",
      "RP/0/RP0/CPU0:P1#\n",
      "RP/0/RP0/CPU0:P1#config\n",
      "Tue Apr 27 11:02:39.254 UTC\n",
      "RP/0/RP0/CPU0:P1(config)#grpc\n",
      "RP/0/RP0/CPU0:P1(config-grpc)#service-layer\n",
      "RP/0/RP0/CPU0:P1(config-grpc-sl)#commit\n",
      "Tue Apr 27 11:02:39.653 UTC\n",
      "RP/0/RP0/CPU0:P1(config-grpc-sl)#root\n",
      "RP/0/RP0/CPU0:P1(config)#exit\n",
      "RP/0/RP0/CPU0:P1#show service-layer state\n",
      "Tue Apr 27 11:02:39.992 UTC\n",
      "------------service layer state----------\n",
      "config on:                   YES\n",
      "standby connected :          NO\n",
      "idt done:                    NO\n",
      "blocked on ndt:              NO\n",
      "connected to RIB for IPv4:   YES\n",
      "connected to RIB for IPv6:   YES\n",
      "Initialization state:        service ready\n",
      "pending requests:            0         \n",
      "BFD Connection:              UP\n",
      "MPLS Connection:             DOWN\n",
      "Interface Connection:        UP\n",
      "Objects accepted:            NO\n",
      "interface registered:        NO\n",
      "bfd registered for IPv4:     NO\n",
      "bfd registered for IPv6:     NO\n",
      "RP/0/RP0/CPU0:P1#\n"
     ]
    }
   ],
   "source": [
    "loginp1.write(('''\n",
    "config\n",
    "grpc\n",
    "service-layer\n",
    "commit\n",
    "root\n",
    "exit\n",
    "show service-layer state\n",
    "''').encode('ascii'))\n",
    "line = loginp1.read_until(b'/r/n',2)\n",
    "print(\"***** VIEW FROM TELNET CONSOLE *****\")\n",
    "print(line.decode())"
   ]
  },
  {
   "cell_type": "markdown",
   "metadata": {},
   "source": [
    "### Disable TLS under grpc"
   ]
  },
  {
   "cell_type": "markdown",
   "metadata": {},
   "source": [
    " Configure no-tls under the gRPC config mode. In the show grpc status output, TLS should get set to disabled."
   ]
  },
  {
   "cell_type": "code",
   "execution_count": 11,
   "metadata": {},
   "outputs": [
    {
     "name": "stdout",
     "output_type": "stream",
     "text": [
      "***** VIEW FROM TELNET CONSOLE *****\n",
      "\n",
      "RP/0/RP0/CPU0:P1#configure\n",
      "Tue Apr 27 11:02:42.202 UTC\n",
      "RP/0/RP0/CPU0:P1(config)#grpc\n",
      "RP/0/RP0/CPU0:P1(config-grpc)#no-tls\n",
      "RP/0/RP0/CPU0:P1(config-grpc)#commit\n",
      "Tue Apr 27 11:02:42.550 UTC\n",
      "RP/0/RP0/CPU0:P1(config-grpc)#root\n",
      "RP/0/RP0/CPU0:P1(config)#exit\n",
      "RP/0/RP0/CPU0:P1#show grpc status\n",
      "Tue Apr 27 11:02:42.847 UTC\n",
      "*************************show gRPC status**********************\n",
      "---------------------------------------------------------------\n",
      "transport                       :     grpc\n",
      "access-family                   :     tcp4\n",
      "TLS                             :     disabled\n",
      "trustpoint                      :     NotSet\n",
      "listening-port                  :     57021\n",
      "max-request-per-user            :     10\n",
      "max-request-total               :     128\n",
      "max-streams                     :     32\n",
      "max-streams-per-user            :     32\n",
      "vrf-socket-ns-path              :     global-vrf\n",
      "_______________________________________________________________\n",
      "*************************End of showing status*****************\n",
      "RP/0/RP0/CPU0:P1#\n"
     ]
    }
   ],
   "source": [
    "loginp1.write(('''\n",
    "configure\n",
    "grpc\n",
    "no-tls\n",
    "commit\n",
    "root\n",
    "exit\n",
    "show grpc status\n",
    "''').encode('ascii'))\n",
    "line = loginp1.read_until(b'/r/n',2)\n",
    "print(\"***** VIEW FROM TELNET CONSOLE *****\")\n",
    "print(line.decode())"
   ]
  },
  {
   "cell_type": "markdown",
   "metadata": {},
   "source": [
    "### Verify final gRPC configuration"
   ]
  },
  {
   "cell_type": "markdown",
   "metadata": {},
   "source": [
    "At the end, your final gRPC configuration on Router P1 should look something like:"
   ]
  },
  {
   "cell_type": "code",
   "execution_count": 12,
   "metadata": {},
   "outputs": [
    {
     "name": "stdout",
     "output_type": "stream",
     "text": [
      "***** VIEW FROM TELNET CONSOLE *****\n",
      "\n",
      "RP/0/RP0/CPU0:P1#show running-config grpc\n",
      "Tue Apr 27 11:02:45.006 UTC\n",
      "grpc\n",
      " port 57021\n",
      " no-tls\n",
      " service-layer\n",
      " !\n",
      "!\n",
      "\n",
      "RP/0/RP0/CPU0:P1#\n"
     ]
    }
   ],
   "source": [
    "loginp1.write(('''\n",
    "show running-config grpc\n",
    "''').encode('ascii'))\n",
    "line = loginp1.read_until(b'/r/n',2)\n",
    "print(\"***** VIEW FROM TELNET CONSOLE *****\")\n",
    "print(line.decode())"
   ]
  },
  {
   "cell_type": "code",
   "execution_count": 13,
   "metadata": {},
   "outputs": [
    {
     "name": "stdout",
     "output_type": "stream",
     "text": [
      "***** VIEW FROM TELNET CONSOLE *****\n",
      "\n",
      "RP/0/RP0/CPU0:P1#show service-layer state\n",
      "Tue Apr 27 11:02:47.011 UTC\n",
      "------------service layer state----------\n",
      "config on:                   YES\n",
      "standby connected :          NO\n",
      "idt done:                    NO\n",
      "blocked on ndt:              NO\n",
      "connected to RIB for IPv4:   YES\n",
      "connected to RIB for IPv6:   YES\n",
      "Initialization state:        service ready\n",
      "pending requests:            0         \n",
      "BFD Connection:              UP\n",
      "MPLS Connection:             UP\n",
      "Interface Connection:        UP\n",
      "Objects accepted:            NO\n",
      "interface registered:        NO\n",
      "bfd registered for IPv4:     NO\n",
      "bfd registered for IPv6:     NO\n",
      "RP/0/RP0/CPU0:P1#\n"
     ]
    }
   ],
   "source": [
    "loginp1.write(('''\n",
    "show service-layer state\n",
    "''').encode('ascii'))\n",
    "line = loginp1.read_until(b'/r/n',2)\n",
    "print(\"***** VIEW FROM TELNET CONSOLE *****\")\n",
    "print(line.decode())"
   ]
  },
  {
   "cell_type": "markdown",
   "metadata": {},
   "source": [
    "## Check that the gRPC port is operational"
   ]
  },
  {
   "cell_type": "markdown",
   "metadata": {},
   "source": [
    "The gRPC server runs as a Linux process on the IOS-XR system. It therefore opens up a port in the kernel on the Router Processor (RP) module.\n",
    "This port also gets programmed into the LPTS (Local Packet Transport Services) component of IOS-XR that maintains a distributed table across all nodes (RP, Linecards) of the Router to enable clients to connect to the gRPC port over distributed line card ports along with the Management Port.\n"
   ]
  },
  {
   "cell_type": "markdown",
   "metadata": {},
   "source": [
    "## gRPC port in LPTS"
   ]
  },
  {
   "cell_type": "code",
   "execution_count": 14,
   "metadata": {},
   "outputs": [
    {
     "name": "stdout",
     "output_type": "stream",
     "text": [
      "***** VIEW FROM TELNET CONSOLE *****\n",
      "\n",
      "RP/0/RP0/CPU0:P1#show lpts  pifib brief  | i 57021\n",
      "Tue Apr 27 11:02:50.357 UTC\n",
      " IPv4       default  TCP    any          0/RP0/CPU0                   any,57021 any\n",
      "RP/0/RP0/CPU0:P1#\n"
     ]
    }
   ],
   "source": [
    "loginp1.write(('''\n",
    "show lpts  pifib brief  | i 57021\n",
    "''').encode('ascii'))\n",
    "line = loginp1.read_until(b'/r/n',2)\n",
    "print(\"***** VIEW FROM TELNET CONSOLE *****\")\n",
    "print(line.decode())"
   ]
  },
  {
   "cell_type": "markdown",
   "metadata": {},
   "source": [
    "## gRPC port in the RP kernel"
   ]
  },
  {
   "cell_type": "code",
   "execution_count": 15,
   "metadata": {},
   "outputs": [
    {
     "name": "stdout",
     "output_type": "stream",
     "text": [
      "***** VIEW FROM TELNET CONSOLE *****\n",
      "\n",
      "RP/0/RP0/CPU0:P1#bash netstat -anput | grep 57021\n",
      "Tue Apr 27 11:02:52.365 UTC\n",
      "tcp        0      0 0.0.0.0:57021           0.0.0.0:*               LISTEN      10547/emsd      \n",
      "\n",
      "RP/0/RP0/CPU0:P1#\n"
     ]
    }
   ],
   "source": [
    "loginp1.write(('''\n",
    "bash netstat -anput | grep 57021\n",
    "''').encode('ascii'))\n",
    "line = loginp1.read_until(b'/r/n',2)\n",
    "print(\"***** VIEW FROM TELNET CONSOLE *****\")\n",
    "print(line.decode())"
   ]
  },
  {
   "cell_type": "markdown",
   "metadata": {},
   "source": [
    "## <a name=\"step3\"></a>Install gRPC and regenerate bindings"
   ]
  },
  {
   "cell_type": "markdown",
   "metadata": {},
   "source": [
    "The SL API client connects to the router over gRPC. So, the steps we intend to perform as part of this section are:\n",
    "\n",
    "* Install the protoc compiler python-pip provides protoc using a grpc-tools package.\n",
    "\n",
    "* Provide the model (.proto) files to the compiler and generate bindings  \n",
    ">This generated code is then used as a set of libraries to create our own client code."
   ]
  },
  {
   "cell_type": "markdown",
   "metadata": {},
   "source": [
    ">> First, install git and clone the Service-Layer Object Model Repository. \n",
    "\n",
    "**Set proxy settings if behind a firewall**"
   ]
  },
  {
   "cell_type": "code",
   "execution_count": 16,
   "metadata": {},
   "outputs": [],
   "source": [
    "# Proxy settings - Update as per your settings\n",
    "!export http_proxy=http://proxy.esl.cisco.com:80/\n",
    "!export https_proxy=http://proxy.esl.cisco.com:80/\n",
    "!export ftp_proxy=http://proxy.esl.cisco.com:80/\n",
    "!export no_proxy=.cisco.com\n",
    "!export HTTP_PROXY=http://proxy.esl.cisco.com:80/\n",
    "!export HTTPS_PROXY=http://proxy.esl.cisco.com:80/\n",
    "!export FTP_PROXY=http://proxy.esl.cisco.com:80/"
   ]
  },
  {
   "cell_type": "code",
   "execution_count": 17,
   "metadata": {},
   "outputs": [
    {
     "name": "stdout",
     "output_type": "stream",
     "text": [
      "Reading package lists... Done\n",
      "Building dependency tree       \n",
      "Reading state information... Done\n",
      "The following additional packages will be installed:\n",
      "  git-man less\n",
      "Suggested packages:\n",
      "  git-daemon-run | git-daemon-sysvinit git-doc git-el git-email git-gui gitk\n",
      "  gitweb git-cvs git-mediawiki git-svn\n",
      "The following NEW packages will be installed:\n",
      "  git git-man less\n",
      "0 upgraded, 3 newly installed, 0 to remove and 1 not upgraded.\n",
      "Need to get 4832 kB of archives.\n",
      "After this operation, 34.2 MB of additional disk space will be used.\n",
      "Get:1 http://archive.ubuntu.com/ubuntu bionic/main amd64 less amd64 487-0.1 [112 kB]\n",
      "Get:2 http://archive.ubuntu.com/ubuntu bionic-updates/main amd64 git-man all 1:2.17.1-1ubuntu0.8 [804 kB]\n",
      "Get:3 http://archive.ubuntu.com/ubuntu bionic-updates/main amd64 git amd64 1:2.17.1-1ubuntu0.8 [3916 kB]\n",
      "Fetched 4832 kB in 1s (3374 kB/s)\n",
      "debconf: delaying package configuration, since apt-utils is not installed\n",
      "Selecting previously unselected package less.\n",
      "(Reading database ... 57764 files and directories currently installed.)\n",
      "Preparing to unpack .../less_487-0.1_amd64.deb ...\n",
      "Unpacking less (487-0.1) ...\n",
      "Selecting previously unselected package git-man.\n",
      "Preparing to unpack .../git-man_1%3a2.17.1-1ubuntu0.8_all.deb ...\n",
      "Unpacking git-man (1:2.17.1-1ubuntu0.8) ...\n",
      "Selecting previously unselected package git.\n",
      "Preparing to unpack .../git_1%3a2.17.1-1ubuntu0.8_amd64.deb ...\n",
      "Unpacking git (1:2.17.1-1ubuntu0.8) ...\n",
      "Setting up git-man (1:2.17.1-1ubuntu0.8) ...\n",
      "Setting up less (487-0.1) ...\n",
      "debconf: unable to initialize frontend: Dialog\n",
      "debconf: (No usable dialog-like program is installed, so the dialog based frontend cannot be used. at /usr/share/perl5/Debconf/FrontEnd/Dialog.pm line 76.)\n",
      "debconf: falling back to frontend: Readline\n",
      "Setting up git (1:2.17.1-1ubuntu0.8) ...\n",
      "Processing triggers for man-db (2.8.3-2ubuntu0.1) ...\n",
      "Processing triggers for mime-support (3.60ubuntu1) ...\n",
      "Cloning into 'service-layer-objmodel'...\n",
      "remote: Enumerating objects: 1242, done.\u001b[K\n",
      "remote: Counting objects: 100% (135/135), done.\u001b[K\n",
      "remote: Compressing objects: 100% (67/67), done.\u001b[K\n",
      "remote: Total 1242 (delta 89), reused 87 (delta 63), pack-reused 1107\u001b[K\n",
      "Receiving objects: 100% (1242/1242), 26.60 MiB | 11.57 MiB/s, done.\n",
      "Resolving deltas: 100% (864/864), done.\n",
      "Note: checking out '0ca987c24e089923013b7e000bc59b7669119c6d'.\n",
      "\n",
      "You are in 'detached HEAD' state. You can look around, make experimental\n",
      "changes and commit them, and you can discard any commits you make in this\n",
      "state without impacting any branches by performing another checkout.\n",
      "\n",
      "If you want to create a new branch to retain commits you create, you may\n",
      "do so (now or later) by using -b with the checkout command again. Example:\n",
      "\n",
      "  git checkout -b <new-branch-name>\n",
      "\n"
     ]
    }
   ],
   "source": [
    "# Install git\n",
    "!sudo apt-get -y install git\n",
    "# Clone the service layer API code from Github\n",
    "!git clone https://github.com/Cisco-Service-Layer/service-layer-objmodel.git -b v0.0.1"
   ]
  },
  {
   "cell_type": "markdown",
   "metadata": {},
   "source": [
    ">Install grpc tools"
   ]
  },
  {
   "cell_type": "code",
   "execution_count": 18,
   "metadata": {},
   "outputs": [
    {
     "name": "stdout",
     "output_type": "stream",
     "text": [
      "Collecting grpcio\n",
      "  Downloading grpcio-1.37.0-cp38-cp38-manylinux2014_x86_64.whl (4.2 MB)\n",
      "\u001b[K     |████████████████████████████████| 4.2 MB 26.4 MB/s eta 0:00:01\n",
      "\u001b[?25hCollecting grpcio-tools\n",
      "  Downloading grpcio_tools-1.37.0-cp38-cp38-manylinux2014_x86_64.whl (2.5 MB)\n",
      "\u001b[K     |████████████████████████████████| 2.5 MB 42.9 MB/s eta 0:00:01████▉   | 2.3 MB 42.9 MB/s eta 0:00:01\n",
      "\u001b[?25hCollecting six>=1.5.2\n",
      "  Downloading six-1.15.0-py2.py3-none-any.whl (10 kB)\n",
      "Collecting setuptools\n",
      "  Downloading setuptools-56.0.0-py3-none-any.whl (784 kB)\n",
      "\u001b[K     |████████████████████████████████| 784 kB 36.0 MB/s eta 0:00:01\n",
      "\u001b[?25hCollecting protobuf<4.0dev,>=3.5.0.post1\n",
      "  Downloading protobuf-3.15.8-cp38-cp38-manylinux1_x86_64.whl (1.0 MB)\n",
      "\u001b[K     |████████████████████████████████| 1.0 MB 49.9 MB/s eta 0:00:01\n",
      "\u001b[?25hInstalling collected packages: six, setuptools, protobuf, grpcio, grpcio-tools\n",
      "Successfully installed grpcio-1.37.0 grpcio-tools-1.37.0 protobuf-3.15.8 setuptools-56.0.0 six-1.15.0\n",
      "Note: you may need to restart the kernel to use updated packages.\n"
     ]
    }
   ],
   "source": [
    "pip install grpcio grpcio-tools --ignore-installed"
   ]
  },
  {
   "cell_type": "code",
   "execution_count": 19,
   "metadata": {},
   "outputs": [
    {
     "name": "stdout",
     "output_type": "stream",
     "text": [
      "Collecting googleapis-common-protos\n",
      "  Downloading googleapis_common_protos-1.53.0-py2.py3-none-any.whl (198 kB)\n",
      "\u001b[K     |████████████████████████████████| 198 kB 24.7 MB/s eta 0:00:01\n",
      "\u001b[?25hRequirement already satisfied: protobuf>=3.12.0 in /home/vxr/miniconda3/envs/pyvxr/lib/python3.8/site-packages (from googleapis-common-protos) (3.15.8)\n",
      "Requirement already satisfied: six>=1.9 in /home/vxr/miniconda3/envs/pyvxr/lib/python3.8/site-packages (from protobuf>=3.12.0->googleapis-common-protos) (1.15.0)\n",
      "Installing collected packages: googleapis-common-protos\n",
      "Successfully installed googleapis-common-protos-1.53.0\n",
      "Note: you may need to restart the kernel to use updated packages.\n"
     ]
    }
   ],
   "source": [
    "pip install googleapis-common-protos"
   ]
  },
  {
   "cell_type": "markdown",
   "metadata": {},
   "source": [
    ">> Generate Python bindings"
   ]
  },
  {
   "cell_type": "code",
   "execution_count": 20,
   "metadata": {},
   "outputs": [
    {
     "name": "stdout",
     "output_type": "stream",
     "text": [
      "/home/vxr/notebooks/Put-Technology-to-Work/ServiceLayer/service-layer-objmodel/grpc/python\n"
     ]
    }
   ],
   "source": [
    "cd service-layer-objmodel/grpc/python"
   ]
  },
  {
   "cell_type": "markdown",
   "metadata": {},
   "source": [
    "The gen-bindings.sh script first cleans up the existing genpy/ directory where the bindings is  created and then proceeds to loop through the proto files running the protoc utility from the grpc_tools package.\n"
   ]
  },
  {
   "cell_type": "markdown",
   "metadata": {},
   "source": [
    "> View the content of the gen-bindings.sh script:"
   ]
  },
  {
   "cell_type": "code",
   "execution_count": 21,
   "metadata": {},
   "outputs": [
    {
     "name": "stdout",
     "output_type": "stream",
     "text": [
      "#!/bin/bash\n",
      "#\n",
      "# Copyright (c) 2016 by cisco Systems, Inc. \n",
      "# All rights reserved.\n",
      "#\n",
      "cd ../protos\n",
      "printf \"Generating Python bindings...\"\n",
      "protoc -I ./ --python_out=../python/src/genpy/ --grpc_out=../python/src/genpy/ --plugin=protoc-gen-grpc=`which grpc_python_plugin` *.proto\n",
      "cd ../python/src/genpy; 2to3 -w *\n",
      "echo \"Done\"\n"
     ]
    }
   ],
   "source": [
    "cat gen-bindings.sh"
   ]
  },
  {
   "cell_type": "markdown",
   "metadata": {},
   "source": [
    ">> Run the gen-bindings.sh script. These bindings are generated from the proto files and represent the python libraries that can be imported into your client code to provide the RPCs to be used to interact with the required functionality vertical."
   ]
  },
  {
   "cell_type": "code",
   "execution_count": 22,
   "metadata": {},
   "outputs": [
    {
     "name": "stdout",
     "output_type": "stream",
     "text": [
      "Generating Python bindings..../gen-bindings.sh: line 8: protoc: command not found\n",
      "RefactoringTool: Skipping optional fixer: buffer\n",
      "RefactoringTool: Skipping optional fixer: idioms\n",
      "RefactoringTool: Skipping optional fixer: set_literal\n",
      "RefactoringTool: Skipping optional fixer: ws_comma\n",
      "RefactoringTool: No changes to sl_bfd_common_pb2.py\n",
      "RefactoringTool: No changes to sl_bfd_ipv4_pb2.py\n",
      "RefactoringTool: No changes to sl_bfd_ipv4_pb2_grpc.py\n",
      "RefactoringTool: No changes to sl_bfd_ipv6_pb2.py\n",
      "RefactoringTool: No changes to sl_bfd_ipv6_pb2_grpc.py\n",
      "RefactoringTool: No changes to sl_common_types_pb2.py\n",
      "RefactoringTool: No changes to sl_global_pb2.py\n",
      "RefactoringTool: No changes to sl_global_pb2_grpc.py\n",
      "RefactoringTool: No changes to sl_interface_pb2.py\n",
      "RefactoringTool: No changes to sl_interface_pb2_grpc.py\n",
      "RefactoringTool: No changes to sl_mpls_pb2.py\n",
      "RefactoringTool: No changes to sl_mpls_pb2_grpc.py\n",
      "RefactoringTool: No changes to sl_route_common_pb2.py\n",
      "RefactoringTool: No changes to sl_route_ipv4_pb2.py\n",
      "RefactoringTool: No changes to sl_route_ipv4_pb2_grpc.py\n",
      "RefactoringTool: No changes to sl_route_ipv6_pb2.py\n",
      "RefactoringTool: No changes to sl_route_ipv6_pb2_grpc.py\n",
      "RefactoringTool: No changes to sl_version_pb2.py\n",
      "RefactoringTool: Files that need to be modified:\n",
      "RefactoringTool: sl_bfd_common_pb2.py\n",
      "RefactoringTool: sl_bfd_ipv4_pb2.py\n",
      "RefactoringTool: sl_bfd_ipv4_pb2_grpc.py\n",
      "RefactoringTool: sl_bfd_ipv6_pb2.py\n",
      "RefactoringTool: sl_bfd_ipv6_pb2_grpc.py\n",
      "RefactoringTool: sl_common_types_pb2.py\n",
      "RefactoringTool: sl_global_pb2.py\n",
      "RefactoringTool: sl_global_pb2_grpc.py\n",
      "RefactoringTool: sl_interface_pb2.py\n",
      "RefactoringTool: sl_interface_pb2_grpc.py\n",
      "RefactoringTool: sl_mpls_pb2.py\n",
      "RefactoringTool: sl_mpls_pb2_grpc.py\n",
      "RefactoringTool: sl_route_common_pb2.py\n",
      "RefactoringTool: sl_route_ipv4_pb2.py\n",
      "RefactoringTool: sl_route_ipv4_pb2_grpc.py\n",
      "RefactoringTool: sl_route_ipv6_pb2.py\n",
      "RefactoringTool: sl_route_ipv6_pb2_grpc.py\n",
      "RefactoringTool: sl_version_pb2.py\n",
      "Done\n"
     ]
    }
   ],
   "source": [
    "!./gen-bindings.sh"
   ]
  },
  {
   "cell_type": "markdown",
   "metadata": {},
   "source": [
    "> Install grpcio and ipaddress packages. The grpcio package is a must to actually create a channel and connect to the router over gRPC.\n",
    "The ipaddress python package is used to manage ip addresses in python."
   ]
  },
  {
   "cell_type": "code",
   "execution_count": 23,
   "metadata": {},
   "outputs": [
    {
     "name": "stdout",
     "output_type": "stream",
     "text": [
      "/home/vxr/notebooks/Put-Technology-to-Work/ServiceLayer/service-layer-objmodel/grpc/python/src/genpy\n",
      "Collecting ipaddress\n",
      "  Downloading ipaddress-1.0.23-py2.py3-none-any.whl (18 kB)\n",
      "Installing collected packages: ipaddress\n",
      "Successfully installed ipaddress-1.0.23\n"
     ]
    }
   ],
   "source": [
    "%cd src/genpy/\n",
    "!pip install ipaddress"
   ]
  },
  {
   "cell_type": "markdown",
   "metadata": {},
   "source": [
    "## <a name=\"step4\"></a>Run pre-packaged tutorials"
   ]
  },
  {
   "cell_type": "markdown",
   "metadata": {},
   "source": [
    "Let's run some of the representative tutorials that are packaged along with the service-layer-objmodel git repo. For more information about the tutorials, see [Running the tutorial](https://github.com/Cisco-Service-Layer/service-layer-objmodel/tree/master/grpc/python/src/tutorial#quick)."
   ]
  },
  {
   "cell_type": "markdown",
   "metadata": {},
   "source": [
    "All the tutorials, expect the following environment variables to be set before running them:\n",
    "\n",
    "\n",
    "* SERVER_IP: IP address over which the router's gRPC server is reachable. \n",
    "\n",
    "* SERVER_PORT: TCP port over which the router's gRPC server is reachable.\n",
    "\n",
    "The port amd IP address can be found from the output that you got from  the step print (sim.get_console_ports()), see [View redirect port details](#step11)"
   ]
  },
  {
   "cell_type": "markdown",
   "metadata": {},
   "source": [
    ">View the availble pre-packaged tutorials"
   ]
  },
  {
   "cell_type": "code",
   "execution_count": 24,
   "metadata": {},
   "outputs": [
    {
     "name": "stdout",
     "output_type": "stream",
     "text": [
      "/home/vxr/notebooks/Put-Technology-to-Work/ServiceLayer/service-layer-objmodel/grpc/python/src\n",
      "/home/vxr/notebooks/Put-Technology-to-Work/ServiceLayer/service-layer-objmodel/grpc/python/src/tutorial\n",
      "total 80\n",
      "-rw-r--r-- 1 vxr vxr 14189 Apr 27 11:03 README.md\n",
      "-rw-r--r-- 1 vxr vxr    72 Apr 27 11:03 __init__.py\n",
      "-rw-r--r-- 1 vxr vxr  5823 Apr 27 11:03 client_init.py\n",
      "-rw-r--r-- 1 vxr vxr 12028 Apr 27 11:03 interface.py\n",
      "-rw-r--r-- 1 vxr vxr 10329 Apr 27 11:03 mpls_ilm.py\n",
      "-rw-r--r-- 1 vxr vxr  5435 Apr 27 11:03 quickstart.py\n",
      "-rw-r--r-- 1 vxr vxr 12857 Apr 27 11:03 route.py\n",
      "-rw-r--r-- 1 vxr vxr  3617 Apr 27 11:03 vrf.py\n"
     ]
    }
   ],
   "source": [
    "%cd ..\n",
    "%cd tutorial/\n",
    "!ls -l"
   ]
  },
  {
   "cell_type": "code",
   "execution_count": 25,
   "metadata": {},
   "outputs": [],
   "source": [
    "# Using \"find\" and \"sed\" to convert \"GigabitEthernet\" to \"FourHundredGigE\" in the python files because Cisco8000 has only FourHundredGigE ports\n",
    "!find *.py -type f -exec sed -i 's/GigabitEthernet/FourHundredGigE/g' {} \\;"
   ]
  },
  {
   "cell_type": "markdown",
   "metadata": {},
   "source": [
    "### Basic Client Initialization: client_init.py"
   ]
  },
  {
   "cell_type": "markdown",
   "metadata": {},
   "source": [
    "This tutorial utilizes the initialization RPC to set up a notification channel with the service-layer gRPC server running on the router. This notification channel is used by the client to be notified of any server error conditions or any disconnect messages. You cannot utilize any of the service-layer functionality verticals if you don't keep a notification channel active.\n",
    "\n",
    "This is usually done by initiating the notification channel in a separate thread inside your code, so that the rest of code can continue to execute while the notification channel remains active within the thread.\n",
    "\n",
    "client_init.py will simply connect, set up a channel and disconnect. Its init code will be run inside a separate thread in the next set of tutorials that leverage it."
   ]
  },
  {
   "cell_type": "code",
   "execution_count": 26,
   "metadata": {},
   "outputs": [
    {
     "name": "stdout",
     "output_type": "stream",
     "text": [
      "env: https_proxy=\n",
      "env: SERVER_IP=172.17.0.2\n",
      "env: SERVER_PORT=63979\n",
      "172.17.0.2\n",
      "63979\n",
      "Using GRPC Server IP(172.17.0.2) Port(63979)\n",
      "Global thread spawned\n",
      "Server Returned 0x501, Version 0.3.0\n",
      "Successfully Initialized, connection established!\n",
      "Max VRF Name Len     : 33\n",
      "Max Iface Name Len   : 64\n",
      "Max Paths per Entry  : 128\n",
      "Max Prim per Entry   : 64\n",
      "Max Bckup per Entry  : 64\n",
      "Max Labels per Entry : 3\n",
      "Min Prim Path-id     : 1\n",
      "Max Prim Path-id     : 64\n",
      "Min Bckup Path-id    : 65\n",
      "Max Bckup Path-id    : 128\n",
      "Max Remote Bckup Addr: 2\n"
     ]
    }
   ],
   "source": [
    "%set_env https_proxy=\n",
    "%set_env SERVER_IP=$r1_ip\n",
    "%set_env SERVER_PORT=$r1_grpc\n",
    "!echo $SERVER_IP\n",
    "!echo $SERVER_PORT\n",
    "!python client_init.py"
   ]
  },
  {
   "cell_type": "markdown",
   "metadata": {},
   "source": [
    "### Register/Unregister against the Route Vertical"
   ]
  },
  {
   "cell_type": "markdown",
   "metadata": {},
   "source": [
    "This tutorial utilizes the client_init.py code to maintain the notification channel for it while it proceeds to register against a particular vrf (vrf default). This accomplishes registration for the Route vertical described earlier.\n",
    "Only post registration with the Route vertical can the RIB manipulations be carried out."
   ]
  },
  {
   "cell_type": "code",
   "execution_count": 27,
   "metadata": {},
   "outputs": [
    {
     "name": "stdout",
     "output_type": "stream",
     "text": [
      "Using GRPC Server IP(172.17.0.2) Port(63979)\n",
      "Global thread spawned\n",
      "Server Returned 0x501, Version 0.3.0\n",
      "Successfully Initialized, connection established!\n",
      "Max VRF Name Len     : 33\n",
      "Max Iface Name Len   : 64\n",
      "Max Paths per Entry  : 128\n",
      "Max Prim per Entry   : 64\n",
      "Max Bckup per Entry  : 64\n",
      "Max Labels per Entry : 3\n",
      "Min Prim Path-id     : 1\n",
      "Max Prim Path-id     : 64\n",
      "Min Bckup Path-id    : 65\n",
      "Max Bckup Path-id    : 128\n",
      "Max Remote Bckup Addr: 2\n",
      "VRF SL_REGOP_REGISTER Success!\n",
      "VRF SL_REGOP_EOF Success!\n",
      "VRF SL_REGOP_UNREGISTER Success!\n"
     ]
    }
   ],
   "source": [
    "!python vrf.py"
   ]
  },
  {
   "cell_type": "markdown",
   "metadata": {},
   "source": [
    "The initial dump is the same as the earlier run of client_init.py since vrf.py utilizes client_init.py. The last set of messages show that the client was able to:\n",
    "\n",
    "Successfully Register for the Route vertical (for vrf: default).\n",
    "Send an EOF (used to flush out stale routes - marked by the registration process- should remind folks of the Mark and Sweep technique used in Garbage Collection algorithms. This is utilized whenever controllers/clients intend to resync routes with the IOS-XR RIB in the event of either a client or server failure).\n",
    "Successfully Unregister for the Route Vertical (used to disconnect and flush out all the routes from the particular vrf)."
   ]
  },
  {
   "cell_type": "markdown",
   "metadata": {},
   "source": [
    "### Add Routes to IOS-XR RIB: quickstart.py"
   ]
  },
  {
   "cell_type": "markdown",
   "metadata": {},
   "source": [
    "\n",
    "The quickstart.py tutorial uses vrf.py (which in turn uses client_init.py as mentioned above) to register against the Route vertical. It then utilizes RPCs in the IPv4 Route vertical to program IPv4 routes into the IOS-XR RIB."
   ]
  },
  {
   "cell_type": "code",
   "execution_count": 28,
   "metadata": {},
   "outputs": [
    {
     "name": "stdout",
     "output_type": "stream",
     "text": [
      "Using GRPC Server IP(172.17.0.2) Port(63979)\n",
      "Global thread spawned\n",
      "Server Returned 0x502, Version 0.3.0\n",
      "Successfully Initialized, connection established!\n",
      "Max VRF Name Len     : 33\n",
      "Max Iface Name Len   : 64\n",
      "Max Paths per Entry  : 128\n",
      "Max Prim per Entry   : 64\n",
      "Max Bckup per Entry  : 64\n",
      "Max Labels per Entry : 3\n",
      "Min Prim Path-id     : 1\n",
      "Max Prim Path-id     : 64\n",
      "Min Bckup Path-id    : 65\n",
      "Max Bckup Path-id    : 128\n",
      "Max Remote Bckup Addr: 2\n",
      "VRF SL_REGOP_REGISTER Success!\n",
      "VRF SL_REGOP_EOF Success!\n",
      "Route SL_OBJOP_ADD Success!\n"
     ]
    }
   ],
   "source": [
    "!python quickstart.py"
   ]
  },
  {
   "cell_type": "markdown",
   "metadata": {},
   "source": [
    "To verify this, ssh into the router and do a dump of the RIB using show route:"
   ]
  },
  {
   "cell_type": "code",
   "execution_count": 29,
   "metadata": {},
   "outputs": [
    {
     "name": "stdout",
     "output_type": "stream",
     "text": [
      "***** VIEW FROM TELNET CONSOLE *****\n",
      "\n",
      "RP/0/RP0/CPU0:P1#show route\n",
      "Tue Apr 27 11:08:00.602 UTC\n",
      "\n",
      "Codes: C - connected, S - static, R - RIP, B - BGP, (>) - Diversion path\n",
      "       D - EIGRP, EX - EIGRP external, O - OSPF, IA - OSPF inter area\n",
      "       N1 - OSPF NSSA external type 1, N2 - OSPF NSSA external type 2\n",
      "       E1 - OSPF external type 1, E2 - OSPF external type 2, E - EGP\n",
      "       i - ISIS, L1 - IS-IS level-1, L2 - IS-IS level-2\n",
      "       ia - IS-IS inter area, su - IS-IS summary null, * - candidate default\n",
      "       U - per-user static route, o - ODR, L - local, G  - DAGR, l - LISP\n",
      "       A - access/subscriber, a - Application route\n",
      "       M - mobile route, r - RPL, t - Traffic Engineering, (!) - FRR Backup path\n",
      "\n",
      "Gateway of last resort is not set\n",
      "\n",
      "a    20.0.0.0/24 [2/0] via 10.10.10.1, 00:00:01, FourHundredGigE0/0/0/0\n",
      "                 [2/0] via 10.10.10.2, 00:00:01, FourHundredGigE0/0/0/0\n",
      "a    20.0.1.0/24 [2/0] via 10.10.10.1, 00:00:01, FourHundredGigE0/0/0/0\n",
      "                 [2/0] via 10.10.10.2, 00:00:01, FourHundredGigE0/0/0/0\n",
      "a    20.0.2.0/24 [2/0] via 10.10.10.1, 00:00:01, FourHundredGigE0/0/0/0\n",
      "                 [2/0] via 10.10.10.2, 00:00:01, FourHundredGigE0/0/0/0\n",
      "a    20.0.3.0/24 [2/0] via 10.10.10.1, 00:00:01, FourHundredGigE0/0/0/0\n",
      "                 [2/0] via 10.10.10.2, 00:00:01, FourHundredGigE0/0/0/0\n",
      "a    20.0.4.0/24 [2/0] via 10.10.10.1, 00:00:01, FourHundredGigE0/0/0/0\n",
      "                 [2/0] via 10.10.10.2, 00:00:01, FourHundredGigE0/0/0/0\n",
      "a    20.0.5.0/24 [2/0] via 10.10.10.1, 00:00:01, FourHundredGigE0/0/0/0\n",
      "                 [2/0] via 10.10.10.2, 00:00:01, FourHundredGigE0/0/0/0\n",
      "a    20.0.6.0/24 [2/0] via 10.10.10.1, 00:00:01, FourHundredGigE0/0/0/0\n",
      "                 [2/0] via 10.10.10.2, 00:00:01, FourHundredGigE0/0/0/0\n",
      "a    20.0.7.0/24 [2/0] via 10.10.10.1, 00:00:01, FourHundredGigE0/0/0/0\n",
      "                 [2/0] via 10.10.10.2, 00:00:01, FourHundredGigE0/0/0/0\n",
      "a    20.0.8.0/24 [2/0] via 10.10.10.1, 00:00:01, FourHundredGigE0/0/0/0\n",
      "                 [2/0] via 10.10.10.2, 00:00:01, FourHundredGigE0/0/0/0\n",
      "a    20.0.9.0/24 [2/0] via 10.10.10.1, 00:00:01, FourHundredGigE0/0/0/0\n",
      "                 [2/0] via 10.10.10.2, 00:00:01, FourHundredGigE0/0/0/0\n",
      "C    192.168.254.0/24 is directly connected, 00:07:04, MgmtEth0/RP0/CPU0/0\n",
      "L    192.168.254.99/32 is directly connected, 00:07:04, MgmtEth0/RP0/CPU0/0\n",
      "C    198.51.100.0/24 is directly connected, 00:06:20, FourHundredGigE0/0/0/0\n",
      "L    198.51.100.1/32 is directly connected, 00:06:20, FourHundredGigE0/0/0/0\n",
      "C    198.51.101.0/24 is directly connected, 00:06:20, FourHundredGigE0/0/0/1\n",
      "L    198.51.101.1/32 is directly connected, 00:06:20, FourHundredGigE0/0/0/1\n",
      "L    209.165.200.225/32 is directly connected, 00:06:20, Loopback0\n",
      "RP/0/RP0/CPU0:P1#\n"
     ]
    }
   ],
   "source": [
    "loginp1.write(('''\n",
    "show route\n",
    "''').encode('ascii'))\n",
    "line = loginp1.read_until(b'/r/n',2)\n",
    "print(\"***** VIEW FROM TELNET CONSOLE *****\")\n",
    "print(line.decode())"
   ]
  },
  {
   "cell_type": "markdown",
   "metadata": {},
   "source": [
    "### Register and Listen for interface state events: interface.py"
   ]
  },
  {
   "cell_type": "markdown",
   "metadata": {},
   "source": [
    "This tutorial showcases how to register against the interface vertical, set up event streams for a certain set of interfaces and then start thread to receive notifications of interface events as we shut/no-shut registered interfaces.\n",
    "In this example, you register for the state events of three interfaces, namely: FourHundredGigE0/0/0/0, FourHundredGigE0/0/0/1 and MgmtEth0/RP0/CPU0/0.\n"
   ]
  },
  {
   "cell_type": "code",
   "execution_count": 30,
   "metadata": {},
   "outputs": [
    {
     "name": "stdout",
     "output_type": "stream",
     "text": [
      "Using GRPC Server IP(172.17.0.2) Port(63979)\n",
      "Global thread spawned\n",
      "Server Returned 0x502, Version 0.3.0\n",
      "Successfully Initialized, connection established!\n",
      "Max VRF Name Len     : 33\n",
      "Max Iface Name Len   : 64\n",
      "Max Paths per Entry  : 128\n",
      "Max Prim per Entry   : 64\n",
      "Max Bckup per Entry  : 64\n",
      "Max Labels per Entry : 3\n",
      "Min Prim Path-id     : 1\n",
      "Max Prim Path-id     : 64\n",
      "Min Bckup Path-id    : 65\n",
      "Max Bckup Path-id    : 128\n",
      "Max Remote Bckup Addr: 2\n",
      "ErrStatus {\n",
      "}\n",
      "\n",
      "ErrStatus {\n",
      "}\n",
      "\n",
      "StatusSummary {\n",
      "}\n",
      "\n",
      "ErrStatus {\n",
      "}\n",
      "MaxInterfacesPerBatch: 1024\n",
      "\n",
      "Eof: true\n",
      "ErrStatus {\n",
      "}\n",
      "Entries {\n",
      "  SLIfInfo {\n",
      "    Name: \"FourHundredGigE0/0/0/0\"\n",
      "  }\n",
      "}\n",
      "Entries {\n",
      "  SLIfInfo {\n",
      "    Name: \"FourHundredGigE0/0/0/1\"\n",
      "  }\n",
      "}\n",
      "Entries {\n",
      "  SLIfInfo {\n",
      "    Name: \"MgmtEth0/RP0/CPU0/0\"\n",
      "  }\n",
      "}\n",
      "\n",
      "Starting listener for interface events\n",
      "^C\n",
      "Unregistering...\n",
      "ErrStatus {\n",
      "}\n",
      "\n"
     ]
    }
   ],
   "source": [
    "!python interface.py"
   ]
  },
  {
   "cell_type": "markdown",
   "metadata": {},
   "source": [
    "You'll notice that the client is still running, because it is listening for interface state events in a persistent thread. \n",
    "\n",
    "<b>Important: Select interrupt kernel to proceed.</b>\n",
    "\n",
    "**1. From the menu, Select Kernel**\n",
    "\n",
    "**2. Select Interrupt Kernel**"
   ]
  },
  {
   "cell_type": "markdown",
   "metadata": {},
   "source": [
    "Optional: If you trigger the shut/no-shut of interface FourHundredGigE0/0/1 and see how the client reacts.\n",
    "Connect to the router P1 using ssh and shut/no-shut of interface FourHundredGigE0/0/1. These events are being streamed to the client.\n"
   ]
  },
  {
   "cell_type": "code",
   "execution_count": 31,
   "metadata": {},
   "outputs": [
    {
     "name": "stdout",
     "output_type": "stream",
     "text": [
      "***** VIEW FROM TELNET CONSOLE *****\n",
      "\n",
      "RP/0/RP0/CPU0:P1#configure\n",
      "Tue Apr 27 11:08:14.227 UTC\n",
      "RP/0/RP0/CPU0:P1(config)#interface FourHundredGigE0/0/0/1\n",
      "RP/0/RP0/CPU0:P1(config-if)#shutdown\n",
      "RP/0/RP0/CPU0:P1(config-if)#commit\n",
      "Tue Apr 27 11:08:14.613 UTC\n",
      "RP/0/RP0/CPU0:P1(config-if)#root\n",
      "RP/0/RP0/CPU0:P1(config)#exit\n",
      "RP/0/RP0/CPU0:P1#\n"
     ]
    }
   ],
   "source": [
    "loginp1.write(('''\n",
    "configure\n",
    "interface FourHundredGigE0/0/0/1\n",
    "shutdown\n",
    "commit\n",
    "root\n",
    "exit\n",
    "''').encode('ascii'))\n",
    "line = loginp1.read_until(b'/r/n',2)\n",
    "print(\"***** VIEW FROM TELNET CONSOLE *****\")\n",
    "print(line.decode())"
   ]
  },
  {
   "cell_type": "code",
   "execution_count": 32,
   "metadata": {},
   "outputs": [
    {
     "name": "stdout",
     "output_type": "stream",
     "text": [
      "***** VIEW FROM TELNET CONSOLE *****\n",
      "\n",
      "RP/0/RP0/CPU0:P1#configure\n",
      "Tue Apr 27 11:08:16.242 UTC\n",
      "RP/0/RP0/CPU0:P1(config)#interface FourHundredGigE0/0/0/1\n",
      "RP/0/RP0/CPU0:P1(config-if)#no shutdown\n",
      "RP/0/RP0/CPU0:P1(config-if)#commit\n",
      "Tue Apr 27 11:08:16.615 UTC\n",
      "RP/0/RP0/CPU0:P1(config-if)#root\n",
      "RP/0/RP0/CPU0:P1(config)#exit\n",
      "RP/0/RP0/CPU0:P1#\n"
     ]
    }
   ],
   "source": [
    "loginp1.write(('''\n",
    "configure\n",
    "interface FourHundredGigE0/0/0/1\n",
    "no shutdown\n",
    "commit\n",
    "root\n",
    "exit\n",
    "''').encode('ascii'))\n",
    "line = loginp1.read_until(b'/r/n',2)\n",
    "print(\"***** VIEW FROM TELNET CONSOLE *****\")\n",
    "print(line.decode())"
   ]
  },
  {
   "cell_type": "markdown",
   "metadata": {},
   "source": [
    "The Received HeartBeat messages show up as the client receives heartbeats periodically from the Server. The event SL_INTERFACE_EVENT_TYPE_INTERFACE_INFO gives us more information on the type of interface event received: "
   ]
  },
  {
   "cell_type": "code",
   "execution_count": 33,
   "metadata": {},
   "outputs": [
    {
     "name": "stdout",
     "output_type": "stream",
     "text": [
      "Using GRPC Server IP(172.17.0.2) Port(63979)\n",
      "Global thread spawned\n",
      "Server Returned 0x502, Version 0.3.0\n",
      "Successfully Initialized, connection established!\n",
      "Max VRF Name Len     : 33\n",
      "Max Iface Name Len   : 64\n",
      "Max Paths per Entry  : 128\n",
      "Max Prim per Entry   : 64\n",
      "Max Bckup per Entry  : 64\n",
      "Max Labels per Entry : 3\n",
      "Min Prim Path-id     : 1\n",
      "Max Prim Path-id     : 64\n",
      "Min Bckup Path-id    : 65\n",
      "Max Bckup Path-id    : 128\n",
      "Max Remote Bckup Addr: 2\n",
      "ErrStatus {\n",
      "}\n",
      "\n",
      "ErrStatus {\n",
      "}\n",
      "\n",
      "StatusSummary {\n",
      "}\n",
      "\n",
      "ErrStatus {\n",
      "}\n",
      "MaxInterfacesPerBatch: 1024\n",
      "\n",
      "Eof: true\n",
      "ErrStatus {\n",
      "}\n",
      "Entries {\n",
      "  SLIfInfo {\n",
      "    Name: \"FourHundredGigE0/0/0/0\"\n",
      "  }\n",
      "  IfState: SL_IF_STATE_UP\n",
      "  SeqNum: 2\n",
      "}\n",
      "Entries {\n",
      "  SLIfInfo {\n",
      "    Name: \"FourHundredGigE0/0/0/1\"\n",
      "  }\n",
      "  IfState: SL_IF_STATE_DOWN\n",
      "  SeqNum: 2\n",
      "}\n",
      "Entries {\n",
      "  SLIfInfo {\n",
      "    Name: \"MgmtEth0/RP0/CPU0/0\"\n",
      "  }\n",
      "  IfState: SL_IF_STATE_UP\n",
      "  SeqNum: 1\n",
      "}\n",
      "\n",
      "Starting listener for interface events\n",
      "^C\n",
      "Unregistering...\n",
      "ErrStatus {\n",
      "}\n",
      "\n"
     ]
    }
   ],
   "source": [
    "!python interface.py"
   ]
  },
  {
   "cell_type": "markdown",
   "metadata": {},
   "source": [
    "You'll notice that the client is still running, because it is listening for interface state events in a persistent thread. \n",
    "\n",
    "<b>Important: Select interrupt kernel to proceed.</b>\n",
    "\n",
    "**1. From the menu, Select Kernel**\n",
    "\n",
    "**2. Select Interrupt Kernel**"
   ]
  },
  {
   "cell_type": "markdown",
   "metadata": {},
   "source": [
    "### Allocate Local labels and Create ILM entries: mpls_ilm.py"
   ]
  },
  {
   "cell_type": "markdown",
   "metadata": {},
   "source": [
    "This tutorial showcases how to register against the mpls vertical, allocate label blocks and then utilize these labels to create ILM (incoming label map) to forwarding function entries.\n"
   ]
  },
  {
   "cell_type": "code",
   "execution_count": 35,
   "metadata": {},
   "outputs": [
    {
     "name": "stdout",
     "output_type": "stream",
     "text": [
      "Using GRPC Server IP(172.17.0.2) Port(63979)\n",
      "Global thread spawned\n",
      "Server Returned 0x502, Version 0.3.0\n",
      "Successfully Initialized, connection established!\n",
      "Max VRF Name Len     : 33\n",
      "Max Iface Name Len   : 64\n",
      "Max Paths per Entry  : 128\n",
      "Max Prim per Entry   : 64\n",
      "Max Bckup per Entry  : 64\n",
      "Max Labels per Entry : 3\n",
      "Min Prim Path-id     : 1\n",
      "Max Prim Path-id     : 64\n",
      "Min Bckup Path-id    : 65\n",
      "Max Bckup Path-id    : 128\n",
      "Max Remote Bckup Addr: 2\n",
      "Error code for mpls SL_OBJOP_ADD is 0x8004\n",
      "Error code for mpls SL_OBJOP_UPDATE is 0xa\n"
     ]
    }
   ],
   "source": [
    "!find mpls_ilm.py -type f -exec sed -i 's/0\\/0\\/0\\/1/0\\/0\\/0\\/0/g' {} \\;\n",
    "!python mpls_ilm.py"
   ]
  },
  {
   "cell_type": "markdown",
   "metadata": {},
   "source": [
    "Hop onto router P1 and dump the allocated label blocks. Notice the labels marked Static(A):Service-layer.  These were allocated by the mpls_ilm.py client."
   ]
  },
  {
   "cell_type": "code",
   "execution_count": 36,
   "metadata": {},
   "outputs": [
    {
     "name": "stdout",
     "output_type": "stream",
     "text": [
      "***** VIEW FROM TELNET CONSOLE *****\n",
      "\n",
      "RP/0/RP0/CPU0:P1#show mpls ldp nei\n",
      "Tue Apr 27 11:10:27.635 UTC\n",
      "\n",
      "RP/0/RP0/CPU0:P1#show route\n",
      "Tue Apr 27 11:10:27.692 UTC\n",
      "\n",
      "Codes: C - connected, S - static, R - RIP, B - BGP, (>) - Diversion path\n",
      "       D - EIGRP, EX - EIGRP external, O - OSPF, IA - OSPF inter area\n",
      "       N1 - OSPF NSSA external type 1, N2 - OSPF NSSA external type 2\n",
      "       E1 - OSPF external type 1, E2 - OSPF external type 2, E - EGP\n",
      "       i - ISIS, L1 - IS-IS level-1, L2 - IS-IS level-2\n",
      "       ia - IS-IS inter area, su - IS-IS summary null, * - candidate default\n",
      "       U - per-user static route, o - ODR, L - local, G  - DAGR, l - LISP\n",
      "       A - access/subscriber, a - Application route\n",
      "       M - mobile route, r - RPL, t - Traffic Engineering, (!) - FRR Backup path\n",
      "\n",
      "Gateway of last resort is not set\n",
      "\n",
      "a    20.0.0.0/24 [2/0] via 10.10.10.1, 00:02:28, FourHundredGigE0/0/0/0\n",
      "                 [2/0] via 10.10.10.2, 00:02:28, FourHundredGigE0/0/0/0\n",
      "a    20.0.1.0/24 [2/0] via 10.10.10.1, 00:02:28, FourHundredGigE0/0/0/0\n",
      "                 [2/0] via 10.10.10.2, 00:02:28, FourHundredGigE0/0/0/0\n",
      "a    20.0.2.0/24 [2/0] via 10.10.10.1, 00:02:28, FourHundredGigE0/0/0/0\n",
      "                 [2/0] via 10.10.10.2, 00:02:28, FourHundredGigE0/0/0/0\n",
      "a    20.0.3.0/24 [2/0] via 10.10.10.1, 00:02:28, FourHundredGigE0/0/0/0\n",
      "                 [2/0] via 10.10.10.2, 00:02:28, FourHundredGigE0/0/0/0\n",
      "a    20.0.4.0/24 [2/0] via 10.10.10.1, 00:02:28, FourHundredGigE0/0/0/0\n",
      "                 [2/0] via 10.10.10.2, 00:02:28, FourHundredGigE0/0/0/0\n",
      "a    20.0.5.0/24 [2/0] via 10.10.10.1, 00:02:28, FourHundredGigE0/0/0/0\n",
      "                 [2/0] via 10.10.10.2, 00:02:28, FourHundredGigE0/0/0/0\n",
      "a    20.0.6.0/24 [2/0] via 10.10.10.1, 00:02:28, FourHundredGigE0/0/0/0\n",
      "                 [2/0] via 10.10.10.2, 00:02:28, FourHundredGigE0/0/0/0\n",
      "a    20.0.7.0/24 [2/0] via 10.10.10.1, 00:02:28, FourHundredGigE0/0/0/0\n",
      "                 [2/0] via 10.10.10.2, 00:02:28, FourHundredGigE0/0/0/0\n",
      "a    20.0.8.0/24 [2/0] via 10.10.10.1, 00:02:28, FourHundredGigE0/0/0/0\n",
      "                 [2/0] via 10.10.10.2, 00:02:28, FourHundredGigE0/0/0/0\n",
      "a    20.0.9.0/24 [2/0] via 10.10.10.1, 00:02:28, FourHundredGigE0/0/0/0\n",
      "                 [2/0] via 10.10.10.2, 00:02:28, FourHundredGigE0/0/0/0\n",
      "C    192.168.254.0/24 is directly connected, 00:09:31, MgmtEth0/RP0/CPU0/0\n",
      "L    192.168.254.99/32 is directly connected, 00:09:31, MgmtEth0/RP0/CPU0/0\n",
      "C    198.51.100.0/24 is directly connected, 00:08:47, FourHundredGigE0/0/0/0\n",
      "L    198.51.100.1/32 is directly connected, 00:08:47, FourHundredGigE0/0/0/0\n",
      "L    209.165.200.225/32 is directly connected, 00:08:47, Loopback0\n",
      "RP/0/RP0/CPU0:P1#show  mpls label table\n",
      "Tue Apr 27 11:10:27.865 UTC\n",
      "Table Label   Owner                           State  Rewrite\n",
      "----- ------- ------------------------------- ------ -------\n",
      "0     0       LSD(A)                          InUse  Yes\n",
      "0     1       LSD(A)                          InUse  Yes\n",
      "0     2       LSD(A)                          InUse  Yes\n",
      "0     13      LSD(A)                          InUse  Yes\n",
      "0     24000   LDP(A)                          InUse  Yes\n",
      "0     24001   LDP(A)                          InUse  Yes\n",
      "0     24002   LDP(A)                          InUse  Yes\n",
      "0     24003   LDP(A)                          InUse  Yes\n",
      "0     24004   LDP(A)                          InUse  Yes\n",
      "0     24005   LDP(A)                          InUse  Yes\n",
      "0     24006   LDP(A)                          InUse  Yes\n",
      "0     24007   LDP(A)                          InUse  Yes\n",
      "0     24008   LDP(A)                          InUse  Yes\n",
      "0     24009   LDP(A)                          InUse  Yes\n",
      "RP/0/RP0/CPU0:P1#\n"
     ]
    }
   ],
   "source": [
    "loginp1.write(('''\n",
    "show mpls ldp nei\n",
    "show route\n",
    "show  mpls label table\n",
    "''').encode('ascii'))\n",
    "line = loginp1.read_until(b'/r/n',2)\n",
    "print(\"***** VIEW FROM TELNET CONSOLE *****\")\n",
    "print(line.decode())"
   ]
  },
  {
   "cell_type": "markdown",
   "metadata": {},
   "source": [
    "Now verify the mpls forwarding entries on the router:"
   ]
  },
  {
   "cell_type": "code",
   "execution_count": 37,
   "metadata": {},
   "outputs": [
    {
     "name": "stdout",
     "output_type": "stream",
     "text": [
      "***** VIEW FROM TELNET CONSOLE *****\n",
      "\n",
      "RP/0/RP0/CPU0:P1#show mpls forwarding\n",
      "Tue Apr 27 11:10:31.480 UTC\n",
      "Local  Outgoing    Prefix             Outgoing     Next Hop        Bytes       \n",
      "Label  Label       or ID              Interface                    Switched    \n",
      "------ ----------- ------------------ ------------ --------------- ------------\n",
      "24000  Unlabelled  20.0.0.0/24        FH0/0/0/0    10.10.10.1      0           \n",
      "       Unlabelled  20.0.0.0/24        FH0/0/0/0    10.10.10.2      0           \n",
      "24001  Unlabelled  20.0.1.0/24        FH0/0/0/0    10.10.10.1      0           \n",
      "       Unlabelled  20.0.1.0/24        FH0/0/0/0    10.10.10.2      0           \n",
      "24002  Unlabelled  20.0.2.0/24        FH0/0/0/0    10.10.10.1      0           \n",
      "       Unlabelled  20.0.2.0/24        FH0/0/0/0    10.10.10.2      0           \n",
      "24003  Unlabelled  20.0.3.0/24        FH0/0/0/0    10.10.10.1      0           \n",
      "       Unlabelled  20.0.3.0/24        FH0/0/0/0    10.10.10.2      0           \n",
      "24004  Unlabelled  20.0.4.0/24        FH0/0/0/0    10.10.10.1      0           \n",
      "       Unlabelled  20.0.4.0/24        FH0/0/0/0    10.10.10.2      0           \n",
      "24005  Unlabelled  20.0.5.0/24        FH0/0/0/0    10.10.10.1      0           \n",
      "       Unlabelled  20.0.5.0/24        FH0/0/0/0    10.10.10.2      0           \n",
      "24006  Unlabelled  20.0.6.0/24        FH0/0/0/0    10.10.10.1      0           \n",
      "       Unlabelled  20.0.6.0/24        FH0/0/0/0    10.10.10.2      0           \n",
      "24007  Unlabelled  20.0.7.0/24        FH0/0/0/0    10.10.10.1      0           \n",
      "       Unlabelled  20.0.7.0/24        FH0/0/0/0    10.10.10.2      0           \n",
      "24008  Unlabelled  20.0.8.0/24        FH0/0/0/0    10.10.10.1      0           \n",
      "       Unlabelled  20.0.8.0/24        FH0/0/0/0    10.10.10.2      0           \n",
      "24009  Unlabelled  20.0.9.0/24        FH0/0/0/0    10.10.10.1      0           \n",
      "       Unlabelled  20.0.9.0/24        FH0/0/0/0    10.10.10.2      0           \n",
      "RP/0/RP0/CPU0:P1#\n"
     ]
    }
   ],
   "source": [
    "loginp1.write(('''\n",
    "show mpls forwarding\n",
    "''').encode('ascii'))\n",
    "line = loginp1.read_until(b'/r/n',2)\n",
    "print(\"***** VIEW FROM TELNET CONSOLE *****\")\n",
    "print(line.decode())"
   ]
  },
  {
   "cell_type": "markdown",
   "metadata": {},
   "source": [
    " This showcases a SWAP entry created by the client. This entry will receive any packet with incoming-label=34000, swap it with label=10065 and forward it to the nexthop interface FourHundEthernet0/0/0/1 and nexthop address=12.1.1.20.\n",
    "\n",
    "Of course, you get to play with the usual mpls label operations like : PUSH, POP_AND_FORWARD, POP_AND_LOOKUP_IPV4 and POP_AND_LOOKUP_IPV6 to create ILM entries based on your use case."
   ]
  },
  {
   "cell_type": "code",
   "execution_count": 38,
   "metadata": {},
   "outputs": [],
   "source": [
    "# close our telnet\n",
    "loginp1.close()"
   ]
  },
  {
   "cell_type": "code",
   "execution_count": 39,
   "metadata": {},
   "outputs": [
    {
     "name": "stdout",
     "output_type": "stream",
     "text": [
      "/home/vxr/notebooks/Put-Technology-to-Work/ServiceLayer\n"
     ]
    }
   ],
   "source": [
    "cd ../../../../../"
   ]
  },
  {
   "cell_type": "code",
   "execution_count": 40,
   "metadata": {},
   "outputs": [
    {
     "name": "stdout",
     "output_type": "stream",
     "text": [
      "/home/vxr/notebooks/Put-Technology-to-Work/ServiceLayer\n",
      "env: https_proxy=http://proxy.esl.cisco.com:80/\n"
     ]
    }
   ],
   "source": [
    "# Delete downloaded git repository\n",
    "!pwd\n",
    "!rm -rf service-layer-objmodel\n",
    "%set_env https_proxy=http://proxy.esl.cisco.com:80/"
   ]
  },
  {
   "cell_type": "code",
   "execution_count": 41,
   "metadata": {},
   "outputs": [
    {
     "name": "stderr",
     "output_type": "stream",
     "text": [
      "INFO:pyvxr.vxr:Stopping sim on host localhost (dir /nobackup/vxr/pyvxr/10kxy79358)\n",
      "INFO:pyvxr.sim:Stopping previous simulation (if any)\n",
      "INFO:pyvxr.vxr:Cleaning sim on host localhost (dir /nobackup/vxr/pyvxr/10kxy79358)\n",
      "INFO:pyvxr.sim:Stopping previous simulation (if any)\n",
      "INFO:pyvxr.sim:Cleaning previous simulation (if any)\n"
     ]
    }
   ],
   "source": [
    "# Close the sim\n",
    "sim.stop()\n",
    "sim.clean()"
   ]
  },
  {
   "cell_type": "code",
   "execution_count": 42,
   "metadata": {},
   "outputs": [],
   "source": [
    "# Clean up sim scratch space\n",
    "shutil.rmtree(sim_dir)"
   ]
  },
  {
   "cell_type": "code",
   "execution_count": null,
   "metadata": {},
   "outputs": [],
   "source": []
  }
 ],
 "metadata": {
  "kernelspec": {
   "display_name": "Python 3",
   "language": "python",
   "name": "python3"
  },
  "language_info": {
   "codemirror_mode": {
    "name": "ipython",
    "version": 3
   },
   "file_extension": ".py",
   "mimetype": "text/x-python",
   "name": "python",
   "nbconvert_exporter": "python",
   "pygments_lexer": "ipython3",
   "version": "3.8.8"
  }
 },
 "nbformat": 4,
 "nbformat_minor": 4
}
