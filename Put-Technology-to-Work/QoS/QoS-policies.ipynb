{
 "cells": [
  {
   "cell_type": "markdown",
   "metadata": {},
   "source": [
    "# QoS, to make Networks Dependable\n",
    "<sup> <b>Author:</b> Sarah Samuel (sasamuel@cisco.com) <b>Inputs:</b> Vineet Upendra (vupendra@cisco.com) </sup>"
   ]
  },
  {
   "cell_type": "markdown",
   "metadata": {},
   "source": [
    "## What is Quality of Service?"
   ]
  },
  {
   "cell_type": "markdown",
   "metadata": {},
   "source": [
    "Quality of Service (QoS) is the technique of prioritizing traffic flows and providing preferential forwarding for higher-priority packets. The fundamental reason to implement QoS in your network is to provide guaranteed end-to-end traffic forwarding."
   ]
  },
  {
   "cell_type": "markdown",
   "metadata": {},
   "source": [
    "Modular QoS provides features that ensure better and more predictable network service by:\n",
    "* supporting bandwidth allocation\n",
    "* improving loss characteristics\n",
    "* avoiding and managing network congestion\n",
    "* metering network traffic\n",
    "* setting traffic flow priorities across the network.\n",
    "\n",
    "This notebook shows you how you can configure QoS on the network with various examples."
   ]
  },
  {
   "cell_type": "markdown",
   "metadata": {},
   "source": [
    "NETWORK TOPOLOGY:\n",
    "![Topology](QoS-topo.png)"
   ]
  },
  {
   "cell_type": "markdown",
   "metadata": {},
   "source": [
    "## Before You Begin"
   ]
  },
  {
   "cell_type": "markdown",
   "metadata": {},
   "source": [
    "Before you begin to configure QoS on the simulator, ensure to complete the following prerequisites.\n",
    "* [Set up simulator](#step1)\n",
    "* [Add the base configuration](#step2)\n",
    "* [Design the virtual router topology](#step3)\n",
    "* [Deploy the configurations](#step4)\n"
   ]
  },
  {
   "cell_type": "markdown",
   "metadata": {},
   "source": [
    "## QoS Configurations"
   ]
  },
  {
   "cell_type": "markdown",
   "metadata": {},
   "source": [
    "After the simulated topology is up and running with the base configurations, we apply the QoS configurations in the below sections:\n",
    "* [Create a class-map](#step5)\n",
    "* [Create a policy-map](#step6)\n",
    "* [Attach the traffic policy to an interface](#step7)\n",
    "* [Verification of the traffic policy](#step8)\n",
    "* [Example 1: IP Precedence Marking Configuration](#step9)\n",
    "* [Example 2: IP DSCP Marking Configuration](#step21)\n",
    "* [Example 3: QoS Group Marking Configuration](#step10)\n",
    "* [Example 4: MPLS Experimental Bit Imposition Marking Configuration](#step12)\n",
    "* [Example 5: MPLS Experimental Topmost Marking Configuration](#step13)"
   ]
  },
  {
   "cell_type": "markdown",
   "metadata": {},
   "source": [
    "### <a name=\"step1\"></a>Set up Simulator\n"
   ]
  },
  {
   "cell_type": "markdown",
   "metadata": {},
   "source": [
    ">First, you'll have to set up the simulator to build your network. The following sets up our python enviroment and the simulator object."
   ]
  },
  {
   "cell_type": "code",
   "execution_count": 1,
   "metadata": {},
   "outputs": [
    {
     "name": "stderr",
     "output_type": "stream",
     "text": [
      "INFO:pyvxr.vxr:v1.1.1 2021-06-17 13:03 output_dir:vxr.out\n",
      "INFO:pyvxr.vxr:ba15e2cc5422:/home/vxr/notebooks/Put-Technology-to-Work/QoS\n"
     ]
    },
    {
     "name": "stdout",
     "output_type": "stream",
     "text": [
      "3.8.10 (default, Jun  4 2021, 15:09:15) \n",
      "[GCC 7.5.0]\n"
     ]
    }
   ],
   "source": [
    "from pathlib import Path\n",
    "import sys\n",
    "import os\n",
    "import logging\n",
    "import getpass\n",
    "import string\n",
    "import random\n",
    "from pyvxr.vxr import Vxr\n",
    "print(sys.version)\n",
    "logging.basicConfig(level=logging.INFO)\n",
    "sim = Vxr()\n",
    "# Setting up scratch space for the simulation\n",
    "sim_dir = '/nobackup/' + getpass.getuser() + '/pyvxr/' + ''.join(random.choices(string.ascii_lowercase + string.digits, k=10))"
   ]
  },
  {
   "cell_type": "markdown",
   "metadata": {},
   "source": [
    "### <a name=\"step2\"></a>Add Base Router Configuration"
   ]
  },
  {
   "cell_type": "markdown",
   "metadata": {},
   "source": [
    ">This defines and starts up a small two router topology for our lab and a Linux server to use on the same LAN, with SSH to all of the routers.\n",
    "Takes a minute or five to start. "
   ]
  },
  {
   "cell_type": "code",
   "execution_count": 2,
   "metadata": {},
   "outputs": [],
   "source": [
    "ssh_config_str = \"\"\"\n",
    "ssh server v2\n",
    "ssh server netconf\n",
    "netconf-yang agent ssh\n",
    "\"\"\""
   ]
  },
  {
   "cell_type": "code",
   "execution_count": 3,
   "metadata": {},
   "outputs": [],
   "source": [
    "r1_config_str = \"\"\"\n",
    "ssh server v2\n",
    "ssh server netconf\n",
    "netconf-yang agent ssh\n",
    "!\n",
    "hostname R1\n",
    "!\n",
    "interface Loopback0\n",
    " ipv4 address 10.10.10.10 255.255.255.255\n",
    "!\n",
    "interface FourHundredGigE0/0/0/0\n",
    " description Connected_to_TREX\n",
    " mtu 9216\n",
    " ipv4 address 10.0.0.2 255.255.255.0\n",
    " no shutdown\n",
    "!\n",
    "interface FourHundredGigE0/0/0/1\n",
    " description Connected_to_R2\n",
    " mtu 9216\n",
    " ipv4 address 10.5.7.0 255.255.255.254\n",
    " ipv4 unreachables disable\n",
    " load-interval 30\n",
    " damp\n",
    " !\n",
    " carrier-delay up 150000 down 0\n",
    " load-interval 30\n",
    " no shutdown\n",
    "!\n",
    "router ospf 10\n",
    " router-id 10.10.10.10\n",
    " area 0\n",
    "  interface FourHundredGigE0/0/0/0\n",
    "  interface FourHundredGigE0/0/0/1\n",
    "  interface Loopback0\n",
    "  !\n",
    " !\n",
    "!\n",
    "mpls ldp\n",
    " router-id 10.10.10.10\n",
    " interface FourHundredGigE0/0/0/0\n",
    " interface FourHundredGigE0/0/0/1\n",
    " !\n",
    "!\n",
    " \"\"\""
   ]
  },
  {
   "cell_type": "code",
   "execution_count": 4,
   "metadata": {},
   "outputs": [],
   "source": [
    "r2_config_str = \"\"\"\n",
    "ssh server v2\n",
    "ssh server netconf\n",
    "netconf-yang agent ssh\n",
    "!\n",
    "hostname R2\n",
    "!\n",
    "interface Loopback0\n",
    " ipv4 address 10.10.10.20 255.255.255.255\n",
    "!\n",
    "interface FourHundredGigE0/0/0/0\n",
    " description Connected_to_TREX\n",
    " mtu 9216\n",
    " ipv4 address 10.1.1.2 255.255.255.0\n",
    " no shutdown\n",
    "!\n",
    "interface FourHundredGigE0/0/0/1\n",
    " description Connected_to_R1\n",
    " mtu 9216\n",
    " ipv4 address 10.5.7.1 255.255.255.254\n",
    " ipv4 unreachables disable\n",
    " load-interval 30\n",
    " dampening\n",
    " !\n",
    " carrier-delay up 150000 down 0\n",
    " load-interval 30\n",
    " no shutdown\n",
    "!\n",
    "router ospf 10\n",
    " router-id 10.10.10.20\n",
    " area 0\n",
    "  interface FourHundredGigE0/0/0/0\n",
    "  interface FourHundredGigE0/0/0/1\n",
    "  interface Loopback0\n",
    "  !\n",
    " !\n",
    "!\n",
    "mpls ldp\n",
    " router-id 10.10.10.20\n",
    " interface FourHundredGigE0/0/0/0\n",
    " interface FourHundredGigE0/0/0/1\n",
    " !\n",
    "!\n",
    "\"\"\""
   ]
  },
  {
   "cell_type": "code",
   "execution_count": 5,
   "metadata": {},
   "outputs": [],
   "source": [
    "%%capture coutput\n",
    "# To view the cell-output, delete the line above\n",
    "\n",
    "# Installing pre-requisite modules\n",
    "!pip install jinja2\n",
    "!pip install pyats\n",
    "!pip install genie\n",
    "!pip install paramiko\n",
    "!pip install paramiko-expect"
   ]
  },
  {
   "cell_type": "markdown",
   "metadata": {},
   "source": [
    "### <a name=\"step3\"></a>Design Virtual Topology"
   ]
  },
  {
   "cell_type": "markdown",
   "metadata": {},
   "source": [
    ">This sets up a small two router topology (spitfire_f)."
   ]
  },
  {
   "cell_type": "code",
   "execution_count": 5,
   "metadata": {},
   "outputs": [],
   "source": [
    "sys.path.append(\"../../\")\n",
    "from image_version import *\n",
    "sys.path.append(\"..\")\n",
    "from trafficUtils.TrafficGenerator import generate_hipriority_traffic\n",
    "from trafficUtils.TrafficGenerator import get_ssh_cmd_server\n",
    "\n",
    "cfg = { 'simulation':\n",
    "         {'skip_auto_bringup': False,\n",
    "          'sim_dir': sim_dir,\n",
    "          'sim_host': 'localhost',\n",
    "          'sim_rel': '/opt/cisco/vxr2/latest',\n",
    "          'pyvxr_flags': {'port_file_timeout': 1200 }\n",
    "         },\n",
    "        'devices':\n",
    "        {'R1': {'platform':'spitfire_f-baked',\n",
    "                'xr_port_redir': [22, 830],\n",
    "                'data_ports': ['FourH0/0/0/0', 'FourH0/0/0/1', 'FourH0/0/0/2'],\n",
    "                'linecard_types': ['8201-sys'],\n",
    "                'xr_config' : r1_config_str,\n",
    "                'image': sim_image_global,\n",
    "                'vxr_sim_config': {\n",
    "                     'shelf': {\n",
    "                       'ConfigOvxr': ConfigOvxr_global,\n",
    "                       'ConfigEnableNgdp': ConfigEnableNgdp_global,\n",
    "                       'ConfigS1SdkVer': ConfigS1SdkVer_global,\n",
    "                       'ConfigS1NpsuiteVer': ConfigS1NpsuiteVer_global\n",
    "                     }\n",
    "                  }\n",
    "               },\n",
    "         'R2': {'platform':'spitfire_f-baked',\n",
    "                'xr_port_redir': [22, 830],\n",
    "                'data_ports': ['FourH0/0/0/0', 'FourH0/0/0/1', 'FourH0/0/0/2'],\n",
    "                'linecard_types': ['8201-sys'],\n",
    "                'xr_config' : r2_config_str,\n",
    "                'image': sim_image_global,\n",
    "                'vxr_sim_config': {\n",
    "                     'shelf': {\n",
    "                       'ConfigOvxr': ConfigOvxr_global,\n",
    "                       'ConfigEnableNgdp': ConfigEnableNgdp_global,\n",
    "                       'ConfigS1SdkVer': ConfigS1SdkVer_global,\n",
    "                       'ConfigS1NpsuiteVer': ConfigS1NpsuiteVer_global\n",
    "                     }\n",
    "                  }\n",
    "               },\n",
    "         'trex': {'platform':'linux',\n",
    "                  'xr_port_redir': [21, 22, 23, 50, 53, 80],\n",
    "                  'vcpu': 8,\n",
    "                  'memory': '5GB',\n",
    "                  'data_ports': ['eth1', 'eth2'],\n",
    "                  'image': '/opt/cisco/images/linux/centos7_serial.qcow2'\n",
    "                 }\n",
    "        },\n",
    "       'connections':\n",
    "           {'hubs':\n",
    "               {\n",
    "                'hub571':['R1.FourH0/0/0/1', 'R2.FourH0/0/0/1'],\n",
    "                'hub572':['trex.eth1', 'R1.FourH0/0/0/0'],\n",
    "                'hub573':['trex.eth2', 'R2.FourH0/0/0/0'] },\n",
    "           },\n",
    "      }\n",
    "\n",
    "\n"
   ]
  },
  {
   "cell_type": "markdown",
   "metadata": {},
   "source": [
    "### <a name=\"step4\"></a>Deploy Configuration"
   ]
  },
  {
   "cell_type": "markdown",
   "metadata": {},
   "source": [
    "> Bring up the topology. The bring up can be slow, 5 minutes+"
   ]
  },
  {
   "cell_type": "code",
   "execution_count": 6,
   "metadata": {},
   "outputs": [
    {
     "name": "stderr",
     "output_type": "stream",
     "text": [
      "INFO:pyvxr.vxr:Extracting vxr version from '/opt/cisco/vxr2/latest/setup.sh' file.\n",
      "INFO:pyvxr.vxr_session:Starting a local bash session for user:vxr\n"
     ]
    },
    {
     "name": "stdout",
     "output_type": "stream",
     "text": [
      "Simulation starting. Please wait for the Sim status message. This may take 3-10 minutes.\n"
     ]
    },
    {
     "name": "stderr",
     "output_type": "stream",
     "text": [
      "INFO:pyvxr.sim:Launch: sim_dir:/nobackup/vxr/pyvxr/wz9562s5gg sim_rel:/opt/cisco/vxr2/latest\n",
      "INFO:pyvxr.sim:Stopping previous simulation (if any)\n",
      "INFO:pyvxr.sim:Cleaning previous simulation (if any)\n",
      "INFO:pyvxr.sim:Starting vxr: 'sim --skiphomecheck -n '\n",
      "INFO:pyvxr.sim:Vxr up on host localhost\n",
      "INFO:pyvxr.vxr:Getting port vector files for:R1, R2, trex\n",
      "INFO:pyvxr.console:R2:wait for XR login prompt (console output captured in vxr.out/logs/console.R2.log)\n",
      "INFO:pyvxr.console:R1:wait for XR login prompt (console output captured in vxr.out/logs/console.R1.log)\n",
      "INFO:pyvxr.console:R1:entering new XR username 'cisco', password 'cisco123'\n",
      "INFO:pyvxr.console:R1:entering XR username 'cisco', password 'cisco123'\n",
      "INFO:pyvxr.bringup:R1:login successful\n",
      "INFO:pyvxr.bringup:R1:wait for IOS XR RUN state\n",
      "INFO:pyvxr.bringup:R1:run state RPs:1 (expected:1) LCs:0 (expected:0)\n",
      "INFO:pyvxr.bringup:R1:all nodes reached IOS XR RUN state\n",
      "INFO:pyvxr.console:R1:applying initial XR config (terminal width, etc)\n",
      "INFO:pyvxr.console:R1:waiting for ztp and cvac to complete\n",
      "INFO:pyvxr.console:R1:found ztp directory. Assuming ztp present\n",
      "INFO:pyvxr.console:R1:waiting for ztp to complete\n",
      "INFO:pyvxr.console:R1:ztp done\n",
      "INFO:pyvxr.console:R2:entering new XR username 'cisco', password 'cisco123'\n",
      "INFO:pyvxr.console:R2:entering XR username 'cisco', password 'cisco123'\n",
      "INFO:pyvxr.bringup:R2:login successful\n",
      "INFO:pyvxr.bringup:R2:wait for IOS XR RUN state\n",
      "INFO:pyvxr.bringup:R2:run state RPs:1 (expected:1) LCs:0 (expected:0)\n",
      "INFO:pyvxr.bringup:R2:all nodes reached IOS XR RUN state\n",
      "INFO:pyvxr.console:R2:applying initial XR config (terminal width, etc)\n",
      "INFO:pyvxr.console:R2:waiting for ztp and cvac to complete\n",
      "INFO:pyvxr.console:R2:found ztp directory. Assuming ztp present\n",
      "INFO:pyvxr.console:R2:waiting for ztp to complete\n",
      "INFO:pyvxr.console:R2:ztp done\n",
      "INFO:pyvxr.vxr:Setting up ssh tunnels on host 'localhost'\n",
      "INFO:pyvxr.ssh_tunnel:Configure mgmt interfaces before setting up ssh tunnels\n",
      "INFO:pyvxr.console:R1:need to configure mgmt interface MgmtEth0/RP0/CPU0/0\n",
      "INFO:pyvxr.console:R2:need to configure mgmt interface MgmtEth0/RP0/CPU0/0\n",
      "INFO:pyvxr.console:trex:login root/cisco123\n",
      "INFO:pyvxr.console:trex:sending return\n",
      "INFO:pyvxr.console:trex:entering linux username 'root'\n",
      "INFO:pyvxr.console:trex:entering linux password 'cisco123'\n",
      "INFO:pyvxr.console:trex:reached Linux prompt. Reseting console\n",
      "INFO:pyvxr.console:R1:mgmt interface configuration applied\n",
      "INFO:pyvxr.console:R2:mgmt interface configuration applied\n",
      "INFO:pyvxr.console:trex:mgmt interface up (ip:192.168.254.210)\n",
      "INFO:pyvxr.console:R1:mgmt interface up (ip:192.168.254.98)\n",
      "INFO:pyvxr.console:R2:mgmt interface up (ip:192.168.254.155)\n",
      "INFO:pyvxr.vxr_session:Starting a local bash session for user:vxr\n",
      "INFO:pyvxr.vxr_session:Starting a local bash session for user:vxr\n",
      "INFO:pyvxr.vxr_session:Starting a local bash session for user:vxr\n",
      "INFO:pyvxr.ssh_tunnel:R1:Setting up ssh tunnels for port(s) [22, 830]\n",
      "INFO:pyvxr.ssh_tunnel:R2:Setting up ssh tunnels for port(s) [22, 830]\n",
      "INFO:pyvxr.ssh_tunnel:trex:Setting up ssh tunnels for port(s) [21, 22, 23, 50, 53, 80]\n",
      "INFO:pyvxr.bringup:R1:applying XR config\n",
      "INFO:pyvxr.bringup:R2:applying XR config\n",
      "INFO:pyvxr.vxr:Sim up\n",
      "INFO:pyvxr.vxr:Getting sim status from localhost:/nobackup/vxr/pyvxr/wz9562s5gg\n"
     ]
    },
    {
     "name": "stdout",
     "output_type": "stream",
     "text": [
      "Sim status:  {'localhost': 'running'}\n"
     ]
    }
   ],
   "source": [
    "sim.no_image_copy=True\n",
    "if os.path.exists(sim_dir):\n",
    "    sim.clean()\n",
    "    print(\"Sim clean: Done\")\n",
    "print(\"Simulation starting. Please wait for the Sim status message. This may take 3-10 minutes.\")\n",
    "\n",
    "try:\n",
    "    sim.start(cfg)\n",
    "    status = sim.status()\n",
    "    print(\"Sim status: \", status)\n",
    "except Exception as err:\n",
    "    print(\"Sim launch failed (%s)\" % str(err))"
   ]
  },
  {
   "cell_type": "code",
   "execution_count": 11,
   "metadata": {},
   "outputs": [],
   "source": [
    "from genie import testbed\n",
    "from pyats.topology import loader\n",
    "\n",
    "# A helper function to populate the access details in the pyats yaml file \n",
    "def load_yaml_file(yaml_file, *routers):\n",
    "    import yaml\n",
    "    console_ports = sim.ports()\n",
    "    \n",
    "    y_file = open(yaml_file, 'r')\n",
    "    y_content = yaml.load(y_file, Loader=yaml.FullLoader)\n",
    "    y_file.close()\n",
    "    \n",
    "    for router in routers:\n",
    "        y_content['devices'][router]['connections']['cli']['ip'] = console_ports[router]['HostAgent']\n",
    "        y_content['devices'][router]['connections']['cli']['port'] = console_ports[router]['serial0']\n",
    "    \n",
    "    y_file = open(yaml_file, 'w')\n",
    "    yaml.dump(y_content, y_file)\n",
    "    y_file.close()\n",
    "    \n",
    "    tb = loader.load(yaml_file)\n",
    "    return tb\n"
   ]
  },
  {
   "cell_type": "code",
   "execution_count": 12,
   "metadata": {},
   "outputs": [],
   "source": [
    "tb = load_yaml_file(\"qos_tb1.yaml\", \"R1\", \"R2\")"
   ]
  },
  {
   "cell_type": "code",
   "execution_count": 13,
   "metadata": {},
   "outputs": [
    {
     "name": "stdout",
     "output_type": "stream",
     "text": [
      "\n",
      "2021-06-17 13:35:17,700: %UNICON-INFO: +++ R1 logfile /tmp/R1-cli-20210617T133517699.log +++\n",
      "\n",
      "2021-06-17 13:35:17,703: %UNICON-INFO: +++ Unicon plugin iosxr/spitfire +++\n",
      "Trying 172.17.0.2...\n",
      "Connected to 172.17.0.2.\n",
      "Escape character is '^]'.\n",
      "\n",
      "\n",
      "2021-06-17 13:35:17,736: %UNICON-INFO: +++ connection to spawn: telnet 172.17.0.2 38186, id: 140421348224112 +++\n",
      "\n",
      "2021-06-17 13:35:17,738: %UNICON-INFO: connection to R1\n",
      "\n",
      "RP/0/RP0/CPU0:R1#\n",
      "\n",
      "2021-06-17 13:35:18,330: %UNICON-INFO: +++ initializing handle +++\n",
      "\n",
      "2021-06-17 13:35:18,375: %UNICON-INFO: +++ R1 with alias 'cli': executing command 'term length 0' +++\n",
      "term length 0\n",
      "Thu Jun 17 13:35:17.851 UTC\n",
      "RP/0/RP0/CPU0:R1#\n",
      "\n",
      "2021-06-17 13:35:18,598: %UNICON-INFO: +++ R1 with alias 'cli': executing command 'term width 0' +++\n",
      "term width 0\n",
      "Thu Jun 17 13:35:18.064 UTC\n",
      "RP/0/RP0/CPU0:R1#\n",
      "\n",
      "2021-06-17 13:35:18,809: %UNICON-INFO: +++ R1 with alias 'cli': executing command 'show version' +++\n",
      "show version\n",
      "Thu Jun 17 13:35:18.278 UTC\n",
      "Cisco IOS XR Software, Version 7.3.1 LNT\n",
      "Copyright (c) 2013-2021 by Cisco Systems, Inc.\n",
      "\n",
      "Build Information:\n",
      " Built By     : ingunawa\n",
      " Built On     : Fri Feb 26 04:56:31 UTC 2021\n",
      " Build Host   : iox-ucs-020\n",
      " Workspace    : /auto/srcarchive17/prod/7.3.1/8000/ws\n",
      " Version      : 7.3.1\n",
      " Label        : 7.3.1\n",
      "\n",
      "cisco 8000 (VXR)\n",
      "cisco 8201 (VXR) processor with 32GB of memory\n",
      "R1 uptime is 30 minutes\n",
      "Cisco 8201 1RU Chassis\n",
      "\n",
      "RP/0/RP0/CPU0:R1#\n",
      "\n",
      "2021-06-17 13:35:19,061: %UNICON-INFO: +++ R1 with alias 'cli': executing command 'bash cat /etc/bake-info.txt' +++\n",
      "bash cat /etc/bake-info.txt\n",
      "Thu Jun 17 13:35:18.530 UTC\n",
      "### XR Information\n",
      "\n",
      "User = ingunawa\n",
      "Host = iox-ucs-020\n",
      "Workspace = /auto/srcarchive17/prod/7.3.1/8000/ws\n",
      "Built on: Thu Feb 25 20:47:29 PST 2021\n",
      "Lineup = r73x.lu%EFR-00000416324\n",
      "XR version = 7.3.1-LNT\n",
      "\n",
      "RP/0/RP0/CPU0:R1#\n",
      "\n",
      "2021-06-17 13:35:19,430: %UNICON-INFO: +++ R1 with alias 'cli': executing command 'bash cat /etc/build-info.txt' +++\n",
      "bash cat /etc/build-info.txt\n",
      "Thu Jun 17 13:35:18.897 UTC\n",
      "### XR Information\n",
      "\n",
      "User = ingunawa\n",
      "Host = iox-ucs-020\n",
      "Workspace = /auto/srcarchive17/prod/7.3.1/8000/ws\n",
      "Lineup = r73x.lu%EFR-00000416324\n",
      "XR version = 7.3.1\n",
      "\n",
      "### Leaba Information\n",
      "\n",
      "Build By    : pkerharo\n",
      "Build On    : Fri Feb 12 02:25:48 UTC 2021\n",
      "Build Host  : esxi-125-rrr32\n",
      "Workspace   : /auto/vxr1/sf_sw_artifacts/1.35.2.7/sdk_ads\n",
      "SVN version : 1.35.2.7\n",
      "\n",
      "RP/0/RP0/CPU0:R1#\n",
      "Checking for config lock\n",
      "\n",
      "2021-06-17 13:35:19,799: %UNICON-INFO: +++ R1 with alias 'cli': executing command 'show configuration lock' +++\n",
      "show configuration lock\n",
      "Thu Jun 17 13:35:19.268 UTC\n",
      "RP/0/RP0/CPU0:R1#\n",
      "\n",
      "2021-06-17 13:35:20,019: %UNICON-INFO: +++ R1 with alias 'cli': executing command 'show ztp log | i 'SUCCESSFULLY'' +++\n",
      "show ztp log | i 'SUCCESSFULLY'\n",
      "Thu Jun 17 13:35:19.489 UTC\n",
      "2021-03-04 18:48:23,250 (8656) [INFO] : Exiting SUCCESSFULLY\n",
      "2021-06-17 13:07:02,628 (8253) [INFO] : Exiting SUCCESSFULLY\n",
      "RP/0/RP0/CPU0:R1#\n",
      "\n",
      "2021-06-17 13:35:20,298: %UNICON-INFO: +++ R1 with alias 'cli': configure +++\n",
      "configure terminal\n",
      "Thu Jun 17 13:35:19.807 UTC\n",
      "RP/0/RP0/CPU0:R1(config)#logging console disable\n",
      "RP/0/RP0/CPU0:R1(config)#line console\n",
      "RP/0/RP0/CPU0:R1(config-line)#exec-timeout 0 0\n",
      "RP/0/RP0/CPU0:R1(config-line)#absolute-timeout 0\n",
      "RP/0/RP0/CPU0:R1(config-line)#session-timeout 0\n",
      "RP/0/RP0/CPU0:R1(config-line)#line default\n",
      "RP/0/RP0/CPU0:R1(config-line)#exec-timeout 0 0\n",
      "RP/0/RP0/CPU0:R1(config-line)#absolute-timeout 0\n",
      "RP/0/RP0/CPU0:R1(config-line)#session-timeout 0\n",
      "RP/0/RP0/CPU0:R1(config-line)#commit\n",
      "Thu Jun 17 13:35:20.507 UTC\n",
      "RP/0/RP0/CPU0:R1(config-line)#end\n",
      "RP/0/RP0/CPU0:R1#\n"
     ]
    }
   ],
   "source": [
    "rtr1 = tb.devices['R1']\n",
    "# Connecting to the Telnet console of R1\n",
    "out = rtr1.connect()"
   ]
  },
  {
   "cell_type": "markdown",
   "metadata": {},
   "source": [
    "### Start the network traffic"
   ]
  },
  {
   "cell_type": "code",
   "execution_count": 15,
   "metadata": {},
   "outputs": [
    {
     "name": "stderr",
     "output_type": "stream",
     "text": [
      "INFO:paramiko.transport:Connected (version 2.0, client OpenSSH_7.4)\n",
      "INFO:paramiko.transport:Authentication (publickey) failed.\n",
      "INFO:paramiko.transport:Authentication (password) successful!\n",
      "INFO:paramiko.transport.sftp:[chan 0] Opened sftp connection (server version 3)\n",
      "INFO:paramiko.transport.sftp:[chan 0] sftp session closed.\n"
     ]
    },
    {
     "name": "stdout",
     "output_type": "stream",
     "text": [
      "Last login: Thu Jun 17 13:06:55 2021\n",
      "[root@localhost ~]# ifconfig eth1 10.0.0.1 netmask 255.255.255.0 up; ifconfig et h2 10.1.1.1 netmask 255.255.255.0 up\n",
      "[root@localhost ~]# cd /opt/cisco/trex/latest/\n",
      "[root@localhost latest]# ./t-rex-64 -i\n",
      "Starting Scapy server.......\u001b[32m Scapy server is started\u001b[0m\n",
      "Trying to bind to vfio-pci ...\n",
      "Trying to compile and bind to igb_uio ...\n",
      "ERROR: We don't have precompiled igb_uio.ko module for your kernel version.\n",
      "Will try compiling automatically...\n",
      "Success.\n",
      "\n",
      "/usr/bin/python3 dpdk_nic_bind.py --bind=igb_uio 0000:00:04.0 0000:00:05.0 \n",
      "The ports are bound/configured.\n",
      "Starting  TRex v2.89 please wait  ... \n",
      " set driver name net_virtio \n",
      " driver capability  :\n",
      " set dpdk queues mode to ONE_QUE \n",
      " Number of ports found: 2\n",
      "zmq publisher at: tcp://*:4500\n",
      " wait 1 sec "
     ]
    },
    {
     "name": "stderr",
     "output_type": "stream",
     "text": [
      "INFO:paramiko.transport:Connected (version 2.0, client OpenSSH_7.4)\n",
      "INFO:paramiko.transport:Authentication (publickey) failed.\n",
      "INFO:paramiko.transport:Authentication (password) successful!\n"
     ]
    },
    {
     "name": "stdout",
     "output_type": "stream",
     "text": [
      "Last login: Thu Jun 17 13:35:31 2021 from gateway\n",
      "[root@localhost ~]# cd /opt/cisco/trex/latest/\n",
      "[root@localhost latest]# ./trex-console\n",
      "start -f stl/dscp_traffic1.py -d 1h -m 100pps -p 0\n",
      "\n",
      "Using 'python3' as Python interpeter\n",
      "\n",
      "\n",
      "\u001b[1mConnecting to RPC server on localhost:4501                  \u001b[22m \u001b[1m\u001b[32m[SUCCESS]\u001b[39m\u001b[22m\n",
      "\n",
      "\n",
      "\u001b[1mConnecting to publisher server on localhost:4500            \u001b[22m \u001b[1m\u001b[32m[SUCCESS]\u001b[39m\u001b[22m\n",
      "\n",
      "\n",
      "\u001b[1mAcquiring ports [0, 1]:                                     \u001b[22m \u001b[1m\u001b[32m[SUCCESS]\u001b[39m\u001b[22m\n",
      "\n",
      "\n",
      "\u001b[4mServer Info:\u001b[24m\n",
      "\n",
      "Server version:   \u001b[1mv2.89 @ STL\u001b[22m\n",
      "Server mode:      \u001b[1mStateless\u001b[22m\n",
      "Server CPU:       \u001b[1m1 x VXR\u001b[22m\n",
      "Ports count:      \u001b[1m2 x 100.0Gbps @ Virtio network device\t\u001b[22m\n",
      "\n",
      "-=TRex Console v3.0=-\n",
      "\n",
      "Type 'help' or '?' for supported actions\n",
      "\n",
      "trex>start -f stl/dscp_traffic1.py -d 1h -m 100pps -p 0\n"
     ]
    }
   ],
   "source": [
    "sys.path.append(\"..\")\n",
    "\n",
    "# Import the function that generates high priority traffic\n",
    "from trafficUtils.TrafficGenerator import generate_hipriority_traffic\n",
    "ports = sim.ports()\n",
    "trexipaddress = str(ports['trex']['HostAgent'])\n",
    "trexport = str(ports['trex']['xr_redir22'])\n",
    "client1, client2, interact1, interact2 = generate_hipriority_traffic (trexipaddress, trexport)"
   ]
  },
  {
   "cell_type": "markdown",
   "metadata": {},
   "source": [
    "## <a name=\"step5\"></a>Create a class map"
   ]
  },
  {
   "cell_type": "markdown",
   "metadata": {},
   "source": [
    ">First, create the class-map by executing the below steps."
   ]
  },
  {
   "cell_type": "code",
   "execution_count": 16,
   "metadata": {},
   "outputs": [
    {
     "name": "stdout",
     "output_type": "stream",
     "text": [
      "\n",
      "2021-06-17 13:35:50,896: %UNICON-INFO: +++ R1 with alias 'cli': configure +++\n",
      "configure terminal\n",
      "RP/0/RP0/CPU0:R1(config)#\n",
      "RP/0/RP0/CPU0:R1(config)#class-map match-any class1\n",
      "RP/0/RP0/CPU0:R1(config-cmap)# match dscp ef\n",
      "RP/0/RP0/CPU0:R1(config-cmap)# end-class-map\n",
      "RP/0/RP0/CPU0:R1(config)#commit\n",
      "RP/0/RP0/CPU0:R1(config)#end\n",
      "RP/0/RP0/CPU0:R1#\n"
     ]
    }
   ],
   "source": [
    "# The below steps configures the class-map.\n",
    "out = rtr1.configure('''\n",
    "class-map match-any class1\n",
    " match dscp ef\n",
    " end-class-map\n",
    "''')"
   ]
  },
  {
   "cell_type": "markdown",
   "metadata": {},
   "source": [
    ">Verify the class-map with show commands."
   ]
  },
  {
   "cell_type": "code",
   "execution_count": 17,
   "metadata": {},
   "outputs": [
    {
     "name": "stdout",
     "output_type": "stream",
     "text": [
      "\n",
      "2021-06-17 13:35:54,632: %UNICON-INFO: +++ R1 with alias 'cli': executing command 'show class-map class1' +++\n",
      "show class-map class1\n",
      "1) ClassMap: class1    Type: qos \n",
      "    Referenced by 0 Policymaps \n",
      "\n",
      "RP/0/RP0/CPU0:R1#\n"
     ]
    }
   ],
   "source": [
    "out = rtr1.execute('show class-map class1')"
   ]
  },
  {
   "cell_type": "markdown",
   "metadata": {},
   "source": [
    "## <a name=\"step6\"></a>Create a policy-map"
   ]
  },
  {
   "cell_type": "code",
   "execution_count": 18,
   "metadata": {},
   "outputs": [
    {
     "name": "stdout",
     "output_type": "stream",
     "text": [
      "\n",
      "2021-06-17 13:36:01,080: %UNICON-INFO: +++ R1 with alias 'cli': configure +++\n",
      "configure terminal\n",
      "RP/0/RP0/CPU0:R1(config)#\n",
      "RP/0/RP0/CPU0:R1(config)#policy-map policy1\n",
      "RP/0/RP0/CPU0:R1(config-pmap)# class class1\n",
      "RP/0/RP0/CPU0:R1(config-pmap-c)#  set qos-group 4\n",
      "RP/0/RP0/CPU0:R1(config-pmap-c)# class class-default \n",
      "RP/0/RP0/CPU0:R1(config-pmap-c)# end-policy-map\n",
      "RP/0/RP0/CPU0:R1(config)#commit\n",
      "RP/0/RP0/CPU0:R1(config)#end\n",
      "RP/0/RP0/CPU0:R1#\n"
     ]
    }
   ],
   "source": [
    "# This step configures the policy-map using the class-map created in the previous step.\n",
    "out = rtr1.configure('''\n",
    "policy-map policy1\n",
    " class class1\n",
    "  set qos-group 4\n",
    " class class-default \n",
    " end-policy-map\n",
    "''')"
   ]
  },
  {
   "cell_type": "markdown",
   "metadata": {},
   "source": [
    "> Verify the policy-map with show commands."
   ]
  },
  {
   "cell_type": "code",
   "execution_count": 55,
   "metadata": {},
   "outputs": [
    {
     "name": "stdout",
     "output_type": "stream",
     "text": [
      "\n",
      "2021-06-17 15:30:46,299: %UNICON-INFO: +++ R1 with alias 'cli': executing command 'show policy-map' +++\n",
      "show policy-map\n",
      "policy-map policy-qg\n",
      " class class3\n",
      "  set qos-group 1\n",
      " ! \n",
      " class class-default\n",
      " ! \n",
      " end-policy-map\n",
      "! \n",
      "policy-map policy1\n",
      " class class1\n",
      "  set qos-group 4\n",
      " ! \n",
      " class class-default\n",
      " ! \n",
      " end-policy-map\n",
      "! \n",
      "RP/0/RP0/CPU0:R1#\n"
     ]
    }
   ],
   "source": [
    "out = rtr1.execute('show policy-map policy1')"
   ]
  },
  {
   "cell_type": "markdown",
   "metadata": {},
   "source": [
    "## <a name=\"step7\"></a>Apply the traffic policy to an interface"
   ]
  },
  {
   "cell_type": "code",
   "execution_count": 53,
   "metadata": {},
   "outputs": [
    {
     "name": "stdout",
     "output_type": "stream",
     "text": [
      "\n",
      "2021-06-17 14:31:21,439: %UNICON-INFO: +++ R1 with alias 'cli': configure +++\n",
      "configure terminal\n",
      "RP/0/RP0/CPU0:R1(config)#\n",
      "RP/0/RP0/CPU0:R1(config)#interface FourHundredGigE0/0/0/0\n",
      "RP/0/RP0/CPU0:R1(config-if)# service-policy input policy1\n",
      "RP/0/RP0/CPU0:R1(config-if)#commit\n",
      "RP/0/RP0/CPU0:R1(config-if)#end\n",
      "RP/0/RP0/CPU0:R1#\n"
     ]
    }
   ],
   "source": [
    "# Applying traffic policy to an interface in ingress direction.\n",
    "# Note that policy can be applied on the interface in the ingress and egress direction.\n",
    "out = rtr1.configure('''\n",
    "interface FourHundredGigE0/0/0/0\n",
    " service-policy input policy1\n",
    "''')"
   ]
  },
  {
   "cell_type": "markdown",
   "metadata": {},
   "source": [
    "## <a name=\"step8\"></a>Verification of the traffic policy"
   ]
  },
  {
   "cell_type": "code",
   "execution_count": 20,
   "metadata": {},
   "outputs": [
    {
     "name": "stdout",
     "output_type": "stream",
     "text": [
      "\n",
      "2021-06-17 13:38:04,018: %UNICON-INFO: +++ R1 with alias 'cli': executing command 'show qos interface FourHundredGigE0/0/0/0 input' +++\n",
      "show qos interface FourHundredGigE0/0/0/0 input\n",
      "NOTE:- Configured values are displayed within parentheses\n",
      "Interface FourHundredGigE0/0/0/0 ifh 0xf000138  -- input policy\n",
      "NPU Id:                        0\n",
      "Total number of classes:       2\n",
      "Interface Bandwidth:           400000000 kbps\n",
      "Policy Name:                   policy1\n",
      "Accounting Type:               Layer1 (Include Layer 1 encapsulation and above)\n",
      "------------------------------------------------------------------------------\n",
      "Level1 Class                             =   class1\n",
      "New qos group                            =   4\n",
      "Policer not configured for this class\n",
      "\n",
      "Level1 Class                             =   class-default\n",
      "Policer not configured for this class\n",
      "RP/0/RP0/CPU0:R1#\n"
     ]
    }
   ],
   "source": [
    "# now display the policy applied on the interface.\n",
    "out = rtr1.execute('show qos interface FourHundredGigE0/0/0/0 input')"
   ]
  },
  {
   "cell_type": "code",
   "execution_count": 21,
   "metadata": {},
   "outputs": [
    {
     "name": "stdout",
     "output_type": "stream",
     "text": [
      "\n",
      "2021-06-17 13:38:06,582: %UNICON-INFO: +++ R1 with alias 'cli': executing command 'show interface FourHundredGigE0/0/0/0 accounting' +++\n",
      "show interface FourHundredGigE0/0/0/0 accounting\n",
      "FourHundredGigE0/0/0/0\n",
      "  Protocol              Pkts In         Chars In     Pkts Out        Chars Out\n",
      "  IPV4_UNICAST            14503                0            0                0\n",
      "  ARP                         4              240            2               84\n",
      "\n",
      "\n",
      "RP/0/RP0/CPU0:R1#\n",
      "\n",
      "2021-06-17 13:38:06,820: %UNICON-INFO: +++ R1 with alias 'cli': executing command 'show policy-map interface FourHundredGigE0/0/0/0 input' +++\n",
      "show policy-map interface FourHundredGigE0/0/0/0 input\n",
      "\n",
      "FourHundredGigE0/0/0/0 input: policy1\n",
      "\n",
      "Class class1\n",
      "  Classification statistics          (packets/bytes)     (rate - kbps)\n",
      "    Matched             :                8092/0                    0\n",
      "    Transmitted         :                8092/0                    0\n",
      "    Total Dropped       :                   0/0                    0\n",
      "Class class-default\n",
      "  Classification statistics          (packets/bytes)     (rate - kbps)\n",
      "    Matched             :                   0/0                    0\n",
      "    Transmitted         :                   0/0                    0\n",
      "    Total Dropped       :                   0/0                    0\n",
      "Policy Bag Stats time: 1623937050011  [Local Time: 06/17/21 13:37:30.011] \n",
      "RP/0/RP0/CPU0:R1#\n"
     ]
    }
   ],
   "source": [
    "# Check the traffic on the port\n",
    "out = rtr1.execute('show interface FourHundredGigE0/0/0/0 accounting')\n",
    "# Policy-map counter updates are v slow. To see the counters incrementing, replay this cell a few times \n",
    "out = rtr1.execute('show policy-map interface FourHundredGigE0/0/0/0 input')"
   ]
  },
  {
   "cell_type": "markdown",
   "metadata": {},
   "source": [
    "## <a name=\"step9\"></a>Example 1: IP Precedence Marking Configuration"
   ]
  },
  {
   "cell_type": "markdown",
   "metadata": {},
   "source": [
    "> In the previous sections, you have already configured an input service-policy on the input interface **FourHundredGigE0/0/0/0** to set the qos-group value to 4 for all incoming traffic packets which have the **DSCP** bits set to **EF** (Expedited Forwarding). \n",
    "\n",
    "> Play the next cell to configure an output service policy named **out-policy1** on the output interface **FourHundredGigE0/0/0/1**. This service-policy matches all the outgoing trafic packets that have qos-group value set to 4 and sets the IP precedence bit to 1 for the matched packets. "
   ]
  },
  {
   "cell_type": "code",
   "execution_count": 22,
   "metadata": {},
   "outputs": [
    {
     "name": "stdout",
     "output_type": "stream",
     "text": [
      "\n",
      "2021-06-17 13:38:28,755: %UNICON-INFO: +++ R1 with alias 'cli': configure +++\n",
      "configure terminal\n",
      "RP/0/RP0/CPU0:R1(config)#\n",
      "RP/0/RP0/CPU0:R1(config)#class-map match-any out-class1\n",
      "RP/0/RP0/CPU0:R1(config-cmap)# match qos-group 4\n",
      "RP/0/RP0/CPU0:R1(config-cmap)# end-class-map\n",
      "RP/0/RP0/CPU0:R1(config)#\n",
      "RP/0/RP0/CPU0:R1(config)#policy-map out-policy1\n",
      "RP/0/RP0/CPU0:R1(config-pmap)# class out-class1\n",
      "RP/0/RP0/CPU0:R1(config-pmap-c)#  set precedence 1\n",
      "RP/0/RP0/CPU0:R1(config-pmap-c)#\n",
      "RP/0/RP0/CPU0:R1(config-pmap-c)#interface FourHundredGigE0/0/0/1\n",
      "RP/0/RP0/CPU0:R1(config-if)# service-policy output out-policy1\n",
      "RP/0/RP0/CPU0:R1(config-if)#commit\n",
      "RP/0/RP0/CPU0:R1(config-if)#end\n",
      "RP/0/RP0/CPU0:R1#\n"
     ]
    }
   ],
   "source": [
    "out = rtr1.configure('''\n",
    "class-map match-any out-class1\n",
    " match qos-group 4\n",
    " end-class-map\n",
    "\n",
    "policy-map out-policy1\n",
    " class out-class1\n",
    "  set precedence 1\n",
    "\n",
    "interface FourHundredGigE0/0/0/1\n",
    " service-policy output out-policy1\n",
    "''')"
   ]
  },
  {
   "cell_type": "markdown",
   "metadata": {},
   "source": [
    "> The egress packets on interface **FourHundredGigE0/0/0/1**  matches the class-map **out-class1** in the service-policy **out-policy1**. You can view the policy-map details and counters by playing the next cell. Note that the policy-map counter updates are slow. To see the policy-map counters incrementing, replay this cell a few times"
   ]
  },
  {
   "cell_type": "code",
   "execution_count": 29,
   "metadata": {},
   "outputs": [
    {
     "name": "stdout",
     "output_type": "stream",
     "text": [
      "\n",
      "2021-06-17 13:39:30,187: %UNICON-INFO: +++ R1 with alias 'cli': executing command 'show qos interface FourHundredGigE0/0/0/1 output' +++\n",
      "show qos interface FourHundredGigE0/0/0/1 output\n",
      "NOTE:- Configured values are displayed within parentheses\n",
      "Interface FourHundredGigE0/0/0/1 ifh 0xf0001a0  -- output policy\n",
      "NPU Id:                        0\n",
      "Total number of classes:       2\n",
      "Interface Bandwidth:           400000000 kbps\n",
      "Policy Name:                   out-policy1\n",
      "VOQ Base:                      0\n",
      "Accounting Type:               Layer1 (Include Layer 1 encapsulation and above)\n",
      "VOQ Mode:                      8\n",
      "Shared Counter Mode:           1\n",
      "------------------------------------------------------------------------------\n",
      "Level1 Class                             =   out-class1\n",
      "New prec                                 =   1\n",
      "\n",
      "Level1 Class                             =   class-default\n",
      "RP/0/RP0/CPU0:R1#\n",
      "\n",
      "2021-06-17 13:39:30,637: %UNICON-INFO: +++ R1 with alias 'cli': executing command 'show interface FourHundredGigE0/0/0/1 accounting' +++\n",
      "show interface FourHundredGigE0/0/0/1 accounting\n",
      "FourHundredGigE0/0/0/1\n",
      "  Protocol              Pkts In         Chars In     Pkts Out        Chars Out\n",
      "  IPV4_UNICAST               79                0        22908            91632\n",
      "  ARP                         1               74            1               42\n",
      "\n",
      "\n",
      "RP/0/RP0/CPU0:R1#\n",
      "\n",
      "2021-06-17 13:39:30,876: %UNICON-INFO: +++ R1 with alias 'cli': executing command 'show policy-map interface FourHundredGigE0/0/0/1 output' +++\n",
      "show policy-map interface FourHundredGigE0/0/0/1 output\n",
      "\n",
      "FourHundredGigE0/0/0/1 output: out-policy1\n",
      "\n",
      "Class out-class1\n",
      "  Classification statistics          (packets/bytes)     (rate - kbps)\n",
      "    Matched             :                3077/12308                3\n",
      "    Transmitted         :                3077/12308                3\n",
      "    Total Dropped       :                   0/0                    0\n",
      "Class class-default\n",
      "  Classification statistics          (packets/bytes)     (rate - kbps)\n",
      "    Matched             :                   0/0                    0\n",
      "    Transmitted         :                   0/0                    0\n",
      "    Total Dropped       :                   0/0                    0\n",
      "Policy Bag Stats time: 1623937140055  [Local Time: 06/17/21 13:39:00.055] \n",
      "RP/0/RP0/CPU0:R1#\n"
     ]
    }
   ],
   "source": [
    "# now display the policy applied on the interface.\n",
    "out = rtr1.execute('show qos interface FourHundredGigE0/0/0/1 output')\n",
    "\n",
    "# Other useful show commands\n",
    "out = rtr1.execute('show interface FourHundredGigE0/0/0/1 accounting')\n",
    "# Policy-map counter updates are v slow. To see the counters incrementing, replay this cell a few times \n",
    "out = rtr1.execute('show policy-map interface FourHundredGigE0/0/0/1 output')\n"
   ]
  },
  {
   "cell_type": "code",
   "execution_count": 30,
   "metadata": {},
   "outputs": [
    {
     "name": "stdout",
     "output_type": "stream",
     "text": [
      "\n",
      "2021-06-17 13:39:35,396: %UNICON-INFO: +++ R1 with alias 'cli': executing command 'rollback configuration last 1' +++\n",
      "rollback configuration last 1\n",
      "\n",
      "Loading Rollback Changes.\n",
      "Loaded Rollback Changes in 1 sec \n",
      "Committing.\n",
      "5 items committed in 1 sec \n",
      "Updating.\n",
      "Updated Commit database in 1 sec \n",
      "Configuration successfully rolled back 1 commits.\n",
      "RP/0/RP0/CPU0:R1#\n"
     ]
    }
   ],
   "source": [
    "# Remove the previous commit in order to configure more policies.\n",
    "out = rtr1.execute('rollback configuration last 1')"
   ]
  },
  {
   "cell_type": "markdown",
   "metadata": {},
   "source": [
    "## <a name=\"step21\"></a>Example 2: IP DSCP Marking Configuration"
   ]
  },
  {
   "cell_type": "markdown",
   "metadata": {},
   "source": [
    "> Play the next cell to configure an output service policy named **policy-dscp** on the output interface **FourHundredGigE0/0/0/1**. This service-policy matches all the outgoing trafic packets that have qos-group value set to 4 and sets the IP DSCP value to 5 for the matched packets. "
   ]
  },
  {
   "cell_type": "code",
   "execution_count": 31,
   "metadata": {},
   "outputs": [
    {
     "name": "stdout",
     "output_type": "stream",
     "text": [
      "\n",
      "2021-06-17 13:40:04,211: %UNICON-INFO: +++ R1 with alias 'cli': configure +++\n",
      "configure terminal\n",
      "RP/0/RP0/CPU0:R1(config)#\n",
      "RP/0/RP0/CPU0:R1(config)#class-map match-any out-class1\n",
      "RP/0/RP0/CPU0:R1(config-cmap)# match qos-group 4\n",
      "RP/0/RP0/CPU0:R1(config-cmap)# end-class-map\n",
      "RP/0/RP0/CPU0:R1(config)#\n",
      "RP/0/RP0/CPU0:R1(config)#policy-map policy-dscp\n",
      "RP/0/RP0/CPU0:R1(config-pmap)# class out-class1\n",
      "RP/0/RP0/CPU0:R1(config-pmap-c)#  set dscp 5\n",
      "RP/0/RP0/CPU0:R1(config-pmap-c)# class class-default\n",
      "RP/0/RP0/CPU0:R1(config-pmap-c)# end-policy-map\n",
      "RP/0/RP0/CPU0:R1(config)#\n",
      "RP/0/RP0/CPU0:R1(config)#interface FourHundredGigE0/0/0/1\n",
      "RP/0/RP0/CPU0:R1(config-if)# service-policy output policy-dscp\n",
      "RP/0/RP0/CPU0:R1(config-if)#commit\n",
      "RP/0/RP0/CPU0:R1(config-if)#end\n",
      "RP/0/RP0/CPU0:R1#\n"
     ]
    }
   ],
   "source": [
    "out = rtr1.configure('''\n",
    "class-map match-any out-class1\n",
    " match qos-group 4\n",
    " end-class-map\n",
    "\n",
    "policy-map policy-dscp\n",
    " class out-class1\n",
    "  set dscp 5\n",
    " class class-default\n",
    " end-policy-map\n",
    "\n",
    "interface FourHundredGigE0/0/0/1\n",
    " service-policy output policy-dscp\n",
    "''')"
   ]
  },
  {
   "cell_type": "markdown",
   "metadata": {},
   "source": [
    "> The egress traffic packets on interface **FourHundredGigE0/0/0/1**  matches the class-map **out-class1** in the service-policy **policy-dscp**, because the input service-policy on the input interface ie **FourHundredGigE0/0/0/0** sets the qos-group value to 4 for the incoming packets."
   ]
  },
  {
   "cell_type": "code",
   "execution_count": 35,
   "metadata": {},
   "outputs": [
    {
     "name": "stdout",
     "output_type": "stream",
     "text": [
      "\n",
      "2021-06-17 13:41:02,775: %UNICON-INFO: +++ R1 with alias 'cli': executing command 'show qos interface FourHundredGigE0/0/0/1 output' +++\n",
      "show qos interface FourHundredGigE0/0/0/1 output\n",
      "NOTE:- Configured values are displayed within parentheses\n",
      "Interface FourHundredGigE0/0/0/1 ifh 0xf0001a0  -- output policy\n",
      "NPU Id:                        0\n",
      "Total number of classes:       2\n",
      "Interface Bandwidth:           400000000 kbps\n",
      "Policy Name:                   policy-dscp\n",
      "VOQ Base:                      0\n",
      "Accounting Type:               Layer1 (Include Layer 1 encapsulation and above)\n",
      "VOQ Mode:                      8\n",
      "Shared Counter Mode:           1\n",
      "------------------------------------------------------------------------------\n",
      "Level1 Class                             =   out-class1\n",
      "New dscp                                 =   5\n",
      "\n",
      "Level1 Class                             =   class-default\n",
      "RP/0/RP0/CPU0:R1#\n",
      "\n",
      "2021-06-17 13:41:03,012: %UNICON-INFO: +++ R1 with alias 'cli': executing command 'show interface FourHundredGigE0/0/0/1 accounting' +++\n",
      "show interface FourHundredGigE0/0/0/1 accounting\n",
      "FourHundredGigE0/0/0/1\n",
      "  Protocol              Pkts In         Chars In     Pkts Out        Chars Out\n",
      "  IPV4_UNICAST               83                0        32145           128580\n",
      "  ARP                         1               74            1               42\n",
      "\n",
      "\n",
      "RP/0/RP0/CPU0:R1#\n",
      "\n",
      "2021-06-17 13:41:03,258: %UNICON-INFO: +++ R1 with alias 'cli': executing command 'show policy-map interface FourHundredGigE0/0/0/1 output' +++\n",
      "show policy-map interface FourHundredGigE0/0/0/1 output\n",
      "\n",
      "FourHundredGigE0/0/0/1 output: policy-dscp\n",
      "\n",
      "Class out-class1\n",
      "  Classification statistics          (packets/bytes)     (rate - kbps)\n",
      "    Matched             :                2540/10160                0\n",
      "    Transmitted         :                2540/10160                0\n",
      "    Total Dropped       :                   0/0                    0\n",
      "Class class-default\n",
      "  Classification statistics          (packets/bytes)     (rate - kbps)\n",
      "    Matched             :                   0/0                    0\n",
      "    Transmitted         :                   0/0                    0\n",
      "    Total Dropped       :                   0/0                    0\n",
      "Policy Bag Stats time: 1623937240068  [Local Time: 06/17/21 13:40:40.068] \n",
      "RP/0/RP0/CPU0:R1#\n"
     ]
    }
   ],
   "source": [
    "# now display the policy applied on the interface.\n",
    "out = rtr1.execute('show qos interface FourHundredGigE0/0/0/1 output')\n",
    "\n",
    "# Other useful show commands\n",
    "out = rtr1.execute('show interface FourHundredGigE0/0/0/1 accounting')\n",
    "# Policy-map counter updates are v slow. To see the counters incrementing, replay this cell a few times \n",
    "out = rtr1.execute('show policy-map interface FourHundredGigE0/0/0/1 output')"
   ]
  },
  {
   "cell_type": "code",
   "execution_count": 36,
   "metadata": {},
   "outputs": [
    {
     "name": "stdout",
     "output_type": "stream",
     "text": [
      "\n",
      "2021-06-17 13:41:06,912: %UNICON-INFO: +++ R1 with alias 'cli': executing command 'rollback configuration last 1' +++\n",
      "rollback configuration last 1\n",
      "\n",
      "Loading Rollback Changes.\n",
      "Loaded Rollback Changes in 1 sec \n",
      "Committing.\n",
      "5 items committed in 1 sec (4)items/sec\n",
      "Updating.\n",
      "Updated Commit database in 1 sec \n",
      "Configuration successfully rolled back 1 commits.\n",
      "RP/0/RP0/CPU0:R1#\n"
     ]
    }
   ],
   "source": [
    "# Remove the previous commit in order to configure more policies.\n",
    "out = rtr1.execute('rollback configuration last 1')"
   ]
  },
  {
   "cell_type": "markdown",
   "metadata": {},
   "source": [
    "## <a name=\"step10\"></a>Example 3: QoS Group Marking Configuration"
   ]
  },
  {
   "cell_type": "markdown",
   "metadata": {},
   "source": [
    "> In this example, you will unconfigure the input service-policy **policy1** and then configure another input service policy named **policy-qg** on the interface **FourHundredGigE0/0/0/0**. The qos-group value is set to 1 for all incoming traffic packets that match **class3**. "
   ]
  },
  {
   "cell_type": "code",
   "execution_count": 38,
   "metadata": {},
   "outputs": [
    {
     "name": "stdout",
     "output_type": "stream",
     "text": [
      "\n",
      "2021-06-17 13:43:16,631: %UNICON-INFO: +++ R1 with alias 'cli': configure +++\n",
      "configure terminal\n",
      "RP/0/RP0/CPU0:R1(config)#\n",
      "RP/0/RP0/CPU0:R1(config)#class-map match-any class3\n",
      "RP/0/RP0/CPU0:R1(config-cmap)# match protocol ipv4\n",
      "RP/0/RP0/CPU0:R1(config-cmap)# match access-group ipv4 101\n",
      "RP/0/RP0/CPU0:R1(config-cmap)# end-class-map\n",
      "RP/0/RP0/CPU0:R1(config)#\n",
      "RP/0/RP0/CPU0:R1(config)#policy-map policy-qg\n",
      "RP/0/RP0/CPU0:R1(config-pmap)# class class3\n",
      "RP/0/RP0/CPU0:R1(config-pmap-c)#  set qos-group 1\n",
      "RP/0/RP0/CPU0:R1(config-pmap-c)#  end-policy-map\n",
      "RP/0/RP0/CPU0:R1(config)#\n",
      "RP/0/RP0/CPU0:R1(config)#interface FourHundredGigE0/0/0/0\n",
      "RP/0/RP0/CPU0:R1(config-if)# no service-policy input policy1\n",
      "RP/0/RP0/CPU0:R1(config-if)# service-policy input policy-qg\n",
      "RP/0/RP0/CPU0:R1(config-if)#commit\n",
      "RP/0/RP0/CPU0:R1(config-if)#end\n",
      "RP/0/RP0/CPU0:R1#\n"
     ]
    }
   ],
   "source": [
    "out = rtr1.configure('''\n",
    "class-map match-any class3\n",
    " match protocol ipv4\n",
    " match access-group ipv4 101\n",
    " end-class-map\n",
    "\n",
    "policy-map policy-qg\n",
    " class class3\n",
    "  set qos-group 1\n",
    "  end-policy-map\n",
    "\n",
    "interface FourHundredGigE0/0/0/0\n",
    " no service-policy input policy1\n",
    " service-policy input policy-qg\n",
    "''')"
   ]
  },
  {
   "cell_type": "code",
   "execution_count": 39,
   "metadata": {},
   "outputs": [
    {
     "name": "stdout",
     "output_type": "stream",
     "text": [
      "\n",
      "2021-06-17 13:44:19,438: %UNICON-INFO: +++ R1 with alias 'cli': executing command 'show qos interface FourHundredGigE0/0/0/0 input' +++\n",
      "show qos interface FourHundredGigE0/0/0/0 input\n",
      "NOTE:- Configured values are displayed within parentheses\n",
      "Interface FourHundredGigE0/0/0/0 ifh 0xf000138  -- input policy\n",
      "NPU Id:                        0\n",
      "Total number of classes:       2\n",
      "Interface Bandwidth:           400000000 kbps\n",
      "Policy Name:                   policy-qg\n",
      "Accounting Type:               Layer1 (Include Layer 1 encapsulation and above)\n",
      "------------------------------------------------------------------------------\n",
      "Level1 Class                             =   class3\n",
      "New qos group                            =   1\n",
      "Policer not configured for this class\n",
      "\n",
      "Level1 Class                             =   class-default\n",
      "Policer not configured for this class\n",
      "RP/0/RP0/CPU0:R1#\n",
      "\n",
      "2021-06-17 13:44:19,675: %UNICON-INFO: +++ R1 with alias 'cli': executing command 'show interface FourHundredGigE0/0/0/0 accounting' +++\n",
      "show interface FourHundredGigE0/0/0/0 accounting\n",
      "FourHundredGigE0/0/0/0\n",
      "  Protocol              Pkts In         Chars In     Pkts Out        Chars Out\n",
      "  IPV4_UNICAST            51811                0            0                0\n",
      "  ARP                         7              420            2               84\n",
      "\n",
      "\n",
      "RP/0/RP0/CPU0:R1#\n",
      "\n",
      "2021-06-17 13:44:19,905: %UNICON-INFO: +++ R1 with alias 'cli': executing command 'show policy-map interface FourHundredGigE0/0/0/0 input' +++\n",
      "show policy-map interface FourHundredGigE0/0/0/0 input\n",
      "\n",
      "FourHundredGigE0/0/0/0 input: policy-qg\n",
      "\n",
      "Class class3\n",
      "  Classification statistics          (packets/bytes)     (rate - kbps)\n",
      "    Matched             :                1275/0                    0\n",
      "    Transmitted         :                1275/0                    0\n",
      "    Total Dropped       :                   0/0                    0\n",
      "Class class-default\n",
      "  Classification statistics          (packets/bytes)     (rate - kbps)\n",
      "    Matched             :                   0/0                    0\n",
      "    Transmitted         :                   0/0                    0\n",
      "    Total Dropped       :                   0/0                    0\n",
      "Policy Bag Stats time: 1623937410012  [Local Time: 06/17/21 13:43:30.012] \n",
      "RP/0/RP0/CPU0:R1#\n"
     ]
    }
   ],
   "source": [
    "# now Display the policy applied on the interface.\n",
    "out = rtr1.execute('show qos interface FourHundredGigE0/0/0/0 input')\n",
    "\n",
    "# Other useful show commands\n",
    "out = rtr1.execute('show interface FourHundredGigE0/0/0/0 accounting')\n",
    "# Policy-map counter updates are v slow. To see the counters incrementing, replay this cell a few times \n",
    "out = rtr1.execute('show policy-map interface FourHundredGigE0/0/0/0 input')"
   ]
  },
  {
   "cell_type": "markdown",
   "metadata": {},
   "source": [
    "> Unconfigure the service-policy using the \"no\" form of the service-policy command instead of **rollback configuration**."
   ]
  },
  {
   "cell_type": "code",
   "execution_count": 40,
   "metadata": {},
   "outputs": [
    {
     "name": "stdout",
     "output_type": "stream",
     "text": [
      "\n",
      "2021-06-17 13:45:16,297: %UNICON-INFO: +++ R1 with alias 'cli': configure +++\n",
      "configure terminal\n",
      "RP/0/RP0/CPU0:R1(config)#\n",
      "RP/0/RP0/CPU0:R1(config)#interface FourHundredGigE0/0/0/0\n",
      "RP/0/RP0/CPU0:R1(config-if)#no service-policy input policy-qg\n",
      "RP/0/RP0/CPU0:R1(config-if)#commit\n",
      "RP/0/RP0/CPU0:R1(config-if)#end\n",
      "RP/0/RP0/CPU0:R1#\n"
     ]
    }
   ],
   "source": [
    "# Remove the policy-map using \"no\" of the command\n",
    "out = rtr1.configure('''\n",
    "interface FourHundredGigE0/0/0/0\n",
    "no service-policy input policy-qg\n",
    "''')"
   ]
  },
  {
   "cell_type": "markdown",
   "metadata": {},
   "source": [
    "## <a name=\"step12\"></a>Example 4: MPLS Experimental Bit Imposition Marking Configuration"
   ]
  },
  {
   "cell_type": "markdown",
   "metadata": {},
   "source": [
    ">In this example, you will configure an input service policy **policy-mex-imp**. This service policy is associated to a class-map **class3** through the use of the class command. This service-policy sets the MPLS EXP bits of the MPLS labels to 1 for the matched incoming packets."
   ]
  },
  {
   "cell_type": "code",
   "execution_count": 41,
   "metadata": {},
   "outputs": [
    {
     "name": "stdout",
     "output_type": "stream",
     "text": [
      "\n",
      "2021-06-17 13:46:04,818: %UNICON-INFO: +++ R1 with alias 'cli': configure +++\n",
      "configure terminal\n",
      "RP/0/RP0/CPU0:R1(config)#\n",
      "RP/0/RP0/CPU0:R1(config)#class-map match-any class3\n",
      "RP/0/RP0/CPU0:R1(config-cmap)# match protocol ipv4\n",
      "RP/0/RP0/CPU0:R1(config-cmap)# match access-group ipv4 101\n",
      "RP/0/RP0/CPU0:R1(config-cmap)# end-class-map\n",
      "RP/0/RP0/CPU0:R1(config)#\n",
      "RP/0/RP0/CPU0:R1(config)#policy-map policy-mex-imp\n",
      "RP/0/RP0/CPU0:R1(config-pmap)# class class3\n",
      "RP/0/RP0/CPU0:R1(config-pmap-c)#  set mpls exp imposition 1\n",
      "RP/0/RP0/CPU0:R1(config-pmap-c)#  end-policy-map\n",
      "RP/0/RP0/CPU0:R1(config)#\n",
      "RP/0/RP0/CPU0:R1(config)#interface FourHundredGigE0/0/0/0\n",
      "RP/0/RP0/CPU0:R1(config-if)# service-policy input policy-mex-imp\n",
      "RP/0/RP0/CPU0:R1(config-if)#commit\n",
      "RP/0/RP0/CPU0:R1(config-if)#end\n",
      "RP/0/RP0/CPU0:R1#\n"
     ]
    }
   ],
   "source": [
    "out = rtr1.configure('''\n",
    "class-map match-any class3\n",
    " match protocol ipv4\n",
    " match access-group ipv4 101\n",
    " end-class-map\n",
    "\n",
    "policy-map policy-mex-imp\n",
    " class class3\n",
    "  set mpls exp imposition 1\n",
    "  end-policy-map\n",
    "\n",
    "interface FourHundredGigE0/0/0/0\n",
    " service-policy input policy-mex-imp\n",
    "''')"
   ]
  },
  {
   "cell_type": "code",
   "execution_count": 45,
   "metadata": {},
   "outputs": [
    {
     "name": "stdout",
     "output_type": "stream",
     "text": [
      "\n",
      "2021-06-17 13:47:00,064: %UNICON-INFO: +++ R1 with alias 'cli': executing command 'show qos interface FourHundredGigE0/0/0/0 input' +++\n",
      "show qos interface FourHundredGigE0/0/0/0 input\n",
      "NOTE:- Configured values are displayed within parentheses\n",
      "Interface FourHundredGigE0/0/0/0 ifh 0xf000138  -- input policy\n",
      "NPU Id:                        0\n",
      "Total number of classes:       2\n",
      "Interface Bandwidth:           400000000 kbps\n",
      "Policy Name:                   policy-mex-imp\n",
      "Accounting Type:               Layer1 (Include Layer 1 encapsulation and above)\n",
      "------------------------------------------------------------------------------\n",
      "Level1 Class                             =   class3\n",
      "New imposition exp                       =   1\n",
      "Policer not configured for this class\n",
      "\n",
      "Level1 Class                             =   class-default\n",
      "Policer not configured for this class\n",
      "RP/0/RP0/CPU0:R1#\n",
      "\n",
      "2021-06-17 13:47:00,301: %UNICON-INFO: +++ R1 with alias 'cli': executing command 'show interface FourHundredGigE0/0/0/0 accounting' +++\n",
      "show interface FourHundredGigE0/0/0/0 accounting\n",
      "FourHundredGigE0/0/0/0\n",
      "  Protocol              Pkts In         Chars In     Pkts Out        Chars Out\n",
      "  IPV4_UNICAST            67880                0            0                0\n",
      "  ARP                         8              480            2               84\n",
      "\n",
      "\n",
      "RP/0/RP0/CPU0:R1#\n",
      "\n",
      "2021-06-17 13:47:00,613: %UNICON-INFO: +++ R1 with alias 'cli': executing command 'show policy-map interface FourHundredGigE0/0/0/0 input' +++\n",
      "show policy-map interface FourHundredGigE0/0/0/0 input\n",
      "\n",
      "FourHundredGigE0/0/0/0 input: policy-mex-imp\n",
      "\n",
      "Class class3\n",
      "  Classification statistics          (packets/bytes)     (rate - kbps)\n",
      "    Matched             :                2448/0                    0\n",
      "    Transmitted         :                2448/0                    0\n",
      "    Total Dropped       :                   0/0                    0\n",
      "Class class-default\n",
      "  Classification statistics          (packets/bytes)     (rate - kbps)\n",
      "    Matched             :                   0/0                    0\n",
      "    Transmitted         :                   0/0                    0\n",
      "    Total Dropped       :                   0/0                    0\n",
      "Policy Bag Stats time: 1623937590013  [Local Time: 06/17/21 13:46:30.013] \n",
      "RP/0/RP0/CPU0:R1#\n"
     ]
    }
   ],
   "source": [
    "# now display the policy applied on the interface.\n",
    "out = rtr1.execute('show qos interface FourHundredGigE0/0/0/0 input')\n",
    "\n",
    "# Other useful show commands\n",
    "out = rtr1.execute('show interface FourHundredGigE0/0/0/0 accounting')\n",
    "# Policy-map counter updates are v slow. To see the counters incrementing, replay this cell a few times \n",
    "out = rtr1.execute('show policy-map interface FourHundredGigE0/0/0/0 input')"
   ]
  },
  {
   "cell_type": "code",
   "execution_count": 46,
   "metadata": {},
   "outputs": [
    {
     "name": "stdout",
     "output_type": "stream",
     "text": [
      "\n",
      "2021-06-17 13:47:05,248: %UNICON-INFO: +++ R1 with alias 'cli': executing command 'rollback configuration last 1' +++\n",
      "rollback configuration last 1\n",
      "\n",
      "Loading Rollback Changes.\n",
      "Loaded Rollback Changes in 1 sec \n",
      "Committing.\n",
      "5 items committed in 1 sec (4)items/sec\n",
      "Updating.\n",
      "Updated Commit database in 1 sec \n",
      "Configuration successfully rolled back 1 commits.\n",
      "RP/0/RP0/CPU0:R1#\n"
     ]
    }
   ],
   "source": [
    "# Remove the previous commit in order to configure more policies.\n",
    "out = rtr1.execute('rollback configuration last 1')"
   ]
  },
  {
   "cell_type": "markdown",
   "metadata": {},
   "source": [
    "## <a name=\"step13\"></a>Example 5: MPLS Experimental Topmost Marking Configuration"
   ]
  },
  {
   "cell_type": "markdown",
   "metadata": {},
   "source": [
    "> Play this cell to configure a service policy **policy-mex-top**. This service policy is associated to a class map **class-mex-top** through the use of the class command, and then the service policy is applied in the output direction on interface **FourHundredGigE0/0/0/1**. The MPLS EXP bits on the topmost label are set to 1 for all matched traffic packets."
   ]
  },
  {
   "cell_type": "code",
   "execution_count": 47,
   "metadata": {},
   "outputs": [
    {
     "name": "stdout",
     "output_type": "stream",
     "text": [
      "\n",
      "2021-06-17 13:51:56,712: %UNICON-INFO: +++ R1 with alias 'cli': configure +++\n",
      "configure terminal\n",
      "RP/0/RP0/CPU0:R1(config)#\n",
      "RP/0/RP0/CPU0:R1(config)#class-map match-any class-mex-top\n",
      "RP/0/RP0/CPU0:R1(config-cmap)# match mpls exp topmost 1\n",
      "RP/0/RP0/CPU0:R1(config-cmap)# end-class-map\n",
      "RP/0/RP0/CPU0:R1(config)#\n",
      "RP/0/RP0/CPU0:R1(config)#policy-map policy-mex-top\n",
      "RP/0/RP0/CPU0:R1(config-pmap)# class class-mex-top\n",
      "RP/0/RP0/CPU0:R1(config-pmap-c)#  set mpls exp topmost 2\n",
      "RP/0/RP0/CPU0:R1(config-pmap-c)#  end-policy-map\n",
      "RP/0/RP0/CPU0:R1(config)#\n",
      "RP/0/RP0/CPU0:R1(config)#interface FourHundredGigE0/0/0/1\n",
      "RP/0/RP0/CPU0:R1(config-if)# service-policy output policy-mex-top\n",
      "RP/0/RP0/CPU0:R1(config-if)#commit\n",
      "RP/0/RP0/CPU0:R1(config-if)#end\n",
      "RP/0/RP0/CPU0:R1#\n"
     ]
    }
   ],
   "source": [
    "out = rtr1.configure('''\n",
    "class-map match-any class-mex-top\n",
    " match mpls exp topmost 1\n",
    " end-class-map\n",
    "\n",
    "policy-map policy-mex-top\n",
    " class class-mex-top\n",
    "  set mpls exp topmost 2\n",
    "  end-policy-map\n",
    "\n",
    "interface FourHundredGigE0/0/0/1\n",
    " service-policy output policy-mex-top\n",
    "''')"
   ]
  },
  {
   "cell_type": "code",
   "execution_count": 51,
   "metadata": {},
   "outputs": [
    {
     "name": "stdout",
     "output_type": "stream",
     "text": [
      "\n",
      "2021-06-17 13:54:14,566: %UNICON-INFO: +++ R1 with alias 'cli': executing command 'show qos interface FourHundredGigE0/0/0/1 output' +++\n",
      "show qos interface FourHundredGigE0/0/0/1 output\n",
      "NOTE:- Configured values are displayed within parentheses\n",
      "Interface FourHundredGigE0/0/0/1 ifh 0xf0001a0  -- output policy\n",
      "NPU Id:                        0\n",
      "Total number of classes:       2\n",
      "Interface Bandwidth:           400000000 kbps\n",
      "Policy Name:                   policy-mex-top\n",
      "VOQ Base:                      0\n",
      "Accounting Type:               Layer1 (Include Layer 1 encapsulation and above)\n",
      "VOQ Mode:                      8\n",
      "Shared Counter Mode:           1\n",
      "------------------------------------------------------------------------------\n",
      "Level1 Class                             =   class-mex-top\n",
      "New topmost exp                          =   2\n",
      "\n",
      "Level1 Class                             =   class-default\n",
      "RP/0/RP0/CPU0:R1#\n",
      "\n",
      "2021-06-17 13:54:14,800: %UNICON-INFO: +++ R1 with alias 'cli': executing command 'show interface FourHundredGigE0/0/0/1 accounting' +++\n",
      "show interface FourHundredGigE0/0/0/1 accounting\n",
      "FourHundredGigE0/0/0/1\n",
      "  Protocol              Pkts In         Chars In     Pkts Out        Chars Out\n",
      "  IPV4_UNICAST              113                0       111323           445292\n",
      "  ARP                         1               74            1               42\n",
      "\n",
      "\n",
      "RP/0/RP0/CPU0:R1#\n",
      "\n",
      "2021-06-17 13:54:15,050: %UNICON-INFO: +++ R1 with alias 'cli': executing command 'show policy-map interface FourHundredGigE0/0/0/1 output' +++\n",
      "show policy-map interface FourHundredGigE0/0/0/1 output\n",
      "\n",
      "FourHundredGigE0/0/0/1 output: policy-mex-top\n",
      "\n",
      "Class class-mex-top\n",
      "  Classification statistics          (packets/bytes)     (rate - kbps)\n",
      "    Matched             :                   0/0                    0\n",
      "    Transmitted         :                   0/0                    0\n",
      "    Total Dropped       :                   0/0                    0\n",
      "Class class-default\n",
      "  Classification statistics          (packets/bytes)     (rate - kbps)\n",
      "    Matched             :                9269/37076                3\n",
      "    Transmitted         :                9269/37076                3\n",
      "    Total Dropped       :                   0/0                    0\n",
      "Policy Bag Stats time: 1623938010014  [Local Time: 06/17/21 13:53:30.014] \n",
      "RP/0/RP0/CPU0:R1#\n"
     ]
    }
   ],
   "source": [
    "# now display the policy applied on the interface.\n",
    "out = rtr1.execute('show qos interface FourHundredGigE0/0/0/1 output')\n",
    "\n",
    "# Other useful show commands\n",
    "out = rtr1.execute('show interface FourHundredGigE0/0/0/1 accounting')\n",
    "# Policy-map counter updates are v slow. To see the counters incrementing, replay this cell a few times \n",
    "out = rtr1.execute('show policy-map interface FourHundredGigE0/0/0/1 output')"
   ]
  },
  {
   "cell_type": "code",
   "execution_count": 52,
   "metadata": {},
   "outputs": [
    {
     "name": "stdout",
     "output_type": "stream",
     "text": [
      "\n",
      "2021-06-17 13:54:18,968: %UNICON-INFO: +++ R1 with alias 'cli': executing command 'rollback configuration last 1' +++\n",
      "rollback configuration last 1\n",
      "\n",
      "Loading Rollback Changes.\n",
      "Loaded Rollback Changes in 1 sec \n",
      "Committing.\n",
      "5 items committed in 1 sec \n",
      "Updating.\n",
      "Updated Commit database in 1 sec \n",
      "Configuration successfully rolled back 1 commits.\n",
      "RP/0/RP0/CPU0:R1#\n"
     ]
    }
   ],
   "source": [
    "# Remove the previous commit in order to configure more policies.\n",
    "out = rtr1.execute('rollback configuration last 1')"
   ]
  },
  {
   "cell_type": "markdown",
   "metadata": {},
   "source": [
    ">Once you finished you can shutdown the topology and clean up."
   ]
  },
  {
   "cell_type": "code",
   "execution_count": 9,
   "metadata": {},
   "outputs": [
    {
     "name": "stderr",
     "output_type": "stream",
     "text": [
      "INFO:pyvxr.vxr:Stopping sim on host localhost (dir /nobackup/vxr/pyvxr/5v0n02yijx)\n",
      "INFO:pyvxr.sim:Stopping previous simulation (if any)\n",
      "INFO:pyvxr.vxr:Cleaning sim on host localhost (dir /nobackup/vxr/pyvxr/5v0n02yijx)\n",
      "INFO:pyvxr.sim:Stopping previous simulation (if any)\n",
      "INFO:pyvxr.sim:Cleaning previous simulation (if any)\n"
     ]
    }
   ],
   "source": [
    "# Close the sim\n",
    "sim.stop()\n",
    "sim.clean()"
   ]
  },
  {
   "cell_type": "code",
   "execution_count": 10,
   "metadata": {},
   "outputs": [],
   "source": [
    "# Clean up sim scratch space\n",
    "import shutil\n",
    "shutil.rmtree(sim_dir)"
   ]
  },
  {
   "cell_type": "code",
   "execution_count": null,
   "metadata": {},
   "outputs": [],
   "source": []
  }
 ],
 "metadata": {
  "kernelspec": {
   "display_name": "Python 3",
   "language": "python",
   "name": "python3"
  },
  "language_info": {
   "codemirror_mode": {
    "name": "ipython",
    "version": 3
   },
   "file_extension": ".py",
   "mimetype": "text/x-python",
   "name": "python",
   "nbconvert_exporter": "python",
   "pygments_lexer": "ipython3",
   "version": "3.8.10"
  }
 },
 "nbformat": 4,
 "nbformat_minor": 4
}
