{
 "cells": [
  {
   "cell_type": "markdown",
   "metadata": {},
   "source": [
    "# Type 6 Password Encryption for BGP in a Service-Provider Network"
   ]
  },
  {
   "cell_type": "markdown",
   "metadata": {},
   "source": [
    "You can use Type 6 password encryption to securely store plain text key strings for authenticating BGP, IP SLA, IS-IS, MACsec, OSPF, and RSVP sessions. \n",
    "\n",
    "Consider a 4 router SP setup. To authenticate BGP using Type 6 password encryption, you have to enable Type 6 function on each router, and enable BGP on each router. When BGP sessions are in Established state, it indicates that BGP is enabled through Type 6 encryption.\n",
    "To enable Type 6 password encryption for OSPF, IS-IS, or other protocols, refer the respective configuration guide. For MACsec authentication, refer the Configure MACsec chapter. "
   ]
  },
  {
   "cell_type": "markdown",
   "metadata": {},
   "source": [
    "![4-router-topology](4-router-topology-2.png)"
   ]
  },
  {
   "cell_type": "markdown",
   "metadata": {},
   "source": [
    "## Configuration Steps\n",
    "* [Set up emulator](#step1)"
   ]
  },
  {
   "cell_type": "markdown",
   "metadata": {},
   "source": [
    "## <a name=\"step1\"></a>Set up Emulator"
   ]
  },
  {
   "cell_type": "markdown",
   "metadata": {},
   "source": [
    ">In order to set up the emulator to build our network, you have to execute the cell below (by clicking the play button at the top left part of this notebook.) \n",
    "\n",
    ">In the cell below, the python module **Type6_four_routers** sets up the python enviroment and the simulated 4-router test bed along with the base configurations of IPv4 addresses, BGP configurations, Loopback interfaces, etc. After the import, the below code block initialises and brings up the emulator using **sim.init** and **sim.up** API calls.\n",
    "\n",
    ">The bring up can be slow, 30 minutes +.\n"
   ]
  },
  {
   "cell_type": "code",
   "execution_count": 1,
   "metadata": {},
   "outputs": [
    {
     "name": "stderr",
     "output_type": "stream",
     "text": [
      "INFO:pyvxr.vxr:v1.1.0 2021-04-23 06:03 output_dir:vxr.out\n",
      "INFO:pyvxr.vxr:b10e8f6b8c14:/home/vxr/notebooks/Put-Technology-to-Work/BGP-Type6-Password-Encryption\n",
      "WARNING:pyvxr.vxr:Config not specified or not found. Will attempt to release slurm resources if reserved\n",
      "INFO:pyvxr.vxr:Extracting vxr version from '/opt/cisco/vxr2/latest/setup.sh' file.\n",
      "INFO:pyvxr.vxr_session:Starting a local bash session for user:vxr\n"
     ]
    },
    {
     "name": "stdout",
     "output_type": "stream",
     "text": [
      "3.8.8 (default, Apr 13 2021, 19:58:26) \n",
      "[GCC 7.3.0]\n",
      "Sim clean: Done\n",
      "Simulation starting. Please wait for the Sim status message. This may take 3-10 minutes.\n"
     ]
    },
    {
     "name": "stderr",
     "output_type": "stream",
     "text": [
      "INFO:pyvxr.sim:Launch: sim_dir:/nobackup/vxr/pyvxr/drxsvguisb sim_rel:/opt/cisco/vxr2/latest\n",
      "INFO:pyvxr.sim:Stopping previous simulation (if any)\n",
      "INFO:pyvxr.sim:Cleaning previous simulation (if any)\n",
      "INFO:pyvxr.sim:Starting vxr: 'sim --skiphomecheck -n '\n",
      "INFO:pyvxr.sim:Vxr up on host localhost\n",
      "INFO:pyvxr.vxr:Getting port vector files for:rp1, rp2, rpe1, rpe2\n",
      "INFO:pyvxr.console:rp1:wait for XR login prompt (console output captured in vxr.out/logs/console.rp1.log)\n",
      "INFO:pyvxr.console:rp2:wait for XR login prompt (console output captured in vxr.out/logs/console.rp2.log)\n",
      "INFO:pyvxr.console:rpe1:wait for XR login prompt (console output captured in vxr.out/logs/console.rpe1.log)\n",
      "INFO:pyvxr.console:rpe2:wait for XR login prompt (console output captured in vxr.out/logs/console.rpe2.log)\n",
      "INFO:pyvxr.console:rpe1:entering new XR username 'cisco', password 'cisco123'\n",
      "INFO:pyvxr.console:rpe1:entering XR username 'cisco', password 'cisco123'\n",
      "INFO:pyvxr.bringup:rpe1:login successful\n",
      "INFO:pyvxr.bringup:rpe1:wait for IOS XR RUN state\n",
      "INFO:pyvxr.console:rpe2:entering new XR username 'cisco', password 'cisco123'\n",
      "INFO:pyvxr.bringup:rpe1:run state RPs:1 (expected:1) LCs:0 (expected:0)\n",
      "INFO:pyvxr.bringup:rpe1:all nodes reached IOS XR RUN state\n",
      "INFO:pyvxr.console:rpe1:applying initial XR config (terminal width, etc)\n",
      "INFO:pyvxr.console:rpe1:waiting for ztp and cvac to complete\n",
      "INFO:pyvxr.console:rpe1:found ztp directory. Assuming ztp present\n",
      "INFO:pyvxr.console:rpe1:waiting for ztp to complete\n",
      "INFO:pyvxr.console:rp1:entering new XR username 'cisco', password 'cisco123'\n",
      "INFO:pyvxr.console:rpe1:ztp done\n",
      "INFO:pyvxr.console:rpe2:entering XR username 'cisco', password 'cisco123'\n",
      "INFO:pyvxr.bringup:rpe2:login successful\n",
      "INFO:pyvxr.bringup:rpe2:wait for IOS XR RUN state\n",
      "INFO:pyvxr.console:rp1:entering XR username 'cisco', password 'cisco123'\n",
      "INFO:pyvxr.bringup:rpe2:run state RPs:1 (expected:1) LCs:0 (expected:0)\n",
      "INFO:pyvxr.bringup:rpe2:all nodes reached IOS XR RUN state\n",
      "INFO:pyvxr.console:rpe2:applying initial XR config (terminal width, etc)\n",
      "INFO:pyvxr.console:rpe2:waiting for ztp and cvac to complete\n",
      "INFO:pyvxr.console:rpe2:found ztp directory. Assuming ztp present\n",
      "INFO:pyvxr.console:rpe2:waiting for ztp to complete\n",
      "INFO:pyvxr.console:rpe2:ztp done\n",
      "INFO:pyvxr.bringup:rp1:login successful\n",
      "INFO:pyvxr.bringup:rp1:wait for IOS XR RUN state\n",
      "INFO:pyvxr.bringup:rp1:run state RPs:1 (expected:1) LCs:0 (expected:0)\n",
      "INFO:pyvxr.bringup:rp1:all nodes reached IOS XR RUN state\n",
      "INFO:pyvxr.console:rp1:applying initial XR config (terminal width, etc)\n",
      "INFO:pyvxr.console:rp1:waiting for ztp and cvac to complete\n",
      "INFO:pyvxr.console:rp1:found ztp directory. Assuming ztp present\n",
      "INFO:pyvxr.console:rp1:waiting for ztp to complete\n",
      "INFO:pyvxr.console:rp1:ztp done\n",
      "INFO:pyvxr.console:rp2:entering new XR username 'cisco', password 'cisco123'\n",
      "INFO:pyvxr.console:rp2:entering XR username 'cisco', password 'cisco123'\n",
      "INFO:pyvxr.bringup:rp2:login successful\n",
      "INFO:pyvxr.bringup:rp2:wait for IOS XR RUN state\n",
      "INFO:pyvxr.bringup:rp2:run state RPs:1 (expected:1) LCs:0 (expected:0)\n",
      "INFO:pyvxr.bringup:rp2:all nodes reached IOS XR RUN state\n",
      "INFO:pyvxr.console:rp2:applying initial XR config (terminal width, etc)\n",
      "INFO:pyvxr.console:rp2:waiting for ztp and cvac to complete\n",
      "INFO:pyvxr.console:rp2:found ztp directory. Assuming ztp present\n",
      "INFO:pyvxr.console:rp2:waiting for ztp to complete\n",
      "INFO:pyvxr.console:rp2:ztp done\n",
      "INFO:pyvxr.vxr:Setting up ssh tunnels on host 'localhost'\n",
      "INFO:pyvxr.ssh_tunnel:Configure mgmt interfaces before setting up ssh tunnels\n",
      "INFO:pyvxr.console:rpe2:need to configure mgmt interface MgmtEth0/RP0/CPU0/0\n",
      "INFO:pyvxr.console:rp2:need to configure mgmt interface MgmtEth0/RP0/CPU0/0\n",
      "INFO:pyvxr.console:rpe1:need to configure mgmt interface MgmtEth0/RP0/CPU0/0\n",
      "INFO:pyvxr.console:rp1:need to configure mgmt interface MgmtEth0/RP0/CPU0/0\n",
      "INFO:pyvxr.console:rpe2:mgmt interface configuration applied\n",
      "INFO:pyvxr.console:rp1:mgmt interface configuration applied\n",
      "INFO:pyvxr.console:rpe1:mgmt interface configuration applied\n",
      "INFO:pyvxr.console:rp2:mgmt interface configuration applied\n",
      "INFO:pyvxr.console:rpe2:mgmt interface up (ip:192.168.254.215)\n",
      "INFO:pyvxr.console:rpe1:mgmt interface up (ip:192.168.254.221)\n",
      "INFO:pyvxr.console:rp1:mgmt interface up (ip:192.168.254.5)\n",
      "INFO:pyvxr.console:rp2:mgmt interface up (ip:192.168.254.7)\n",
      "INFO:pyvxr.vxr_session:Starting a local bash session for user:vxr\n",
      "INFO:pyvxr.vxr_session:Starting a local bash session for user:vxr\n",
      "INFO:pyvxr.vxr_session:Starting a local bash session for user:vxr\n",
      "INFO:pyvxr.vxr_session:Starting a local bash session for user:vxr\n",
      "INFO:pyvxr.ssh_tunnel:rp1:Setting up ssh tunnels for port(s) [22, 830]\n",
      "INFO:pyvxr.ssh_tunnel:rp2:Setting up ssh tunnels for port(s) [22, 830]\n",
      "INFO:pyvxr.ssh_tunnel:rpe1:Setting up ssh tunnels for port(s) [22, 830]\n",
      "INFO:pyvxr.ssh_tunnel:rpe2:Setting up ssh tunnels for port(s) [22, 830]\n",
      "INFO:pyvxr.bringup:rp1:applying XR config\n",
      "INFO:pyvxr.bringup:rp2:applying XR config\n",
      "INFO:pyvxr.bringup:rpe1:applying XR config\n",
      "INFO:pyvxr.bringup:rpe2:applying XR config\n",
      "INFO:pyvxr.vxr:Sim up\n",
      "INFO:pyvxr.vxr:Getting sim status from localhost:/nobackup/vxr/pyvxr/drxsvguisb\n"
     ]
    },
    {
     "name": "stdout",
     "output_type": "stream",
     "text": [
      "Sim status:  {'localhost': 'running'}\n"
     ]
    }
   ],
   "source": [
    "from Type6_four_routers import *\n",
    "sim = Vxr()\n",
    "sim.no_image_copy=True\n",
    "sim.clean()\n",
    "print(\"Sim clean: Done\")\n",
    "print(\"Simulation starting. Please wait for the Sim status message. This may take 3-10 minutes.\")\n",
    "\n",
    "try:\n",
    "    sim.start(cfg)\n",
    "    status = sim.status()\n",
    "    print(\"Sim status: \", status)\n",
    "except Exception as err:\n",
    "    print(\"Sim launch failed (%s)\" % str(err))"
   ]
  },
  {
   "cell_type": "markdown",
   "metadata": {},
   "source": [
    ">At this point, console access to the router is available. Optionally, you can access the simulated router consoles directly from your laptop  through ssh."
   ]
  },
  {
   "cell_type": "code",
   "execution_count": 2,
   "metadata": {},
   "outputs": [
    {
     "name": "stdout",
     "output_type": "stream",
     "text": [
      "Consoles can be reached by:\n",
      "telnet 172.17.0.2 43713 \n",
      " telnet 172.17.0.2 35363 \n",
      " telnet 172.17.0.2 42706 \n",
      " telnet 172.17.0.2 45590\n",
      "or better:\n",
      "ssh cisco@172.17.0.2 -p62600 \n",
      " ssh cisco@172.17.0.2 -p64708 \n",
      " ssh cisco@172.17.0.2 -p62956 \n",
      " ssh cisco@172.17.0.2 -p62192\n",
      "The password is cisco123\n"
     ]
    }
   ],
   "source": [
    "print('Consoles can be reached by:')\n",
    "print(get_telnet_cmd(sim, 'rpe1'), '\\n', get_telnet_cmd(sim, 'rp1'), '\\n', get_telnet_cmd(sim, 'rp2'), '\\n', get_telnet_cmd(sim, 'rpe2'))\n",
    "print('or better:')\n",
    "print(get_ssh_cmd(sim, 'rpe1'), '\\n', get_ssh_cmd(sim, 'rp1'), '\\n', get_ssh_cmd(sim, 'rp2'), '\\n', get_ssh_cmd(sim, 'rpe2'))\n",
    "print('The password is cisco123')"
   ]
  },
  {
   "cell_type": "markdown",
   "metadata": {},
   "source": [
    ">Obtain the telnet addresses to login to the routers."
   ]
  },
  {
   "cell_type": "code",
   "execution_count": 3,
   "metadata": {},
   "outputs": [],
   "source": [
    "console_ports = sim.ports()\n",
    "loginpe1 = telnetlib.Telnet(str(console_ports['rpe1']['HostAgent']) , str(console_ports['rpe1']['serial0']))\n",
    "loginp1 = telnetlib.Telnet(str(console_ports['rp1']['HostAgent']) , str(console_ports['rp1']['serial0']))\n",
    "loginp2 = telnetlib.Telnet(str(console_ports['rp2']['HostAgent']) , str(console_ports['rp2']['serial0']))\n",
    "loginpe2 = telnetlib.Telnet(str(console_ports['rpe2']['HostAgent']) , str(console_ports['rpe2']['serial0']))"
   ]
  },
  {
   "cell_type": "markdown",
   "metadata": {},
   "source": [
    "BGP sessions"
   ]
  },
  {
   "cell_type": "code",
   "execution_count": 4,
   "metadata": {},
   "outputs": [
    {
     "name": "stdout",
     "output_type": "stream",
     "text": [
      "\n",
      "RP/0/RP0/CPU0:PE1#show bgp sessions\n",
      "Fri Apr 23 06:07:59.268 UTC\n",
      "\n",
      "Neighbor        VRF                   Spk    AS   InQ  OutQ  NBRState     NSRState\n",
      "10.1.1.11       default                 0 65537     0     0  Established  None\n",
      "10.20.20.20     default                 0 65537     0     0  Idle         None\n",
      "RP/0/RP0/CPU0:PE1#\n"
     ]
    }
   ],
   "source": [
    "loginpe1.write(('''\n",
    "show bgp sessions\n",
    "''').encode('ascii'))\n",
    "line = loginpe1.read_until(b'/r/n',2)\n",
    "print(line.decode())"
   ]
  },
  {
   "cell_type": "code",
   "execution_count": 5,
   "metadata": {},
   "outputs": [
    {
     "name": "stdout",
     "output_type": "stream",
     "text": [
      "\n",
      "RP/0/RP0/CPU0:P1#show bgp sessions\n",
      "Fri Apr 23 06:08:02.919 UTC\n",
      "\n",
      "Neighbor        VRF                   Spk    AS   InQ  OutQ  NBRState     NSRState\n",
      "10.1.1.1        default                 0 65537     0     0  Established  None\n",
      "10.2.2.1        default                 0 65537     0     0  Established  None\n",
      "10.10.10.10     default                 0 65537     0     0  Idle         None\n",
      "10.30.30.30     default                 0 65537     0     0  Idle         None\n",
      "RP/0/RP0/CPU0:P1#\n"
     ]
    }
   ],
   "source": [
    "loginp1.write(('''\n",
    "show bgp sessions\n",
    "''').encode('ascii'))\n",
    "line = loginp1.read_until(b'/r/n',2)\n",
    "print(line.decode())"
   ]
  },
  {
   "cell_type": "code",
   "execution_count": 6,
   "metadata": {},
   "outputs": [
    {
     "name": "stdout",
     "output_type": "stream",
     "text": [
      "\n",
      "RP/0/RP0/CPU0:P2#show bgp sessions\n",
      "Fri Apr 23 06:08:05.813 UTC\n",
      "\n",
      "Neighbor        VRF                   Spk    AS   InQ  OutQ  NBRState     NSRState\n",
      "10.2.2.11       default                 0 65537     0     0  Established  None\n",
      "10.3.3.11       default                 0 65537     0     0  Established  None\n",
      "10.20.20.20     default                 0 65537     0     0  Idle         None\n",
      "10.40.40.40     default                 0 65537     0     0  Idle         None\n",
      "RP/0/RP0/CPU0:P2#\n"
     ]
    }
   ],
   "source": [
    "loginp2.write(('''\n",
    "show bgp sessions\n",
    "''').encode('ascii'))\n",
    "line = loginp2.read_until(b'/r/n',2)\n",
    "print(line.decode())"
   ]
  },
  {
   "cell_type": "code",
   "execution_count": 7,
   "metadata": {},
   "outputs": [
    {
     "name": "stdout",
     "output_type": "stream",
     "text": [
      "\n",
      "RP/0/RP0/CPU0:PE2#show bgp sessions\n",
      "Fri Apr 23 06:08:09.027 UTC\n",
      "\n",
      "Neighbor        VRF                   Spk    AS   InQ  OutQ  NBRState     NSRState\n",
      "10.3.3.1        default                 0 65537     0     0  Established  None\n",
      "10.30.30.30     default                 0 65537     0     0  Idle         None\n",
      "RP/0/RP0/CPU0:PE2#\n"
     ]
    }
   ],
   "source": [
    "loginpe2.write(('''\n",
    "show bgp sessions\n",
    "''').encode('ascii'))\n",
    "line = loginpe2.read_until(b'/r/n',2)\n",
    "print(line.decode())"
   ]
  },
  {
   "cell_type": "markdown",
   "metadata": {},
   "source": [
    "#### Clean-up the topology"
   ]
  },
  {
   "cell_type": "markdown",
   "metadata": {},
   "source": [
    ">Once you are done with experimenting on the topology, you should bring down the emulator by executing the following steps:"
   ]
  },
  {
   "cell_type": "code",
   "execution_count": 8,
   "metadata": {},
   "outputs": [],
   "source": [
    "# close our telnet\n",
    "loginpe1.close()\n",
    "loginp1.close()\n",
    "loginp2.close()"
   ]
  },
  {
   "cell_type": "code",
   "execution_count": 9,
   "metadata": {},
   "outputs": [
    {
     "name": "stderr",
     "output_type": "stream",
     "text": [
      "INFO:pyvxr.vxr:Stopping sim on host localhost (dir /nobackup/vxr/pyvxr/drxsvguisb)\n",
      "INFO:pyvxr.sim:Stopping previous simulation (if any)\n"
     ]
    }
   ],
   "source": [
    "sim.stop()"
   ]
  },
  {
   "cell_type": "code",
   "execution_count": 10,
   "metadata": {},
   "outputs": [
    {
     "name": "stderr",
     "output_type": "stream",
     "text": [
      "INFO:pyvxr.vxr:Cleaning sim on host localhost (dir /nobackup/vxr/pyvxr/drxsvguisb)\n",
      "INFO:pyvxr.sim:Stopping previous simulation (if any)\n",
      "INFO:pyvxr.sim:Cleaning previous simulation (if any)\n"
     ]
    }
   ],
   "source": [
    "sim.clean()\n",
    "# Clean up sim scratch space\n",
    "shutil.rmtree(sim_dir)"
   ]
  }
 ],
 "metadata": {
  "kernelspec": {
   "display_name": "Python 3",
   "language": "python",
   "name": "python3"
  },
  "language_info": {
   "codemirror_mode": {
    "name": "ipython",
    "version": 3
   },
   "file_extension": ".py",
   "mimetype": "text/x-python",
   "name": "python",
   "nbconvert_exporter": "python",
   "pygments_lexer": "ipython3",
   "version": "3.8.8"
  }
 },
 "nbformat": 4,
 "nbformat_minor": 4
}
