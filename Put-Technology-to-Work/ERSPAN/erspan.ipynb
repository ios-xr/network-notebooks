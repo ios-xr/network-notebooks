{
 "cells": [
  {
   "cell_type": "markdown",
   "metadata": {},
   "source": [
    "# Monitor Traffic Using Encapsulated Remote Switched Port Analyzer (ERSPAN)\n",
    "###### <sup>Use case: Paban Sarma (pasarma@cisco.com); Developed by: Deepti S. (deepts@cisco.com) Sarah Samuel (sasamuel@cisco.com). </sup>"
   ]
  },
  {
   "cell_type": "markdown",
   "metadata": {},
   "source": [
    "Networks often need a secure monitoring solution which can be accessed without a direct connection to the network analyzer. ERSPAN is a Cisco proprietary feature that solves this need. ERSPAN encapsulates the captured traffic in GRE headers and allows it to be transported to a remote port across a Layer 3 network.\n",
    "\n",
    "In this notebook, we will demonstrate ERSPAN in the following ways:\n",
    "\n",
    "* Port-level ERSPAN - Complete traffic on the port can be sent to the traffic analyzer. This might not be feasible if the volume of traffic is high.\n",
    "\n",
    "* ACL-based ERSPAN – the suspicious prefix can be filtered using an ACL and sent to the traffic analyzer for deep inspection.\n",
    "\n",
    "**NETWORK TOPOLOGY:**\n",
    "\n",
    "![ERSPAN Use Case](topology.png)\n",
    "\n",
    "Consider the use case where the incoming traffic on the interface 0/0/0/0 of the router **PE1** needs to be monitored. There is no direct connection between PE1 and a traffic analyzer. The Cisco 8000 Series Routers support only a tunnel interface as the ERSPAN destination. So in this case, the network administrator configures a GRE tunnel from PE1 to the traffic analyzer that is connected to PE2. Then he configures an ERSPAN session to mirror the suspected traffic."
   ]
  },
  {
   "cell_type": "markdown",
   "metadata": {
    "tags": [
     "remove_cell"
    ]
   },
   "source": [
    "#### To enable ERSPAN on the Cisco 8000 Series Routers, we should configure the following:\n",
    "* GRE Tunnel interface\n",
    "* Global ERSPAN configurations\n",
    "* ERSPAN source attachment configurations\n",
    "\n",
    "\n",
    "This notebook is divided into the following sections:\n",
    "* [Topology Bring up](#step1)\n",
    "* [Start Traffic](#step5)\n",
    "* [Configure GRE tunnel to Mirror Traffic](#step3)\n",
    "* [Use case 1: Port-level ERSPAN](#step13)\n",
    "* [Use case 2: ACL-based ERSPAN](#step18)\n",
    "* [Clean up Emulator Session](#step7)\n"
   ]
  },
  {
   "cell_type": "markdown",
   "metadata": {
    "tags": [
     "remove_cell"
    ]
   },
   "source": [
    "The code in the notebooks interacts with the Cisco 8000 emulator with the help of the pyVXR python module in order to bring up and configure a virtual network of routers as per the above topology."
   ]
  },
  {
   "cell_type": "markdown",
   "metadata": {
    "launch_buttons": {
     "thebe": true
    },
    "tags": [
     "remove_cell"
    ]
   },
   "source": [
    "## <a name=\"step1\"></a>Topology Bring Up"
   ]
  },
  {
   "cell_type": "markdown",
   "metadata": {
    "tags": [
     "hide_input",
     "remove_cell"
    ]
   },
   "source": [
    "> <i>In the cell below, the python module **erspan** contains the code to set up the python enviroment, the simulated 2-router topology, the routing protocol and the linux server according to the network topology diagram, above. The **sim.init** API initializes simulated network with the base configuration. The **sim.up** API brings up the emulator as per the network topology. Refer to the **erspan.py** file in this repository to have a look at the IOS XR base configuration. \n",
    "\n",
    "> <i>Click the cell below and then click the play button in this notebook to bring up the network topology. The bring up can be slow and can take 10 minutes or more."
   ]
  },
  {
   "cell_type": "code",
   "execution_count": 1,
   "metadata": {},
   "outputs": [
    {
     "name": "stdout",
     "output_type": "stream",
     "text": [
      "Requirement already satisfied: paramiko in /home/vxr/miniconda3/envs/pyvxr/lib/python3.8/site-packages (2.7.2)\n",
      "Requirement already satisfied: cryptography>=2.5 in /home/vxr/miniconda3/envs/pyvxr/lib/python3.8/site-packages (from paramiko) (3.4.7)\n",
      "Requirement already satisfied: bcrypt>=3.1.3 in /home/vxr/miniconda3/envs/pyvxr/lib/python3.8/site-packages (from paramiko) (3.2.0)\n",
      "Requirement already satisfied: pynacl>=1.0.1 in /home/vxr/miniconda3/envs/pyvxr/lib/python3.8/site-packages (from paramiko) (1.4.0)\n",
      "Requirement already satisfied: six>=1.4.1 in /home/vxr/miniconda3/envs/pyvxr/lib/python3.8/site-packages (from bcrypt>=3.1.3->paramiko) (1.15.0)\n",
      "Requirement already satisfied: cffi>=1.1 in /home/vxr/miniconda3/envs/pyvxr/lib/python3.8/site-packages (from bcrypt>=3.1.3->paramiko) (1.14.5)\n",
      "Requirement already satisfied: pycparser in /home/vxr/miniconda3/envs/pyvxr/lib/python3.8/site-packages (from cffi>=1.1->bcrypt>=3.1.3->paramiko) (2.20)\n",
      "Requirement already satisfied: paramiko-expect in /home/vxr/miniconda3/envs/pyvxr/lib/python3.8/site-packages (0.3.0)\n",
      "Requirement already satisfied: paramiko>=1.10.1 in /home/vxr/miniconda3/envs/pyvxr/lib/python3.8/site-packages (from paramiko-expect) (2.7.2)\n",
      "Requirement already satisfied: pynacl>=1.0.1 in /home/vxr/miniconda3/envs/pyvxr/lib/python3.8/site-packages (from paramiko>=1.10.1->paramiko-expect) (1.4.0)\n",
      "Requirement already satisfied: cryptography>=2.5 in /home/vxr/miniconda3/envs/pyvxr/lib/python3.8/site-packages (from paramiko>=1.10.1->paramiko-expect) (3.4.7)\n",
      "Requirement already satisfied: bcrypt>=3.1.3 in /home/vxr/miniconda3/envs/pyvxr/lib/python3.8/site-packages (from paramiko>=1.10.1->paramiko-expect) (3.2.0)\n",
      "Requirement already satisfied: six>=1.4.1 in /home/vxr/miniconda3/envs/pyvxr/lib/python3.8/site-packages (from bcrypt>=3.1.3->paramiko>=1.10.1->paramiko-expect) (1.15.0)\n",
      "Requirement already satisfied: cffi>=1.1 in /home/vxr/miniconda3/envs/pyvxr/lib/python3.8/site-packages (from bcrypt>=3.1.3->paramiko>=1.10.1->paramiko-expect) (1.14.5)\n",
      "Requirement already satisfied: pycparser in /home/vxr/miniconda3/envs/pyvxr/lib/python3.8/site-packages (from cffi>=1.1->bcrypt>=3.1.3->paramiko>=1.10.1->paramiko-expect) (2.20)\n"
     ]
    }
   ],
   "source": [
    "# Installing pre-requisite module\n",
    "!pip install paramiko\n",
    "!pip install paramiko-expect"
   ]
  },
  {
   "cell_type": "code",
   "execution_count": 2,
   "metadata": {
    "tags": [
     "hide_input",
     "remove_cell"
    ]
   },
   "outputs": [
    {
     "name": "stderr",
     "output_type": "stream",
     "text": [
      "INFO:pyvxr.vxr:v1.1.0 2021-04-27 10:10 output_dir:vxr.out\n",
      "INFO:pyvxr.vxr:bd8e02377cc7:/home/vxr/notebooks/Put-Technology-to-Work/ERSPAN\n",
      "WARNING:pyvxr.vxr:Config not specified or not found. Will attempt to release slurm resources if reserved\n",
      "INFO:pyvxr.vxr:Extracting vxr version from '/opt/cisco/vxr2/latest/setup.sh' file.\n",
      "INFO:pyvxr.vxr_session:Starting a local bash session for user:vxr\n"
     ]
    },
    {
     "name": "stdout",
     "output_type": "stream",
     "text": [
      "3.8.8 (default, Apr 13 2021, 19:58:26) \n",
      "[GCC 7.3.0]\n",
      "Sim clean: Done\n",
      "Simulation starting. Please wait for the Sim status message. This may take 3-10 minutes.\n"
     ]
    },
    {
     "name": "stderr",
     "output_type": "stream",
     "text": [
      "INFO:pyvxr.sim:Launch: sim_dir:/nobackup/vxr/pyvxr/beu3recu62 sim_rel:/opt/cisco/vxr2/latest\n",
      "INFO:pyvxr.sim:Stopping previous simulation (if any)\n",
      "INFO:pyvxr.sim:Cleaning previous simulation (if any)\n",
      "INFO:pyvxr.sim:Starting vxr: 'sim --skiphomecheck -n '\n",
      "INFO:pyvxr.sim:Vxr up on host localhost\n",
      "INFO:pyvxr.vxr:Getting port vector files for:rpe1, rpe2, server\n",
      "INFO:pyvxr.console:rpe2:wait for XR login prompt (console output captured in vxr.out/logs/console.rpe2.log)\n",
      "INFO:pyvxr.console:rpe1:wait for XR login prompt (console output captured in vxr.out/logs/console.rpe1.log)\n",
      "INFO:pyvxr.console:rpe1:entering new XR username 'cisco', password 'cisco123'\n",
      "INFO:pyvxr.console:rpe1:entering XR username 'cisco', password 'cisco123'\n",
      "INFO:pyvxr.console:rpe2:entering new XR username 'cisco', password 'cisco123'\n",
      "INFO:pyvxr.bringup:rpe1:login successful\n",
      "INFO:pyvxr.bringup:rpe1:wait for IOS XR RUN state\n",
      "INFO:pyvxr.bringup:rpe1:run state RPs:1 (expected:1) LCs:0 (expected:0)\n",
      "INFO:pyvxr.bringup:rpe1:all nodes reached IOS XR RUN state\n",
      "INFO:pyvxr.console:rpe1:applying initial XR config (terminal width, etc)\n",
      "INFO:pyvxr.console:rpe1:waiting for ztp and cvac to complete\n",
      "INFO:pyvxr.console:rpe1:found ztp directory. Assuming ztp present\n",
      "INFO:pyvxr.console:rpe1:waiting for ztp to complete\n",
      "INFO:pyvxr.console:rpe2:entering XR username 'cisco', password 'cisco123'\n",
      "INFO:pyvxr.console:rpe1:ztp done\n",
      "INFO:pyvxr.bringup:rpe2:login successful\n",
      "INFO:pyvxr.bringup:rpe2:wait for IOS XR RUN state\n",
      "INFO:pyvxr.bringup:rpe2:run state RPs:1 (expected:1) LCs:0 (expected:0)\n",
      "INFO:pyvxr.bringup:rpe2:all nodes reached IOS XR RUN state\n",
      "INFO:pyvxr.console:rpe2:applying initial XR config (terminal width, etc)\n",
      "INFO:pyvxr.console:rpe2:waiting for ztp and cvac to complete\n",
      "INFO:pyvxr.console:rpe2:found ztp directory. Assuming ztp present\n",
      "INFO:pyvxr.console:rpe2:waiting for ztp to complete\n",
      "INFO:pyvxr.console:rpe2:ztp done\n",
      "INFO:pyvxr.vxr:Setting up ssh tunnels on host 'localhost'\n",
      "INFO:pyvxr.ssh_tunnel:Configure mgmt interfaces before setting up ssh tunnels\n",
      "INFO:pyvxr.console:rpe1:need to configure mgmt interface MgmtEth0/RP0/CPU0/0\n",
      "INFO:pyvxr.console:rpe2:need to configure mgmt interface MgmtEth0/RP0/CPU0/0\n",
      "INFO:pyvxr.console:server:login root/cisco123\n",
      "INFO:pyvxr.console:server:sending return\n",
      "INFO:pyvxr.console:server:entering linux username 'root'\n",
      "INFO:pyvxr.console:server:entering linux password 'cisco123'\n",
      "INFO:pyvxr.console:server:reached Linux prompt. Reseting console\n",
      "INFO:pyvxr.console:rpe1:mgmt interface configuration applied\n",
      "INFO:pyvxr.console:rpe2:mgmt interface configuration applied\n",
      "INFO:pyvxr.console:server:mgmt interface up (ip:192.168.254.111)\n",
      "INFO:pyvxr.console:rpe1:mgmt interface up (ip:192.168.254.102)\n",
      "INFO:pyvxr.console:rpe2:mgmt interface up (ip:192.168.254.149)\n",
      "INFO:pyvxr.vxr_session:Starting a local bash session for user:vxr\n",
      "INFO:pyvxr.vxr_session:Starting a local bash session for user:vxr\n",
      "INFO:pyvxr.vxr_session:Starting a local bash session for user:vxr\n",
      "INFO:pyvxr.ssh_tunnel:server:Setting up ssh tunnels for port(s) [21, 22]\n",
      "INFO:pyvxr.ssh_tunnel:rpe2:Setting up ssh tunnels for port(s) [22, 830]\n",
      "INFO:pyvxr.ssh_tunnel:rpe1:Setting up ssh tunnels for port(s) [22, 830]\n",
      "INFO:pyvxr.bringup:rpe1:applying XR config\n",
      "INFO:pyvxr.bringup:rpe2:applying XR config\n",
      "INFO:pyvxr.vxr:Sim up\n",
      "INFO:pyvxr.vxr:Getting sim status from localhost:/nobackup/vxr/pyvxr/beu3recu62\n"
     ]
    },
    {
     "name": "stdout",
     "output_type": "stream",
     "text": [
      "Sim status:  {'localhost': 'running'}\n"
     ]
    }
   ],
   "source": [
    "# Bring up of simulated network\n",
    "from erspan import *\n",
    "sim = Vxr()\n",
    "sim.no_image_copy=True\n",
    "\n",
    "sim.clean()\n",
    "print(\"Sim clean: Done\")\n",
    "print(\"Simulation starting. Please wait for the Sim status message. This may take 3-10 minutes.\")\n",
    "\n",
    "try:\n",
    "    sim.start(cfg)\n",
    "    status = sim.status()\n",
    "    print(\"Sim status: \", status)\n",
    "except Exception as err:\n",
    "    print(\"Sim launch failed (%s)\" % str(err))"
   ]
  },
  {
   "cell_type": "markdown",
   "metadata": {},
   "source": [
    "> Updating the environment variables."
   ]
  },
  {
   "cell_type": "code",
   "execution_count": 3,
   "metadata": {
    "tags": [
     "hide_input",
     "hide_output",
     "remove_cell"
    ]
   },
   "outputs": [
    {
     "name": "stderr",
     "output_type": "stream",
     "text": [
      "INFO:paramiko.transport:Connected (version 2.0, client OpenSSH_7.4)\n",
      "INFO:paramiko.transport:Authentication (publickey) failed.\n",
      "INFO:paramiko.transport:Authentication (password) successful!\n"
     ]
    },
    {
     "name": "stdout",
     "output_type": "stream",
     "text": [
      "Last login: Tue Apr 27 10:13:45 2021\n",
      "[root@localhost ~]# ifconfig eth3 10.9.9.2 netmask 255.255.255.0 up\n",
      "[root@localhost ~]# "
     ]
    }
   ],
   "source": [
    "ports = sim.ports()\n",
    "serveripaddress = str(ports['server']['HostAgent'])\n",
    "serverport = str(ports['server']['xr_redir22'])\n",
    "client, interact = set_server_intf(serveripaddress, serverport, \"10.9.9.2\", \"255.255.255.0\")"
   ]
  },
  {
   "cell_type": "markdown",
   "metadata": {
    "tags": [
     "remove_cell"
    ]
   },
   "source": [
    "> <i>At this point, console access to the routers and server is available. Preferrably, you can access the simulated router consoles directly from your laptop through ssh, as this notebook will be accessing the telnet consoles.<i>"
   ]
  },
  {
   "cell_type": "code",
   "execution_count": 4,
   "metadata": {
    "tags": [
     "hide_input",
     "hide_output",
     "remove_cell"
    ]
   },
   "outputs": [
    {
     "name": "stdout",
     "output_type": "stream",
     "text": [
      "Consoles can be reached by:\n",
      "PE1: telnet 172.17.0.2 33197 \n",
      "PE2: telnet 172.17.0.2 45854 \n",
      "SERVER: telnet 172.17.0.2 42909\n",
      "or better:\n",
      "PE1: ssh cisco@172.17.0.2 -p62772 \n",
      "PE2: ssh cisco@172.17.0.2 -p62513 \n",
      "SERVER: ssh root@172.17.0.2 -p60940\n",
      "The password is cisco123\n"
     ]
    }
   ],
   "source": [
    "print('Consoles can be reached by:')\n",
    "print('PE1:', get_telnet_cmd(sim, 'rpe1'), '\\nPE2:', get_telnet_cmd(sim, 'rpe2'),'\\nSERVER:', get_telnet_cmd(sim, 'server'))\n",
    "print('or better:')\n",
    "print('PE1:', get_ssh_cmd(sim, 'rpe1'), '\\nPE2:', get_ssh_cmd(sim, 'rpe2'), '\\nSERVER:', get_ssh_cmd(sim, 'server', True))\n",
    "print('The password is cisco123')"
   ]
  },
  {
   "cell_type": "markdown",
   "metadata": {
    "tags": [
     "hide_input",
     "hide_output",
     "remove_cell"
    ]
   },
   "source": [
    "> <i>When the below cell is played the notebook accesses the telnet consoles of the routers and the server in order to configure the ERSPAN feature and verify it.<i>"
   ]
  },
  {
   "cell_type": "code",
   "execution_count": 5,
   "metadata": {
    "tags": [
     "hide_input",
     "hide_output",
     "remove_cell"
    ]
   },
   "outputs": [],
   "source": [
    "loginpe1 = telnetlib.Telnet(str(ports['rpe1']['HostAgent']) , str(ports['rpe1']['serial0']))\n",
    "loginpe2 = telnetlib.Telnet(str(ports['rpe2']['HostAgent']) , str(ports['rpe2']['serial0']))"
   ]
  },
  {
   "cell_type": "markdown",
   "metadata": {
    "tags": [
     "hide_input",
     "hide_output",
     "remove_cell"
    ]
   },
   "source": [
    "## <a name=\"step5\"></a>Start Traffic"
   ]
  },
  {
   "cell_type": "markdown",
   "metadata": {},
   "source": [
    "> <i>Consider 3 traffic streams flowing across the routers.<i>\n",
    "\n",
    "![ERSPAN Use Case](topology2.png)"
   ]
  },
  {
   "cell_type": "markdown",
   "metadata": {},
   "source": [
    "> Start traffic by playing the below cell. Wait for a few minutes until the traffic starts"
   ]
  },
  {
   "cell_type": "code",
   "execution_count": 6,
   "metadata": {
    "tags": [
     "remove_cell"
    ]
   },
   "outputs": [
    {
     "name": "stderr",
     "output_type": "stream",
     "text": [
      "INFO:paramiko.transport:Connected (version 2.0, client OpenSSH_7.4)\n",
      "INFO:paramiko.transport:Authentication (publickey) failed.\n",
      "INFO:paramiko.transport:Authentication (password) successful!\n",
      "INFO:paramiko.transport.sftp:[chan 0] Opened sftp connection (server version 3)\n",
      "INFO:paramiko.transport.sftp:[chan 0] sftp session closed.\n"
     ]
    },
    {
     "name": "stdout",
     "output_type": "stream",
     "text": [
      "Last login: Tue Apr 27 10:15:50 2021 from gateway\n",
      "[root@localhost ~]# ifconfig eth1 10.0.0.1 netmask 255.255.255.0 up; ifconfig et h2 10.1.1.1 netmask 255.255.255.0 up\n",
      "[root@localhost ~]# cd /opt/cisco/trex/latest/\n",
      "[root@localhost latest]# ./t-rex-64 -i\n",
      "Starting Scapy server.......\u001b[32m Scapy server is started\u001b[0m\n",
      "Trying to bind to vfio-pci ...\n",
      "Trying to compile and bind to igb_uio ...\n",
      "ERROR: We don't have precompiled igb_uio.ko module for your kernel version.\n",
      "Will try compiling automatically...\n",
      "Success.\n",
      "\n",
      "/usr/bin/python3 dpdk_nic_bind.py --bind=igb_uio 0000:00:04.0 0000:00:05.0 \n",
      "The ports are bound/configured.\n",
      "Starting  TRex v2.89 please wait  ... \n",
      " set driver name net_virtio \n",
      " driver capability  :\n",
      " set dpdk queues mode to ONE_QUE \n",
      " Number of ports found: 2\n",
      "zmq publisher at: tcp://*:4500\n",
      " wait 1 sec "
     ]
    },
    {
     "name": "stderr",
     "output_type": "stream",
     "text": [
      "INFO:paramiko.transport:Connected (version 2.0, client OpenSSH_7.4)\n",
      "INFO:paramiko.transport:Authentication (publickey) failed.\n",
      "INFO:paramiko.transport:Authentication (password) successful!\n"
     ]
    },
    {
     "name": "stdout",
     "output_type": "stream",
     "text": [
      "Last login: Tue Apr 27 10:16:00 2021 from gateway\n",
      "[root@localhost ~]# cd /opt/cisco/trex/latest/\n",
      "[root@localhost latest]# ./trex-console\n",
      "start -f stl/traffic_3st.py -d 1h -m 100pps -p 0\n",
      "\n",
      "Using 'python3' as Python interpeter\n",
      "\n",
      "\n",
      "\u001b[1mConnecting to RPC server on localhost:4501                  \u001b[22m \u001b[1m\u001b[32m[SUCCESS]\u001b[39m\u001b[22m\n",
      "\n",
      "\n",
      "\u001b[1mConnecting to publisher server on localhost:4500            \u001b[22m \u001b[1m\u001b[32m[SUCCESS]\u001b[39m\u001b[22m\n",
      "\n",
      "\n",
      "\u001b[1mAcquiring ports [0, 1]:                                     \u001b[22m \u001b[1m\u001b[32m[SUCCESS]\u001b[39m\u001b[22m\n",
      "\n",
      "\n",
      "\u001b[4mServer Info:\u001b[24m\n",
      "\n",
      "Server version:   \u001b[1mv2.89 @ STL\u001b[22m\n",
      "Server mode:      \u001b[1mStateless\u001b[22m\n",
      "Server CPU:       \u001b[1m1 x VXR\u001b[22m\n",
      "Ports count:      \u001b[1m2 x 100.0Gbps @ Virtio network device\t\u001b[22m\n",
      "\n",
      "-=TRex Console v3.0=-\n",
      "\n",
      "Type 'help' or '?' for supported actions\n",
      "\n",
      "trex>start -f stl/traffic_3st.py -d 1h -m 100pps -p 0\n"
     ]
    }
   ],
   "source": [
    "print(\"Traffic Generator is starting....\")\n",
    "\n",
    "client1, client2, interact1, interact2 = generate_3traffic_streams(serveripaddress, serverport)"
   ]
  },
  {
   "cell_type": "markdown",
   "metadata": {
    "tags": [
     "remove_cell"
    ]
   },
   "source": [
    "> <i>Now that we have started the 3 traffic streams, ensure that all 3 traffic streams are received on the destination port (CE2 in the toplogy diagram). Analyze the streams at the traffic destination by playing the below cell. Look for source address (src) 10.2.2.1, 10.3.3.1 and 10.4.4.1 in the below cell output to identify the 3 streams of traffic. <i>"
   ]
  },
  {
   "cell_type": "code",
   "execution_count": 7,
   "metadata": {
    "tags": [
     "remove_cell"
    ]
   },
   "outputs": [
    {
     "name": "stdout",
     "output_type": "stream",
     "text": [
      "\n",
      "\u001b[1mRemoving all streams from port(s) [0._]:                    \u001b[22m \u001b[1m\u001b[32m[SUCCESS]\u001b[39m\u001b[22m\n",
      "\n",
      "\n",
      "\u001b[1mAttaching 3 streams to port(s) [0._]:                       \u001b[22m \u001b[1m\u001b[32m[SUCCESS]\u001b[39m\u001b[22m\n",
      "\n",
      "\n",
      "\u001b[1mStarting traffic on port(s) [0._]:                          \u001b[22m \u001b[1m\u001b[32m[SUCCESS]\u001b[39m\u001b[22m\n",
      "\n",
      "30.79 [ms]\n",
      "\n",
      "trex>service\n",
      "\n",
      "\u001b[1mEnabling service mode on port(s): [0, 1]                    \u001b[22m capture monitor start --rx 1\n",
      "\u001b[1m\u001b[32m[SUCCESS]\u001b[39m\u001b[22m\n",
      "\n",
      "7.99 [ms]\n",
      "\n",
      "trex(service)>capture monitor start --rx 1\n",
      "\n",
      "\u001b[1mStarting stdout capture monitor - verbose: 'low'            \u001b[22m \u001b[1m\u001b[32m[SUCCESS]\u001b[39m\u001b[22m\n",
      "\n",
      "\n",
      "\u001b[1m*** use 'capture monitor stop' to abort capturing... ***\u001b[22m\n",
      "\n",
      "trex(service)>\n",
      "\n",
      "\n",
      "\n",
      "\u001b[1m#1 Port: 1 ◀── RX\u001b[22m\n",
      "\n",
      "\n",
      "trex(service)>\n",
      "\n",
      "\u001b[1m    Type: UDP, Size: 60 B, TS: 0.01 [sec]\u001b[22m\n",
      "\n",
      "\n",
      "trex(service)>\n",
      "\n",
      "    Ether(dst='02:b4:d8:7d:f1:05',src='78:7f:d1:56:40:00',type=2048)/IP(version=4,ihl=5,tos=0,len=46,id=1,flags=0,frag=0,ttl=62,proto=17,chksum=25528,src='10.4.4.1',dst='10.1.1.1')/UDP(sport=1025,dport=12,len=26,chksum=42602)/Raw(load=b'xxxxxxxxxxxxxxxxxx')\n",
      "\n",
      "trex(service)>\n",
      "\n",
      "\n",
      "\n",
      "\u001b[1m#2 Port: 1 ◀── RX\u001b[22m\n",
      "\n",
      "\n",
      "trex(service)>\n",
      "\n",
      "\u001b[1m    Type: UDP, Size: 60 B, TS: 0.03 [sec]\u001b[22m\n",
      "\n",
      "\n",
      "trex(service)>\n",
      "\n",
      "    Ether(dst='02:b4:d8:7d:f1:05',src='78:7f:d1:56:40:00',type=2048)/IP(version=4,ihl=5,tos=0,len=46,id=1,flags=0,frag=0,ttl=62,proto=17,chksum=26042,src='10.2.2.1',dst='10.1.1.1')/UDP(sport=1025,dport=12,len=26,chksum=43116)/Raw(load=b'xxxxxxxxxxxxxxxxxx')\n",
      "\n",
      "trex(service)>\n",
      "\n",
      "\n",
      "\n",
      "\u001b[1m#3 Port: 1 ◀── RX\u001b[22m\n",
      "\n",
      "\n",
      "trex(service)>\n",
      "\n",
      "\u001b[1m    Type: UDP, Size: 60 B, TS: 0.03 [sec]\u001b[22m\n",
      "\n",
      "\n",
      "trex(service)>\n",
      "\n",
      "    Ether(dst='02:b4:d8:7d:f1:05',src='78:7f:d1:56:40:00',type=2048)/IP(version=4,ihl=5,tos=0,len=46,id=1,flags=0,frag=0,ttl=62,proto=17,chksum=25785,src='10.3.3.1',dst='10.1.1.1')/UDP(sport=1025,dport=12,len=26,chksum=42859)/Raw(load=b'xxxxxxxxxxxxxxxxxx')\n",
      "\n",
      "trex(service)>\n",
      "\n",
      "\n",
      "\n",
      "\u001b[1m#4 Port: 1 ◀── RX\u001b[22m\n",
      "\n",
      "\n",
      "trex(service)>\n",
      "\n",
      "\u001b[1m    Type: UDP, Size: 60 B, TS: 0.03 [sec]\u001b[22m\n",
      "\n",
      "\n",
      "trex(service)>\n",
      "\n",
      "    Ether(dst='02:b4:d8:7d:f1:05',src='78:7f:d1:56:40:00',type=2048)/IP(version=4,ihl=5,tos=0,len=46,id=1,flags=0,frag=0,ttl=62,proto=17,chksum=25528,src='10.4.4.1',dst='10.1.1.1')/UDP(sport=1025,dport=12,len=26,chksum=42602)/Raw(load=b'xxxxxxxxxxxxxxxxxx')\n",
      "\n",
      "trex(service)>\n",
      "\n",
      "\n",
      "\n",
      "\u001b[1m#5 Port: 1 ◀── RX\u001b[22m\n",
      "\n",
      "\n",
      "trex(service)>\n",
      "\n",
      "\u001b[1m    Type: UDP, Size: 60 B, TS: 0.05 [sec]\u001b[22m\n",
      "\n",
      "\n",
      "trex(service)>\n",
      "\n",
      "    Ether(dst='02:b4:d8:7d:f1:05',src='78:7f:d1:56:40:00',type=2048)/IP(version=4,ihl=5,tos=0,len=46,id=1,flags=0,frag=0,ttl=62,proto=17,chksum=25528,src='10.4.4.1',dst='10.1.1.1')/UDP(sport=1025,dport=12,len=26,chksum=42602)/Raw(load=b'xxxxxxxxxxxxxxxxxx')\n",
      "\n",
      "trex(service)>\n",
      "\n",
      "\n",
      "\n",
      "\u001b[1m#6 Port: 1 ◀── RX\u001b[22m\n",
      "\n",
      "\n",
      "trex(service)>\n",
      "\n",
      "\u001b[1m    Type: UDP, Size: 60 B, TS: 0.06 [sec]\u001b[22m\n",
      "\n",
      "\n",
      "trex(service)>\n",
      "\n",
      "    Ether(dst='02:b4:d8:7d:f1:05',src='78:7f:d1:56:40:00',type=2048)/IP(version=4,ihl=5,tos=0,len=46,id=1,flags=0,frag=0,ttl=62,proto=17,chksum=25785,src='10.3.3.1',dst='10.1.1.1')/UDP(sport=1025,dport=12,len=26,chksum=42859)/Raw(load=b'xxxxxxxxxxxxxxxxxx')\n",
      "\n",
      "trex(service)>\n",
      "\n",
      "\n",
      "\n",
      "\u001b[1m#7 Port: 1 ◀── RX\u001b[22m\n",
      "\n",
      "\n",
      "trex(service)>\n",
      "\n",
      "\u001b[1m    Type: UDP, Size: 60 B, TS: 0.07 [sec]\u001b[22m\n",
      "\n",
      "\n",
      "trex(service)>\n",
      "\n",
      "    Ether(dst='02:b4:d8:7d:f1:05',src='78:7f:d1:56:40:00',type=2048)/IP(version=4,ihl=5,tos=0,len=46,id=1,flags=0,frag=0,ttl=62,proto=17,chksum=25528,src='10.4.4.1',dst='10.1.1.1')/UDP(sport=1025,dport=12,len=26,chksum=42602)/Raw(load=b'xxxxxxxxxxxxxxxxxx')\n",
      "\n",
      "trex(service)>\n",
      "\n",
      "\n",
      "\n",
      "\u001b[1m#8 Port: 1 ◀── RX\u001b[22m\n",
      "\n",
      "\n",
      "trex(service)>\n",
      "\n",
      "\u001b[1m    Type: UDP, Size: 60 B, TS: 0.09 [sec]\u001b[22m\n",
      "\n",
      "\n",
      "trex(service)>\n",
      "\n",
      "    Ether(dst='02:b4:d8:7d:f1:05',src='78:7f:d1:56:40:00',type=2048)/IP(version=4,ihl=5,tos=0,len=46,id=1,flags=0,frag=0,ttl=62,proto=17,chksum=26042,src='10.2.2.1',dst='10.1.1.1')/UDP(sport=1025,dport=12,len=26,chksum=43116)/Raw(load=b'xxxxxxxxxxxxxxxxxx')\n",
      "\n",
      "trex(service)>\n",
      "\n",
      "\n",
      "\n",
      "\u001b[1m#9 Port: 1 ◀── RX\u001b[22m\n",
      "\n",
      "\n",
      "trex(service)>\n",
      "\n",
      "\u001b[1m    Type: UDP, Size: 60 B, TS: 0.09 [sec]\u001b[22m\n",
      "\n",
      "\n",
      "trex(service)>\n",
      "\n",
      "    Ether(dst='02:b4:d8:7d:f1:05',src='78:7f:d1:56:40:00',type=2048)/IP(version=4,ihl=5,tos=0,len=46,id=1,flags=0,frag=0,ttl=62,proto=17,chksum=25785,src='10.3.3.1',dst='10.1.1.1')/UDP(sport=1025,dport=12,len=26,chksum=42859)/Raw(load=b'xxxxxxxxxxxxxxxxxx')\n",
      "\n",
      "trex(service)>\n",
      "\n",
      "\n",
      "\n",
      "\u001b[1m#10 Port: 1 ◀── RX\u001b[22m\n",
      "\n",
      "\n",
      "trex(service)>\n",
      "\n",
      "\u001b[1m    Type: UDP, Size: 60 B, TS: 0.09 [sec]\u001b[22m\n",
      "\n",
      "\n",
      "trex(service)>\n",
      "\n",
      "    Ether(dst='02:b4:d8:7d:f1:05',src='78:7f:d1:56:40:00',type=2048)/IP(version=4,ihl=5,tos=0,len=46,id=1,flags=0,frag=0,ttl=62,proto=17,chksum=25528,src='10.4.4.1',dst='10.1.1.1')/UDP(sport=1025,dport=12,len=26,chksum=42602)/Raw(load=b'xxxxxxxxxxxxxxxxxx')\n",
      "\n",
      "trex(service)>\n",
      "trex(service)>EXCESS TIME RECV_READY TIMEOUT, did you expect() before a send()\n",
      "capture monitor stop\n",
      "\n",
      "\u001b[1mStopping capture monitor                                    \u001b[22m \u001b[1m\u001b[32m[SUCCESS]\u001b[39m\u001b[22m\n",
      "\n",
      "trex(service)>"
     ]
    },
    {
     "data": {
      "text/plain": [
       "0"
      ]
     },
     "execution_count": 7,
     "metadata": {},
     "output_type": "execute_result"
    }
   ],
   "source": [
    "TREX_PROMPT = '.*trex.*'\n",
    "\n",
    "interact2.send('service')\n",
    "interact2.expect(TREX_PROMPT)\n",
    "\n",
    "# Capturing the traffic received at the destination port\n",
    "interact2.send('capture monitor start --rx 1')\n",
    "interact2.expect('.*#3.*', timeout=1)\n",
    "\n",
    "interact2.send('capture monitor stop')\n",
    "interact2.expect(TREX_PROMPT)\n"
   ]
  },
  {
   "cell_type": "markdown",
   "metadata": {},
   "source": [
    "## <a name=\"step3\"></a>Configure GRE tunnel to Mirror Traffic"
   ]
  },
  {
   "cell_type": "markdown",
   "metadata": {},
   "source": [
    "> <i>Since ERSPAN on Cisco 8000 Series Routers supports only tunnel interfaces as the destination, a GRE tunnel should be configured between **PE1** and the analyzer connected to **PE2**. The ip address of the traffic anaylzer must be reachable from **PE1**. In this topology, the traffic analyzer is in the 10.9.9.0/24 network.\n",
    "\n",
    "![ERSPAN Use Case](topology3.png)\n",
    "\n",
    "> <i>The below section configures a GRE tunnel on the **PE1** router with the tunnel source as the loopback interface of **PE1** and the tunnel destination as the ip address of the traffic analyzer.<i>"
   ]
  },
  {
   "cell_type": "code",
   "execution_count": 8,
   "metadata": {
    "tags": [
     "hide_input"
    ]
   },
   "outputs": [
    {
     "name": "stdout",
     "output_type": "stream",
     "text": [
      "Please wait. It may take 4-5 seconds to retrieve the information from the telnet console.\n",
      "\n",
      "RP/0/RP0/CPU0:PE1#configure\n",
      "Tue Apr 27 10:18:37.127 UTC\n",
      "RP/0/RP0/CPU0:PE1(config)#interface tunnel-ip1\n",
      "RP/0/RP0/CPU0:PE1(config-if)#ipv4 address 209.165.201.1 255.255.255.252 \n",
      "RP/0/RP0/CPU0:PE1(config-if)#tunnel mode gre ipv4\n",
      "RP/0/RP0/CPU0:PE1(config-if)#tunnel source 209.165.200.225\n",
      "RP/0/RP0/CPU0:PE1(config-if)#tunnel destination 10.9.9.2\n",
      "RP/0/RP0/CPU0:PE1(config-if)#commit\n",
      "Tue Apr 27 10:18:37.572 UTC\n",
      "RP/0/RP0/CPU0:PE1(config-if)#root\n",
      "RP/0/RP0/CPU0:PE1(config)#exit\n",
      "RP/0/RP0/CPU0:PE1#!SHOW COMMAND TO VERIFY CONFIGURATION\n",
      "RP/0/RP0/CPU0:PE1#show interface tunnel-ip1    \n",
      "Tue Apr 27 10:18:38.546 UTC\n",
      "tunnel-ip1 is up, line protocol is up \n",
      "  Interface state transitions: 1\n",
      "  Hardware is Tunnel\n",
      "  Internet address is 209.165.201.1/30\n",
      "  MTU 1500 bytes, BW 100 Kbit (Max: 100 Kbit)\n",
      "     reliability 255/255, txload 0/255, rxload 0/255\n",
      "  Encapsulation TUNNEL_IP,  loopback not set,\n",
      "  Last link flapped 00:00:00\n",
      "  Tunnel TOS 0\n",
      "  Tunnel mode GRE IPV4\n",
      "  Keepalive is disabled.\n",
      "  Tunnel source 209.165.200.225, destination 10.9.9.2/32\n",
      "  Tunnel TTL 255\n",
      "  Last input never, output never\n",
      "  Last clearing of \"show interface\" counters never\n",
      "  5 minute input rate 0 bits/sec, 0 packets/sec\n",
      "  5 minute output rate 0 bits/sec, 0 packets/sec\n",
      "     0 packets input, 0 bytes, 0 total input drops\n",
      "     0 drops for unrecognized upper-level protocol\n",
      "     Received 0 broadcast packets, 0 multicast packets\n",
      "     0 packets output, 0 bytes, 0 total output drops\n",
      "     Output 0 broadcast packets, 0 multicast packets\n",
      "\n",
      "\n",
      "RP/0/RP0/CPU0:PE1#\n"
     ]
    }
   ],
   "source": [
    "print(\"Please wait. It may take 4-5 seconds to retrieve the information from the telnet console.\")\n",
    "\n",
    "loginpe1.write(('''\n",
    "configure\n",
    "interface tunnel-ip1\n",
    "ipv4 address 209.165.201.1 255.255.255.252 \n",
    "tunnel mode gre ipv4\n",
    "tunnel source 209.165.200.225\n",
    "tunnel destination 10.9.9.2\n",
    "commit\n",
    "root\n",
    "exit\n",
    "!SHOW COMMAND TO VERIFY CONFIGURATION\n",
    "show interface tunnel-ip1    \n",
    "''').encode('ascii'))\n",
    "\n",
    "line = loginpe1.read_until(b'/r/n',5)\n",
    "print(line.decode())"
   ]
  },
  {
   "cell_type": "markdown",
   "metadata": {},
   "source": [
    "## <a name=\"step13\"></a>Use case 1: Port-level ERSPAN\n",
    "The incoming traffic on the 0/0/0/0 interface of the provider edge (PE-1) router is mirrored to a remote traffic analyzer, which is connected to the the PE-2 router.\n",
    "\n",
    "![ERSPAN Use Case](topology4.png)\n"
   ]
  },
  {
   "cell_type": "markdown",
   "metadata": {},
   "source": [
    "### <a name=\"step4\"></a>Configure Port-level ERSPAN"
   ]
  },
  {
   "cell_type": "markdown",
   "metadata": {},
   "source": [
    "> <i>The below section configures on the **PE1** router:\n",
    "\n",
    "> <i>    - the global ERSPAN configurations \n",
    "\n",
    "> <i>    - the ERSPAN source attachment configurations"
   ]
  },
  {
   "cell_type": "code",
   "execution_count": 9,
   "metadata": {
    "tags": [
     "hide_input"
    ]
   },
   "outputs": [
    {
     "name": "stdout",
     "output_type": "stream",
     "text": [
      "\n",
      "RP/0/RP0/CPU0:PE1#configure\n",
      "Tue Apr 27 10:18:45.265 UTC\n",
      "RP/0/RP0/CPU0:PE1(config)#!GLOBAL ERSPAN CONFIGURATION\n",
      "RP/0/RP0/CPU0:PE1(config)#monitor-session ERSPAN1 ethernet\n",
      "RP/0/RP0/CPU0:PE1(config-mon)#destination interface tunnel-ip1\n",
      "RP/0/RP0/CPU0:PE1(config-mon)#root\n",
      "RP/0/RP0/CPU0:PE1(config)#!ERSPAN SOURCE ATTACHMENT CONFIGURATION\n",
      "RP/0/RP0/CPU0:PE1(config)#interface FourHundredGigE0/0/0/0\n",
      "RP/0/RP0/CPU0:PE1(config-if)#monitor-session ERSPAN1 ethernet direction rx-only port-level\n",
      "RP/0/RP0/CPU0:PE1(config-if-mon)#commit\n",
      "Tue Apr 27 10:18:45.684 UTC\n",
      "RP/0/RP0/CPU0:PE1(config-if-mon)#root\n",
      "RP/0/RP0/CPU0:PE1(config)#exit\n",
      "RP/0/RP0/CPU0:PE1#\n"
     ]
    }
   ],
   "source": [
    "print(\"Please wait. It may take 4-5 seconds to retrieve the information from the telnet console.\")\n",
    "\n",
    "loginpe1.write(('''\n",
    "configure\n",
    "!GLOBAL ERSPAN CONFIGURATION\n",
    "monitor-session ERSPAN1 ethernet\n",
    "destination interface tunnel-ip1\n",
    "root\n",
    "!ERSPAN SOURCE ATTACHMENT CONFIGURATION\n",
    "interface FourHundredGigE0/0/0/0\n",
    "monitor-session ERSPAN1 ethernet direction rx-only port-level\n",
    "commit\n",
    "root\n",
    "exit\n",
    "''').encode('ascii'))\n",
    "\n",
    "line = loginpe1.read_until(b'/r/n',8)\n",
    "print(line.decode())"
   ]
  },
  {
   "cell_type": "markdown",
   "metadata": {},
   "source": [
    "> <i>Verify the ERSPAN status"
   ]
  },
  {
   "cell_type": "code",
   "execution_count": 10,
   "metadata": {},
   "outputs": [
    {
     "name": "stdout",
     "output_type": "stream",
     "text": [
      "Please wait. It may take 4-5 seconds to retrieve the information from the telnet console.\n",
      "\n",
      "\n",
      "RP/0/RP0/CPU0:PE1#show monitor-session ERSPAN1 status internal   \n",
      "Tue Apr 27 10:19:00.770 UTC\n",
      "Information from SPAN Manager and MA on all nodes:\n",
      "Monitor-session ERSPAN1 (ID 0x00000001) (Ethernet)\n",
      "SPAN Mgr: Destination interface tunnel-ip1 (0x0f00001c)\n",
      "          Last error: Success\n",
      "          Tunnel data:\n",
      "            Mode: GREoIPv4\n",
      "            Source IP: 209.165.200.225\n",
      "            Dest IP: 10.9.9.2\n",
      "            VRF: \n",
      "            ToS: 0 (copied)\n",
      "            TTL: 255\n",
      "            DFbit: Not set\n",
      "0/RP0/CPU0: Destination interface tunnel-ip1 (0x0f00001c)\n",
      "          Tunnel data:\n",
      "            Mode: GREoIPv4\n",
      "            Source IP: 209.165.200.225\n",
      "            Dest IP: 10.9.9.2\n",
      "            VRF: \n",
      "            ToS: 0 (copied)\n",
      "            TTL: 255\n",
      "            DFbit: Not set\n",
      "\n",
      "Information from SPAN EA on all nodes:\n",
      "Monitor-session 0x00000001 (Ethernet)\n",
      "0/RP0/CPU0: Name 'ERSPAN1', destination interface tunnel-ip1 (0x0f00001c)\n",
      "Platform, 0/RP0/CPU0:\n",
      "\n",
      "  Monitor Session ID: 1\n",
      "  TransportNH ID: 1\n",
      "  GRE Destination's NH resolved: TRUE\n",
      "  NH Interface: 0xf0001a0\n",
      "  NH Aggr Interface: 0x0\n",
      "  Monitor Session Packets: 1434\n",
      "  Monitor Session Bytes: 5736\n",
      "\n",
      "RP/0/RP0/CPU0:PE1#\n"
     ]
    }
   ],
   "source": [
    "print(\"Please wait. It may take 4-5 seconds to retrieve the information from the telnet console.\")\n",
    "\n",
    "loginpe1.write(('''\n",
    "show monitor-session ERSPAN1 status internal   \n",
    "''').encode('ascii'))\n",
    "\n",
    "line = loginpe1.read_until(b'/r/n',4)\n",
    "print(line.decode())"
   ]
  },
  {
   "cell_type": "markdown",
   "metadata": {},
   "source": [
    "### <a name=\"step6\"></a>Monitor Redirected Traffic on Traffic Analyzer "
   ]
  },
  {
   "cell_type": "markdown",
   "metadata": {},
   "source": [
    "> <i>Now that port level ERSPAN is configured, all the packets incoming on **PE1** from the **CE1** are mirrored to the traffic analyzer, the network administrator or the network surveillance tool uses the following **show** commands:<i>\n",
    "\n",
    "| tshark command              | Description                                             \n",
    "| --------------              | -----------                          \n",
    "| tshark -i eth3 -c 3         | Shows a summary of suspicous traffic packets.          \n",
    "| tshark -i eth3 -c 1 -P -V   | Shows a detailed dump of the captured packet using Wireshark traffic Analyzer.   \n",
    "\n",
    "> <i>Play the below cell to view the traffic packets that are mirrored to the traffic analyzer. Look for source address 10.2.2.1, 10.3.3.1 and 10.4.4.1 in the below cell output to identify the 3 streams of traffic.<i>\n"
   ]
  },
  {
   "cell_type": "code",
   "execution_count": 11,
   "metadata": {
    "tags": [
     "hide_input"
    ]
   },
   "outputs": [
    {
     "name": "stdout",
     "output_type": "stream",
     "text": [
      "tshark -i eth3 -c 3\n",
      "Running as user \"root\" and group \"root\". This could be dangerous.\n"
     ]
    },
    {
     "data": {
      "text/plain": [
       "0"
      ]
     },
     "execution_count": 11,
     "metadata": {},
     "output_type": "execute_result"
    }
   ],
   "source": [
    "PROMPT = '.*root.*'\n",
    "interact.send('tshark -i eth3 -c 3')\n",
    "interact.expect(PROMPT, timeout=10)"
   ]
  },
  {
   "cell_type": "code",
   "execution_count": 13,
   "metadata": {},
   "outputs": [
    {
     "name": "stdout",
     "output_type": "stream",
     "text": [
      "tshark -i eth3 -c 1 -P -V\n",
      "Running as user \"root\" and group \"root\". This could be dangerous.\n",
      "Capturing on 'eth3'\n",
      "  1 0.000000000     10.2.2.1 -> 10.1.1.1     UDP 110 Source port: blackjack  Destination port: 12\n",
      "Frame 1: 110 bytes on wire (880 bits), 110 bytes captured (880 bits) on interface 0\n",
      "    Interface id: 0\n",
      "    Encapsulation type: Ethernet (1)\n",
      "    Arrival Time: Apr 27, 2021 10:19:14.653986890 UTC\n",
      "    [Time shift for this packet: 0.000000000 seconds]\n",
      "    Epoch Time: 1619518754.653986890 seconds\n",
      "    [Time delta from previous captured frame: 0.000000000 seconds]\n",
      "    [Time delta from previous displayed frame: 0.000000000 seconds]\n",
      "    [Time since reference or first frame: 0.000000000 seconds]\n",
      "    Frame Number: 1\n",
      "    Frame Length: 110 bytes (880 bits)\n",
      "    Capture Length: 110 bytes (880 bits)\n",
      "    [Frame is marked: False]\n",
      "    [Frame is ignored: False]\n",
      "    [Protocols in frame: eth:ip:gre:erspan:eth:ip:udp:data]\n",
      "Ethernet II, Src: 78:7f:d1:56:40:18 (78:7f:d1:56:40:18), Dst: 02:69:48:2a:76:c9 (02:69:48:2a:76:c9)\n",
      "    Destination: 02:69:48:2a:76:c9 (02:69:48:2a:76:c9)\n",
      "        Address: 02:69:48:2a:76:c9 (02:69:48:2a:76:c9)\n",
      "        .... ..1. .... .... .... .... = LG bit: Locally administered address (this is NOT the factory default)\n",
      "        .... ...0 .... .... .... .... = IG bit: Individual address (unicast)\n",
      "    Source: 78:7f:d1:56:40:18 (78:7f:d1:56:40:18)\n",
      "        Address: 78:7f:d1:56:40:18 (78:7f:d1:56:40:18)\n",
      "        .... ..0. .... .... .... .... = LG bit: Globally unique address (factory default)\n",
      "        .... ...0 .... .... .... .... = IG bit: Individual address (unicast)\n",
      "    Type: IP (0x0800)\n",
      "Internet Protocol Version 4, Src: 209.165.200.225 (209.165.200.225), Dst: 10.9.9.2 (10.9.9.2)\n",
      "    Version: 4\n",
      "    Header length: 20 bytes\n",
      "    Differentiated Services Field: 0x00 (DSCP 0x00: Default; ECN: 0x00: Not-ECT (Not ECN-Capable Transport))\n",
      "        0000 00.. = Differentiated Services Codepoint: Default (0x00)\n",
      "        .... ..00 = Explicit Congestion Notification: Not-ECT (Not ECN-Capable Transport) (0x00)\n",
      "    Total Length: 96\n",
      "    Identification: 0x0000 (0)\n",
      "    Flags: 0x02 (Don't Fragment)\n",
      "        0... .... = Reserved bit: Not set\n",
      "        .1.. .... = Don't fragment: Set\n",
      "        ..0. .... = More fragments: Not set\n",
      "    Fragment offset: 0\n",
      "    Time to live: 254\n",
      "    Protocol: GRE (47)\n",
      "    Header checksum: 0xcedc [validation disabled]\n",
      "        [Good: False]\n",
      "        [Bad: False]\n",
      "    Source: 209.165.200.225 (209.165.200.225)\n",
      "    Destination: 10.9.9.2 (10.9.9.2)\n",
      "Generic Routing Encapsulation (ERSPAN)\n",
      "    Flags and Version: 0x1000\n",
      "        0... .... .... .... = Checksum Bit: No\n",
      "        .0.. .... .... .... = Routing Bit: No\n",
      "        ..0. .... .... .... = Key Bit: No\n",
      "        ...1 .... .... .... = Sequence Number Bit: Yes\n",
      "        .... 0... .... .... = Strict Source Route Bit: No\n",
      "        .... .000 .... .... = Recursion control: 0\n",
      "        .... .... 0000 0... = Flags (Reserved): 0\n",
      "        .... .... .... .000 = Version: GRE (0)\n",
      "    Protocol Type: ERSPAN (0x88be)\n",
      "    Sequence Number: 0\n",
      "Encapsulated Remote Switch Packet ANalysis\n",
      "    0001 .... .... .... = Version: Type II (1)\n",
      "    .... 0000 0000 0000 = Vlan: 0\n",
      "    000. .... .... .... = Priority: 0\n",
      "    ...0 .... .... .... = Unknown2: 0\n",
      "    .... 0... .... .... = Direction: Incoming (0)\n",
      "    .... .0.. .... .... = Truncated: Not truncated (0)\n",
      "    .... ..00 0000 0001 = SpanID: 1\n",
      "    Unknown7: 00000000\n",
      "Ethernet II, Src: 02:96:3f:a4:aa:cf (02:96:3f:a4:aa:cf), Dst: 78:ce:b3:12:40:00 (78:ce:b3:12:40:00)\n",
      "    Destination: 78:ce:b3:12:40:00 (78:ce:b3:12:40:00)\n",
      "        Address: 78:ce:b3:12:40:00 (78:ce:b3:12:40:00)\n",
      "        .... ..0. .... .... .... .... = LG bit: Globally unique address (factory default)\n",
      "        .... ...0 .... .... .... .... = IG bit: Individual address (unicast)\n",
      "    Source: 02:96:3f:a4:aa:cf (02:96:3f:a4:aa:cf)\n",
      "        Address: 02:96:3f:a4:aa:cf (02:96:3f:a4:aa:cf)\n",
      "        .... ..1. .... .... .... .... = LG bit: Locally administered address (this is NOT the factory default)\n",
      "        .... ...0 .... .... .... .... = IG bit: Individual address (unicast)\n",
      "    Type: IP (0x0800)\n",
      "Internet Protocol Version 4, Src: 10.2.2.1 (10.2.2.1), Dst: 10.1.1.1 (10.1.1.1)\n",
      "    Version: 4\n",
      "    Header length: 20 bytes\n",
      "    Differentiated Services Field: 0x00 (DSCP 0x00: Default; ECN: 0x00: Not-ECT (Not ECN-Capable Transport))\n",
      "        0000 00.. = Differentiated Services Codepoint: Default (0x00)\n",
      "        .... ..00 = Explicit Congestion Notification: Not-ECT (Not ECN-Capable Transport) (0x00)\n",
      "    Total Length: 46\n",
      "    Identification: 0x0001 (1)\n",
      "    Flags: 0x00\n",
      "        0... .... = Reserved bit: Not set\n",
      "        .0.. .... = Don't fragment: Not set\n",
      "        ..0. .... = More fragments: Not set\n",
      "    Fragment offset: 0\n",
      "    Time to live: 64\n",
      "    Protocol: UDP (17)\n",
      "    Header checksum: 0x63ba [validation disabled]\n",
      "        [Good: False]\n",
      "        [Bad: False]\n",
      "    Source: 10.2.2.1 (10.2.2.1)\n",
      "    Destination: 10.1.1.1 (10.1.1.1)\n",
      "User Datagram Protocol, Src Port: blackjack (1025), Dst Port: 12 (12)\n",
      "    Source port: blackjack (1025)\n",
      "    Destination port: 12 (12)\n",
      "    Length: 26\n",
      "    Checksum: 0xa86c [validation disabled]\n",
      "        [Good Checksum: False]\n",
      "        [Bad Checksum: False]\n",
      "Data (18 bytes)\n",
      "\n",
      "0000  78 78 78 78 78 78 78 78 78 78 78 78 78 78 78 78   xxxxxxxxxxxxxxxx\n",
      "0010  78 78                                             xx\n",
      "    Data: 787878787878787878787878787878787878\n",
      "    [Length: 18]\n",
      "\n",
      "1 packet captured\n",
      "[root@localhost ~]# tshark -i eth3 -c 1 -P -V\n"
     ]
    },
    {
     "data": {
      "text/plain": [
       "0"
      ]
     },
     "execution_count": 13,
     "metadata": {},
     "output_type": "execute_result"
    }
   ],
   "source": [
    "interact.send('tshark -i eth3 -c 1 -P -V')\n",
    "interact.expect(PROMPT, timeout=15)"
   ]
  },
  {
   "cell_type": "markdown",
   "metadata": {
    "tags": [
     "remove_cell"
    ]
   },
   "source": [
    "#### Unconfiguring Port-level ERSPAN for the next use case."
   ]
  },
  {
   "cell_type": "code",
   "execution_count": 14,
   "metadata": {
    "tags": [
     "remove_cell"
    ]
   },
   "outputs": [
    {
     "name": "stdout",
     "output_type": "stream",
     "text": [
      "\n",
      "RP/0/RP0/CPU0:PE1#configure\n",
      "t\n",
      "exit\n",
      "show monitor-session ERSPAN1 status internal\n",
      "Tue Apr 27 10:19:54.580 UTC\n",
      "RP/0/RP0/CPU0:PE1(config)#interface FourHundredGigE0/0/0/0\n",
      "RP/0/RP0/CPU0:PE1(config-if)#no monitor-session ERSPAN1 ethernet direction rx-only port-level\n",
      "RP/0/RP0/CPU0:PE1(config-if)#commit\n",
      "Tue Apr 27 10:19:54.985 UTC\n",
      "RP/0/RP0/CPU0:PE1(config-if)#root\n",
      "RP/0/RP0/CPU0:PE1(config)#exit\n",
      "RP/0/RP0/CPU0:PE1#show monitor-session ERSPAN1 status internal\n",
      "Tue Apr 27 10:19:55.273 UTC\n",
      "Information from SPAN Manager and MA on all nodes:\n",
      "Monitor-session ERSPAN1 (ID 0x00000001) (Ethernet)\n",
      "SPAN Mgr: Destination interface tunnel-ip1 (0x0f00001c)\n",
      "          Last error: Success\n",
      "          Tunnel data:\n",
      "            Mode: GREoIPv4\n",
      "            Source IP: 209.165.200.225\n",
      "            Dest IP: 10.9.9.2\n",
      "            VRF: \n",
      "            ToS: 0 (copied)\n",
      "            TTL: 255\n",
      "            DFbit: Not set\n",
      "0/RP0/CPU0: Destination interface tunnel-ip1 (0x0f00001c)\n",
      "          Tunnel data:\n",
      "            Mode: GREoIPv4\n",
      "            Source IP: 209.165.200.225\n",
      "            Dest IP: 10.9.9.2\n",
      "            VRF: \n",
      "            ToS: 0 (copied)\n",
      "            TTL: 255\n",
      "            DFbit: Not set\n",
      "\n",
      "Information from SPAN EA on all nodes:\n",
      "Monitor-session 0x00000001 (Ethernet)\n",
      "0/RP0/CPU0: Name 'ERSPAN1', destination interface tunnel-ip1 (0x0f00001c)\n",
      "Platform, 0/RP0/CPU0:\n",
      "\n",
      "  Monitor Session ID: 1\n",
      "  TransportNH ID: 1\n",
      "  GRE Destination's NH resolved: TRUE\n",
      "  NH Interface: 0xf0001a0\n",
      "  NH Aggr Interface: 0x0\n",
      "  Monitor Session Packets: 6858\n",
      "  Monitor Session Bytes: 27432\n",
      "\n",
      "RP/0/RP0/CPU0:PE1#\n"
     ]
    }
   ],
   "source": [
    "print(\"Please wait. It may take 4-5 seconds to retrieve the information from the telnet console.\")\n",
    "\n",
    "loginpe1.write(('''\n",
    "configure\n",
    "interface FourHundredGigE0/0/0/0\n",
    "no monitor-session ERSPAN1 ethernet direction rx-only port-level\n",
    "commit\n",
    "root\n",
    "exit\n",
    "show monitor-session ERSPAN1 status internal\n",
    "''').encode('ascii'))\n",
    "\n",
    "line = loginpe1.read_until(b'/r/n',8)\n",
    "print(line.decode())"
   ]
  },
  {
   "cell_type": "markdown",
   "metadata": {},
   "source": [
    "## <a name=\"step18\"></a>Use case 2: ACL-based ERSPAN\n",
    "\n",
    "Port-level ERSPAN is not recommended when there is high traffic inflow. Using ACL-based ERSPAN, we can mirror specific streams of traffic to the Analyzer for a deeper inspection.\n",
    "\n",
    "ACLs control whether routed packets are forwarded or blocked at the router interface. The router examines each packet in order to determine whether to forward or drop the packet based on the criteria within the ACL. ACL criteria include:\n",
    "\n",
    "* Source address of the traffic\n",
    "* Destination address of the traffic\n",
    "* Upper-layer protocol\n",
    "\n",
    "There are three streams of incoming traffic on port 0/0/0/0 of the provider edge (PE1) router. In this use case, one of these streams is mirrored to the traffic analyzer using Access Control List (ACL) based ERSPAN.\n",
    "\n",
    "![ERSPAN Use Case](topology5.png)\n"
   ]
  },
  {
   "cell_type": "markdown",
   "metadata": {},
   "source": [
    "### <a name=\"step8\"></a>Configure ACL-based ERSPAN\n",
    "\n",
    "\n",
    "> <i>The section below: \n",
    "    \n",
    "> <i> - Configures an ACL which specifies the host IP addresses which should be permitted/denied and captured. \n",
    "    \n",
    "> <i> - Applies the ACL to the incoming interface of PE1 is 0/0/0/0, along with ERSPAN. \n",
    "    \n",
    "> <i>In this case, only the UDP traffic stream from the 10.3.3.0/24 network will be sent to the analyzer.<i>\n"
   ]
  },
  {
   "cell_type": "code",
   "execution_count": 15,
   "metadata": {
    "tags": [
     "hide_input"
    ]
   },
   "outputs": [
    {
     "name": "stdout",
     "output_type": "stream",
     "text": [
      "Please wait. It may take 4-5 seconds to retrieve the information from the telnet console.\n",
      "\n",
      "RP/0/RP0/CPU0:PE1#configure\n",
      "redGigE0/0/0/0\n",
      "monitor-session ERSPAN1 ethernet direction rx-only port-level acl\n",
      "ipv4 access-group INGRESS_ACL ingress\n",
      "commit\n",
      "root\n",
      "exit\n",
      "Tue Apr 27 10:20:43.071 UTC\n",
      "RP/0/RP0/CPU0:PE1(config)#!ACL CONFIGURATION\n",
      "RP/0/RP0/CPU0:PE1(config)#ipv4 access-list INGRESS_ACL\n",
      "RP/0/RP0/CPU0:PE1(config-ipv4-acl)#10 permit udp 10.2.2.0/24 any\n",
      "RP/0/RP0/CPU0:PE1(config-ipv4-acl)#20 permit udp 10.3.3.0/24 any capture\n",
      "RP/0/RP0/CPU0:PE1(config-ipv4-acl)#30 permit udp 10.4.4.0/24 any \n",
      "RP/0/RP0/CPU0:PE1(config-ipv4-acl)#commit\n",
      "Tue Apr 27 10:20:43.517 UTC\n",
      "RP/0/RP0/CPU0:PE1(config-ipv4-acl)#root\n",
      "RP/0/RP0/CPU0:PE1(config)#!APPLY ACL AND ERSPAN TO THE SOURCE INTERFACE\n",
      "RP/0/RP0/CPU0:PE1(config)#interface FourHundredGigE0/0/0/0\n",
      "RP/0/RP0/CPU0:PE1(config-if)#monitor-session ERSPAN1 ethernet direction rx-only port-level acl\n",
      "RP/0/RP0/CPU0:PE1(config-if)#ipv4 access-group INGRESS_ACL ingress\n",
      "RP/0/RP0/CPU0:PE1(config-if)#commit\n",
      "Tue Apr 27 10:20:43.769 UTC\n",
      "RP/0/RP0/CPU0:PE1(config-if)#root\n",
      "RP/0/RP0/CPU0:PE1(config)#exit\n",
      "RP/0/RP0/CPU0:PE1#\n"
     ]
    }
   ],
   "source": [
    "print(\"Please wait. It may take 4-5 seconds to retrieve the information from the telnet console.\")\n",
    "loginpe1.write(('''\n",
    "configure\n",
    "!ACL CONFIGURATION\n",
    "ipv4 access-list INGRESS_ACL\n",
    "10 permit udp 10.2.2.0/24 any\n",
    "20 permit udp 10.3.3.0/24 any capture\n",
    "30 permit udp 10.4.4.0/24 any \n",
    "commit\n",
    "root\n",
    "!APPLY ACL AND ERSPAN TO THE SOURCE INTERFACE\n",
    "interface FourHundredGigE0/0/0/0\n",
    "monitor-session ERSPAN1 ethernet direction rx-only port-level acl\n",
    "ipv4 access-group INGRESS_ACL ingress\n",
    "commit\n",
    "root\n",
    "exit\n",
    "''').encode('ascii'))\n",
    "\n",
    "line = loginpe1.read_until(b'/r/n',8)\n",
    "print(line.decode())"
   ]
  },
  {
   "cell_type": "markdown",
   "metadata": {},
   "source": [
    "> <i> Verify the status of ERSPAN"
   ]
  },
  {
   "cell_type": "code",
   "execution_count": 16,
   "metadata": {},
   "outputs": [
    {
     "name": "stdout",
     "output_type": "stream",
     "text": [
      "\n",
      "RP/0/RP0/CPU0:PE1#show monitor-session ERSPAN1 status internal  \n",
      "Tue Apr 27 10:20:52.687 UTC\n",
      "Information from SPAN Manager and MA on all nodes:\n",
      "Monitor-session ERSPAN1 (ID 0x00000001) (Ethernet)\n",
      "SPAN Mgr: Destination interface tunnel-ip1 (0x0f00001c)\n",
      "          Last error: Success\n",
      "          Tunnel data:\n",
      "            Mode: GREoIPv4\n",
      "            Source IP: 209.165.200.225\n",
      "            Dest IP: 10.9.9.2\n",
      "            VRF: \n",
      "            ToS: 0 (copied)\n",
      "            TTL: 255\n",
      "            DFbit: Not set\n",
      "0/RP0/CPU0: Destination interface tunnel-ip1 (0x0f00001c)\n",
      "          Tunnel data:\n",
      "            Mode: GREoIPv4\n",
      "            Source IP: 209.165.200.225\n",
      "            Dest IP: 10.9.9.2\n",
      "            VRF: \n",
      "            ToS: 0 (copied)\n",
      "            TTL: 255\n",
      "            DFbit: Not set\n",
      "\n",
      "Information from SPAN EA on all nodes:\n",
      "Monitor-session 0x00000001 (Ethernet)\n",
      "0/RP0/CPU0: Name 'ERSPAN1', destination interface tunnel-ip1 (0x0f00001c)\n",
      "Platform, 0/RP0/CPU0:\n",
      "\n",
      "  Monitor Session ID: 1\n",
      "  TransportNH ID: 1\n",
      "  GRE Destination's NH resolved: TRUE\n",
      "  NH Interface: 0xf0001a0\n",
      "  NH Aggr Interface: 0x0\n",
      "  Monitor Session Packets: 7150\n",
      "  Monitor Session Bytes: 28600\n",
      "\n",
      "RP/0/RP0/CPU0:PE1#\n"
     ]
    }
   ],
   "source": [
    "print(\"Please wait. It may take 4-5 seconds to retrieve the information from the telnet console.\")\n",
    "loginpe1.write(('''\n",
    "show monitor-session ERSPAN1 status internal  \n",
    "''').encode('ascii'))\n",
    "\n",
    "line = loginpe1.read_until(b'/r/n',4)\n",
    "print(line.decode())"
   ]
  },
  {
   "cell_type": "markdown",
   "metadata": {},
   "source": [
    "### <a name=\"step6\"></a>Monitor Redirected Traffic Stream on Traffic Analyzer "
   ]
  },
  {
   "cell_type": "markdown",
   "metadata": {},
   "source": [
    "> <i>Now that the packets incoming on **PE1** from the **PE2** router are mirrored to the traffic analyzer, the network administrator or the network surveillance tool uses the following **show** commands:<i>\n",
    "    \n",
    "| tshark command              | Description                                             \n",
    "| --------------              | -----------                          \n",
    "| tshark -i eth3 -c 3         | Shows a summary of suspicous traffic packets.          \n",
    "| tshark -i eth3 -c 1 -P -V   | Shows a detailed dump of the captured packet using Wireshark traffic Analyzer.   \n",
    "\n",
    "> <i>Play the below cell to view the traffic packets that are mirrored to the traffic analyzer. Only the traffic stream with source address 10.3.3.1 should be present at the analyzer.<i>"
   ]
  },
  {
   "cell_type": "code",
   "execution_count": 17,
   "metadata": {
    "tags": [
     "hide_input"
    ]
   },
   "outputs": [
    {
     "name": "stdout",
     "output_type": "stream",
     "text": [
      "Running as user \"root\" and group \"root\". This could be dangerous.\n",
      "Capturing on 'eth3'\n",
      "  1 0.000000000     10.4.4.1 -> 10.1.1.1     UDP 110 Source port: blackjack  Destination port: 12\n",
      "Frame 1: 110 bytes on wire (880 bits), 110 bytes captured (880 bits) on interface 0\n",
      "    Interface id: 0\n",
      "    Encapsulation type: Ethernet (1)\n",
      "    Arrival Time: Apr 27, 2021 10:19:28.354042530 UTC\n",
      "    [Time shift for this packet: 0.000000000 seconds]\n",
      "    Epoch Time: 1619518768.354042530 seconds\n",
      "    [Time delta from previous captured frame: 0.000000000 seconds]\n",
      "    [Time delta from previous displayed frame: 0.000000000 seconds]\n",
      "    [Time since reference or first frame: 0.000000000 seconds]\n",
      "    Frame Number: 1\n",
      "    Frame Length: 110 bytes (880 bits)\n",
      "    Capture Length: 110 bytes (880 bits)\n",
      "    [Frame is marked: False]\n",
      "    [Frame is ignored: False]\n",
      "    [Protocols in frame: eth:ip:gre:erspan:eth:ip:udp:data]\n",
      "Ethernet II, Src: 78:7f:d1:56:40:18 (78:7f:d1:56:40:18), Dst: 02:69:48:2a:76:c9 (02:69:48:2a:76:c9)\n",
      "    Destination: 02:69:48:2a:76:c9 (02:69:48:2a:76:c9)\n",
      "        Address: 02:69:48:2a:76:c9 (02:69:48:2a:76:c9)\n",
      "        .... ..1. .... .... .... .... = LG bit: Locally administered address (this is NOT the factory default)\n",
      "        .... ...0 .... .... .... .... = IG bit: Individual address (unicast)\n",
      "    Source: 78:7f:d1:56:40:18 (78:7f:d1:56:40:18)\n",
      "        Address: 78:7f:d1:56:40:18 (78:7f:d1:56:40:18)\n",
      "        .... ..0. .... .... .... .... = LG bit: Globally unique address (factory default)\n",
      "        .... ...0 .... .... .... .... = IG bit: Individual address (unicast)\n",
      "    Type: IP (0x0800)\n",
      "Internet Protocol Version 4, Src: 209.165.200.225 (209.165.200.225), Dst: 10.9.9.2 (10.9.9.2)\n",
      "    Version: 4\n",
      "    Header length: 20 bytes\n",
      "    Differentiated Services Field: 0x00 (DSCP 0x00: Default; ECN: 0x00: Not-ECT (Not ECN-Capable Transport))\n",
      "        0000 00.. = Differentiated Services Codepoint: Default (0x00)\n",
      "        .... ..00 = Explicit Congestion Notification: Not-ECT (Not ECN-Capable Transport) (0x00)\n",
      "    Total Length: 96\n",
      "    Identification: 0x0000 (0)\n",
      "    Flags: 0x02 (Don't Fragment)\n",
      "        0... .... = Reserved bit: Not set\n",
      "        .1.. .... = Don't fragment: Set\n",
      "        ..0. .... = More fragments: Not set\n",
      "    Fragment offset: 0\n",
      "    Time to live: 254\n",
      "    Protocol: GRE (47)\n",
      "    Header checksum: 0xcedc [validation disabled]\n",
      "        [Good: False]\n",
      "        [Bad: False]\n",
      "    Source: 209.165.200.225 (209.165.200.225)\n",
      "    Destination: 10.9.9.2 (10.9.9.2)\n",
      "Generic Routing Encapsulation (ERSPAN)\n",
      "    Flags and Version: 0x1000\n",
      "        0... .... .... .... = Checksum Bit: No\n",
      "        .0.. .... .... .... = Routing Bit: No\n",
      "        ..0. .... .... .... = Key Bit: No\n",
      "        ...1 .... .... .... = Sequence Number Bit: Yes\n",
      "        .... 0... .... .... = Strict Source Route Bit: No\n",
      "        .... .000 .... .... = Recursion control: 0\n",
      "        .... .... 0000 0... = Flags (Reserved): 0\n",
      "        .... .... .... .000 = Version: GRE (0)\n",
      "    Protocol Type: ERSPAN (0x88be)\n",
      "    Sequence Number: 0\n",
      "Encapsulated Remote Switch Packet ANalysis\n",
      "    0001 .... .... .... = Version: Type II (1)\n",
      "    .... 0000 0000 0000 = Vlan: 0\n",
      "    000. .... .... .... = Priority: 0\n",
      "    ...0 .... .... .... = Unknown2: 0\n",
      "    .... 0... .... .... = Direction: Incoming (0)\n",
      "    .... .0.. .... .... = Truncated: Not truncated (0)\n",
      "    .... ..00 0000 0001 = SpanID: 1\n",
      "    Unknown7: 00000000\n",
      "Ethernet II, Src: 02:96:3f:a4:aa:cf (02:96:3f:a4:aa:cf), Dst: 78:ce:b3:12:40:00 (78:ce:b3:12:40:00)\n",
      "    Destination: 78:ce:b3:12:40:00 (78:ce:b3:12:40:00)\n",
      "        Address: 78:ce:b3:12:40:00 (78:ce:b3:12:40:00)\n",
      "        .... ..0. .... .... .... .... = LG bit: Globally unique address (factory default)\n",
      "        .... ...0 .... .... .... .... = IG bit: Individual address (unicast)\n",
      "    Source: 02:96:3f:a4:aa:cf (02:96:3f:a4:aa:cf)\n",
      "        Address: 02:96:3f:a4:aa:cf (02:96:3f:a4:aa:cf)\n",
      "        .... ..1. .... .... .... .... = LG bit: Locally administered address (this is NOT the factory default)\n",
      "        .... ...0 .... .... .... .... = IG bit: Individual address (unicast)\n",
      "    Type: IP (0x0800)\n",
      "Internet Protocol Version 4, Src: 10.4.4.1 (10.4.4.1), Dst: 10.1.1.1 (10.1.1.1)\n",
      "    Version: 4\n",
      "    Header length: 20 bytes\n",
      "    Differentiated Services Field: 0x00 (DSCP 0x00: Default; ECN: 0x00: Not-ECT (Not ECN-Capable Transport))\n",
      "        0000 00.. = Differentiated Services Codepoint: Default (0x00)\n",
      "        .... ..00 = Explicit Congestion Notification: Not-ECT (Not ECN-Capable Transport) (0x00)\n",
      "    Total Length: 46\n",
      "    Identification: 0x0001 (1)\n",
      "    Flags: 0x00\n",
      "        0... .... = Reserved bit: Not set\n",
      "        .0.. .... = Don't fragment: Not set\n",
      "        ..0. .... = More fragments: Not set\n",
      "    Fragment offset: 0\n",
      "    Time to live: 64\n",
      "    Protocol: UDP (17)\n",
      "    Header checksum: 0x61b8 [validation disabled]\n",
      "        [Good: False]\n",
      "        [Bad: False]\n",
      "    Source: 10.4.4.1 (10.4.4.1)\n",
      "    Destination: 10.1.1.1 (10.1.1.1)\n",
      "User Datagram Protocol, Src Port: blackjack (1025), Dst Port: 12 (12)\n",
      "    Source port: blackjack (1025)\n",
      "    Destination port: 12 (12)\n",
      "    Length: 26\n",
      "    Checksum: 0xa66a [validation disabled]\n",
      "        [Good Checksum: False]\n",
      "        [Bad Checksum: False]\n",
      "Data (18 bytes)\n",
      "\n",
      "0000  78 78 78 78 78 78 78 78 78 78 78 78 78 78 78 78   xxxxxxxxxxxxxxxx\n",
      "0010  78 78                                             xx\n",
      "    Data: 787878787878787878787878787878787878\n",
      "    [Length: 18]\n",
      "\n",
      "1 packet captured\n",
      "[root@localhost ~]# tshark -i eth3 -c 3\n"
     ]
    },
    {
     "data": {
      "text/plain": [
       "0"
      ]
     },
     "execution_count": 17,
     "metadata": {},
     "output_type": "execute_result"
    }
   ],
   "source": [
    "PROMPT = '.*root@localhost.*'\n",
    "interact.send('tshark -i eth3 -c 3')\n",
    "interact.expect(PROMPT, timeout=10)"
   ]
  },
  {
   "cell_type": "code",
   "execution_count": 18,
   "metadata": {},
   "outputs": [
    {
     "name": "stdout",
     "output_type": "stream",
     "text": [
      "Running as user \"root\" and group \"root\". This could be dangerous.\n",
      "Capturing on 'eth3'\n",
      "  1 0.000000000     10.3.3.1 -> 10.1.1.1     UDP 110 Source port: blackjack  Destination port: 12\n",
      "  2 0.030985273     10.3.3.1 -> 10.1.1.1     UDP 110 Source port: blackjack  Destination port: 12\n",
      "  3 0.060113403     10.3.3.1 -> 10.1.1.1     UDP 110 Source port: blackjack  Destination port: 12\n",
      "3 packets captured\n",
      "[root@localhost ~]# "
     ]
    },
    {
     "data": {
      "text/plain": [
       "0"
      ]
     },
     "execution_count": 18,
     "metadata": {},
     "output_type": "execute_result"
    }
   ],
   "source": [
    "interact.send('tshark -i eth3 -c 1 -P -V')\n",
    "interact.expect(PROMPT, timeout=15)"
   ]
  },
  {
   "cell_type": "markdown",
   "metadata": {
    "tags": [
     "remove_cell"
    ]
   },
   "source": [
    "## <a name=\"step7\"></a>Clean up Emulator Session"
   ]
  },
  {
   "cell_type": "markdown",
   "metadata": {
    "tags": [
     "remove_cell"
    ]
   },
   "source": [
    "> <i>Bring down the server sessions and the emulator once done."
   ]
  },
  {
   "cell_type": "code",
   "execution_count": 19,
   "metadata": {
    "tags": [
     "remove_cell"
    ]
   },
   "outputs": [],
   "source": [
    "client.close()\n",
    "client1.close()\n",
    "client2.close()\n",
    "loginpe1.close()\n",
    "loginpe2.close()"
   ]
  },
  {
   "cell_type": "code",
   "execution_count": 20,
   "metadata": {
    "tags": [
     "remove_cell"
    ]
   },
   "outputs": [
    {
     "name": "stderr",
     "output_type": "stream",
     "text": [
      "INFO:pyvxr.vxr:Stopping sim on host localhost (dir /nobackup/vxr/pyvxr/beu3recu62)\n",
      "INFO:pyvxr.sim:Stopping previous simulation (if any)\n"
     ]
    }
   ],
   "source": [
    "sim.stop()"
   ]
  },
  {
   "cell_type": "code",
   "execution_count": 21,
   "metadata": {
    "tags": [
     "remove_cell"
    ]
   },
   "outputs": [
    {
     "name": "stderr",
     "output_type": "stream",
     "text": [
      "INFO:pyvxr.vxr:Cleaning sim on host localhost (dir /nobackup/vxr/pyvxr/beu3recu62)\n",
      "INFO:pyvxr.sim:Stopping previous simulation (if any)\n",
      "INFO:pyvxr.sim:Cleaning previous simulation (if any)\n"
     ]
    }
   ],
   "source": [
    "sim.clean()\n",
    "# Clean up sim scratch space\n",
    "shutil.rmtree(sim_dir)"
   ]
  },
  {
   "cell_type": "markdown",
   "metadata": {
    "tags": [
     "remove_cell"
    ]
   },
   "source": [
    "If you have any comments or suggestions about this notebook or ideas for anymore notebooks, please send an email to sasamuel@cisco.com"
   ]
  }
 ],
 "metadata": {
  "kernelspec": {
   "display_name": "Python 3",
   "language": "python",
   "name": "python3"
  },
  "language_info": {
   "codemirror_mode": {
    "name": "ipython",
    "version": 3
   },
   "file_extension": ".py",
   "mimetype": "text/x-python",
   "name": "python",
   "nbconvert_exporter": "python",
   "pygments_lexer": "ipython3",
   "version": "3.8.8"
  }
 },
 "nbformat": 4,
 "nbformat_minor": 4
}
