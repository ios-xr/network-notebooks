{
 "cells": [
  {
   "cell_type": "markdown",
   "metadata": {},
   "source": [
    "# Configure Access Control List using Yang Model\n",
    "<sup>Authored by Annapoorani G (annag@cisco.com)</sup>"
   ]
  },
  {
   "cell_type": "markdown",
   "metadata": {},
   "source": [
    "\n",
    "Typically, CLIs are widely used for configuring and extracting the operational details of a router. But the general mechanism of CLI scraping is not flexible and optimal. Small changes in the configuration require rewriting scripts multiple times. Bulk configuration changes through CLIs are cumbersome and error-prone. These limitations restrict automation and scale. To overcome these limitations, you need an automated mechanism to manage your network.\n",
    "\n",
    "Cisco IOS XR supports a programmatic way of configuring and collecting operational data of a network device using data models. They replace the process of manual configuration, which is proprietary, and highly text-based. The data models are written in an industry-defined language and is used to automate configuration task and retreive operational data across heterogeneous devices in a network.\n",
    "Model-driven programmability provides a simple, flexible and rich framework for device programmability. This programmability framework provides multiple choices to interface with an IOS XR device in terms of transport, protocol and encoding. These choices are decoupled from the models for greater flexibility."
   ]
  },
  {
   "cell_type": "markdown",
   "metadata": {},
   "source": [
    ">In this notebook, let's explore how to configure ACL on a router using Yang model.\n"
   ]
  },
  {
   "cell_type": "markdown",
   "metadata": {},
   "source": [
    "# Configuration Steps"
   ]
  },
  {
   "cell_type": "markdown",
   "metadata": {},
   "source": [
    "\n",
    "* [Bring Up Emulator](#step1)\n",
    "* [Configure ACL using Yang](#step2)\n",
    "* [Verify the ACL configuration](#step3)\n",
    "\n",
    "\n"
   ]
  },
  {
   "cell_type": "markdown",
   "metadata": {},
   "source": [
    "### <a name=\"step1\"></a>Bring up Your Emulator"
   ]
  },
  {
   "cell_type": "markdown",
   "metadata": {},
   "source": [
    ">First, you'll have to set up the emulator to build your network. The code below helps you set up the IOS XR configurations for a 2 router topology for our virtual test bed and a Linux server to use on the same LAN, with SSH to all of the routers.\n",
    "To run the code, select the cell  cell and then press the 'play' button on the bar above. \n"
   ]
  },
  {
   "cell_type": "code",
   "execution_count": 1,
   "metadata": {},
   "outputs": [
    {
     "name": "stderr",
     "output_type": "stream",
     "text": [
      "INFO:pyvxr.vxr:v1.1.0 2021-04-23 05:58 output_dir:vxr.out\n",
      "INFO:pyvxr.vxr:b10e8f6b8c14:/home/vxr/notebooks/Put-Technology-to-Work/ACL\n",
      "WARNING:pyvxr.vxr:Config not specified or not found. Will attempt to release slurm resources if reserved\n",
      "INFO:pyvxr.vxr:Extracting vxr version from '/opt/cisco/vxr2/latest/setup.sh' file.\n",
      "INFO:pyvxr.vxr_session:Starting a local bash session for user:vxr\n"
     ]
    },
    {
     "name": "stdout",
     "output_type": "stream",
     "text": [
      "3.8.8 (default, Apr 13 2021, 19:58:26) \n",
      "[GCC 7.3.0]\n",
      "Sim clean: Done\n",
      "Simulation starting. Please wait for the Sim status message. This may take 3-10 minutes.\n"
     ]
    },
    {
     "name": "stderr",
     "output_type": "stream",
     "text": [
      "INFO:pyvxr.sim:Launch: sim_dir:/nobackup/vxr/pyvxr/lf1mp6px4n sim_rel:/opt/cisco/vxr2/latest\n",
      "INFO:pyvxr.sim:Stopping previous simulation (if any)\n",
      "INFO:pyvxr.sim:Cleaning previous simulation (if any)\n",
      "INFO:pyvxr.sim:Starting vxr: 'sim --skiphomecheck -n '\n",
      "INFO:pyvxr.sim:Vxr up on host localhost\n",
      "INFO:pyvxr.vxr:Getting port vector files for:r1, r2\n",
      "INFO:pyvxr.console:r2:wait for XR login prompt (console output captured in vxr.out/logs/console.r2.log)\n",
      "INFO:pyvxr.console:r1:wait for XR login prompt (console output captured in vxr.out/logs/console.r1.log)\n",
      "INFO:pyvxr.console:r1:entering new XR username 'cisco', password 'cisco123'\n",
      "INFO:pyvxr.console:r1:entering XR username 'cisco', password 'cisco123'\n",
      "INFO:pyvxr.console:r2:entering new XR username 'cisco', password 'cisco123'\n",
      "INFO:pyvxr.bringup:r1:login successful\n",
      "INFO:pyvxr.bringup:r1:wait for IOS XR RUN state\n",
      "INFO:pyvxr.bringup:r1:run state RPs:1 (expected:1) LCs:0 (expected:0)\n",
      "INFO:pyvxr.bringup:r1:all nodes reached IOS XR RUN state\n",
      "INFO:pyvxr.console:r1:applying initial XR config (terminal width, etc)\n",
      "INFO:pyvxr.console:r1:waiting for ztp and cvac to complete\n",
      "INFO:pyvxr.console:r1:found ztp directory. Assuming ztp present\n",
      "INFO:pyvxr.console:r1:waiting for ztp to complete\n",
      "INFO:pyvxr.console:r1:ztp done\n",
      "INFO:pyvxr.console:r2:entering XR username 'cisco', password 'cisco123'\n",
      "INFO:pyvxr.bringup:r2:login successful\n",
      "INFO:pyvxr.bringup:r2:wait for IOS XR RUN state\n",
      "INFO:pyvxr.bringup:r2:run state RPs:1 (expected:1) LCs:0 (expected:0)\n",
      "INFO:pyvxr.bringup:r2:all nodes reached IOS XR RUN state\n",
      "INFO:pyvxr.console:r2:applying initial XR config (terminal width, etc)\n",
      "INFO:pyvxr.console:r2:waiting for ztp and cvac to complete\n",
      "INFO:pyvxr.console:r2:found ztp directory. Assuming ztp present\n",
      "INFO:pyvxr.console:r2:waiting for ztp to complete\n",
      "INFO:pyvxr.console:r2:ztp done\n",
      "INFO:pyvxr.vxr:Setting up ssh tunnels on host 'localhost'\n",
      "INFO:pyvxr.ssh_tunnel:Configure mgmt interfaces before setting up ssh tunnels\n",
      "INFO:pyvxr.console:r1:need to configure mgmt interface MgmtEth0/RP0/CPU0/0\n",
      "INFO:pyvxr.console:r2:need to configure mgmt interface MgmtEth0/RP0/CPU0/0\n",
      "INFO:pyvxr.console:r1:mgmt interface configuration applied\n",
      "INFO:pyvxr.console:r2:mgmt interface configuration applied\n",
      "INFO:pyvxr.console:r1:mgmt interface up (ip:192.168.254.155)\n",
      "INFO:pyvxr.console:r2:mgmt interface up (ip:192.168.254.156)\n",
      "INFO:pyvxr.vxr_session:Starting a local bash session for user:vxr\n",
      "INFO:pyvxr.vxr_session:Starting a local bash session for user:vxr\n",
      "INFO:pyvxr.ssh_tunnel:r1:Setting up ssh tunnels for port(s) [22, 23, 830]\n",
      "INFO:pyvxr.ssh_tunnel:r2:Setting up ssh tunnels for port(s) [22, 23, 830]\n",
      "INFO:pyvxr.bringup:r1:applying XR config\n",
      "INFO:pyvxr.bringup:r2:applying XR config\n",
      "INFO:pyvxr.vxr:Sim up\n",
      "INFO:pyvxr.vxr:Getting sim status from localhost:/nobackup/vxr/pyvxr/lf1mp6px4n\n"
     ]
    },
    {
     "name": "stdout",
     "output_type": "stream",
     "text": [
      "{'r1': {'HostAgent': '172.17.0.2', 'dual_rp': False, 'linecard_slots': [0], 'monitor0': 43323, 'plugin': '8201', 'redir0': 0, 'serial0': 43382, 'serial1': 37609, 'xr_mgmt_ip': '192.168.254.155', 'xr_redir22': 61928, 'xr_redir23': 64763, 'xr_redir830': 64725}, 'r2': {'HostAgent': '172.17.0.2', 'dual_rp': False, 'linecard_slots': [0], 'monitor0': 42951, 'plugin': '8201', 'redir0': 0, 'serial0': 38622, 'serial1': 33989, 'xr_mgmt_ip': '192.168.254.156', 'xr_redir22': 60414, 'xr_redir23': 62640, 'xr_redir830': 64424}}\n",
      "Sim status:  {'localhost': 'running'}\n"
     ]
    }
   ],
   "source": [
    "from acl import *\n",
    "sim = Vxr()\n",
    "sim.no_image_copy=True\n",
    "sim.clean()\n",
    "print(\"Sim clean: Done\")\n",
    "print(\"Simulation starting. Please wait for the Sim status message. This may take 3-10 minutes.\")\n",
    "\n",
    "try:\n",
    "    sim.start(cfg)\n",
    "    ports=sim.ports()\n",
    "    print(ports)\n",
    "    status = sim.status()\n",
    "    print(\"Sim status: \", status)\n",
    "except Exception as err:\n",
    "    print(\"Sim launch failed (%s)\" % str(err))"
   ]
  },
  {
   "cell_type": "markdown",
   "metadata": {},
   "source": [
    ">At this point, console access to the router is available. Optionally, you can access the simulated router consoles directly from your laptop  through ssh.\n",
    "<b>Note the host and port niumber from the output. You muct update the the code when applying the yang model.<b>"
   ]
  },
  {
   "cell_type": "code",
   "execution_count": 2,
   "metadata": {},
   "outputs": [
    {
     "name": "stdout",
     "output_type": "stream",
     "text": [
      "Consoles can be reached by:\n",
      "telnet 172.17.0.2 43382 \n",
      " telnet 172.17.0.2 38622\n",
      "or better:\n",
      "ssh cisco@172.17.0.2 -p61928 \n",
      " ssh cisco@172.17.0.2 -p60414\n",
      "The password is cisco123\n"
     ]
    }
   ],
   "source": [
    "print('Consoles can be reached by:')\n",
    "print(get_telnet_cmd(sim, 'r1'), '\\n', get_telnet_cmd(sim, 'r2'))\n",
    "print('or better:')\n",
    "print(get_ssh_cmd(sim, 'r1'), '\\n', get_ssh_cmd(sim, 'r2'))\n",
    "print('The password is cisco123')"
   ]
  },
  {
   "cell_type": "code",
   "execution_count": 3,
   "metadata": {},
   "outputs": [
    {
     "name": "stdout",
     "output_type": "stream",
     "text": [
      "172.17.0.2 61928\n"
     ]
    }
   ],
   "source": [
    "ports = sim.ports()\n",
    "r1_host = str(ports['r1']['HostAgent'])\n",
    "r1_port = str(ports['r1']['xr_redir22'])\n",
    "print(r1_host, r1_port)"
   ]
  },
  {
   "cell_type": "markdown",
   "metadata": {},
   "source": [
    "### <a name=\"step2\"></a>Configure ACL using Yang"
   ]
  },
  {
   "cell_type": "markdown",
   "metadata": {},
   "source": [
    ">Prerequistes:  You've to install ncclient to run your yang model."
   ]
  },
  {
   "cell_type": "code",
   "execution_count": 4,
   "metadata": {},
   "outputs": [
    {
     "name": "stdout",
     "output_type": "stream",
     "text": [
      "Requirement already satisfied: ncclient in /home/vxr/miniconda3/envs/pyvxr/lib/python3.8/site-packages (0.6.10)\n",
      "Requirement already satisfied: setuptools>0.6 in /home/vxr/miniconda3/envs/pyvxr/lib/python3.8/site-packages (from ncclient) (56.0.0)\n",
      "Requirement already satisfied: lxml>=3.3.0 in /home/vxr/miniconda3/envs/pyvxr/lib/python3.8/site-packages (from ncclient) (4.6.3)\n",
      "Requirement already satisfied: paramiko>=1.15.0 in /home/vxr/miniconda3/envs/pyvxr/lib/python3.8/site-packages (from ncclient) (2.7.2)\n",
      "Requirement already satisfied: six in /home/vxr/miniconda3/envs/pyvxr/lib/python3.8/site-packages (from ncclient) (1.15.0)\n",
      "Requirement already satisfied: pynacl>=1.0.1 in /home/vxr/miniconda3/envs/pyvxr/lib/python3.8/site-packages (from paramiko>=1.15.0->ncclient) (1.4.0)\n",
      "Requirement already satisfied: cryptography>=2.5 in /home/vxr/miniconda3/envs/pyvxr/lib/python3.8/site-packages (from paramiko>=1.15.0->ncclient) (3.4.7)\n",
      "Requirement already satisfied: bcrypt>=3.1.3 in /home/vxr/miniconda3/envs/pyvxr/lib/python3.8/site-packages (from paramiko>=1.15.0->ncclient) (3.2.0)\n",
      "Requirement already satisfied: cffi>=1.1 in /home/vxr/miniconda3/envs/pyvxr/lib/python3.8/site-packages (from bcrypt>=3.1.3->paramiko>=1.15.0->ncclient) (1.14.5)\n",
      "Requirement already satisfied: pycparser in /home/vxr/miniconda3/envs/pyvxr/lib/python3.8/site-packages (from cffi>=1.1->bcrypt>=3.1.3->paramiko>=1.15.0->ncclient) (2.20)\n",
      "Note: you may need to restart the kernel to use updated packages.\n"
     ]
    }
   ],
   "source": [
    "pip install ncclient"
   ]
  },
  {
   "cell_type": "markdown",
   "metadata": {},
   "source": [
    ">Configure ACL using the yang.xml model. You can update the permit and deny statements and also update the interface where you want to apply ACL. Ensure to configure passwordless shh connection. See https://help.dreamhost.com/hc/en-us/articles/216499537-How-to-configure-passwordless-login-in-Mac-OS-X-and-Linux."
   ]
  },
  {
   "cell_type": "code",
   "execution_count": 5,
   "metadata": {},
   "outputs": [
    {
     "name": "stderr",
     "output_type": "stream",
     "text": [
      "INFO:ncclient.transport.ssh:Connected (version 2.0, client Cisco-2.0)\n",
      "INFO:ncclient.transport.ssh:Authentication (password) successful!\n",
      "INFO:ncclient.transport.ssh:[host 172.17.0.2 session 0x7f3dc00a5e50] Sending:\n",
      "b'<?xml version=\"1.0\" encoding=\"UTF-8\"?><nc:hello xmlns:nc=\"urn:ietf:params:xml:ns:netconf:base:1.0\"><nc:capabilities><nc:capability>urn:ietf:params:netconf:base:1.0</nc:capability><nc:capability>urn:ietf:params:netconf:base:1.1</nc:capability><nc:capability>urn:ietf:params:netconf:capability:writable-running:1.0</nc:capability><nc:capability>urn:ietf:params:netconf:capability:candidate:1.0</nc:capability><nc:capability>urn:ietf:params:netconf:capability:confirmed-commit:1.0</nc:capability><nc:capability>urn:ietf:params:netconf:capability:rollback-on-error:1.0</nc:capability><nc:capability>urn:ietf:params:netconf:capability:startup:1.0</nc:capability><nc:capability>urn:ietf:params:netconf:capability:url:1.0?scheme=http,ftp,file,https,sftp</nc:capability><nc:capability>urn:ietf:params:netconf:capability:validate:1.0</nc:capability><nc:capability>urn:ietf:params:netconf:capability:xpath:1.0</nc:capability><nc:capability>urn:ietf:params:netconf:capability:notification:1.0</nc:capability><nc:capability>urn:liberouter:params:netconf:capability:power-control:1.0</nc:capability><nc:capability>urn:ietf:params:netconf:capability:interleave:1.0</nc:capability><nc:capability>urn:ietf:params:netconf:capability:with-defaults:1.0</nc:capability></nc:capabilities></nc:hello>]]>]]>'\n",
      "INFO:ncclient.transport.ssh:[host 172.17.0.2 session 0x7f3dc00a5e50] Received message from host\n",
      "INFO:ncclient.transport.ssh:[host 172.17.0.2 session-id 681718173] initialized: session-id=681718173 | server_capabilities=<dict_keyiterator object at 0x7f3da8c2fdb0>\n",
      "INFO:ncclient.operations.rpc:[host 172.17.0.2 session-id 681718173] Requesting 'EditConfig'\n",
      "INFO:ncclient.transport.ssh:[host 172.17.0.2 session-id 681718173] Sending:\n",
      "b'\\n#1765\\n<?xml version=\"1.0\" encoding=\"UTF-8\"?><nc:rpc xmlns:nc=\"urn:ietf:params:xml:ns:netconf:base:1.0\" message-id=\"urn:uuid:d2bea575-20ad-4c06-b905-f004ee8606af\"><nc:edit-config><nc:target><nc:candidate/></nc:target><config>\\n<ipv4-acl-and-prefix-list xmlns=\"http://cisco.com/ns/yang/Cisco-IOS-XR-ipv4-acl-cfg\">\\n   <accesses>\\n    <access>\\n     <access-list-name>myacl</access-list-name>\\n     <access-list-entries>\\n      <access-list-entry>\\n       <sequence-number>2</sequence-number>\\n       <grant>permit</grant>\\n       <source-network>\\n        <source-address>10.5.7.1</source-address>\\n       </source-network>\\n       <sequence-str>2</sequence-str>\\n      </access-list-entry>\\n      <access-list-entry>\\n       <sequence-number>5</sequence-number>\\n       <grant>deny</grant>\\n       <source-network>\\n        <source-address>198.51.100.1</source-address>\\n       </source-network>\\n       <sequence-str>5</sequence-str>\\n      </access-list-entry>\\n      <access-list-entry>\\n       <sequence-number>10</sequence-number>\\n       <grant>deny</grant>\\n       <protocol>tcp</protocol>\\n       <sequence-str>10</sequence-str>\\n      </access-list-entry>\\n     </access-list-entries>\\n    </access>\\n   </accesses>\\n  </ipv4-acl-and-prefix-list>\\n <acl xmlns=\"http://openconfig.net/yang/acl\">\\n   <interfaces>\\n    <interface>\\n     <id>FourHundredGigE0/0/0/1</id>\\n     <config>\\n      <id>FourHundredGigE0/0/0/1</id>\\n     </config>\\n     <interface-ref>\\n      <config>\\n       <interface>FourHundredGigE0/0/0/1</interface>\\n      </config>\\n     </interface-ref>\\n     <ingress-acl-sets>\\n      <ingress-acl-set>\\n       <set-name>myacl</set-name>\\n       <type>ACL_IPV4</type>\\n      </ingress-acl-set>\\n     </ingress-acl-sets>\\n    </interface>\\n   </interfaces>\\n </acl>\\n</config></nc:edit-config></nc:rpc>\\n##\\n'\n",
      "INFO:ncclient.transport.ssh:[host 172.17.0.2 session-id 681718173] Received message from host\n",
      "INFO:ncclient.operations.rpc:[host 172.17.0.2 session-id 681718173] Requesting 'Commit'\n",
      "INFO:ncclient.transport.ssh:[host 172.17.0.2 session-id 681718173] Sending:\n",
      "b'\\n#177\\n<?xml version=\"1.0\" encoding=\"UTF-8\"?><nc:rpc xmlns:nc=\"urn:ietf:params:xml:ns:netconf:base:1.0\" message-id=\"urn:uuid:b2efa190-8ca6-49b1-8948-eb10df9871d8\"><nc:commit/></nc:rpc>\\n##\\n'\n",
      "INFO:ncclient.transport.ssh:[host 172.17.0.2 session-id 681718173] Received message from host\n"
     ]
    },
    {
     "name": "stdout",
     "output_type": "stream",
     "text": [
      "<?xml version=\"1.0\"?>\n",
      "<rpc-reply message-id=\"urn:uuid:d2bea575-20ad-4c06-b905-f004ee8606af\" xmlns:nc=\"urn:ietf:params:xml:ns:netconf:base:1.0\" xmlns=\"urn:ietf:params:xml:ns:netconf:base:1.0\">\n",
      " <ok/>\n",
      "</rpc-reply>\n",
      "\n"
     ]
    }
   ],
   "source": [
    "from ncclient import manager\n",
    "from ncclient.xml_ import to_ele\n",
    "from lxml import etree\n",
    "\n",
    "aclconfig = '''\n",
    "<config>\n",
    "<ipv4-acl-and-prefix-list xmlns=\"http://cisco.com/ns/yang/Cisco-IOS-XR-ipv4-acl-cfg\">\n",
    "   <accesses>\n",
    "    <access>\n",
    "     <access-list-name>myacl</access-list-name>\n",
    "     <access-list-entries>\n",
    "      <access-list-entry>\n",
    "       <sequence-number>2</sequence-number>\n",
    "       <grant>permit</grant>\n",
    "       <source-network>\n",
    "        <source-address>10.5.7.1</source-address>\n",
    "       </source-network>\n",
    "       <sequence-str>2</sequence-str>\n",
    "      </access-list-entry>\n",
    "      <access-list-entry>\n",
    "       <sequence-number>5</sequence-number>\n",
    "       <grant>deny</grant>\n",
    "       <source-network>\n",
    "        <source-address>198.51.100.1</source-address>\n",
    "       </source-network>\n",
    "       <sequence-str>5</sequence-str>\n",
    "      </access-list-entry>\n",
    "      <access-list-entry>\n",
    "       <sequence-number>10</sequence-number>\n",
    "       <grant>deny</grant>\n",
    "       <protocol>tcp</protocol>\n",
    "       <sequence-str>10</sequence-str>\n",
    "      </access-list-entry>\n",
    "     </access-list-entries>\n",
    "    </access>\n",
    "   </accesses>\n",
    "  </ipv4-acl-and-prefix-list>\n",
    " <acl xmlns=\"http://openconfig.net/yang/acl\">\n",
    "   <interfaces>\n",
    "    <interface>\n",
    "     <id>FourHundredGigE0/0/0/1</id>\n",
    "     <config>\n",
    "      <id>FourHundredGigE0/0/0/1</id>\n",
    "     </config>\n",
    "     <interface-ref>\n",
    "      <config>\n",
    "       <interface>FourHundredGigE0/0/0/1</interface>\n",
    "      </config>\n",
    "     </interface-ref>\n",
    "     <ingress-acl-sets>\n",
    "      <ingress-acl-set>\n",
    "       <set-name>myacl</set-name>\n",
    "       <type>ACL_IPV4</type>\n",
    "      </ingress-acl-set>\n",
    "     </ingress-acl-sets>\n",
    "    </interface>\n",
    "   </interfaces>\n",
    " </acl>\n",
    "</config>\n",
    "'''\n",
    "\n",
    "\n",
    "                \n",
    "def connect(host, port, user, password, source):\n",
    "      conn = manager.connect(host=host,\n",
    "                             port=port,\n",
    "                             username=user,\n",
    "                             password=password,\n",
    "                             device_params={'name': 'iosxr'},\n",
    "                             hostkey_verify=False,\n",
    "                             allow_agent=False,\n",
    "                             look_for_keys=False                         \n",
    "                            )\n",
    "\n",
    "      rpc_reply = conn.edit_config(config=aclconfig)\n",
    "      conn.commit()\n",
    "      print(rpc_reply)\n",
    "\n",
    "connect(r1_host, r1_port, 'cisco', 'cisco123', 'candidate')\n",
    "\n",
    "\n"
   ]
  },
  {
   "cell_type": "markdown",
   "metadata": {},
   "source": [
    "> (optional) Retrieve the ACL yang model. "
   ]
  },
  {
   "cell_type": "markdown",
   "metadata": {},
   "source": [
    "### <a name=\"step3\"></a>Verify the ACL configuration"
   ]
  },
  {
   "cell_type": "markdown",
   "metadata": {},
   "source": [
    ">Access the telnet consoles of the router to verify the telemetry configuration."
   ]
  },
  {
   "cell_type": "code",
   "execution_count": 6,
   "metadata": {},
   "outputs": [
    {
     "name": "stdout",
     "output_type": "stream",
     "text": [
      "***** VIEW FROM TELNET CONSOLE *****\n",
      "\n",
      "RP/0/RP0/CPU0:P1#show ip access-lists\n",
      "Fri Apr 23 06:02:54.769 UTC\n",
      "ipv4 access-list myacl\n",
      " 2 permit ipv4 host 10.5.7.1 any\n",
      " 5 deny ipv4 host 198.51.100.1 any\n",
      " 10 deny tcp any any\n",
      "RP/0/RP0/CPU0:P1#\n"
     ]
    }
   ],
   "source": [
    "import telnetlib\n",
    "ports = sim.ports()\n",
    "loginr1 = telnetlib.Telnet(str(ports['r1']['HostAgent']) , str(ports['r1']['serial0']))\n",
    "loginr1.write(('''\n",
    "show ip access-lists\n",
    "''').encode('ascii'))\n",
    "line = loginr1.read_until(b'/r/n',2)\n",
    "print(\"***** VIEW FROM TELNET CONSOLE *****\")\n",
    "print(line.decode())"
   ]
  },
  {
   "cell_type": "markdown",
   "metadata": {},
   "source": [
    ">Once you are done with experimenting on the topology, you should bring down the emulator by executing the following steps:"
   ]
  },
  {
   "cell_type": "code",
   "execution_count": 7,
   "metadata": {},
   "outputs": [],
   "source": [
    "# close our telnet\n",
    "loginr1.close()"
   ]
  },
  {
   "cell_type": "code",
   "execution_count": 8,
   "metadata": {},
   "outputs": [
    {
     "name": "stderr",
     "output_type": "stream",
     "text": [
      "INFO:pyvxr.vxr:Stopping sim on host localhost (dir /nobackup/vxr/pyvxr/lf1mp6px4n)\n",
      "INFO:pyvxr.sim:Stopping previous simulation (if any)\n",
      "INFO:pyvxr.vxr:Cleaning sim on host localhost (dir /nobackup/vxr/pyvxr/lf1mp6px4n)\n",
      "INFO:pyvxr.sim:Stopping previous simulation (if any)\n",
      "INFO:pyvxr.sim:Cleaning previous simulation (if any)\n"
     ]
    }
   ],
   "source": [
    "# Close the sim\n",
    "sim.stop()\n",
    "sim.clean()\n",
    "# Clean up sim scratch space\n",
    "shutil.rmtree(sim_dir)"
   ]
  },
  {
   "cell_type": "code",
   "execution_count": null,
   "metadata": {},
   "outputs": [],
   "source": []
  }
 ],
 "metadata": {
  "kernelspec": {
   "display_name": "Python 3",
   "language": "python",
   "name": "python3"
  },
  "language_info": {
   "codemirror_mode": {
    "name": "ipython",
    "version": 3
   },
   "file_extension": ".py",
   "mimetype": "text/x-python",
   "name": "python",
   "nbconvert_exporter": "python",
   "pygments_lexer": "ipython3",
   "version": "3.8.8"
  }
 },
 "nbformat": 4,
 "nbformat_minor": 4
}
