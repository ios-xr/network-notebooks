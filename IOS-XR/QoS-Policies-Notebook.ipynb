{
 "cells": [
  {
   "cell_type": "markdown",
   "metadata": {},
   "source": [
    "# QoS, to make Networks Dependable\n",
    "<sup> <b>Inputs:</b> Vineet Upendra (vupendra@cisco.com) <b>Developed by:</b> Sarah Samuel (sasamuel@cisco.com) </sup>"
   ]
  },
  {
   "cell_type": "markdown",
   "metadata": {},
   "source": [
    "## What is Quality of Service?\n",
    "Quality of Service (QoS) is the technique of prioritizing traffic flows and providing preferential forwarding for higher-priority packets. The fundamental reason to implement QoS in your network is to provide guaranteed end-to-end traffic forwarding.\n",
    "\n",
    "Modular QoS provides features that ensure better and more predictable network service by:\n",
    "* supporting bandwidth allocation\n",
    "* improving loss characteristics\n",
    "* avoiding and managing network congestion\n",
    "* metering network traffic\n",
    "* setting traffic flow priorities across the network.\n",
    "\n",
    "This notebook shows you how you can configure QoS on the network with various examples.\n",
    "\n",
    "NETWORK TOPOLOGY:\n",
    "\n",
    "The following topology diagram depicts the topology that is brought up in this notebook.\n",
    "\n",
    "![Topology](./images/QoS.png)\n",
    "\n",
    "\n",
    "As you read through this notebook, play the code-cells, using the play button in the top left corner of this page, to send configuration commands to the simulated devices that are connected as shown in the topology diagram. The notebook refreshes the output of each cell-execution just beneath it.\n",
    "\n",
    "The devices in the topology are brought up when you reserved the sandbox. Now you can play the code-cells to [access device consoles](#Access-Device-Consoles) and continue playing through the following steps to [configure the base network](#Configure-Base-Network), [start network traffic](#Start-Network-Traffic) and configure QoS on the above topology.\n",
    "\n",
    "## QoS Configurations\n",
    "After the simulated topology is up and running with the base configurations, we apply the QoS configurations in the below sections:\n",
    "* [Create a class-map](#step5)\n",
    "* [Create a policy-map](#step6)\n",
    "* [Attach the traffic policy to an interface](#step7)\n",
    "* [Verification of the traffic policy](#step8)\n",
    "* [Example 1: IP Precedence Marking Configuration](#step9)\n",
    "* [Example 2: IP DSCP Marking Configuration](#step21)\n",
    "* [Example 3: QoS Group Marking Configuration](#step10)\n",
    "* [Example 4: MPLS Experimental Bit Imposition Marking Configuration](#step12)\n",
    "* [Example 5: MPLS Experimental Topmost Marking Configuration](#step13)"
   ]
  },
  {
   "cell_type": "markdown",
   "metadata": {},
   "source": [
    "### Access Device Consoles\n",
    "> Play the following cell to access the SSH console of each device in the topology."
   ]
  },
  {
   "cell_type": "code",
   "execution_count": null,
   "metadata": {},
   "outputs": [],
   "source": [
    "from lib.xr import *\n",
    "nodes = {\n",
    "         'PE1':'', \n",
    "         'P1':'',\n",
    "         'P2':'', \n",
    "         'PE2':'', \n",
    "         'trex':''\n",
    "        }\n",
    "\n",
    "tb = access_device_consoles(\"lib/tb.yaml\", nodes)"
   ]
  },
  {
   "cell_type": "markdown",
   "metadata": {},
   "source": [
    "### Configure Base Network\n",
    ">A simple 4 router OSPF MPLS network is the base network. Play the below cell to configure the routers. We have defined the base configuration for each of the routers in the file [xr.py](./lib/xr.py) in the respective configuration strings."
   ]
  },
  {
   "cell_type": "code",
   "execution_count": null,
   "metadata": {},
   "outputs": [],
   "source": [
    "out = nodes['PE1'].configure(pe1_config_str)\n",
    "out = nodes['P1'].configure(p1_config_str)\n",
    "out = nodes['P2'].configure(p2_config_str)\n",
    "out = nodes['PE2'].configure(pe2_config_str)"
   ]
  },
  {
   "cell_type": "markdown",
   "metadata": {},
   "source": [
    "### Start Network Traffic\n",
    "\n",
    "> TREX is a software traffic generator that runs on Linux. To simulate traffic flow across the 4 router network, TREX software traffic generator ports is connected to routers PE1 and PE2\n",
    "\n",
    "> A high priority traffic stream is injected into PE1 from TREX with the following details:\n",
    "\n",
    ">Source IP address: 10.0.0.1\n",
    "\n",
    ">Destination IP address: 10.1.1.1\n"
   ]
  },
  {
   "cell_type": "code",
   "execution_count": null,
   "metadata": {},
   "outputs": [],
   "source": [
    "# Import the function that generates high priority traffic\n",
    "from traffic.TrafficGenerator import generate_hipriority_traffic\n",
    "trex_ipaddress = str(nodes['trex'].connections.cli.ip)\n",
    "trex_port = str(nodes['trex'].connections.cli.port)\n",
    "client1, client2, interact1, interact2 = generate_hipriority_traffic (trex_ipaddress, trex_port)"
   ]
  },
  {
   "cell_type": "markdown",
   "metadata": {},
   "source": [
    "## <a name=\"step5\"></a>Create a class map"
   ]
  },
  {
   "cell_type": "markdown",
   "metadata": {},
   "source": [
    ">First, create the class-map by executing the below steps."
   ]
  },
  {
   "cell_type": "code",
   "execution_count": null,
   "metadata": {},
   "outputs": [],
   "source": [
    "# The below steps configures the class-map.\n",
    "out = nodes['PE1'].configure('''\n",
    "class-map match-any class1\n",
    " match dscp ef\n",
    " end-class-map\n",
    "''')"
   ]
  },
  {
   "cell_type": "markdown",
   "metadata": {},
   "source": [
    ">Verify the class-map with show commands."
   ]
  },
  {
   "cell_type": "code",
   "execution_count": null,
   "metadata": {},
   "outputs": [],
   "source": [
    "out = nodes['PE1'].execute('show class-map class1')"
   ]
  },
  {
   "cell_type": "markdown",
   "metadata": {},
   "source": [
    "## <a name=\"step6\"></a>Create a policy-map"
   ]
  },
  {
   "cell_type": "code",
   "execution_count": null,
   "metadata": {},
   "outputs": [],
   "source": [
    "# This step configures the policy-map using the class-map created in the previous step.\n",
    "out = nodes['PE1'].configure('''\n",
    "policy-map policy1\n",
    " class class1\n",
    "  set qos-group 4\n",
    " class class-default \n",
    " end-policy-map\n",
    "''')"
   ]
  },
  {
   "cell_type": "markdown",
   "metadata": {},
   "source": [
    "> Verify the policy-map with show commands."
   ]
  },
  {
   "cell_type": "code",
   "execution_count": null,
   "metadata": {},
   "outputs": [],
   "source": [
    "out = nodes['PE1'].execute('show policy-map pmap-name policy1')"
   ]
  },
  {
   "cell_type": "markdown",
   "metadata": {},
   "source": [
    "## <a name=\"step7\"></a>Apply the traffic policy to an interface"
   ]
  },
  {
   "cell_type": "code",
   "execution_count": null,
   "metadata": {},
   "outputs": [],
   "source": [
    "# Applying traffic policy to an interface in ingress direction.\n",
    "# Note that policy can be applied on the interface in the ingress and egress direction.\n",
    "out = nodes['PE1'].configure('''\n",
    "interface FourHundredGigE0/0/0/0\n",
    " service-policy input policy1\n",
    "''')"
   ]
  },
  {
   "cell_type": "markdown",
   "metadata": {},
   "source": [
    "## <a name=\"step8\"></a>Verification of the traffic policy"
   ]
  },
  {
   "cell_type": "code",
   "execution_count": null,
   "metadata": {},
   "outputs": [],
   "source": [
    "# now display the policy applied on the interface.\n",
    "out = nodes['PE1'].execute('show qos interface FourHundredGigE0/0/0/0 input')"
   ]
  },
  {
   "cell_type": "code",
   "execution_count": null,
   "metadata": {},
   "outputs": [],
   "source": [
    "# Check the traffic on the port\n",
    "out = nodes['PE1'].execute('show interface FourHundredGigE0/0/0/0 accounting')\n",
    "# Policy-map counter updates are v slow. To see the counters incrementing, replay this cell a few times \n",
    "out = nodes['PE1'].execute('show policy-map interface FourHundredGigE0/0/0/0 input')"
   ]
  },
  {
   "cell_type": "markdown",
   "metadata": {},
   "source": [
    "## <a name=\"step9\"></a>Example 1: IP Precedence Marking Configuration"
   ]
  },
  {
   "cell_type": "markdown",
   "metadata": {},
   "source": [
    "> In the previous sections, you have already configured an input service-policy on the input interface **FourHundredGigE0/0/0/0** to set the qos-group value to 4 for all incoming traffic packets which have the **DSCP** bits set to **EF** (Expedited Forwarding). \n",
    "\n",
    "> Play the next cell to configure an output service policy named **out-policy1** on the output interface **FourHundredGigE0/0/0/1**. This service-policy matches all the outgoing trafic packets that have qos-group value set to 4 and sets the IP precedence bit to 1 for the matched packets. "
   ]
  },
  {
   "cell_type": "code",
   "execution_count": null,
   "metadata": {},
   "outputs": [],
   "source": [
    "out = nodes['PE1'].configure('''\n",
    "class-map match-any out-class1\n",
    " match qos-group 4\n",
    " end-class-map\n",
    "\n",
    "policy-map out-policy1\n",
    " class out-class1\n",
    "  set precedence 1\n",
    "\n",
    "interface FourHundredGigE0/0/0/1\n",
    " service-policy output out-policy1\n",
    "''')"
   ]
  },
  {
   "cell_type": "markdown",
   "metadata": {},
   "source": [
    "> The egress packets on interface **FourHundredGigE0/0/0/1**  matches the class-map **out-class1** in the service-policy **out-policy1**. You can view the policy-map details and counters by playing the next cell. Note that the policy-map counter updates are slow. To see the policy-map counters incrementing, replay this cell a few times"
   ]
  },
  {
   "cell_type": "code",
   "execution_count": null,
   "metadata": {},
   "outputs": [],
   "source": [
    "# now display the policy applied on the interface.\n",
    "out = nodes['PE1'].execute('show qos interface FourHundredGigE0/0/0/1 output')\n",
    "\n",
    "# Other useful show commands\n",
    "out = nodes['PE1'].execute('show interface FourHundredGigE0/0/0/1 accounting')\n",
    "# Policy-map counter updates are v slow. To see the counters incrementing, replay this cell a few times \n",
    "out = nodes['PE1'].execute('show policy-map interface FourHundredGigE0/0/0/1 output')\n"
   ]
  },
  {
   "cell_type": "code",
   "execution_count": null,
   "metadata": {},
   "outputs": [],
   "source": [
    "# Remove the previous commit in order to configure more policies.\n",
    "out = nodes['PE1'].execute('rollback configuration last 1')"
   ]
  },
  {
   "cell_type": "markdown",
   "metadata": {},
   "source": [
    "## <a name=\"step21\"></a>Example 2: IP DSCP Marking Configuration"
   ]
  },
  {
   "cell_type": "markdown",
   "metadata": {},
   "source": [
    "> Play the next cell to configure an output service policy named **policy-dscp** on the output interface **FourHundredGigE0/0/0/1**. This service-policy matches all the outgoing trafic packets that have qos-group value set to 4 and sets the IP DSCP value to 5 for the matched packets. "
   ]
  },
  {
   "cell_type": "code",
   "execution_count": null,
   "metadata": {},
   "outputs": [],
   "source": [
    "out = nodes['PE1'].configure('''\n",
    "class-map match-any out-class1\n",
    " match qos-group 4\n",
    " end-class-map\n",
    "\n",
    "policy-map policy-dscp\n",
    " class out-class1\n",
    "  set dscp 5\n",
    " class class-default\n",
    " end-policy-map\n",
    "\n",
    "interface FourHundredGigE0/0/0/1\n",
    " service-policy output policy-dscp\n",
    "''')"
   ]
  },
  {
   "cell_type": "markdown",
   "metadata": {},
   "source": [
    "> The egress traffic packets on interface **FourHundredGigE0/0/0/1**  matches the class-map **out-class1** in the service-policy **policy-dscp**, because the input service-policy on the input interface ie **FourHundredGigE0/0/0/0** sets the qos-group value to 4 for the incoming packets."
   ]
  },
  {
   "cell_type": "code",
   "execution_count": null,
   "metadata": {},
   "outputs": [],
   "source": [
    "# now display the policy applied on the interface.\n",
    "out = nodes['PE1'].execute('show qos interface FourHundredGigE0/0/0/1 output')\n",
    "\n",
    "# Other useful show commands\n",
    "out = nodes['PE1'].execute('show interface FourHundredGigE0/0/0/1 accounting')\n",
    "# Policy-map counter updates are v slow. To see the counters incrementing, replay this cell a few times \n",
    "out = nodes['PE1'].execute('show policy-map interface FourHundredGigE0/0/0/1 output')"
   ]
  },
  {
   "cell_type": "code",
   "execution_count": null,
   "metadata": {},
   "outputs": [],
   "source": [
    "# Remove the previous commit in order to configure more policies.\n",
    "out = nodes['PE1'].execute('rollback configuration last 1')"
   ]
  },
  {
   "cell_type": "markdown",
   "metadata": {},
   "source": [
    "## <a name=\"step10\"></a>Example 3: QoS Group Marking Configuration"
   ]
  },
  {
   "cell_type": "markdown",
   "metadata": {},
   "source": [
    "> In this example, you will unconfigure the input service-policy **policy1** and then configure another input service policy named **policy-qg** on the interface **FourHundredGigE0/0/0/0**. The qos-group value is set to 1 for all incoming traffic packets that match **class3**. "
   ]
  },
  {
   "cell_type": "code",
   "execution_count": null,
   "metadata": {},
   "outputs": [],
   "source": [
    "out = nodes['PE1'].configure('''\n",
    "class-map match-any class3\n",
    " match protocol ipv4\n",
    " match access-group ipv4 101\n",
    " end-class-map\n",
    "\n",
    "policy-map policy-qg\n",
    " class class3\n",
    "  set qos-group 1\n",
    "  end-policy-map\n",
    "\n",
    "interface FourHundredGigE0/0/0/0\n",
    " no service-policy input policy1\n",
    " service-policy input policy-qg\n",
    "''')"
   ]
  },
  {
   "cell_type": "code",
   "execution_count": null,
   "metadata": {},
   "outputs": [],
   "source": [
    "# now Display the policy applied on the interface.\n",
    "out = nodes['PE1'].execute('show qos interface FourHundredGigE0/0/0/0 input')\n",
    "\n",
    "# Other useful show commands\n",
    "out = nodes['PE1'].execute('show interface FourHundredGigE0/0/0/0 accounting')\n",
    "# Policy-map counter updates are v slow. To see the counters incrementing, replay this cell a few times \n",
    "out = nodes['PE1'].execute('show policy-map interface FourHundredGigE0/0/0/0 input')"
   ]
  },
  {
   "cell_type": "markdown",
   "metadata": {},
   "source": [
    "> Unconfigure the service-policy using the \"no\" form of the service-policy command instead of **rollback configuration**."
   ]
  },
  {
   "cell_type": "code",
   "execution_count": null,
   "metadata": {},
   "outputs": [],
   "source": [
    "# Remove the policy-map using \"no\" of the command\n",
    "out = nodes['PE1'].configure('''\n",
    "interface FourHundredGigE0/0/0/0\n",
    "no service-policy input policy-qg\n",
    "''')"
   ]
  },
  {
   "cell_type": "markdown",
   "metadata": {},
   "source": [
    "## <a name=\"step12\"></a>Example 4: MPLS Experimental Bit Imposition Marking Configuration"
   ]
  },
  {
   "cell_type": "markdown",
   "metadata": {},
   "source": [
    ">In this example, you will configure an input service policy **policy-mex-imp**. This service policy is associated to a class-map **class3** through the use of the class command. This service-policy sets the MPLS EXP bits of the MPLS labels to 1 for the matched incoming packets."
   ]
  },
  {
   "cell_type": "code",
   "execution_count": null,
   "metadata": {},
   "outputs": [],
   "source": [
    "out = nodes['PE1'].configure('''\n",
    "class-map match-any class3\n",
    " match protocol ipv4\n",
    " match access-group ipv4 101\n",
    " end-class-map\n",
    "\n",
    "policy-map policy-mex-imp\n",
    " class class3\n",
    "  set mpls exp imposition 1\n",
    "  end-policy-map\n",
    "\n",
    "interface FourHundredGigE0/0/0/0\n",
    " service-policy input policy-mex-imp\n",
    "''')"
   ]
  },
  {
   "cell_type": "code",
   "execution_count": null,
   "metadata": {},
   "outputs": [],
   "source": [
    "# now display the policy applied on the interface.\n",
    "out = nodes['PE1'].execute('show qos interface FourHundredGigE0/0/0/0 input')\n",
    "\n",
    "# Other useful show commands\n",
    "out = nodes['PE1'].execute('show interface FourHundredGigE0/0/0/0 accounting')\n",
    "# Policy-map counter updates are v slow. To see the counters incrementing, replay this cell a few times \n",
    "out = nodes['PE1'].execute('show policy-map interface FourHundredGigE0/0/0/0 input')"
   ]
  },
  {
   "cell_type": "code",
   "execution_count": null,
   "metadata": {},
   "outputs": [],
   "source": [
    "# Remove the previous commit in order to configure more policies.\n",
    "out = nodes['PE1'].execute('rollback configuration last 1')"
   ]
  },
  {
   "cell_type": "markdown",
   "metadata": {},
   "source": [
    "## <a name=\"step13\"></a>Example 5: MPLS Experimental Topmost Marking Configuration"
   ]
  },
  {
   "cell_type": "markdown",
   "metadata": {},
   "source": [
    "> Play this cell to configure a service policy **policy-mex-top**. This service policy is associated to a class map **class-mex-top** through the use of the class command, and then the service policy is applied in the output direction on interface **FourHundredGigE0/0/0/1**. The MPLS EXP bits on the topmost label are set to 1 for all matched traffic packets."
   ]
  },
  {
   "cell_type": "code",
   "execution_count": null,
   "metadata": {},
   "outputs": [],
   "source": [
    "out = nodes['PE1'].configure('''\n",
    "class-map match-any class-mex-top\n",
    " match mpls exp topmost 1\n",
    " end-class-map\n",
    "\n",
    "policy-map policy-mex-top\n",
    " class class-mex-top\n",
    "  set mpls exp topmost 2\n",
    "  end-policy-map\n",
    "\n",
    "interface FourHundredGigE0/0/0/1\n",
    " service-policy output policy-mex-top\n",
    "''')"
   ]
  },
  {
   "cell_type": "code",
   "execution_count": null,
   "metadata": {},
   "outputs": [],
   "source": [
    "# now display the policy applied on the interface.\n",
    "out = nodes['PE1'].execute('show qos interface FourHundredGigE0/0/0/1 output')\n",
    "\n",
    "# Other useful show commands\n",
    "out = nodes['PE1'].execute('show interface FourHundredGigE0/0/0/1 accounting')\n",
    "# Policy-map counter updates are v slow. To see the counters incrementing, replay this cell a few times \n",
    "out = nodes['PE1'].execute('show policy-map interface FourHundredGigE0/0/0/1 output')"
   ]
  },
  {
   "cell_type": "code",
   "execution_count": null,
   "metadata": {},
   "outputs": [],
   "source": [
    "# Remove the previous commit in order to configure more policies.\n",
    "out = nodes['PE1'].execute('rollback configuration last 1')"
   ]
  },
  {
   "cell_type": "markdown",
   "metadata": {},
   "source": [
    "### Clean-up Network Configurations"
   ]
  },
  {
   "cell_type": "code",
   "execution_count": null,
   "metadata": {},
   "outputs": [],
   "source": [
    "stop_traffic(interact1, interact2, client1, client2)\n",
    "for n in nodes:\n",
    "   if (n != 'trex'):\n",
    "      out = nodes[n].configure(unconfig_str)"
   ]
  }
 ],
 "metadata": {
  "kernelspec": {
   "display_name": "Python 3",
   "language": "python",
   "name": "python3"
  },
  "language_info": {
   "codemirror_mode": {
    "name": "ipython",
    "version": 3
   },
   "file_extension": ".py",
   "mimetype": "text/x-python",
   "name": "python",
   "nbconvert_exporter": "python",
   "pygments_lexer": "ipython3",
   "version": "3.6.9"
  }
 },
 "nbformat": 4,
 "nbformat_minor": 4
}
