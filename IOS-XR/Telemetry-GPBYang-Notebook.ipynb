{
 "cells": [
  {
   "cell_type": "markdown",
   "metadata": {},
   "source": [
    "# Setup a Pipeline and Stream CPU Utilization Data Using Model-driven Telemetry\n",
    "##### <sup>Authored by Veena Manuel (veedas@cisco.com)</sup>"
   ]
  },
  {
   "cell_type": "markdown",
   "metadata": {},
   "source": [
    "The use case illustrates how, with the YANG data model, you can stream telemetry data about CPU utilization. Monitoring CPU utilization ensures efficient storage capabilities in your network. This use case also illustrates setting up a pipeline to consume telemetry data that is streamed from the router."
   ]
  },
  {
   "cell_type": "markdown",
   "metadata": {},
   "source": [
    "The following table outlines the specifications of this use case:\n",
    "\n",
    "| Mode            | Transport       | Encoding | \n",
    "|-----------------|---------------- | ---------|\n",
    "| Dial-out        | gRPC            | GPB      |"
   ]
  },
  {
   "cell_type": "markdown",
   "metadata": {},
   "source": [
    "> In a Dial-out mode, the router dials out to the receiver to establish a subscription-based telemetry session."
   ]
  },
  {
   "cell_type": "markdown",
   "metadata": {},
   "source": [
    "The following image represents a topology with 4 routers; router P1 is connected to a collector to stream telemetry data.\n",
    "![Topology](./images/telemetry.png)"
   ]
  },
  {
   "cell_type": "markdown",
   "metadata": {},
   "source": [
    "Telemetry involves the following workflow:\n",
    "- Define: You define a subscription to stream data from the router to the receiver. To define a subscription,\n",
    "you create a destination-group and a sensor-group.\n",
    "- Deploy: The router establishes a subscription-based telemetry session and streams data to the receiver.\n",
    "You verify subscription deployment on the router.\n",
    "- Operate: You consume and analyse telemetry data using open-source tools, and take necessary actions\n",
    "based on the analysis.\n",
    "\n",
    "To gain an indepth understanding about telemetry streaming modes, see the [Telemetry Configuration Guide](https://www.cisco.com/c/en/us/support/routers/8000-series-routers/products-installation-and-configuration-guides-list.html)."
   ]
  },
  {
   "cell_type": "markdown",
   "metadata": {},
   "source": [
    "## Configuration steps\n",
    "* [Access Device Consoles](#Access-Device-Consoles)\n",
    "* [Configure Base Network](#Configure-Base-Network)\n",
    "* [Setup the Pipeline](#Setup-the-Pipeline)\n",
    "* [Configure a Telemetry Session Between the Router and the Collector](#step3)\n",
    "* [Verify the Telemetry configuration](#step4)\n",
    "* [View the streamed telemetry data](#step5)\n",
    "* [Operate on Telemetry Data](#step6)"
   ]
  },
  {
   "cell_type": "markdown",
   "metadata": {},
   "source": [
    "### Access Device Consoles\n",
    "> Play the following cell to access the SSH console of each device in the topology."
   ]
  },
  {
   "cell_type": "code",
   "execution_count": null,
   "metadata": {},
   "outputs": [],
   "source": [
    "from lib.xr import *\n",
    "nodes = {\n",
    "         'PE1':'', \n",
    "         'P1':'',\n",
    "         'P2':'', \n",
    "         'PE2':'', \n",
    "         'trex':''\n",
    "        }\n",
    "\n",
    "tb = access_device_consoles(\"lib/tb.yaml\", nodes)"
   ]
  },
  {
   "cell_type": "markdown",
   "metadata": {},
   "source": [
    "### Configure Base Network\n",
    ">A simple 4 router OSPF MPLS network is the base network. Play the below cell to configure the routers. We have defined the base configuration for each of the routers in the file [xr.py](./lib/xr.py) in the respective configuration strings."
   ]
  },
  {
   "cell_type": "code",
   "execution_count": null,
   "metadata": {},
   "outputs": [],
   "source": [
    "out = nodes['PE1'].configure(pe1_config_str)\n",
    "out = nodes['P1'].configure(p1_config_str)\n",
    "out = nodes['P2'].configure(p2_config_str)\n",
    "out = nodes['PE2'].configure(pe2_config_str)"
   ]
  },
  {
   "cell_type": "markdown",
   "metadata": {},
   "source": [
    "## <a name=\"step2\"></a>Setup the Pipeline"
   ]
  },
  {
   "cell_type": "markdown",
   "metadata": {},
   "source": [
    "Pipeline is a well-written Golang–based code that consumes IOS XR telemetry streams directly from routers or indirectly from a pub/sub bus (Kafka). In this example, you setup the pipeline to stream data directly from the router. Once collected, the Pipeline performs transformations of the data and forwards the result to the configured consumer.\n",
    "\n",
    "Pipeline supports different input transport formats from routers:\n",
    "- TCP\n",
    "- gRPC\n",
    "- UDP\n",
    "\n",
    "Pipeline supports these encoding formats:\n",
    "- (compact) GPB\n",
    "- KV-GPB\n",
    "- JSON\n",
    "\n",
    "Pipeline supports streaming telemetry data to the following consumers:\n",
    "- InfluxDB (TSDB)\n",
    "- Prometheus (TSDB)\n",
    "- Apache Kafka\n",
    "- dump-to-file (mostly for diagnostics purposes)"
   ]
  },
  {
   "cell_type": "markdown",
   "metadata": {},
   "source": [
    "> In this use case, the data will be dumped to a file."
   ]
  },
  {
   "cell_type": "markdown",
   "metadata": {},
   "source": [
    "### Create a file to stream telemetry data"
   ]
  },
  {
   "cell_type": "markdown",
   "metadata": {},
   "source": [
    "Create a file dumpdata.txt to collect data that is streamed from the router. "
   ]
  },
  {
   "cell_type": "code",
   "execution_count": null,
   "metadata": {},
   "outputs": [],
   "source": [
    "import paramiko\n",
    "from paramiko_expect import SSHClientInteraction\n",
    "\n",
    "PROMPT = '.*root@.*'\n",
    "\n",
    "collector_ipaddress = str(nodes['trex'].connections.cli.ip)\n",
    "collector_port = str(nodes['trex'].connections.cli.port)\n",
    "\n",
    "client = paramiko.SSHClient()\n",
    "# Set SSH key parameters to auto accept unknown hosts\n",
    "client.load_system_host_keys()\n",
    "client.set_missing_host_key_policy(paramiko.AutoAddPolicy())\n",
    "client.connect(hostname=collector_ipaddress, port=collector_port, username='root', password='cisco123', allow_agent=False, look_for_keys=False)\n",
    "\n",
    "# Check if the file is copied\n",
    "interact = SSHClientInteraction(client, display=True)\n",
    "interact.expect(PROMPT)\n",
    "\n",
    "interact.send('cd /')\n",
    "interact.expect(PROMPT)\n",
    "\n",
    "# Create the file to dump data\n",
    "interact.send('touch dumpdata.txt')\n",
    "interact.expect(PROMPT)\n",
    "\n",
    "# Create the file to dump data\n",
    "interact.send('ls -l')\n",
    "interact.expect(PROMPT)"
   ]
  },
  {
   "cell_type": "markdown",
   "metadata": {},
   "source": [
    "### Copy the pipeline files to the server\n",
    "> A pipeline is uploaded to the linux server when you play the below code-cell. Pipeline file used in the below code cell is from the github repository - https://github.com/CiscoDevNet/bigmuddy-network-telemetry-pipeline/tree/final"
   ]
  },
  {
   "cell_type": "code",
   "execution_count": null,
   "metadata": {},
   "outputs": [],
   "source": [
    "# Using SFTP for the pipeline file-transfers. \n",
    "# Pipeline is a large file so this step takes approx 8-10 minutes to copy pipeline file to the server.\n",
    "\n",
    "transfer = client.open_sftp()\n",
    "transfer.put(\"./lib/pipeline_gpb_grpc.conf\", \"/pipeline_gpb_grpc.conf\")\n",
    "transfer.put(\"./lib/pipeline\", \"/pipeline\")\n",
    "transfer.close()\n",
    "\n",
    "# Check if the file is copied\n",
    "interact.send('chmod 777 pipeline')\n",
    "interact.expect(PROMPT)\n",
    "\n",
    "interact.send('ls -l pipeline*')\n",
    "interact.expect(PROMPT)\n",
    "\n",
    "interact.send('ifconfig')\n",
    "interact.expect(PROMPT)"
   ]
  },
  {
   "cell_type": "markdown",
   "metadata": {},
   "source": [
    "### Run the pipeline"
   ]
  },
  {
   "cell_type": "code",
   "execution_count": null,
   "metadata": {},
   "outputs": [],
   "source": [
    "# Run the copied file.\n",
    "interact.send('./pipeline -config pipeline_gpb_grpc.conf')\n",
    "interact.expect('Wait for.*')"
   ]
  },
  {
   "cell_type": "markdown",
   "metadata": {},
   "source": [
    "## <a name=\"step3\"></a>Configure a telemetry session between the router and the collector using Yang Model"
   ]
  },
  {
   "cell_type": "markdown",
   "metadata": {},
   "source": [
    "To configure telemetry on the router, you will need to setup the following values for a dial-out mode:\n",
    "- Create a destination group: Create one or more destinations to collect telemetry data from a router. Define a destination-group to contain the details about the destinations. Include the destination address (ipv4 or ipv6), port, transport, and encoding format in the destination-group.\n",
    "\n",
    "- Create a Sensor-group: Specify the subset of the data that you want to stream from the router using sensor paths. The Sensor path represents the path in the hierarchy of a YANG data model. Create a sensor-group to contain the sensor paths.\n",
    "> Here, the sensor path is for streaming CPU utilization.\n",
    "\n",
    "- Create a Subscription: Subscribe to telemetry data that is streamed from a router. A Subscription binds the destination-group with the sensor-group and sets the streaming method. The streaming method can be Cadence-driven or Event-driven telemetry. Cadence-driven telemetry continually streams data (operational statistics and state transitions) at a configured cadence. Whereas, event-driven telemetry optimizes data that is collected at the receiver and streams data only when a state transition occurs."
   ]
  },
  {
   "cell_type": "markdown",
   "metadata": {},
   "source": [
    ">Port number range <1-65535>."
   ]
  },
  {
   "cell_type": "markdown",
   "metadata": {},
   "source": [
    "> IMPORTANT: To find the IP address of the collector, check the output of the <b>ifconfig</b> command on the Linux server."
   ]
  },
  {
   "cell_type": "code",
   "execution_count": null,
   "metadata": {},
   "outputs": [],
   "source": [
    "from ncclient import manager\n",
    "from ncclient.xml_ import to_ele\n",
    "from lxml import etree\n",
    "\n",
    "telemetry = '''\n",
    "<config>\n",
    "<telemetry-model-driven xmlns=\"http://cisco.com/ns/yang/Cisco-IOS-XR-telemetry-model-driven-cfg\">\n",
    "   <destination-groups>\n",
    "    <destination-group>\n",
    "     <destination-id>D1</destination-id>\n",
    "     <ipv4-destinations>\n",
    "      <ipv4-destination>\n",
    "       <ipv4-address>192.168.122.104</ipv4-address>\n",
    "       <destination-port>20030</destination-port>\n",
    "       <encoding>gpb</encoding>\n",
    "       <protocol>\n",
    "        <protocol>grpc</protocol>\n",
    "        <no-tls/>\n",
    "       </protocol>\n",
    "      </ipv4-destination>\n",
    "     </ipv4-destinations>\n",
    "    </destination-group>\n",
    "   </destination-groups>\n",
    "   <sensor-groups>\n",
    "    <sensor-group>\n",
    "     <sensor-group-identifier>SGroup1</sensor-group-identifier>\n",
    "     <sensor-paths>\n",
    "      <sensor-path>\n",
    "       <telemetry-sensor-path>Cisco-IOS-XR-wdsysmon-fd-oper:system-monitoring/cpu-utilization</telemetry-sensor-path>\n",
    "      </sensor-path>\n",
    "     </sensor-paths>\n",
    "    </sensor-group>\n",
    "   </sensor-groups>\n",
    "   <enable></enable>\n",
    "   <subscriptions>\n",
    "    <subscription>\n",
    "     <subscription-identifier>Sub1</subscription-identifier>\n",
    "     <sensor-profiles>\n",
    "      <sensor-profile>\n",
    "       <sensorgroupid>SGroup1</sensorgroupid>\n",
    "       <sample-interval>3000</sample-interval>\n",
    "      </sensor-profile>\n",
    "     </sensor-profiles>\n",
    "     <destination-profiles>\n",
    "      <destination-profile>\n",
    "       <destination-id>D1</destination-id>\n",
    "      </destination-profile>\n",
    "     </destination-profiles>\n",
    "    </subscription>\n",
    "   </subscriptions>\n",
    "  </telemetry-model-driven>\n",
    " </config>\n",
    " '''\n",
    "P1_ipaddress = str(nodes['P1'].connections.cli.ip)\n",
    "P1_port = str(nodes['P1'].connections.cli.port)\n",
    "\n",
    "def connect(host, port, user, password, source):\n",
    "      conn = manager.connect(host=host,\n",
    "                             port=port,\n",
    "                             username=user,\n",
    "                             password = password,\n",
    "                             device_params={'name': 'iosxr'},\n",
    "                             hostkey_verify=False,\n",
    "                             allow_agent=False,\n",
    "                             look_for_keys=False\n",
    "                            )\n",
    "\n",
    "      rpc_reply = conn.edit_config(config=telemetry)\n",
    "      conn.commit()\n",
    "      print(rpc_reply)\n",
    "\n",
    "connect(P1_ipaddress, P1_port, 'cisco', 'cisco123', 'candidate')"
   ]
  },
  {
   "cell_type": "markdown",
   "metadata": {},
   "source": [
    "Run the following command till the <i>Sensor Path State</i> is <b>Resolved</b>. Note that the state changes takes a few seconds. After the state changes to Resolved, proceed to the next step."
   ]
  },
  {
   "cell_type": "code",
   "execution_count": null,
   "metadata": {},
   "outputs": [],
   "source": [
    "# Show the telemetry configuration applied on the router.\n",
    "out = nodes['P1'].execute('show tele mod sensor-group SGroup1 internal')"
   ]
  },
  {
   "cell_type": "markdown",
   "metadata": {},
   "source": [
    "## <a name=\"step4\"></a>Verify the telemetry configuration"
   ]
  },
  {
   "cell_type": "markdown",
   "metadata": {},
   "source": [
    "Access the telnet consoles of the router to apply and verify the telemetry configuration."
   ]
  },
  {
   "cell_type": "code",
   "execution_count": null,
   "metadata": {},
   "outputs": [],
   "source": [
    "# Show the telemetry configuration applied on the router.\n",
    "out = nodes['P1'].execute('show running-config telemetry model-driven')"
   ]
  },
  {
   "cell_type": "markdown",
   "metadata": {},
   "source": [
    "Verify the deployment of the subscription and the telemetry configuration on the router."
   ]
  },
  {
   "cell_type": "code",
   "execution_count": null,
   "metadata": {},
   "outputs": [],
   "source": [
    "# Show the telemetry configuration applied on the router.\n",
    "out = nodes['P1'].execute('show telemetry model-driven subscription Sub1')"
   ]
  },
  {
   "cell_type": "markdown",
   "metadata": {},
   "source": [
    "## <a name=\"step5\"></a>View the streamed telemetry data"
   ]
  },
  {
   "cell_type": "markdown",
   "metadata": {},
   "source": [
    "After the telemetry session is established, the router streams data to the receiver to create a data lake. Check the collector console to see the streamed data. Here is the data from the Linx server (collector) console. The collector was configured to steam data to <b>dumpdata.txt file</b>. View its contents from the server console by playing the below cell. Click the stop button in the notebook when you want to stop the cell execution."
   ]
  },
  {
   "cell_type": "code",
   "execution_count": null,
   "metadata": {},
   "outputs": [],
   "source": [
    "out = nodes['trex'].execute('cat /dumpdata.txt')"
   ]
  },
  {
   "cell_type": "markdown",
   "metadata": {},
   "source": [
    "> Snapshot of the data captured from the server.\n",
    "\n",
    "![StreamedData](./images/dumpdata.png)"
   ]
  },
  {
   "cell_type": "markdown",
   "metadata": {},
   "source": [
    ">Press <b>Ctrl + C</b> to stop the pipeline and the data stream if you are directly accessing the server console.\n",
    "\n",
    "![StopPipeline](./images/stoppipeline.png)"
   ]
  },
  {
   "cell_type": "markdown",
   "metadata": {},
   "source": [
    "## <a name=\"step6\"></a>Operate on telemetry data"
   ]
  },
  {
   "cell_type": "markdown",
   "metadata": {},
   "source": [
    "You can start consuming and analyzing telemetry data from the data lake using an open-sourced collection\n",
    "stack based on your requirement. \n",
    "For example, the following tools can be used to analyze the collected telemetry data:\n",
    "- Pipeline is a lightweight tool used to collect data. You can download Network Telemetry Pipeline from Github. You define how you want the collector to interact with routers and where you want to send the\n",
    "processed data using pipeline.conf file.\n",
    "- Telegraph (plugin-driven server agent) and InfluxDB (a time series database (TSDB)) stores telemetry\n",
    "data, which is retrieved by visualization tools. You can download InfluxDB from Github. You define\n",
    "what data you want to include into your TSDB using the metrics.json file.\n",
    "- Grafana is a visualization tool that displays graphs and counters for data streamed from the router.\n",
    "\n",
    "For more information, see http://xrdocs.io/telemetry/."
   ]
  },
  {
   "cell_type": "markdown",
   "metadata": {},
   "source": [
    "#### Clean-up the topology"
   ]
  },
  {
   "cell_type": "markdown",
   "metadata": {},
   "source": [
    ">Once you are done with experimenting on the topology, you should bring down the emulator by executing the following steps:"
   ]
  },
  {
   "cell_type": "code",
   "execution_count": null,
   "metadata": {},
   "outputs": [],
   "source": [
    "# Send ctrl-C when you want to stop the execution of pipeline.\n",
    "interact.send(\"\\x03\")\n",
    "interact.expect(PROMPT)\n",
    "\n",
    "interact.send('exit')\n",
    "interact.expect('.*')\n",
    "\n",
    "client.close()\n"
   ]
  },
  {
   "cell_type": "code",
   "execution_count": null,
   "metadata": {},
   "outputs": [],
   "source": [
    "out = nodes['PE1'].configure(unconfig_str)\n",
    "out = nodes['P1'].configure(unconfig_str)\n",
    "out = nodes['P2'].configure(unconfig_str)\n",
    "out = nodes['PE2'].configure(unconfig_str)\n",
    "out = nodes['P1'].configure('''\n",
    "no telemetry model-driven\n",
    "''')"
   ]
  },
  {
   "cell_type": "markdown",
   "metadata": {},
   "source": [
    "Hope you now have a good idea on Model Driven Telemetry Configuration with Yang Models. If you have any comments or suggestions about this notebook, please reach out to mig-notebooks@cisco.com. We look forward to your feedback."
   ]
  }
 ],
 "metadata": {
  "kernelspec": {
   "display_name": "Python 3",
   "language": "python",
   "name": "python3"
  },
  "language_info": {
   "codemirror_mode": {
    "name": "ipython",
    "version": 3
   },
   "file_extension": ".py",
   "mimetype": "text/x-python",
   "name": "python",
   "nbconvert_exporter": "python",
   "pygments_lexer": "ipython3",
   "version": "3.6.9"
  }
 },
 "nbformat": 4,
 "nbformat_minor": 4
}
