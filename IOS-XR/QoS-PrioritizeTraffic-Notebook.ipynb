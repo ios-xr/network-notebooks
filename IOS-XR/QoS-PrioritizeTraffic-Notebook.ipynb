{
 "cells": [
  {
   "cell_type": "markdown",
   "metadata": {},
   "source": [
    "# Prioritize Delay-Sensitive Traffic Using QOS\n",
    "###### <sup>Use case: Paban Sarma (pasarma@cisco.com); Developed by: Sarah Samuel (sasamuel@cisco.com). </sup>"
   ]
  },
  {
   "cell_type": "markdown",
   "metadata": {},
   "source": [
    "Quality of Service (QoS) is the technique of prioritizing traffic flows and providing preferential forwarding for higher-priority packets. The fundamental reason for implementing QoS in your network is to provide better service for certain traffic flows.\n",
    "\n",
    "There are 3 ways to achieve this on a Service-Provider (SP) network using QoS:\n",
    "* Uniform Mode QoS\n",
    "* Pipe Mode QoS\n",
    "* Short-pipe Mode QoS\n",
    "\n",
    "This notebook demonstrates uniform mode QoS, whereby the packets of delay-sensitive traffic is routed with high-priority, across\n",
    "the SP network.\n",
    "\n",
    "### NETWORK TOPOLOGY\n",
    "This notebook configures a Service Provider network topology, with 2 Provider-Edge (PE) routers and two Provider (P) router. After the base configuration of OSPF and MPLS is up, the play the notebook code-cells to configure QoS on the ingress and egress interfaces of PE and P routers in the network. The QoS policies ensures that delay sensitive traffic such as voice and video are given high priroity.\n",
    "\n",
    "There are 2 traffic generator ports in this network, which represent 2 Customer Edge (CE) routers. A traffic stream with high priority flows from one traffic generator port to the other to simulate the end-customer's video traffic flow across the SP network.\n",
    "\n",
    "![Topology](./images/QoS.png)\n",
    "\n",
    "In order to ensure high priority for video traffic, the customer marks the video traffic packets with certain values in the packet header. In this case, this notebook sends traffic streams with the Differentiated Services Code Point (DSCP) field in the IP header marked for expedited forwarding (EF). Within the PE and P routers in the service-provider network, this notebook will show you how to provide preferential treatment to the marked packets using QoS policies."
   ]
  },
  {
   "cell_type": "markdown",
   "metadata": {},
   "source": [
    "## Configuration Steps\n",
    "* [Access Device Consoles](#Access-Device-Consoles)\n",
    "* [Configure Base Network](#Configure-Base-Network)\n",
    "* [Verify Base Network](#Verify-Base-Network)\n",
    "* [Apply QoS on PE1](#Apply-QoS-on-PE1)\n",
    "* [Apply QoS on P1](#Apply-QoS-on-P1)\n",
    "* [Start Traffic](#Start-Traffic)\n",
    "* [Verify Traffic Prioritization](#Verify-Traffic-Prioritization)\n"
   ]
  },
  {
   "cell_type": "markdown",
   "metadata": {},
   "source": [
    "### Access Device Consoles\n",
    "> Play the following cell to access the SSH console of each device in the topology."
   ]
  },
  {
   "cell_type": "code",
   "execution_count": null,
   "metadata": {},
   "outputs": [],
   "source": [
    "from lib.xr import *\n",
    "nodes = {\n",
    "         'PE1':'', \n",
    "         'P1':'',\n",
    "         'P2':'', \n",
    "         'PE2':'', \n",
    "         'trex':''\n",
    "        }\n",
    "\n",
    "tb = access_device_consoles(\"lib/tb.yaml\", nodes)"
   ]
  },
  {
   "cell_type": "markdown",
   "metadata": {},
   "source": [
    "### Configure Base Network\n",
    ">A simple 4 router OSPF MPLS network is the base network. Play the below cell to configure the routers. We have defined the base configuration for each of the routers in the file [xr.py](./lib/xr.py) in the respective configuration strings."
   ]
  },
  {
   "cell_type": "code",
   "execution_count": null,
   "metadata": {},
   "outputs": [],
   "source": [
    "out = nodes['PE1'].configure(pe1_config_str)\n",
    "out = nodes['P1'].configure(p1_config_str)\n",
    "out = nodes['P2'].configure(p2_config_str)\n",
    "out = nodes['PE2'].configure(pe2_config_str)"
   ]
  },
  {
   "cell_type": "markdown",
   "metadata": {},
   "source": [
    "### Verify Base Network"
   ]
  },
  {
   "cell_type": "markdown",
   "metadata": {},
   "source": [
    "> Ensure the basic reachability across the network by checking that the routing protocol (OSPF) and MPLS is up with the below commands."
   ]
  },
  {
   "cell_type": "code",
   "execution_count": null,
   "metadata": {},
   "outputs": [],
   "source": [
    "for n in nodes:\n",
    "   if (n != 'trex'):\n",
    "      out = nodes[n].execute('''\n",
    "                    show version\n",
    "                    show ip ospf nei\n",
    "                    show mpls ldp interface\n",
    "                    show mpls ldp neigh br\n",
    "                    show ip route\n",
    "                    ''')"
   ]
  },
  {
   "cell_type": "markdown",
   "metadata": {},
   "source": [
    "### Apply QoS on PE1\n",
    "> The customer edge router has marked the DSCP bits as ef for the high priority video traffic. Play the below cell to configure the class-maps, policy-maps and apply the QoS configuration on the ingress interface of the PE1 router in order to the classify the traffic packets based on their DSCP value in the packet.\n",
    "> * The ingress policy-map PE-INGRESS ensures that the incoming packets marked with EF for the DSCP field is set to traffic class 7 and marks the mpls exp bits to 7.\n",
    "> * The egress policy-map VIDEO-PRIORITY ensures that the packets with traffic class 7 are sent out through the high priority output queue of the egress interface. Hence these high-priority traffic packets will be forwarded with minimum delay.\n",
    "![Topology](./images/PE-policy.png)\n",
    "\n"
   ]
  },
  {
   "cell_type": "code",
   "execution_count": null,
   "metadata": {},
   "outputs": [],
   "source": [
    "out = nodes['PE1'].configure('''\n",
    "class-map match-all DSCP-EF\n",
    " match dscp ef\n",
    " end-class-map\n",
    " \n",
    "class-map match-any Video\n",
    " match traffic-class 7\n",
    " end-class-map\n",
    "\n",
    "policy-map PE-INGRESS\n",
    " class DSCP-EF\n",
    "  set traffic-class 7\n",
    "  set mpls experimental imposition 7\n",
    " class class-default\n",
    "  set traffic-class 0\n",
    " end-policy-map\n",
    " \n",
    "policy-map VIDEO-PRIORITY\n",
    " class Video\n",
    "  shape average 2 gbps\n",
    "  priority level 1\n",
    " end-policy-map\n",
    "\n",
    "interface FourHundredGigE0/0/0/0\n",
    " service-policy input PE-INGRESS\n",
    "\n",
    "interface FourHundredGigE0/0/0/1\n",
    " service-policy output VIDEO-PRIORITY\n",
    "''')"
   ]
  },
  {
   "cell_type": "markdown",
   "metadata": {},
   "source": [
    "### Apply QoS on P1"
   ]
  },
  {
   "cell_type": "markdown",
   "metadata": {},
   "source": [
    "> Play the below cell to configure the class-maps, policy-maps and apply the QoS configuration on the P1 router. The QoS policy that we will configure on ingress interface of the P1 router classifies the incoming traffic packets based on their MPLS EXP value. Then the QoS policy that we will configure on the egress interface ensures the traffic packets with the traffic-class 7 gets high priority and assured bandwidth.\n",
    "\n",
    "![Topology](./images/P-policy.png)\n"
   ]
  },
  {
   "cell_type": "code",
   "execution_count": null,
   "metadata": {},
   "outputs": [],
   "source": [
    "out = nodes['P1'].configure('''\n",
    "class-map match-any EXP7\n",
    " match mpls experimental topmost 7 \n",
    " end-class-map\n",
    " \n",
    "class-map match-any Video\n",
    " match traffic-class 7\n",
    " end-class-map\n",
    "\n",
    "policy-map CORE-INGRESS\n",
    " class EXP7\n",
    "  set traffic-class 7\n",
    "  set mpls experimental imposition 7 \n",
    " class class-default\n",
    "  set traffic-class 0\n",
    " end-policy-map\n",
    "\n",
    "policy-map VIDEO-PRIORITY\n",
    " class Video\n",
    "  shape average 2 gbps\n",
    "  priority level 1\n",
    " class class-default\n",
    " end-policy-map\n",
    "\n",
    "interface FourHundredGigE0/0/0/0\n",
    " service-policy input CORE-INGRESS\n",
    "\n",
    "interface FourHundredGigE0/0/0/1\n",
    " service-policy output VIDEO-PRIORITY\n",
    "''')"
   ]
  },
  {
   "cell_type": "markdown",
   "metadata": {},
   "source": [
    "### Start Traffic"
   ]
  },
  {
   "cell_type": "markdown",
   "metadata": {},
   "source": [
    "\n",
    "> TREX is a software traffic generator that runs on Linux. To simulate traffic flow across the 4 router network, TREX software traffic generator ports is connected to routers PE1 and PE2\n",
    "\n",
    "> A high priority traffic stream is injected into PE1 from TREX with the following details:\n",
    "\n",
    ">Source IP address: 10.0.0.1\n",
    "\n",
    ">Destination IP address: 10.1.1.1\n",
    "![traffic_flow](./images/qos-traffic.png)"
   ]
  },
  {
   "cell_type": "code",
   "execution_count": null,
   "metadata": {},
   "outputs": [],
   "source": [
    "trex_ipaddress = str(nodes['trex'].connections.cli.ip)\n",
    "trex_port = str(nodes['trex'].connections.cli.port)\n",
    "client1, client2, interact1, interact2 = generate_hipriority_traffic (trex_ipaddress, trex_port)"
   ]
  },
  {
   "cell_type": "markdown",
   "metadata": {},
   "source": [
    "### Verify Traffic Prioritization\n",
    "> Play the below cell to check the the outputs of the interface counters and the policy-map on the routers. The interface counters show the number of packets incoming or outgoing from the interface. And the policy-map counters show the number of packets for which the QoS is being applied. In the below show command outputs verify that the packet counters are incrementing in class DSCP-EF in the ingress policy-map and in class Video in the egress policy-map."
   ]
  },
  {
   "cell_type": "code",
   "execution_count": null,
   "metadata": {},
   "outputs": [],
   "source": [
    "# Check the input and output policies applied on PE1 router.\n",
    "out = nodes['PE1'].execute('''\n",
    "show interface FourHundredGigE0/0/0/0 accounting\n",
    "show interface FourHundredGigE0/0/0/1 accounting\n",
    "show policy-map interface FourHundredGigE0/0/0/0\n",
    "show policy-map interface FourHundredGigE0/0/0/1\n",
    "''')"
   ]
  },
  {
   "cell_type": "markdown",
   "metadata": {},
   "source": [
    "> In the below show command outputs verify that the packet counters are incrementing in class EXP7 in the ingress policy-map and in class Video in the egress policy-map. This shows that even in subsequent routers in the MPLS network, delay-sensitive traffic can be given high priority."
   ]
  },
  {
   "cell_type": "code",
   "execution_count": null,
   "metadata": {},
   "outputs": [],
   "source": [
    "out = nodes['P1'].execute('''\n",
    "show interface FourHundredGigE0/0/0/0 accounting\n",
    "show interface FourHundredGigE0/0/0/1 accounting\n",
    "show policy-map interface FourHundredGigE0/0/0/0\n",
    "show policy-map interface FourHundredGigE0/0/0/1\n",
    "''')"
   ]
  },
  {
   "cell_type": "markdown",
   "metadata": {},
   "source": [
    "### Clean-up Network Configurations"
   ]
  },
  {
   "cell_type": "code",
   "execution_count": 16,
   "metadata": {},
   "outputs": [],
   "source": [
    "   if (n != 'trex')\n",
    "      out = nodes[n].configure(unconfig_str)\n",
    "   else\n",
    "      out = nodes[n].execute('cd /opt/cisco/trex/latest/')\n",
    "      out = nodes[n].execute('sudo ./dpdk_nic_bind.py --force -u 00:04.0')\n",
    "      out = nodes[n].execute('sudo ./dpdk_nic_bind.py --force -u 00:05.0')\n",
    "      out = nodes[n].execute('sudo ./dpdk_nic_bind.py --bind=virtio-pci 00:04.0')\n",
    "      out = nodes[n].execute('sudo ./dpdk_nic_bind.py --bind=virtio-pci 00:05.0')\n",
    "      \n",
    "out = nodes['P1'].configure('''\n",
    "no policy-map VIDEO-PRIORITY\n",
    "no policy-map CORE-INGRESS\n",
    "no class-map match-any Video\n",
    "no class-map match-any EXP7\n",
    "''')\n",
    "out = nodes['PE1'].configure('''\n",
    "no policy-map VIDEO-PRIORITY\n",
    "no policy-map PE-INGRESS\n",
    "no class-map match-any Video\n",
    "no class-map match-all DSCP-EF\n",
    "''')"
   ]
  },
  {
   "cell_type": "markdown",
   "metadata": {},
   "source": [
    "Hope you now have a good idea on using QoS policies to ensure that high-priority traffic is forwarded through the network with minimum delay. If you have any comments or suggestions about this notebook, please reach out to mig-notebooks@cisco.com. We look forward to your feedback."
   ]
  }
 ],
 "metadata": {
  "kernelspec": {
   "display_name": "Python 3",
   "language": "python",
   "name": "python3"
  },
  "language_info": {
   "codemirror_mode": {
    "name": "ipython",
    "version": 3
   },
   "file_extension": ".py",
   "mimetype": "text/x-python",
   "name": "python",
   "nbconvert_exporter": "python",
   "pygments_lexer": "ipython3",
   "version": "3.6.9"
  }
 },
 "nbformat": 4,
 "nbformat_minor": 4
}
